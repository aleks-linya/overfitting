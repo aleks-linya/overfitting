{
 "cells": [
  {
   "cell_type": "code",
   "execution_count": 4,
   "id": "f1fc7318",
   "metadata": {},
   "outputs": [],
   "source": [
    "import pandas as pd\n",
    "import numpy as np\n",
    "import category_encoders as ce\n",
    "from sklearn.model_selection import train_test_split, KFold, ParameterGrid\n",
    "from lightgbm import LGBMRegressor\n",
    "import lightgbm as lgb\n",
    "from sklearn.metrics import root_mean_squared_error\n",
    "import plotly.express as px\n",
    "import optuna\n",
    "import os\n",
    "import json\n",
    "import warnings\n",
    "import scipy.stats as stats\n",
    "from scipy.stats import wilcoxon\n",
    "import plotly.graph_objects as go\n",
    "from plotly.subplots import make_subplots\n",
    "import random\n",
    "from tqdm import tqdm\n",
    "from itertools import product\n",
    "from scipy.stats import t\n",
    "\n",
    "warnings.filterwarnings(\n",
    "    \"ignore\",\n",
    "    message=\".*The least populated class in y has only.*\",\n",
    "    category=UserWarning\n",
    ")\n",
    "\n",
    "random.seed(42)\n",
    "np.random.seed(42)"
   ]
  },
  {
   "cell_type": "markdown",
   "id": "7b169553",
   "metadata": {},
   "source": [
    "# Data preparation"
   ]
  },
  {
   "cell_type": "code",
   "execution_count": 2,
   "id": "41b9ea24",
   "metadata": {},
   "outputs": [],
   "source": [
    "df = pd.read_csv('./data/JD_house_prices.csv')"
   ]
  },
  {
   "cell_type": "code",
   "execution_count": 3,
   "id": "ac488fc5",
   "metadata": {},
   "outputs": [
    {
     "data": {
      "text/html": [
       "<div>\n",
       "<style scoped>\n",
       "    .dataframe tbody tr th:only-of-type {\n",
       "        vertical-align: middle;\n",
       "    }\n",
       "\n",
       "    .dataframe tbody tr th {\n",
       "        vertical-align: top;\n",
       "    }\n",
       "\n",
       "    .dataframe thead th {\n",
       "        text-align: right;\n",
       "    }\n",
       "</style>\n",
       "<table border=\"1\" class=\"dataframe\">\n",
       "  <thead>\n",
       "    <tr style=\"text-align: right;\">\n",
       "      <th></th>\n",
       "      <th>price</th>\n",
       "      <th>live_rooms</th>\n",
       "      <th>live_square</th>\n",
       "      <th>map_city</th>\n",
       "      <th>map_lat</th>\n",
       "      <th>map_lon</th>\n",
       "      <th>year</th>\n",
       "      <th>house_complex_name</th>\n",
       "      <th>flat_floor</th>\n",
       "      <th>house_floor_num</th>\n",
       "      <th>flat_building</th>\n",
       "      <th>flat_renovation</th>\n",
       "      <th>live_furniture</th>\n",
       "      <th>flat_toilet</th>\n",
       "      <th>mortgage</th>\n",
       "      <th>flat_priv_dorm</th>\n",
       "    </tr>\n",
       "  </thead>\n",
       "  <tbody>\n",
       "    <tr>\n",
       "      <th>0</th>\n",
       "      <td>21500000</td>\n",
       "      <td>2</td>\n",
       "      <td>47</td>\n",
       "      <td>караганда</td>\n",
       "      <td>49.777852</td>\n",
       "      <td>73.138243</td>\n",
       "      <td>1972</td>\n",
       "      <td>349.0</td>\n",
       "      <td>4.0</td>\n",
       "      <td>5.0</td>\n",
       "      <td>2.0</td>\n",
       "      <td>1.0</td>\n",
       "      <td>2.0</td>\n",
       "      <td>2.0</td>\n",
       "      <td>0.0</td>\n",
       "      <td>2.0</td>\n",
       "    </tr>\n",
       "    <tr>\n",
       "      <th>1</th>\n",
       "      <td>58600000</td>\n",
       "      <td>4</td>\n",
       "      <td>108</td>\n",
       "      <td>караганда</td>\n",
       "      <td>49.779672</td>\n",
       "      <td>73.132440</td>\n",
       "      <td>2020</td>\n",
       "      <td>1171.0</td>\n",
       "      <td>1.0</td>\n",
       "      <td>10.0</td>\n",
       "      <td>1.0</td>\n",
       "      <td>1.0</td>\n",
       "      <td>1.0</td>\n",
       "      <td>3.0</td>\n",
       "      <td>0.0</td>\n",
       "      <td>2.0</td>\n",
       "    </tr>\n",
       "    <tr>\n",
       "      <th>2</th>\n",
       "      <td>38500000</td>\n",
       "      <td>2</td>\n",
       "      <td>71</td>\n",
       "      <td>караганда</td>\n",
       "      <td>49.797291</td>\n",
       "      <td>73.142052</td>\n",
       "      <td>2021</td>\n",
       "      <td>1976.0</td>\n",
       "      <td>2.0</td>\n",
       "      <td>10.0</td>\n",
       "      <td>1.0</td>\n",
       "      <td>1.0</td>\n",
       "      <td>2.0</td>\n",
       "      <td>2.0</td>\n",
       "      <td>0.0</td>\n",
       "      <td>2.0</td>\n",
       "    </tr>\n",
       "    <tr>\n",
       "      <th>3</th>\n",
       "      <td>9000000</td>\n",
       "      <td>2</td>\n",
       "      <td>44</td>\n",
       "      <td>караганда</td>\n",
       "      <td>49.807940</td>\n",
       "      <td>73.054736</td>\n",
       "      <td>1955</td>\n",
       "      <td>177.0</td>\n",
       "      <td>1.0</td>\n",
       "      <td>5.0</td>\n",
       "      <td>1.0</td>\n",
       "      <td>1.0</td>\n",
       "      <td>2.0</td>\n",
       "      <td>1.0</td>\n",
       "      <td>0.0</td>\n",
       "      <td>2.0</td>\n",
       "    </tr>\n",
       "    <tr>\n",
       "      <th>4</th>\n",
       "      <td>22880000</td>\n",
       "      <td>3</td>\n",
       "      <td>88</td>\n",
       "      <td>караганда</td>\n",
       "      <td>49.778597</td>\n",
       "      <td>73.059382</td>\n",
       "      <td>2025</td>\n",
       "      <td>2408.0</td>\n",
       "      <td>3.0</td>\n",
       "      <td>5.0</td>\n",
       "      <td>1.0</td>\n",
       "      <td>5.0</td>\n",
       "      <td>3.0</td>\n",
       "      <td>1.0</td>\n",
       "      <td>0.0</td>\n",
       "      <td>2.0</td>\n",
       "    </tr>\n",
       "    <tr>\n",
       "      <th>5</th>\n",
       "      <td>10500000</td>\n",
       "      <td>2</td>\n",
       "      <td>44</td>\n",
       "      <td>караганда</td>\n",
       "      <td>49.895854</td>\n",
       "      <td>73.208797</td>\n",
       "      <td>1969</td>\n",
       "      <td>1249.0</td>\n",
       "      <td>4.0</td>\n",
       "      <td>5.0</td>\n",
       "      <td>2.0</td>\n",
       "      <td>1.0</td>\n",
       "      <td>2.0</td>\n",
       "      <td>2.0</td>\n",
       "      <td>0.0</td>\n",
       "      <td>2.0</td>\n",
       "    </tr>\n",
       "    <tr>\n",
       "      <th>6</th>\n",
       "      <td>27000000</td>\n",
       "      <td>4</td>\n",
       "      <td>74</td>\n",
       "      <td>караганда</td>\n",
       "      <td>49.768409</td>\n",
       "      <td>73.133689</td>\n",
       "      <td>1980</td>\n",
       "      <td>1605.0</td>\n",
       "      <td>8.0</td>\n",
       "      <td>9.0</td>\n",
       "      <td>1.0</td>\n",
       "      <td>1.0</td>\n",
       "      <td>1.0</td>\n",
       "      <td>1.0</td>\n",
       "      <td>0.0</td>\n",
       "      <td>2.0</td>\n",
       "    </tr>\n",
       "    <tr>\n",
       "      <th>7</th>\n",
       "      <td>15500000</td>\n",
       "      <td>1</td>\n",
       "      <td>45</td>\n",
       "      <td>караганда</td>\n",
       "      <td>49.801690</td>\n",
       "      <td>73.135530</td>\n",
       "      <td>2023</td>\n",
       "      <td>1777.0</td>\n",
       "      <td>4.0</td>\n",
       "      <td>4.0</td>\n",
       "      <td>1.0</td>\n",
       "      <td>5.0</td>\n",
       "      <td>2.0</td>\n",
       "      <td>2.0</td>\n",
       "      <td>0.0</td>\n",
       "      <td>2.0</td>\n",
       "    </tr>\n",
       "    <tr>\n",
       "      <th>8</th>\n",
       "      <td>28000000</td>\n",
       "      <td>3</td>\n",
       "      <td>82</td>\n",
       "      <td>караганда</td>\n",
       "      <td>49.822275</td>\n",
       "      <td>73.104727</td>\n",
       "      <td>1955</td>\n",
       "      <td>2530.0</td>\n",
       "      <td>2.0</td>\n",
       "      <td>2.0</td>\n",
       "      <td>1.0</td>\n",
       "      <td>1.0</td>\n",
       "      <td>2.0</td>\n",
       "      <td>2.0</td>\n",
       "      <td>0.0</td>\n",
       "      <td>2.0</td>\n",
       "    </tr>\n",
       "    <tr>\n",
       "      <th>9</th>\n",
       "      <td>33000000</td>\n",
       "      <td>3</td>\n",
       "      <td>82</td>\n",
       "      <td>караганда</td>\n",
       "      <td>49.795102</td>\n",
       "      <td>73.151323</td>\n",
       "      <td>2009</td>\n",
       "      <td>3417.0</td>\n",
       "      <td>9.0</td>\n",
       "      <td>10.0</td>\n",
       "      <td>3.0</td>\n",
       "      <td>1.0</td>\n",
       "      <td>1.0</td>\n",
       "      <td>2.0</td>\n",
       "      <td>0.0</td>\n",
       "      <td>2.0</td>\n",
       "    </tr>\n",
       "  </tbody>\n",
       "</table>\n",
       "</div>"
      ],
      "text/plain": [
       "      price  live_rooms  live_square   map_city    map_lat    map_lon  year  \\\n",
       "0  21500000           2           47  караганда  49.777852  73.138243  1972   \n",
       "1  58600000           4          108  караганда  49.779672  73.132440  2020   \n",
       "2  38500000           2           71  караганда  49.797291  73.142052  2021   \n",
       "3   9000000           2           44  караганда  49.807940  73.054736  1955   \n",
       "4  22880000           3           88  караганда  49.778597  73.059382  2025   \n",
       "5  10500000           2           44  караганда  49.895854  73.208797  1969   \n",
       "6  27000000           4           74  караганда  49.768409  73.133689  1980   \n",
       "7  15500000           1           45  караганда  49.801690  73.135530  2023   \n",
       "8  28000000           3           82  караганда  49.822275  73.104727  1955   \n",
       "9  33000000           3           82  караганда  49.795102  73.151323  2009   \n",
       "\n",
       "   house_complex_name  flat_floor  house_floor_num  flat_building  \\\n",
       "0               349.0         4.0              5.0            2.0   \n",
       "1              1171.0         1.0             10.0            1.0   \n",
       "2              1976.0         2.0             10.0            1.0   \n",
       "3               177.0         1.0              5.0            1.0   \n",
       "4              2408.0         3.0              5.0            1.0   \n",
       "5              1249.0         4.0              5.0            2.0   \n",
       "6              1605.0         8.0              9.0            1.0   \n",
       "7              1777.0         4.0              4.0            1.0   \n",
       "8              2530.0         2.0              2.0            1.0   \n",
       "9              3417.0         9.0             10.0            3.0   \n",
       "\n",
       "   flat_renovation  live_furniture  flat_toilet  mortgage  flat_priv_dorm  \n",
       "0              1.0             2.0          2.0       0.0             2.0  \n",
       "1              1.0             1.0          3.0       0.0             2.0  \n",
       "2              1.0             2.0          2.0       0.0             2.0  \n",
       "3              1.0             2.0          1.0       0.0             2.0  \n",
       "4              5.0             3.0          1.0       0.0             2.0  \n",
       "5              1.0             2.0          2.0       0.0             2.0  \n",
       "6              1.0             1.0          1.0       0.0             2.0  \n",
       "7              5.0             2.0          2.0       0.0             2.0  \n",
       "8              1.0             2.0          2.0       0.0             2.0  \n",
       "9              1.0             1.0          2.0       0.0             2.0  "
      ]
     },
     "execution_count": 3,
     "metadata": {},
     "output_type": "execute_result"
    }
   ],
   "source": [
    "df.head(10)"
   ]
  },
  {
   "cell_type": "code",
   "execution_count": 4,
   "id": "c7f61170",
   "metadata": {},
   "outputs": [
    {
     "name": "stdout",
     "output_type": "stream",
     "text": [
      "price                 0\n",
      "live_rooms            0\n",
      "live_square           0\n",
      "map_city              0\n",
      "map_lat               0\n",
      "map_lon               0\n",
      "year                  0\n",
      "house_complex_name    0\n",
      "flat_floor            0\n",
      "house_floor_num       0\n",
      "flat_building         0\n",
      "flat_renovation       0\n",
      "live_furniture        0\n",
      "flat_toilet           0\n",
      "mortgage              0\n",
      "flat_priv_dorm        0\n",
      "dtype: int64\n"
     ]
    }
   ],
   "source": [
    "print(df.isna().sum())"
   ]
  },
  {
   "cell_type": "code",
   "execution_count": 5,
   "id": "08411536",
   "metadata": {},
   "outputs": [
    {
     "name": "stdout",
     "output_type": "stream",
     "text": [
      "Duplicates: 1478\n"
     ]
    }
   ],
   "source": [
    "print(\"Duplicates:\", df.duplicated().sum())"
   ]
  },
  {
   "cell_type": "code",
   "execution_count": 6,
   "id": "322fcb0f",
   "metadata": {},
   "outputs": [
    {
     "name": "stdout",
     "output_type": "stream",
     "text": [
      "Duplicates: 0\n"
     ]
    }
   ],
   "source": [
    "df = df.drop_duplicates()\n",
    "print(\"Duplicates:\", df.duplicated().sum())"
   ]
  },
  {
   "cell_type": "code",
   "execution_count": 7,
   "id": "c6aab477",
   "metadata": {},
   "outputs": [],
   "source": [
    "def encode_map_city(X_train, y_train, X_test, X_val = None):\n",
    "    target_encoder = ce.TargetEncoder(cols=['map_city'])\n",
    "\n",
    "    X_train['map_city'] = target_encoder.fit_transform(X_train['map_city'], y_train)\n",
    "    X_test['map_city'] = target_encoder.transform(X_test['map_city'])\n",
    "\n",
    "    if X_val is not None:\n",
    "        X_val['map_city'] = target_encoder.transform(X_val['map_city'])"
   ]
  },
  {
   "cell_type": "markdown",
   "id": "0a93b6a0",
   "metadata": {},
   "source": [
    "# Overfitting"
   ]
  },
  {
   "cell_type": "markdown",
   "id": "35dffd22",
   "metadata": {},
   "source": [
    "To simulate or test for overfitting, we run LGBM training for much longer than necessary—up to 20,000 iterations (n_estimators)—and log the RMSE scores for both training and test sets."
   ]
  },
  {
   "cell_type": "markdown",
   "id": "7175154d",
   "metadata": {},
   "source": [
    "## Data preparation"
   ]
  },
  {
   "cell_type": "code",
   "execution_count": 8,
   "id": "2458691a",
   "metadata": {},
   "outputs": [
    {
     "name": "stdout",
     "output_type": "stream",
     "text": [
      "📌 Размер обучающей выборки: (38781, 15)\n",
      "📌 Размер тестовой выборки: (9696, 15)\n"
     ]
    }
   ],
   "source": [
    "X = df.drop(columns=['price'])\n",
    "y = df['price']\n",
    "\n",
    "X_train_overfitting, X_test_overfitting, y_train_overfitting, y_test_overfitting = train_test_split(\n",
    "    X, y, test_size=0.2, random_state=42\n",
    ")\n",
    "\n",
    "print(f\"📌 Размер обучающей выборки: {X_train_overfitting.shape}\")\n",
    "print(f\"📌 Размер тестовой выборки: {X_test_overfitting.shape}\")"
   ]
  },
  {
   "cell_type": "code",
   "execution_count": 9,
   "id": "9084167c",
   "metadata": {},
   "outputs": [],
   "source": [
    "encode_map_city(X_train_overfitting, y_train_overfitting, X_test_overfitting)"
   ]
  },
  {
   "cell_type": "markdown",
   "id": "be71622d",
   "metadata": {},
   "source": [
    "## Results DF"
   ]
  },
  {
   "cell_type": "code",
   "execution_count": 10,
   "id": "03203699",
   "metadata": {},
   "outputs": [],
   "source": [
    "results_overfitting_df = pd.DataFrame({\n",
    "    'Best iteration': pd.Series(dtype='int'),\n",
    "    'Full model size (MB)': pd.Series(dtype='int'),\n",
    "    'Best iteration model size (MB)': pd.Series(dtype='int'),\n",
    "    'Final train RMSE': pd.Series(dtype='int'),\n",
    "    'Final test RMSE': pd.Series(dtype='int'),\n",
    "    'Best iteration RMSE': pd.Series(dtype='int'),\n",
    "    'Difference (%)': pd.Series(dtype='float'),\n",
    "})\n",
    "results_overfitting_df.style.format({\n",
    "    'Difference (%)': '{:.3f}'\n",
    "})\n",
    "results_overfitting_df.index.name = 'Model'"
   ]
  },
  {
   "cell_type": "markdown",
   "id": "76e5abb0",
   "metadata": {},
   "source": [
    "## Helper functions"
   ]
  },
  {
   "cell_type": "code",
   "execution_count": 11,
   "id": "ffe769a9",
   "metadata": {},
   "outputs": [],
   "source": [
    "def analyze_early_stopping(model, thresholds=[50, 100, 150, 200, 250, 300]):\n",
    "        eval_results = model.evals_result_\n",
    "        test_rmse_history = eval_results['valid_0']['rmse']\n",
    "\n",
    "        results = []\n",
    "\n",
    "        absolute_best_score = min(test_rmse_history)\n",
    "        absolute_best_iteration = test_rmse_history.index(absolute_best_score) + 1\n",
    "\n",
    "        for threshold in thresholds:\n",
    "            best_score = test_rmse_history[0]\n",
    "            best_iteration = 0\n",
    "            no_improvement_count = 0\n",
    "            early_stop_iter = -1\n",
    "\n",
    "            for i in range(1, len(test_rmse_history)):\n",
    "                if test_rmse_history[i] < best_score:\n",
    "                    best_score = test_rmse_history[i]\n",
    "                    best_iteration = i\n",
    "                    no_improvement_count = 0\n",
    "                else:\n",
    "                    no_improvement_count += 1\n",
    "\n",
    "                if no_improvement_count >= threshold:\n",
    "                    early_stop_iter = i\n",
    "                    break\n",
    "\n",
    "            early_stop_score = test_rmse_history[early_stop_iter]\n",
    "\n",
    "            results.append({\n",
    "                'threshold': threshold,\n",
    "                'best_iteration': absolute_best_iteration,\n",
    "                'early_stop_iteration': early_stop_iter,\n",
    "                'iteration_difference': absolute_best_iteration - early_stop_iter,\n",
    "                'best_score': absolute_best_score,\n",
    "                'early_stop_score': early_stop_score,\n",
    "                'score_difference': absolute_best_score - early_stop_score,\n",
    "            })\n",
    "\n",
    "        early_stopping_results = pd.DataFrame(results).astype({\n",
    "            'best_score': 'int',\n",
    "            'early_stop_score': 'int',\n",
    "            'score_difference': 'int',\n",
    "        })\n",
    "        early_stopping_results = early_stopping_results.set_index('threshold').T\n",
    "        early_stopping_results.index.name = 'metric'\n",
    "        early_stopping_results = early_stopping_results.rename_axis('threshold', axis=1)\n",
    "        # early_stopping_results = early_stopping_results.reset_index()\n",
    "\n",
    "        print(\"\\nEarly Stopping Analysis:\")\n",
    "        print(early_stopping_results.to_string())"
   ]
  },
  {
   "cell_type": "code",
   "execution_count": 12,
   "id": "5517887f",
   "metadata": {},
   "outputs": [],
   "source": [
    "def plot_single_rmse_log_scale(iterations, rmse_values, label, start_from=1500):\n",
    "    filtered_indices = [i for i, x in enumerate(iterations) if x >= start_from]\n",
    "    filtered_iterations = [iterations[i] for i in filtered_indices]\n",
    "    filtered_rmse_values = [rmse_values[i] for i in filtered_indices]\n",
    "\n",
    "    fig = go.Figure()\n",
    "    fig.add_trace(go.Scatter(\n",
    "        x=filtered_iterations,\n",
    "        y=filtered_rmse_values,\n",
    "        mode='lines+markers',\n",
    "        name=f'{label} RMSE'\n",
    "    ))\n",
    "\n",
    "    # Add vertical line to mark the starting point\n",
    "    fig.add_vline(\n",
    "        x=start_from,\n",
    "        line=dict(color='red', width=2, dash='dash'),\n",
    "        annotation_text=f\"Start From: {start_from}\",\n",
    "        annotation_position=\"top right\"\n",
    "    )\n",
    "\n",
    "    fig.update_layout(\n",
    "        title=f'{label} RMSE over Iterations (Log Scale)',\n",
    "        xaxis_title='Iteration',\n",
    "        yaxis_title='RMSE',\n",
    "        yaxis_type='log',\n",
    "        height=500,\n",
    "        width=700\n",
    "    )\n",
    "    fig.show()\n"
   ]
  },
  {
   "cell_type": "code",
   "execution_count": 13,
   "id": "f68c5ca9",
   "metadata": {},
   "outputs": [],
   "source": [
    "def print_model_max_depth(model):\n",
    "        booster = model.booster_\n",
    "        max_depth_overall = 0\n",
    "\n",
    "        # Get total number of trees in the model\n",
    "        num_trees = booster.num_trees()\n",
    "\n",
    "        # Process trees in smaller batches to avoid memory issues\n",
    "        batch_size = 10  # Adjust based on your memory constraints\n",
    "\n",
    "        for start_idx in range(0, num_trees, batch_size):\n",
    "            end_idx = min(start_idx + batch_size, num_trees)\n",
    "\n",
    "            # Only dump a subset of trees at a time\n",
    "            model_dict = booster.dump_model(num_iteration=end_idx, start_iteration=start_idx)\n",
    "\n",
    "            # Recursive function to calculate depth of a tree\n",
    "            def get_depth(tree, current_depth=1):\n",
    "                if 'left_child' not in tree and 'right_child' not in tree:\n",
    "                    return current_depth\n",
    "\n",
    "                left_depth = get_depth(tree['left_child'], current_depth + 1) if 'left_child' in tree else current_depth\n",
    "                right_depth = get_depth(tree['right_child'], current_depth + 1) if 'right_child' in tree else current_depth\n",
    "                return max(left_depth, right_depth)\n",
    "\n",
    "            # Calculate maximum depth for this batch of trees\n",
    "            batch_max_depth = 0\n",
    "            for tree in model_dict['tree_info']:\n",
    "                depth = get_depth(tree['tree_structure'])\n",
    "                batch_max_depth = max(batch_max_depth, depth)\n",
    "\n",
    "            # Update overall maximum depth\n",
    "            max_depth_overall = max(max_depth_overall, batch_max_depth)\n",
    "\n",
    "            print(f\"Processed trees {start_idx} to {end_idx - 1}, max depth in this batch: {batch_max_depth}, overall max depth: {max_depth_overall}\")\n",
    "\n",
    "        print(\"Maximum depth of trained model:\", max_depth_overall)"
   ]
  },
  {
   "cell_type": "code",
   "execution_count": 14,
   "id": "2863260c",
   "metadata": {},
   "outputs": [],
   "source": [
    "def plot_dual_rmse_log_scale(iterations, train_rmses, test_rmses, start_from=1500):\n",
    "    filtered_indices = [i for i, x in enumerate(iterations) if x >= start_from]\n",
    "    filtered_iterations = [iterations[i] for i in filtered_indices]\n",
    "    filtered_train_rmse = [train_rmses[i] for i in filtered_indices]\n",
    "    filtered_test_rmse = [test_rmses[i] for i in filtered_indices]\n",
    "\n",
    "    fig = go.Figure()\n",
    "\n",
    "    # Train RMSE on left y-axis\n",
    "    fig.add_trace(go.Scatter(\n",
    "        x=filtered_iterations,\n",
    "        y=filtered_train_rmse,\n",
    "        mode='lines+markers',\n",
    "        name='Train RMSE',\n",
    "        yaxis='y1'\n",
    "    ))\n",
    "\n",
    "    # Test RMSE on right y-axis\n",
    "    fig.add_trace(go.Scatter(\n",
    "        x=filtered_iterations,\n",
    "        y=filtered_test_rmse,\n",
    "        mode='lines+markers',\n",
    "        name='Test RMSE',\n",
    "        yaxis='y2'\n",
    "    ))\n",
    "\n",
    "    # Vertical line\n",
    "    fig.add_vline(\n",
    "        x=start_from,\n",
    "        line=dict(color='red', width=2, dash='dash'),\n",
    "        annotation_text=f\"Start From: {start_from}\",\n",
    "        annotation_position=\"top right\"\n",
    "    )\n",
    "\n",
    "    fig.update_layout(\n",
    "        title='Train & Test RMSE over Iterations (Dual Log Scales)',\n",
    "        xaxis_title='Iteration',\n",
    "        yaxis=dict(\n",
    "            title='Train RMSE',\n",
    "            type='log',\n",
    "            side='left'\n",
    "        ),\n",
    "        yaxis2=dict(\n",
    "            title='Test RMSE',\n",
    "            type='log',\n",
    "            overlaying='y',\n",
    "            side='right'\n",
    "        ),\n",
    "        height=500,\n",
    "        width=800\n",
    "    )\n",
    "\n",
    "    fig.update_layout(\n",
    "        legend=dict(\n",
    "            orientation='h',\n",
    "            yanchor='bottom',\n",
    "            y=1.02,\n",
    "            xanchor='right',\n",
    "            x=1\n",
    "        )\n",
    "    )\n",
    "\n",
    "    fig.show()"
   ]
  },
  {
   "cell_type": "code",
   "execution_count": 15,
   "id": "d4953db2",
   "metadata": {},
   "outputs": [],
   "source": [
    "def test_params_overfitting(params, name, plot_start_from=1500, format='.0f'):\n",
    "    global results_overfitting_df\n",
    "\n",
    "    model = LGBMRegressor(**params)\n",
    "    model.fit(\n",
    "        X_train_overfitting, y_train_overfitting,\n",
    "        eval_set=[(X_test_overfitting, y_test_overfitting)],\n",
    "        eval_metric='rmse',\n",
    "        callbacks=[\n",
    "            # lgb.early_stopping(100, verbose=False),\n",
    "            lgb.log_evaluation(500),\n",
    "        ],\n",
    "    )\n",
    "\n",
    "\n",
    "    train_rmses = []\n",
    "    test_rmses = []\n",
    "    iterations = list(range(500, params['n_estimators'] + 1, 500))\n",
    "\n",
    "    for i in iterations:\n",
    "        y_train_pred = model.predict(X_train_overfitting, num_iteration=i)\n",
    "        y_test_pred = model.predict(X_test_overfitting, num_iteration=i)\n",
    "\n",
    "        train_rmse = root_mean_squared_error(y_train_overfitting, y_train_pred)\n",
    "        test_rmse = root_mean_squared_error(y_test_overfitting, y_test_pred)\n",
    "\n",
    "        train_rmses.append(train_rmse)\n",
    "        test_rmses.append(test_rmse)\n",
    "\n",
    "        print(f\"Iteration {i}: Train RMSE = {train_rmse:{format}}, Test RMSE = {test_rmse:{format}}\")\n",
    "\n",
    "\n",
    "    eval_results = model.evals_result_\n",
    "    test_rmse_history = eval_results['valid_0']['rmse']\n",
    "    min_test_rmse = min(test_rmse_history)\n",
    "    min_test_rmse_iteration = test_rmse_history.index(min_test_rmse) + 1\n",
    "    rmse_diff_percent = (test_rmses[-1] - min_test_rmse) / min_test_rmse * 100\n",
    "\n",
    "    print(f\"Final Train RMSE: {train_rmses[-1]:{format}}\")\n",
    "    print(f\"Final Test RMSE: {test_rmses[-1]:{format}}\")\n",
    "    print(f\"Best Iteration RMSE: {min_test_rmse:{format}}\")\n",
    "    print(f\"Difference (%): {rmse_diff_percent:.3f}%\")\n",
    "\n",
    "\n",
    "    full_model_path = f\"./data/models/lgbm_{name}_full_model.txt\"\n",
    "    model.booster_.save_model(full_model_path)\n",
    "    full_model_size = int(os.path.getsize(full_model_path) / (1024 * 1024))\n",
    "\n",
    "    print(f\"Full model size: {full_model_size} MB\")\n",
    "\n",
    "    best_model_path = f\"./data/models/lgbm_{name}_best_model.txt\"\n",
    "    model.booster_.save_model(best_model_path, num_iteration=min_test_rmse_iteration)\n",
    "    best_model_size = int(os.path.getsize(best_model_path) / (1024 * 1024))\n",
    "\n",
    "    print(f\"Best iteration model size: {best_model_size} MB\")\n",
    "\n",
    "    results_overfitting_df.loc[name] = {\n",
    "        'Best iteration': min_test_rmse_iteration,\n",
    "        'Full model size (MB)': full_model_size,\n",
    "        'Best iteration model size (MB)': best_model_size,\n",
    "        'Final train RMSE': int(train_rmses[-1]),\n",
    "        'Final test RMSE': int(test_rmses[-1]),\n",
    "        'Best iteration RMSE': int(min_test_rmse),\n",
    "        'Difference (%)': rmse_diff_percent,\n",
    "    }\n",
    "\n",
    "    # plot_single_rmse_log_scale(iterations, train_rmses, label=\"Train\", start_from=plot_start_from)\n",
    "    # plot_single_rmse_log_scale(iterations, test_rmses, label=\"Test\", start_from=plot_start_from)\n",
    "\n",
    "    plot_dual_rmse_log_scale(iterations, train_rmses, test_rmses, start_from=plot_start_from)\n",
    "\n",
    "    # analyze_early_stopping(model)\n",
    "    # print_model_max_depth(model)"
   ]
  },
  {
   "cell_type": "markdown",
   "id": "d9405555",
   "metadata": {},
   "source": [
    "## Hand-picked params"
   ]
  },
  {
   "cell_type": "markdown",
   "id": "2a38a1a7",
   "metadata": {},
   "source": [
    "### Params"
   ]
  },
  {
   "cell_type": "markdown",
   "id": "a2f43ff8",
   "metadata": {},
   "source": [
    "All params except `n_estimators` are from the original notebook. "
   ]
  },
  {
   "cell_type": "code",
   "execution_count": 16,
   "id": "027e5fad",
   "metadata": {},
   "outputs": [],
   "source": [
    "hand_picked_params = {\n",
    "    \"n_estimators\": 20000,\n",
    "    \"learning_rate\": 0.05,\n",
    "    'num_leaves': 31,\n",
    "    'max_depth': 10,\n",
    "    'min_child_samples': 20,\n",
    "    \"verbose\": -1,\n",
    "    'random_state': 42,\n",
    "}"
   ]
  },
  {
   "cell_type": "markdown",
   "id": "3c62be58",
   "metadata": {},
   "source": [
    "### 🔍 ChatGPT parameter analysis:\n",
    "\n",
    "| **Parameter**        | **Value**  | **Comment**                                                                 |\n",
    "|----------------------|------------|------------------------------------------------------------------------------|\n",
    "| `learning_rate`      | 0.05       | ✅ Moderately low — helps mitigate overfitting, though may need more trees. |\n",
    "| `num_leaves`         | 31         | ✅ Balanced — a reasonable default; not too aggressive in model complexity. |\n",
    "| `max_depth`          | 10         | ⚠️ Relatively deep — allows flexible trees, could overfit on small patterns. |\n",
    "| `min_child_samples`  | 20         | ✅ Conservative — prevents splits on small samples, reducing overfitting.    |\n"
   ]
  },
  {
   "cell_type": "markdown",
   "id": "7ca6e2a4",
   "metadata": {},
   "source": [
    "ChatGPT is mostly happy but thinks that `max_depth` might already be too high."
   ]
  },
  {
   "cell_type": "markdown",
   "id": "c2eae4a3",
   "metadata": {},
   "source": [
    "### Expectation"
   ]
  },
  {
   "cell_type": "markdown",
   "id": "7169b367",
   "metadata": {},
   "source": [
    "Some slight overfitting."
   ]
  },
  {
   "cell_type": "markdown",
   "id": "1ce37567",
   "metadata": {},
   "source": [
    "### Reality"
   ]
  },
  {
   "cell_type": "code",
   "execution_count": 17,
   "id": "c3381ceb",
   "metadata": {},
   "outputs": [
    {
     "name": "stdout",
     "output_type": "stream",
     "text": [
      "[500]\tvalid_0's rmse: 4.7051e+06\tvalid_0's l2: 2.2138e+13\n",
      "[1000]\tvalid_0's rmse: 4.54105e+06\tvalid_0's l2: 2.06212e+13\n",
      "[1500]\tvalid_0's rmse: 4.46761e+06\tvalid_0's l2: 1.99595e+13\n",
      "[2000]\tvalid_0's rmse: 4.42468e+06\tvalid_0's l2: 1.95778e+13\n",
      "[2500]\tvalid_0's rmse: 4.40333e+06\tvalid_0's l2: 1.93893e+13\n",
      "[3000]\tvalid_0's rmse: 4.38639e+06\tvalid_0's l2: 1.92404e+13\n",
      "[3500]\tvalid_0's rmse: 4.38214e+06\tvalid_0's l2: 1.92031e+13\n",
      "[4000]\tvalid_0's rmse: 4.38089e+06\tvalid_0's l2: 1.91922e+13\n",
      "[4500]\tvalid_0's rmse: 4.37677e+06\tvalid_0's l2: 1.91561e+13\n",
      "[5000]\tvalid_0's rmse: 4.37656e+06\tvalid_0's l2: 1.91543e+13\n",
      "[5500]\tvalid_0's rmse: 4.37513e+06\tvalid_0's l2: 1.91418e+13\n",
      "[6000]\tvalid_0's rmse: 4.37121e+06\tvalid_0's l2: 1.91075e+13\n",
      "[6500]\tvalid_0's rmse: 4.37441e+06\tvalid_0's l2: 1.91355e+13\n",
      "[7000]\tvalid_0's rmse: 4.37709e+06\tvalid_0's l2: 1.91589e+13\n",
      "[7500]\tvalid_0's rmse: 4.37991e+06\tvalid_0's l2: 1.91836e+13\n",
      "[8000]\tvalid_0's rmse: 4.38003e+06\tvalid_0's l2: 1.91847e+13\n",
      "[8500]\tvalid_0's rmse: 4.38006e+06\tvalid_0's l2: 1.9185e+13\n",
      "[9000]\tvalid_0's rmse: 4.38211e+06\tvalid_0's l2: 1.92029e+13\n",
      "[9500]\tvalid_0's rmse: 4.3824e+06\tvalid_0's l2: 1.92055e+13\n",
      "[10000]\tvalid_0's rmse: 4.38539e+06\tvalid_0's l2: 1.92316e+13\n",
      "[10500]\tvalid_0's rmse: 4.3868e+06\tvalid_0's l2: 1.9244e+13\n",
      "[11000]\tvalid_0's rmse: 4.38931e+06\tvalid_0's l2: 1.9266e+13\n",
      "[11500]\tvalid_0's rmse: 4.39345e+06\tvalid_0's l2: 1.93024e+13\n",
      "[12000]\tvalid_0's rmse: 4.39553e+06\tvalid_0's l2: 1.93207e+13\n",
      "[12500]\tvalid_0's rmse: 4.39687e+06\tvalid_0's l2: 1.93325e+13\n",
      "[13000]\tvalid_0's rmse: 4.39813e+06\tvalid_0's l2: 1.93435e+13\n",
      "[13500]\tvalid_0's rmse: 4.4006e+06\tvalid_0's l2: 1.93653e+13\n",
      "[14000]\tvalid_0's rmse: 4.40284e+06\tvalid_0's l2: 1.9385e+13\n",
      "[14500]\tvalid_0's rmse: 4.40428e+06\tvalid_0's l2: 1.93977e+13\n",
      "[15000]\tvalid_0's rmse: 4.40539e+06\tvalid_0's l2: 1.94074e+13\n",
      "[15500]\tvalid_0's rmse: 4.40735e+06\tvalid_0's l2: 1.94247e+13\n",
      "[16000]\tvalid_0's rmse: 4.4091e+06\tvalid_0's l2: 1.94402e+13\n",
      "[16500]\tvalid_0's rmse: 4.41052e+06\tvalid_0's l2: 1.94527e+13\n",
      "[17000]\tvalid_0's rmse: 4.41087e+06\tvalid_0's l2: 1.94558e+13\n",
      "[17500]\tvalid_0's rmse: 4.41227e+06\tvalid_0's l2: 1.94681e+13\n",
      "[18000]\tvalid_0's rmse: 4.41355e+06\tvalid_0's l2: 1.94794e+13\n",
      "[18500]\tvalid_0's rmse: 4.41509e+06\tvalid_0's l2: 1.9493e+13\n",
      "[19000]\tvalid_0's rmse: 4.41661e+06\tvalid_0's l2: 1.95065e+13\n",
      "[19500]\tvalid_0's rmse: 4.41841e+06\tvalid_0's l2: 1.95224e+13\n",
      "[20000]\tvalid_0's rmse: 4.41952e+06\tvalid_0's l2: 1.95322e+13\n",
      "Iteration 500: Train RMSE = 4191933, Test RMSE = 4705101\n",
      "Iteration 1000: Train RMSE = 3652101, Test RMSE = 4541054\n",
      "Iteration 1500: Train RMSE = 3283971, Test RMSE = 4467606\n",
      "Iteration 2000: Train RMSE = 3012915, Test RMSE = 4424680\n",
      "Iteration 2500: Train RMSE = 2796797, Test RMSE = 4403331\n",
      "Iteration 3000: Train RMSE = 2623466, Test RMSE = 4386390\n",
      "Iteration 3500: Train RMSE = 2465751, Test RMSE = 4382139\n",
      "Iteration 4000: Train RMSE = 2331091, Test RMSE = 4380892\n",
      "Iteration 4500: Train RMSE = 2207974, Test RMSE = 4376771\n",
      "Iteration 5000: Train RMSE = 2101320, Test RMSE = 4376558\n",
      "Iteration 5500: Train RMSE = 2003769, Test RMSE = 4375134\n",
      "Iteration 6000: Train RMSE = 1913086, Test RMSE = 4371210\n",
      "Iteration 6500: Train RMSE = 1829575, Test RMSE = 4374411\n",
      "Iteration 7000: Train RMSE = 1751414, Test RMSE = 4377087\n",
      "Iteration 7500: Train RMSE = 1677936, Test RMSE = 4379910\n",
      "Iteration 8000: Train RMSE = 1609435, Test RMSE = 4380030\n",
      "Iteration 8500: Train RMSE = 1545666, Test RMSE = 4380063\n",
      "Iteration 9000: Train RMSE = 1485240, Test RMSE = 4382107\n",
      "Iteration 9500: Train RMSE = 1432707, Test RMSE = 4382402\n",
      "Iteration 10000: Train RMSE = 1381791, Test RMSE = 4385389\n",
      "Iteration 10500: Train RMSE = 1335368, Test RMSE = 4386795\n",
      "Iteration 11000: Train RMSE = 1288889, Test RMSE = 4389308\n",
      "Iteration 11500: Train RMSE = 1245622, Test RMSE = 4393455\n",
      "Iteration 12000: Train RMSE = 1205355, Test RMSE = 4395533\n",
      "Iteration 12500: Train RMSE = 1164345, Test RMSE = 4396874\n",
      "Iteration 13000: Train RMSE = 1124802, Test RMSE = 4398129\n",
      "Iteration 13500: Train RMSE = 1090571, Test RMSE = 4400598\n",
      "Iteration 14000: Train RMSE = 1058373, Test RMSE = 4402839\n",
      "Iteration 14500: Train RMSE = 1025027, Test RMSE = 4404280\n",
      "Iteration 15000: Train RMSE = 995029, Test RMSE = 4405387\n",
      "Iteration 15500: Train RMSE = 964353, Test RMSE = 4407348\n",
      "Iteration 16000: Train RMSE = 937766, Test RMSE = 4409103\n",
      "Iteration 16500: Train RMSE = 911549, Test RMSE = 4410520\n",
      "Iteration 17000: Train RMSE = 883716, Test RMSE = 4410873\n",
      "Iteration 17500: Train RMSE = 858842, Test RMSE = 4412268\n",
      "Iteration 18000: Train RMSE = 833938, Test RMSE = 4413549\n",
      "Iteration 18500: Train RMSE = 811760, Test RMSE = 4415093\n",
      "Iteration 19000: Train RMSE = 790467, Test RMSE = 4416612\n",
      "Iteration 19500: Train RMSE = 770119, Test RMSE = 4418411\n",
      "Iteration 20000: Train RMSE = 749401, Test RMSE = 4419524\n",
      "Final Train RMSE: 749401\n",
      "Final Test RMSE: 4419524\n",
      "Best Iteration RMSE: 4370707\n",
      "Difference (%): 1.117%\n",
      "Full model size: 52 MB\n",
      "Best iteration model size: 16 MB\n"
     ]
    },
    {
     "data": {
      "application/vnd.plotly.v1+json": {
       "config": {
        "plotlyServerURL": "https://plot.ly"
       },
       "data": [
        {
         "mode": "lines+markers",
         "name": "Train RMSE",
         "type": "scatter",
         "x": [
          1500,
          2000,
          2500,
          3000,
          3500,
          4000,
          4500,
          5000,
          5500,
          6000,
          6500,
          7000,
          7500,
          8000,
          8500,
          9000,
          9500,
          10000,
          10500,
          11000,
          11500,
          12000,
          12500,
          13000,
          13500,
          14000,
          14500,
          15000,
          15500,
          16000,
          16500,
          17000,
          17500,
          18000,
          18500,
          19000,
          19500,
          20000
         ],
         "y": [
          3283970.5592749063,
          3012915.4383519804,
          2796796.699628914,
          2623466.1477850596,
          2465750.668746397,
          2331091.0444609993,
          2207974.258085355,
          2101319.942256613,
          2003769.061280702,
          1913086.3800723488,
          1829575.1404470603,
          1751413.629658524,
          1677935.8457008642,
          1609434.5724117544,
          1545665.6318307288,
          1485239.9460632813,
          1432706.9583995095,
          1381790.6256752387,
          1335368.003988695,
          1288889.2150735059,
          1245622.0661901634,
          1205354.6488044597,
          1164345.1506100039,
          1124802.2746353867,
          1090570.933139974,
          1058372.85932935,
          1025026.8372753011,
          995029.4512177489,
          964353.444509502,
          937765.622551007,
          911549.4961937767,
          883715.8450452964,
          858841.5302737535,
          833938.3575138914,
          811759.9005203815,
          790466.915514453,
          770118.9756001114,
          749400.9631719609
         ],
         "yaxis": "y"
        },
        {
         "mode": "lines+markers",
         "name": "Test RMSE",
         "type": "scatter",
         "x": [
          1500,
          2000,
          2500,
          3000,
          3500,
          4000,
          4500,
          5000,
          5500,
          6000,
          6500,
          7000,
          7500,
          8000,
          8500,
          9000,
          9500,
          10000,
          10500,
          11000,
          11500,
          12000,
          12500,
          13000,
          13500,
          14000,
          14500,
          15000,
          15500,
          16000,
          16500,
          17000,
          17500,
          18000,
          18500,
          19000,
          19500,
          20000
         ],
         "y": [
          4467606.481973554,
          4424679.519810237,
          4403331.098640274,
          4386390.071741304,
          4382138.697124,
          4380892.247646128,
          4376771.137362037,
          4376557.66737881,
          4375134.200379239,
          4371210.436019028,
          4374411.327662143,
          4377087.364228605,
          4379909.9555625655,
          4380029.720160491,
          4380063.394789359,
          4382106.630597529,
          4382402.445984911,
          4385389.127476405,
          4386795.478064376,
          4389307.84590792,
          4393454.575253555,
          4395533.103044375,
          4396874.014236646,
          4398128.568444004,
          4400598.114515594,
          4402838.738460333,
          4404280.229932289,
          4405387.455911159,
          4407348.4082554085,
          4409103.191366142,
          4410519.8980409,
          4410872.526974486,
          4412267.6040458875,
          4413548.679189158,
          4415093.252857625,
          4416611.5313658705,
          4418410.857139817,
          4419524.191240467
         ],
         "yaxis": "y2"
        }
       ],
       "layout": {
        "annotations": [
         {
          "showarrow": false,
          "text": "Start From: 1500",
          "x": 1500,
          "xanchor": "left",
          "xref": "x",
          "y": 1,
          "yanchor": "top",
          "yref": "y domain"
         }
        ],
        "height": 500,
        "legend": {
         "orientation": "h",
         "x": 1,
         "xanchor": "right",
         "y": 1.02,
         "yanchor": "bottom"
        },
        "shapes": [
         {
          "line": {
           "color": "red",
           "dash": "dash",
           "width": 2
          },
          "type": "line",
          "x0": 1500,
          "x1": 1500,
          "xref": "x",
          "y0": 0,
          "y1": 1,
          "yref": "y domain"
         }
        ],
        "template": {
         "data": {
          "bar": [
           {
            "error_x": {
             "color": "#2a3f5f"
            },
            "error_y": {
             "color": "#2a3f5f"
            },
            "marker": {
             "line": {
              "color": "#E5ECF6",
              "width": 0.5
             },
             "pattern": {
              "fillmode": "overlay",
              "size": 10,
              "solidity": 0.2
             }
            },
            "type": "bar"
           }
          ],
          "barpolar": [
           {
            "marker": {
             "line": {
              "color": "#E5ECF6",
              "width": 0.5
             },
             "pattern": {
              "fillmode": "overlay",
              "size": 10,
              "solidity": 0.2
             }
            },
            "type": "barpolar"
           }
          ],
          "carpet": [
           {
            "aaxis": {
             "endlinecolor": "#2a3f5f",
             "gridcolor": "white",
             "linecolor": "white",
             "minorgridcolor": "white",
             "startlinecolor": "#2a3f5f"
            },
            "baxis": {
             "endlinecolor": "#2a3f5f",
             "gridcolor": "white",
             "linecolor": "white",
             "minorgridcolor": "white",
             "startlinecolor": "#2a3f5f"
            },
            "type": "carpet"
           }
          ],
          "choropleth": [
           {
            "colorbar": {
             "outlinewidth": 0,
             "ticks": ""
            },
            "type": "choropleth"
           }
          ],
          "contour": [
           {
            "colorbar": {
             "outlinewidth": 0,
             "ticks": ""
            },
            "colorscale": [
             [
              0,
              "#0d0887"
             ],
             [
              0.1111111111111111,
              "#46039f"
             ],
             [
              0.2222222222222222,
              "#7201a8"
             ],
             [
              0.3333333333333333,
              "#9c179e"
             ],
             [
              0.4444444444444444,
              "#bd3786"
             ],
             [
              0.5555555555555556,
              "#d8576b"
             ],
             [
              0.6666666666666666,
              "#ed7953"
             ],
             [
              0.7777777777777778,
              "#fb9f3a"
             ],
             [
              0.8888888888888888,
              "#fdca26"
             ],
             [
              1,
              "#f0f921"
             ]
            ],
            "type": "contour"
           }
          ],
          "contourcarpet": [
           {
            "colorbar": {
             "outlinewidth": 0,
             "ticks": ""
            },
            "type": "contourcarpet"
           }
          ],
          "heatmap": [
           {
            "colorbar": {
             "outlinewidth": 0,
             "ticks": ""
            },
            "colorscale": [
             [
              0,
              "#0d0887"
             ],
             [
              0.1111111111111111,
              "#46039f"
             ],
             [
              0.2222222222222222,
              "#7201a8"
             ],
             [
              0.3333333333333333,
              "#9c179e"
             ],
             [
              0.4444444444444444,
              "#bd3786"
             ],
             [
              0.5555555555555556,
              "#d8576b"
             ],
             [
              0.6666666666666666,
              "#ed7953"
             ],
             [
              0.7777777777777778,
              "#fb9f3a"
             ],
             [
              0.8888888888888888,
              "#fdca26"
             ],
             [
              1,
              "#f0f921"
             ]
            ],
            "type": "heatmap"
           }
          ],
          "heatmapgl": [
           {
            "colorbar": {
             "outlinewidth": 0,
             "ticks": ""
            },
            "colorscale": [
             [
              0,
              "#0d0887"
             ],
             [
              0.1111111111111111,
              "#46039f"
             ],
             [
              0.2222222222222222,
              "#7201a8"
             ],
             [
              0.3333333333333333,
              "#9c179e"
             ],
             [
              0.4444444444444444,
              "#bd3786"
             ],
             [
              0.5555555555555556,
              "#d8576b"
             ],
             [
              0.6666666666666666,
              "#ed7953"
             ],
             [
              0.7777777777777778,
              "#fb9f3a"
             ],
             [
              0.8888888888888888,
              "#fdca26"
             ],
             [
              1,
              "#f0f921"
             ]
            ],
            "type": "heatmapgl"
           }
          ],
          "histogram": [
           {
            "marker": {
             "pattern": {
              "fillmode": "overlay",
              "size": 10,
              "solidity": 0.2
             }
            },
            "type": "histogram"
           }
          ],
          "histogram2d": [
           {
            "colorbar": {
             "outlinewidth": 0,
             "ticks": ""
            },
            "colorscale": [
             [
              0,
              "#0d0887"
             ],
             [
              0.1111111111111111,
              "#46039f"
             ],
             [
              0.2222222222222222,
              "#7201a8"
             ],
             [
              0.3333333333333333,
              "#9c179e"
             ],
             [
              0.4444444444444444,
              "#bd3786"
             ],
             [
              0.5555555555555556,
              "#d8576b"
             ],
             [
              0.6666666666666666,
              "#ed7953"
             ],
             [
              0.7777777777777778,
              "#fb9f3a"
             ],
             [
              0.8888888888888888,
              "#fdca26"
             ],
             [
              1,
              "#f0f921"
             ]
            ],
            "type": "histogram2d"
           }
          ],
          "histogram2dcontour": [
           {
            "colorbar": {
             "outlinewidth": 0,
             "ticks": ""
            },
            "colorscale": [
             [
              0,
              "#0d0887"
             ],
             [
              0.1111111111111111,
              "#46039f"
             ],
             [
              0.2222222222222222,
              "#7201a8"
             ],
             [
              0.3333333333333333,
              "#9c179e"
             ],
             [
              0.4444444444444444,
              "#bd3786"
             ],
             [
              0.5555555555555556,
              "#d8576b"
             ],
             [
              0.6666666666666666,
              "#ed7953"
             ],
             [
              0.7777777777777778,
              "#fb9f3a"
             ],
             [
              0.8888888888888888,
              "#fdca26"
             ],
             [
              1,
              "#f0f921"
             ]
            ],
            "type": "histogram2dcontour"
           }
          ],
          "mesh3d": [
           {
            "colorbar": {
             "outlinewidth": 0,
             "ticks": ""
            },
            "type": "mesh3d"
           }
          ],
          "parcoords": [
           {
            "line": {
             "colorbar": {
              "outlinewidth": 0,
              "ticks": ""
             }
            },
            "type": "parcoords"
           }
          ],
          "pie": [
           {
            "automargin": true,
            "type": "pie"
           }
          ],
          "scatter": [
           {
            "fillpattern": {
             "fillmode": "overlay",
             "size": 10,
             "solidity": 0.2
            },
            "type": "scatter"
           }
          ],
          "scatter3d": [
           {
            "line": {
             "colorbar": {
              "outlinewidth": 0,
              "ticks": ""
             }
            },
            "marker": {
             "colorbar": {
              "outlinewidth": 0,
              "ticks": ""
             }
            },
            "type": "scatter3d"
           }
          ],
          "scattercarpet": [
           {
            "marker": {
             "colorbar": {
              "outlinewidth": 0,
              "ticks": ""
             }
            },
            "type": "scattercarpet"
           }
          ],
          "scattergeo": [
           {
            "marker": {
             "colorbar": {
              "outlinewidth": 0,
              "ticks": ""
             }
            },
            "type": "scattergeo"
           }
          ],
          "scattergl": [
           {
            "marker": {
             "colorbar": {
              "outlinewidth": 0,
              "ticks": ""
             }
            },
            "type": "scattergl"
           }
          ],
          "scattermapbox": [
           {
            "marker": {
             "colorbar": {
              "outlinewidth": 0,
              "ticks": ""
             }
            },
            "type": "scattermapbox"
           }
          ],
          "scatterpolar": [
           {
            "marker": {
             "colorbar": {
              "outlinewidth": 0,
              "ticks": ""
             }
            },
            "type": "scatterpolar"
           }
          ],
          "scatterpolargl": [
           {
            "marker": {
             "colorbar": {
              "outlinewidth": 0,
              "ticks": ""
             }
            },
            "type": "scatterpolargl"
           }
          ],
          "scatterternary": [
           {
            "marker": {
             "colorbar": {
              "outlinewidth": 0,
              "ticks": ""
             }
            },
            "type": "scatterternary"
           }
          ],
          "surface": [
           {
            "colorbar": {
             "outlinewidth": 0,
             "ticks": ""
            },
            "colorscale": [
             [
              0,
              "#0d0887"
             ],
             [
              0.1111111111111111,
              "#46039f"
             ],
             [
              0.2222222222222222,
              "#7201a8"
             ],
             [
              0.3333333333333333,
              "#9c179e"
             ],
             [
              0.4444444444444444,
              "#bd3786"
             ],
             [
              0.5555555555555556,
              "#d8576b"
             ],
             [
              0.6666666666666666,
              "#ed7953"
             ],
             [
              0.7777777777777778,
              "#fb9f3a"
             ],
             [
              0.8888888888888888,
              "#fdca26"
             ],
             [
              1,
              "#f0f921"
             ]
            ],
            "type": "surface"
           }
          ],
          "table": [
           {
            "cells": {
             "fill": {
              "color": "#EBF0F8"
             },
             "line": {
              "color": "white"
             }
            },
            "header": {
             "fill": {
              "color": "#C8D4E3"
             },
             "line": {
              "color": "white"
             }
            },
            "type": "table"
           }
          ]
         },
         "layout": {
          "annotationdefaults": {
           "arrowcolor": "#2a3f5f",
           "arrowhead": 0,
           "arrowwidth": 1
          },
          "autotypenumbers": "strict",
          "coloraxis": {
           "colorbar": {
            "outlinewidth": 0,
            "ticks": ""
           }
          },
          "colorscale": {
           "diverging": [
            [
             0,
             "#8e0152"
            ],
            [
             0.1,
             "#c51b7d"
            ],
            [
             0.2,
             "#de77ae"
            ],
            [
             0.3,
             "#f1b6da"
            ],
            [
             0.4,
             "#fde0ef"
            ],
            [
             0.5,
             "#f7f7f7"
            ],
            [
             0.6,
             "#e6f5d0"
            ],
            [
             0.7,
             "#b8e186"
            ],
            [
             0.8,
             "#7fbc41"
            ],
            [
             0.9,
             "#4d9221"
            ],
            [
             1,
             "#276419"
            ]
           ],
           "sequential": [
            [
             0,
             "#0d0887"
            ],
            [
             0.1111111111111111,
             "#46039f"
            ],
            [
             0.2222222222222222,
             "#7201a8"
            ],
            [
             0.3333333333333333,
             "#9c179e"
            ],
            [
             0.4444444444444444,
             "#bd3786"
            ],
            [
             0.5555555555555556,
             "#d8576b"
            ],
            [
             0.6666666666666666,
             "#ed7953"
            ],
            [
             0.7777777777777778,
             "#fb9f3a"
            ],
            [
             0.8888888888888888,
             "#fdca26"
            ],
            [
             1,
             "#f0f921"
            ]
           ],
           "sequentialminus": [
            [
             0,
             "#0d0887"
            ],
            [
             0.1111111111111111,
             "#46039f"
            ],
            [
             0.2222222222222222,
             "#7201a8"
            ],
            [
             0.3333333333333333,
             "#9c179e"
            ],
            [
             0.4444444444444444,
             "#bd3786"
            ],
            [
             0.5555555555555556,
             "#d8576b"
            ],
            [
             0.6666666666666666,
             "#ed7953"
            ],
            [
             0.7777777777777778,
             "#fb9f3a"
            ],
            [
             0.8888888888888888,
             "#fdca26"
            ],
            [
             1,
             "#f0f921"
            ]
           ]
          },
          "colorway": [
           "#636efa",
           "#EF553B",
           "#00cc96",
           "#ab63fa",
           "#FFA15A",
           "#19d3f3",
           "#FF6692",
           "#B6E880",
           "#FF97FF",
           "#FECB52"
          ],
          "font": {
           "color": "#2a3f5f"
          },
          "geo": {
           "bgcolor": "white",
           "lakecolor": "white",
           "landcolor": "#E5ECF6",
           "showlakes": true,
           "showland": true,
           "subunitcolor": "white"
          },
          "hoverlabel": {
           "align": "left"
          },
          "hovermode": "closest",
          "mapbox": {
           "style": "light"
          },
          "paper_bgcolor": "white",
          "plot_bgcolor": "#E5ECF6",
          "polar": {
           "angularaxis": {
            "gridcolor": "white",
            "linecolor": "white",
            "ticks": ""
           },
           "bgcolor": "#E5ECF6",
           "radialaxis": {
            "gridcolor": "white",
            "linecolor": "white",
            "ticks": ""
           }
          },
          "scene": {
           "xaxis": {
            "backgroundcolor": "#E5ECF6",
            "gridcolor": "white",
            "gridwidth": 2,
            "linecolor": "white",
            "showbackground": true,
            "ticks": "",
            "zerolinecolor": "white"
           },
           "yaxis": {
            "backgroundcolor": "#E5ECF6",
            "gridcolor": "white",
            "gridwidth": 2,
            "linecolor": "white",
            "showbackground": true,
            "ticks": "",
            "zerolinecolor": "white"
           },
           "zaxis": {
            "backgroundcolor": "#E5ECF6",
            "gridcolor": "white",
            "gridwidth": 2,
            "linecolor": "white",
            "showbackground": true,
            "ticks": "",
            "zerolinecolor": "white"
           }
          },
          "shapedefaults": {
           "line": {
            "color": "#2a3f5f"
           }
          },
          "ternary": {
           "aaxis": {
            "gridcolor": "white",
            "linecolor": "white",
            "ticks": ""
           },
           "baxis": {
            "gridcolor": "white",
            "linecolor": "white",
            "ticks": ""
           },
           "bgcolor": "#E5ECF6",
           "caxis": {
            "gridcolor": "white",
            "linecolor": "white",
            "ticks": ""
           }
          },
          "title": {
           "x": 0.05
          },
          "xaxis": {
           "automargin": true,
           "gridcolor": "white",
           "linecolor": "white",
           "ticks": "",
           "title": {
            "standoff": 15
           },
           "zerolinecolor": "white",
           "zerolinewidth": 2
          },
          "yaxis": {
           "automargin": true,
           "gridcolor": "white",
           "linecolor": "white",
           "ticks": "",
           "title": {
            "standoff": 15
           },
           "zerolinecolor": "white",
           "zerolinewidth": 2
          }
         }
        },
        "title": {
         "text": "Train & Test RMSE over Iterations (Dual Log Scales)"
        },
        "width": 800,
        "xaxis": {
         "title": {
          "text": "Iteration"
         }
        },
        "yaxis": {
         "side": "left",
         "title": {
          "text": "Train RMSE"
         },
         "type": "log"
        },
        "yaxis2": {
         "overlaying": "y",
         "side": "right",
         "title": {
          "text": "Test RMSE"
         },
         "type": "log"
        }
       }
      }
     },
     "metadata": {},
     "output_type": "display_data"
    }
   ],
   "source": [
    "test_params_overfitting(hand_picked_params, \"Hand-picked\")"
   ]
  },
  {
   "cell_type": "markdown",
   "id": "9490bf97",
   "metadata": {},
   "source": [
    "As expected, after around 6000 trees, there's a slight but steady upward trend in validation RMSE, while the training RMSE continues to steadily decrease - a classic case of overfitting."
   ]
  },
  {
   "cell_type": "code",
   "execution_count": 18,
   "id": "d8325574",
   "metadata": {},
   "outputs": [
    {
     "data": {
      "text/html": [
       "<div>\n",
       "<style scoped>\n",
       "    .dataframe tbody tr th:only-of-type {\n",
       "        vertical-align: middle;\n",
       "    }\n",
       "\n",
       "    .dataframe tbody tr th {\n",
       "        vertical-align: top;\n",
       "    }\n",
       "\n",
       "    .dataframe thead th {\n",
       "        text-align: right;\n",
       "    }\n",
       "</style>\n",
       "<table border=\"1\" class=\"dataframe\">\n",
       "  <thead>\n",
       "    <tr style=\"text-align: right;\">\n",
       "      <th></th>\n",
       "      <th>Best iteration</th>\n",
       "      <th>Full model size (MB)</th>\n",
       "      <th>Best iteration model size (MB)</th>\n",
       "      <th>Final train RMSE</th>\n",
       "      <th>Final test RMSE</th>\n",
       "      <th>Best iteration RMSE</th>\n",
       "      <th>Difference (%)</th>\n",
       "    </tr>\n",
       "    <tr>\n",
       "      <th>Model</th>\n",
       "      <th></th>\n",
       "      <th></th>\n",
       "      <th></th>\n",
       "      <th></th>\n",
       "      <th></th>\n",
       "      <th></th>\n",
       "      <th></th>\n",
       "    </tr>\n",
       "  </thead>\n",
       "  <tbody>\n",
       "    <tr>\n",
       "      <th>Hand-picked</th>\n",
       "      <td>6134</td>\n",
       "      <td>52</td>\n",
       "      <td>16</td>\n",
       "      <td>749400</td>\n",
       "      <td>4419524</td>\n",
       "      <td>4370706</td>\n",
       "      <td>1.116918</td>\n",
       "    </tr>\n",
       "  </tbody>\n",
       "</table>\n",
       "</div>"
      ],
      "text/plain": [
       "             Best iteration  Full model size (MB)  \\\n",
       "Model                                               \n",
       "Hand-picked            6134                    52   \n",
       "\n",
       "             Best iteration model size (MB)  Final train RMSE  \\\n",
       "Model                                                           \n",
       "Hand-picked                              16            749400   \n",
       "\n",
       "             Final test RMSE  Best iteration RMSE  Difference (%)  \n",
       "Model                                                              \n",
       "Hand-picked          4419524              4370706        1.116918  "
      ]
     },
     "execution_count": 18,
     "metadata": {},
     "output_type": "execute_result"
    }
   ],
   "source": [
    "results_overfitting_df"
   ]
  },
  {
   "cell_type": "markdown",
   "id": "571f7c26",
   "metadata": {},
   "source": [
    "## Larger model params"
   ]
  },
  {
   "cell_type": "markdown",
   "id": "db35507f",
   "metadata": {},
   "source": [
    "### Params"
   ]
  },
  {
   "cell_type": "markdown",
   "id": "65c9e352",
   "metadata": {},
   "source": [
    "Let's change params significantly: increase `num_leaves` and `max_depth`, and decrease `min_child_samples`."
   ]
  },
  {
   "cell_type": "code",
   "execution_count": 19,
   "id": "692f0bcf",
   "metadata": {},
   "outputs": [],
   "source": [
    "large_params = {\n",
    "    \"n_estimators\": 20000,\n",
    "    \"learning_rate\": 0.05,\n",
    "    \"num_leaves\": 200,\n",
    "    \"max_depth\": 40,\n",
    "    \"min_child_samples\": 2,\n",
    "    \"verbose\": -1,\n",
    "    'random_state': 42,\n",
    "}"
   ]
  },
  {
   "cell_type": "markdown",
   "id": "8dd4898d",
   "metadata": {},
   "source": [
    "### 🔍 ChatGPT parameter analysis:\n",
    "\n",
    "| **Parameter**        | **Value**               | **Comment**                                                                 |\n",
    "|----------------------|-------------------------|------------------------------------------------------------------------------|\n",
    "| `learning_rate`      | 0.05                    | ✅ Moderate — balances speed and generalization, but needs monitoring.      |\n",
    "| `num_leaves`         | 200                     | ⚠️ High — increases model complexity and risk of overfitting.               |\n",
    "| `max_depth`          | 40                      | ❗ Extremely deep — allows very flexible trees, strong overfitting risk.     |\n",
    "| `min_child_samples`  | 2                       | ❗ Very low — enables splits on small samples, promotes overfitting.         |\n"
   ]
  },
  {
   "cell_type": "markdown",
   "id": "3c289aa0",
   "metadata": {},
   "source": [
    "ChatGPT thinks these parameters are highly prone to overfitting."
   ]
  },
  {
   "cell_type": "markdown",
   "id": "ee01766a",
   "metadata": {},
   "source": [
    "### Expectation"
   ]
  },
  {
   "cell_type": "markdown",
   "id": "2f165ddd",
   "metadata": {},
   "source": [
    "Considering that these parameters are significantly more prone to overfitting, the test RMSE should start increasing more rapidly after a certain point compared to using hand-picked parameters. Also, the difference between the best score and the final score should be much larger."
   ]
  },
  {
   "cell_type": "markdown",
   "id": "6e5d34c7",
   "metadata": {},
   "source": [
    "### Reality"
   ]
  },
  {
   "cell_type": "code",
   "execution_count": 20,
   "id": "0c3e4c1d",
   "metadata": {},
   "outputs": [
    {
     "name": "stdout",
     "output_type": "stream",
     "text": [
      "[500]\tvalid_0's rmse: 4.42059e+06\tvalid_0's l2: 1.95416e+13\n",
      "[1000]\tvalid_0's rmse: 4.36745e+06\tvalid_0's l2: 1.90747e+13\n",
      "[1500]\tvalid_0's rmse: 4.35027e+06\tvalid_0's l2: 1.89248e+13\n",
      "[2000]\tvalid_0's rmse: 4.34681e+06\tvalid_0's l2: 1.88947e+13\n",
      "[2500]\tvalid_0's rmse: 4.34332e+06\tvalid_0's l2: 1.88645e+13\n",
      "[3000]\tvalid_0's rmse: 4.34306e+06\tvalid_0's l2: 1.88622e+13\n",
      "[3500]\tvalid_0's rmse: 4.34267e+06\tvalid_0's l2: 1.88588e+13\n",
      "[4000]\tvalid_0's rmse: 4.34328e+06\tvalid_0's l2: 1.8864e+13\n",
      "[4500]\tvalid_0's rmse: 4.34352e+06\tvalid_0's l2: 1.88661e+13\n",
      "[5000]\tvalid_0's rmse: 4.34349e+06\tvalid_0's l2: 1.88659e+13\n",
      "[5500]\tvalid_0's rmse: 4.34366e+06\tvalid_0's l2: 1.88674e+13\n",
      "[6000]\tvalid_0's rmse: 4.34378e+06\tvalid_0's l2: 1.88684e+13\n",
      "[6500]\tvalid_0's rmse: 4.34391e+06\tvalid_0's l2: 1.88695e+13\n",
      "[7000]\tvalid_0's rmse: 4.34401e+06\tvalid_0's l2: 1.88704e+13\n",
      "[7500]\tvalid_0's rmse: 4.34413e+06\tvalid_0's l2: 1.88714e+13\n",
      "[8000]\tvalid_0's rmse: 4.34416e+06\tvalid_0's l2: 1.88717e+13\n",
      "[8500]\tvalid_0's rmse: 4.3442e+06\tvalid_0's l2: 1.88721e+13\n",
      "[9000]\tvalid_0's rmse: 4.34423e+06\tvalid_0's l2: 1.88724e+13\n",
      "[9500]\tvalid_0's rmse: 4.34427e+06\tvalid_0's l2: 1.88727e+13\n",
      "[10000]\tvalid_0's rmse: 4.3443e+06\tvalid_0's l2: 1.88729e+13\n",
      "[10500]\tvalid_0's rmse: 4.34431e+06\tvalid_0's l2: 1.8873e+13\n",
      "[11000]\tvalid_0's rmse: 4.34432e+06\tvalid_0's l2: 1.88731e+13\n",
      "[11500]\tvalid_0's rmse: 4.34432e+06\tvalid_0's l2: 1.88731e+13\n",
      "[12000]\tvalid_0's rmse: 4.34432e+06\tvalid_0's l2: 1.88731e+13\n",
      "[12500]\tvalid_0's rmse: 4.34432e+06\tvalid_0's l2: 1.88732e+13\n",
      "[13000]\tvalid_0's rmse: 4.34433e+06\tvalid_0's l2: 1.88732e+13\n",
      "[13500]\tvalid_0's rmse: 4.34433e+06\tvalid_0's l2: 1.88732e+13\n",
      "[14000]\tvalid_0's rmse: 4.34434e+06\tvalid_0's l2: 1.88733e+13\n",
      "[14500]\tvalid_0's rmse: 4.34434e+06\tvalid_0's l2: 1.88733e+13\n",
      "[15000]\tvalid_0's rmse: 4.34434e+06\tvalid_0's l2: 1.88733e+13\n",
      "[15500]\tvalid_0's rmse: 4.34434e+06\tvalid_0's l2: 1.88733e+13\n",
      "[16000]\tvalid_0's rmse: 4.34434e+06\tvalid_0's l2: 1.88733e+13\n",
      "[16500]\tvalid_0's rmse: 4.34434e+06\tvalid_0's l2: 1.88733e+13\n",
      "[17000]\tvalid_0's rmse: 4.34434e+06\tvalid_0's l2: 1.88733e+13\n",
      "[17500]\tvalid_0's rmse: 4.34434e+06\tvalid_0's l2: 1.88733e+13\n",
      "[18000]\tvalid_0's rmse: 4.34434e+06\tvalid_0's l2: 1.88733e+13\n",
      "[18500]\tvalid_0's rmse: 4.34434e+06\tvalid_0's l2: 1.88733e+13\n",
      "[19000]\tvalid_0's rmse: 4.34434e+06\tvalid_0's l2: 1.88733e+13\n",
      "[19500]\tvalid_0's rmse: 4.34434e+06\tvalid_0's l2: 1.88733e+13\n",
      "[20000]\tvalid_0's rmse: 4.34434e+06\tvalid_0's l2: 1.88733e+13\n",
      "Iteration 500: Train RMSE = 2012197, Test RMSE = 4420592\n",
      "Iteration 1000: Train RMSE = 1259560, Test RMSE = 4367454\n",
      "Iteration 1500: Train RMSE = 850741, Test RMSE = 4350266\n",
      "Iteration 2000: Train RMSE = 591056, Test RMSE = 4346807\n",
      "Iteration 2500: Train RMSE = 418792, Test RMSE = 4343324\n",
      "Iteration 3000: Train RMSE = 307855, Test RMSE = 4343061\n",
      "Iteration 3500: Train RMSE = 233337, Test RMSE = 4342674\n",
      "Iteration 4000: Train RMSE = 182750, Test RMSE = 4343275\n",
      "Iteration 4500: Train RMSE = 147927, Test RMSE = 4343517\n",
      "Iteration 5000: Train RMSE = 126401, Test RMSE = 4343486\n",
      "Iteration 5500: Train RMSE = 113504, Test RMSE = 4343659\n",
      "Iteration 6000: Train RMSE = 105265, Test RMSE = 4343776\n",
      "Iteration 6500: Train RMSE = 100206, Test RMSE = 4343908\n",
      "Iteration 7000: Train RMSE = 97468, Test RMSE = 4344007\n",
      "Iteration 7500: Train RMSE = 95944, Test RMSE = 4344126\n",
      "Iteration 8000: Train RMSE = 95013, Test RMSE = 4344162\n",
      "Iteration 8500: Train RMSE = 94453, Test RMSE = 4344199\n",
      "Iteration 9000: Train RMSE = 94167, Test RMSE = 4344235\n",
      "Iteration 9500: Train RMSE = 94007, Test RMSE = 4344271\n",
      "Iteration 10000: Train RMSE = 93901, Test RMSE = 4344299\n",
      "Iteration 10500: Train RMSE = 93840, Test RMSE = 4344310\n",
      "Iteration 11000: Train RMSE = 93802, Test RMSE = 4344318\n",
      "Iteration 11500: Train RMSE = 93780, Test RMSE = 4344321\n",
      "Iteration 12000: Train RMSE = 93769, Test RMSE = 4344321\n",
      "Iteration 12500: Train RMSE = 93762, Test RMSE = 4344325\n",
      "Iteration 13000: Train RMSE = 93758, Test RMSE = 4344330\n",
      "Iteration 13500: Train RMSE = 93755, Test RMSE = 4344334\n",
      "Iteration 14000: Train RMSE = 93754, Test RMSE = 4344336\n",
      "Iteration 14500: Train RMSE = 93753, Test RMSE = 4344336\n",
      "Iteration 15000: Train RMSE = 93753, Test RMSE = 4344337\n",
      "Iteration 15500: Train RMSE = 93752, Test RMSE = 4344338\n",
      "Iteration 16000: Train RMSE = 93752, Test RMSE = 4344338\n",
      "Iteration 16500: Train RMSE = 93752, Test RMSE = 4344339\n",
      "Iteration 17000: Train RMSE = 93752, Test RMSE = 4344339\n",
      "Iteration 17500: Train RMSE = 93752, Test RMSE = 4344339\n",
      "Iteration 18000: Train RMSE = 93752, Test RMSE = 4344340\n",
      "Iteration 18500: Train RMSE = 93752, Test RMSE = 4344340\n",
      "Iteration 19000: Train RMSE = 93752, Test RMSE = 4344340\n",
      "Iteration 19500: Train RMSE = 93752, Test RMSE = 4344340\n",
      "Iteration 20000: Train RMSE = 93752, Test RMSE = 4344340\n",
      "Final Train RMSE: 93752\n",
      "Final Test RMSE: 4344340\n",
      "Best Iteration RMSE: 4342453\n",
      "Difference (%): 0.043%\n",
      "Full model size: 353 MB\n",
      "Best iteration model size: 65 MB\n"
     ]
    },
    {
     "data": {
      "application/vnd.plotly.v1+json": {
       "config": {
        "plotlyServerURL": "https://plot.ly"
       },
       "data": [
        {
         "mode": "lines+markers",
         "name": "Train RMSE",
         "type": "scatter",
         "x": [
          1500,
          2000,
          2500,
          3000,
          3500,
          4000,
          4500,
          5000,
          5500,
          6000,
          6500,
          7000,
          7500,
          8000,
          8500,
          9000,
          9500,
          10000,
          10500,
          11000,
          11500,
          12000,
          12500,
          13000,
          13500,
          14000,
          14500,
          15000,
          15500,
          16000,
          16500,
          17000,
          17500,
          18000,
          18500,
          19000,
          19500,
          20000
         ],
         "y": [
          850741.3020252634,
          591056.2150219162,
          418792.4876333025,
          307855.12887306424,
          233337.10515679387,
          182749.851811462,
          147927.05789324618,
          126401.23251441172,
          113503.52026302244,
          105265.22335603036,
          100206.38070325274,
          97467.51819541221,
          95943.5738877891,
          95012.96046163385,
          94453.41250806245,
          94166.80569838431,
          94006.74885955063,
          93900.5876503041,
          93840.3596853151,
          93801.76504365937,
          93780.19539050062,
          93768.93333562213,
          93762.37823394233,
          93758.21416611822,
          93755.38813398509,
          93753.96151094326,
          93753.11735265491,
          93752.60545197512,
          93752.2967108928,
          93752.11603260865,
          93752.01412074434,
          93751.95753044877,
          93751.92073854434,
          93751.89935708197,
          93751.88688012704,
          93751.8797488472,
          93751.87567835784,
          93751.87325114671
         ],
         "yaxis": "y"
        },
        {
         "mode": "lines+markers",
         "name": "Test RMSE",
         "type": "scatter",
         "x": [
          1500,
          2000,
          2500,
          3000,
          3500,
          4000,
          4500,
          5000,
          5500,
          6000,
          6500,
          7000,
          7500,
          8000,
          8500,
          9000,
          9500,
          10000,
          10500,
          11000,
          11500,
          12000,
          12500,
          13000,
          13500,
          14000,
          14500,
          15000,
          15500,
          16000,
          16500,
          17000,
          17500,
          18000,
          18500,
          19000,
          19500,
          20000
         ],
         "y": [
          4350266.109861443,
          4346807.069223994,
          4343323.7084463565,
          4343060.976721343,
          4342673.961690834,
          4343275.16027577,
          4343516.639936538,
          4343486.163514316,
          4343659.228633718,
          4343776.200143088,
          4343908.059603172,
          4344006.683062227,
          4344125.7103447,
          4344162.145464454,
          4344198.821244235,
          4344234.574088846,
          4344270.527616009,
          4344299.3586243335,
          4344309.828262755,
          4344317.685124025,
          4344321.206584971,
          4344321.006966659,
          4344324.5976340845,
          4344329.733170792,
          4344333.75201383,
          4344335.894589922,
          4344336.042245405,
          4344337.26237356,
          4344338.127192292,
          4344338.466035338,
          4344338.826128697,
          4344338.942018342,
          4344339.433490421,
          4344339.687465834,
          4344339.732580059,
          4344339.759583424,
          4344339.686237649,
          4344339.642861555
         ],
         "yaxis": "y2"
        }
       ],
       "layout": {
        "annotations": [
         {
          "showarrow": false,
          "text": "Start From: 1500",
          "x": 1500,
          "xanchor": "left",
          "xref": "x",
          "y": 1,
          "yanchor": "top",
          "yref": "y domain"
         }
        ],
        "height": 500,
        "legend": {
         "orientation": "h",
         "x": 1,
         "xanchor": "right",
         "y": 1.02,
         "yanchor": "bottom"
        },
        "shapes": [
         {
          "line": {
           "color": "red",
           "dash": "dash",
           "width": 2
          },
          "type": "line",
          "x0": 1500,
          "x1": 1500,
          "xref": "x",
          "y0": 0,
          "y1": 1,
          "yref": "y domain"
         }
        ],
        "template": {
         "data": {
          "bar": [
           {
            "error_x": {
             "color": "#2a3f5f"
            },
            "error_y": {
             "color": "#2a3f5f"
            },
            "marker": {
             "line": {
              "color": "#E5ECF6",
              "width": 0.5
             },
             "pattern": {
              "fillmode": "overlay",
              "size": 10,
              "solidity": 0.2
             }
            },
            "type": "bar"
           }
          ],
          "barpolar": [
           {
            "marker": {
             "line": {
              "color": "#E5ECF6",
              "width": 0.5
             },
             "pattern": {
              "fillmode": "overlay",
              "size": 10,
              "solidity": 0.2
             }
            },
            "type": "barpolar"
           }
          ],
          "carpet": [
           {
            "aaxis": {
             "endlinecolor": "#2a3f5f",
             "gridcolor": "white",
             "linecolor": "white",
             "minorgridcolor": "white",
             "startlinecolor": "#2a3f5f"
            },
            "baxis": {
             "endlinecolor": "#2a3f5f",
             "gridcolor": "white",
             "linecolor": "white",
             "minorgridcolor": "white",
             "startlinecolor": "#2a3f5f"
            },
            "type": "carpet"
           }
          ],
          "choropleth": [
           {
            "colorbar": {
             "outlinewidth": 0,
             "ticks": ""
            },
            "type": "choropleth"
           }
          ],
          "contour": [
           {
            "colorbar": {
             "outlinewidth": 0,
             "ticks": ""
            },
            "colorscale": [
             [
              0,
              "#0d0887"
             ],
             [
              0.1111111111111111,
              "#46039f"
             ],
             [
              0.2222222222222222,
              "#7201a8"
             ],
             [
              0.3333333333333333,
              "#9c179e"
             ],
             [
              0.4444444444444444,
              "#bd3786"
             ],
             [
              0.5555555555555556,
              "#d8576b"
             ],
             [
              0.6666666666666666,
              "#ed7953"
             ],
             [
              0.7777777777777778,
              "#fb9f3a"
             ],
             [
              0.8888888888888888,
              "#fdca26"
             ],
             [
              1,
              "#f0f921"
             ]
            ],
            "type": "contour"
           }
          ],
          "contourcarpet": [
           {
            "colorbar": {
             "outlinewidth": 0,
             "ticks": ""
            },
            "type": "contourcarpet"
           }
          ],
          "heatmap": [
           {
            "colorbar": {
             "outlinewidth": 0,
             "ticks": ""
            },
            "colorscale": [
             [
              0,
              "#0d0887"
             ],
             [
              0.1111111111111111,
              "#46039f"
             ],
             [
              0.2222222222222222,
              "#7201a8"
             ],
             [
              0.3333333333333333,
              "#9c179e"
             ],
             [
              0.4444444444444444,
              "#bd3786"
             ],
             [
              0.5555555555555556,
              "#d8576b"
             ],
             [
              0.6666666666666666,
              "#ed7953"
             ],
             [
              0.7777777777777778,
              "#fb9f3a"
             ],
             [
              0.8888888888888888,
              "#fdca26"
             ],
             [
              1,
              "#f0f921"
             ]
            ],
            "type": "heatmap"
           }
          ],
          "heatmapgl": [
           {
            "colorbar": {
             "outlinewidth": 0,
             "ticks": ""
            },
            "colorscale": [
             [
              0,
              "#0d0887"
             ],
             [
              0.1111111111111111,
              "#46039f"
             ],
             [
              0.2222222222222222,
              "#7201a8"
             ],
             [
              0.3333333333333333,
              "#9c179e"
             ],
             [
              0.4444444444444444,
              "#bd3786"
             ],
             [
              0.5555555555555556,
              "#d8576b"
             ],
             [
              0.6666666666666666,
              "#ed7953"
             ],
             [
              0.7777777777777778,
              "#fb9f3a"
             ],
             [
              0.8888888888888888,
              "#fdca26"
             ],
             [
              1,
              "#f0f921"
             ]
            ],
            "type": "heatmapgl"
           }
          ],
          "histogram": [
           {
            "marker": {
             "pattern": {
              "fillmode": "overlay",
              "size": 10,
              "solidity": 0.2
             }
            },
            "type": "histogram"
           }
          ],
          "histogram2d": [
           {
            "colorbar": {
             "outlinewidth": 0,
             "ticks": ""
            },
            "colorscale": [
             [
              0,
              "#0d0887"
             ],
             [
              0.1111111111111111,
              "#46039f"
             ],
             [
              0.2222222222222222,
              "#7201a8"
             ],
             [
              0.3333333333333333,
              "#9c179e"
             ],
             [
              0.4444444444444444,
              "#bd3786"
             ],
             [
              0.5555555555555556,
              "#d8576b"
             ],
             [
              0.6666666666666666,
              "#ed7953"
             ],
             [
              0.7777777777777778,
              "#fb9f3a"
             ],
             [
              0.8888888888888888,
              "#fdca26"
             ],
             [
              1,
              "#f0f921"
             ]
            ],
            "type": "histogram2d"
           }
          ],
          "histogram2dcontour": [
           {
            "colorbar": {
             "outlinewidth": 0,
             "ticks": ""
            },
            "colorscale": [
             [
              0,
              "#0d0887"
             ],
             [
              0.1111111111111111,
              "#46039f"
             ],
             [
              0.2222222222222222,
              "#7201a8"
             ],
             [
              0.3333333333333333,
              "#9c179e"
             ],
             [
              0.4444444444444444,
              "#bd3786"
             ],
             [
              0.5555555555555556,
              "#d8576b"
             ],
             [
              0.6666666666666666,
              "#ed7953"
             ],
             [
              0.7777777777777778,
              "#fb9f3a"
             ],
             [
              0.8888888888888888,
              "#fdca26"
             ],
             [
              1,
              "#f0f921"
             ]
            ],
            "type": "histogram2dcontour"
           }
          ],
          "mesh3d": [
           {
            "colorbar": {
             "outlinewidth": 0,
             "ticks": ""
            },
            "type": "mesh3d"
           }
          ],
          "parcoords": [
           {
            "line": {
             "colorbar": {
              "outlinewidth": 0,
              "ticks": ""
             }
            },
            "type": "parcoords"
           }
          ],
          "pie": [
           {
            "automargin": true,
            "type": "pie"
           }
          ],
          "scatter": [
           {
            "fillpattern": {
             "fillmode": "overlay",
             "size": 10,
             "solidity": 0.2
            },
            "type": "scatter"
           }
          ],
          "scatter3d": [
           {
            "line": {
             "colorbar": {
              "outlinewidth": 0,
              "ticks": ""
             }
            },
            "marker": {
             "colorbar": {
              "outlinewidth": 0,
              "ticks": ""
             }
            },
            "type": "scatter3d"
           }
          ],
          "scattercarpet": [
           {
            "marker": {
             "colorbar": {
              "outlinewidth": 0,
              "ticks": ""
             }
            },
            "type": "scattercarpet"
           }
          ],
          "scattergeo": [
           {
            "marker": {
             "colorbar": {
              "outlinewidth": 0,
              "ticks": ""
             }
            },
            "type": "scattergeo"
           }
          ],
          "scattergl": [
           {
            "marker": {
             "colorbar": {
              "outlinewidth": 0,
              "ticks": ""
             }
            },
            "type": "scattergl"
           }
          ],
          "scattermapbox": [
           {
            "marker": {
             "colorbar": {
              "outlinewidth": 0,
              "ticks": ""
             }
            },
            "type": "scattermapbox"
           }
          ],
          "scatterpolar": [
           {
            "marker": {
             "colorbar": {
              "outlinewidth": 0,
              "ticks": ""
             }
            },
            "type": "scatterpolar"
           }
          ],
          "scatterpolargl": [
           {
            "marker": {
             "colorbar": {
              "outlinewidth": 0,
              "ticks": ""
             }
            },
            "type": "scatterpolargl"
           }
          ],
          "scatterternary": [
           {
            "marker": {
             "colorbar": {
              "outlinewidth": 0,
              "ticks": ""
             }
            },
            "type": "scatterternary"
           }
          ],
          "surface": [
           {
            "colorbar": {
             "outlinewidth": 0,
             "ticks": ""
            },
            "colorscale": [
             [
              0,
              "#0d0887"
             ],
             [
              0.1111111111111111,
              "#46039f"
             ],
             [
              0.2222222222222222,
              "#7201a8"
             ],
             [
              0.3333333333333333,
              "#9c179e"
             ],
             [
              0.4444444444444444,
              "#bd3786"
             ],
             [
              0.5555555555555556,
              "#d8576b"
             ],
             [
              0.6666666666666666,
              "#ed7953"
             ],
             [
              0.7777777777777778,
              "#fb9f3a"
             ],
             [
              0.8888888888888888,
              "#fdca26"
             ],
             [
              1,
              "#f0f921"
             ]
            ],
            "type": "surface"
           }
          ],
          "table": [
           {
            "cells": {
             "fill": {
              "color": "#EBF0F8"
             },
             "line": {
              "color": "white"
             }
            },
            "header": {
             "fill": {
              "color": "#C8D4E3"
             },
             "line": {
              "color": "white"
             }
            },
            "type": "table"
           }
          ]
         },
         "layout": {
          "annotationdefaults": {
           "arrowcolor": "#2a3f5f",
           "arrowhead": 0,
           "arrowwidth": 1
          },
          "autotypenumbers": "strict",
          "coloraxis": {
           "colorbar": {
            "outlinewidth": 0,
            "ticks": ""
           }
          },
          "colorscale": {
           "diverging": [
            [
             0,
             "#8e0152"
            ],
            [
             0.1,
             "#c51b7d"
            ],
            [
             0.2,
             "#de77ae"
            ],
            [
             0.3,
             "#f1b6da"
            ],
            [
             0.4,
             "#fde0ef"
            ],
            [
             0.5,
             "#f7f7f7"
            ],
            [
             0.6,
             "#e6f5d0"
            ],
            [
             0.7,
             "#b8e186"
            ],
            [
             0.8,
             "#7fbc41"
            ],
            [
             0.9,
             "#4d9221"
            ],
            [
             1,
             "#276419"
            ]
           ],
           "sequential": [
            [
             0,
             "#0d0887"
            ],
            [
             0.1111111111111111,
             "#46039f"
            ],
            [
             0.2222222222222222,
             "#7201a8"
            ],
            [
             0.3333333333333333,
             "#9c179e"
            ],
            [
             0.4444444444444444,
             "#bd3786"
            ],
            [
             0.5555555555555556,
             "#d8576b"
            ],
            [
             0.6666666666666666,
             "#ed7953"
            ],
            [
             0.7777777777777778,
             "#fb9f3a"
            ],
            [
             0.8888888888888888,
             "#fdca26"
            ],
            [
             1,
             "#f0f921"
            ]
           ],
           "sequentialminus": [
            [
             0,
             "#0d0887"
            ],
            [
             0.1111111111111111,
             "#46039f"
            ],
            [
             0.2222222222222222,
             "#7201a8"
            ],
            [
             0.3333333333333333,
             "#9c179e"
            ],
            [
             0.4444444444444444,
             "#bd3786"
            ],
            [
             0.5555555555555556,
             "#d8576b"
            ],
            [
             0.6666666666666666,
             "#ed7953"
            ],
            [
             0.7777777777777778,
             "#fb9f3a"
            ],
            [
             0.8888888888888888,
             "#fdca26"
            ],
            [
             1,
             "#f0f921"
            ]
           ]
          },
          "colorway": [
           "#636efa",
           "#EF553B",
           "#00cc96",
           "#ab63fa",
           "#FFA15A",
           "#19d3f3",
           "#FF6692",
           "#B6E880",
           "#FF97FF",
           "#FECB52"
          ],
          "font": {
           "color": "#2a3f5f"
          },
          "geo": {
           "bgcolor": "white",
           "lakecolor": "white",
           "landcolor": "#E5ECF6",
           "showlakes": true,
           "showland": true,
           "subunitcolor": "white"
          },
          "hoverlabel": {
           "align": "left"
          },
          "hovermode": "closest",
          "mapbox": {
           "style": "light"
          },
          "paper_bgcolor": "white",
          "plot_bgcolor": "#E5ECF6",
          "polar": {
           "angularaxis": {
            "gridcolor": "white",
            "linecolor": "white",
            "ticks": ""
           },
           "bgcolor": "#E5ECF6",
           "radialaxis": {
            "gridcolor": "white",
            "linecolor": "white",
            "ticks": ""
           }
          },
          "scene": {
           "xaxis": {
            "backgroundcolor": "#E5ECF6",
            "gridcolor": "white",
            "gridwidth": 2,
            "linecolor": "white",
            "showbackground": true,
            "ticks": "",
            "zerolinecolor": "white"
           },
           "yaxis": {
            "backgroundcolor": "#E5ECF6",
            "gridcolor": "white",
            "gridwidth": 2,
            "linecolor": "white",
            "showbackground": true,
            "ticks": "",
            "zerolinecolor": "white"
           },
           "zaxis": {
            "backgroundcolor": "#E5ECF6",
            "gridcolor": "white",
            "gridwidth": 2,
            "linecolor": "white",
            "showbackground": true,
            "ticks": "",
            "zerolinecolor": "white"
           }
          },
          "shapedefaults": {
           "line": {
            "color": "#2a3f5f"
           }
          },
          "ternary": {
           "aaxis": {
            "gridcolor": "white",
            "linecolor": "white",
            "ticks": ""
           },
           "baxis": {
            "gridcolor": "white",
            "linecolor": "white",
            "ticks": ""
           },
           "bgcolor": "#E5ECF6",
           "caxis": {
            "gridcolor": "white",
            "linecolor": "white",
            "ticks": ""
           }
          },
          "title": {
           "x": 0.05
          },
          "xaxis": {
           "automargin": true,
           "gridcolor": "white",
           "linecolor": "white",
           "ticks": "",
           "title": {
            "standoff": 15
           },
           "zerolinecolor": "white",
           "zerolinewidth": 2
          },
          "yaxis": {
           "automargin": true,
           "gridcolor": "white",
           "linecolor": "white",
           "ticks": "",
           "title": {
            "standoff": 15
           },
           "zerolinecolor": "white",
           "zerolinewidth": 2
          }
         }
        },
        "title": {
         "text": "Train & Test RMSE over Iterations (Dual Log Scales)"
        },
        "width": 800,
        "xaxis": {
         "title": {
          "text": "Iteration"
         }
        },
        "yaxis": {
         "side": "left",
         "title": {
          "text": "Train RMSE"
         },
         "type": "log"
        },
        "yaxis2": {
         "overlaying": "y",
         "side": "right",
         "title": {
          "text": "Test RMSE"
         },
         "type": "log"
        }
       }
      }
     },
     "metadata": {},
     "output_type": "display_data"
    }
   ],
   "source": [
    "\n",
    "test_params_overfitting(large_params, \"Large\")"
   ]
  },
  {
   "cell_type": "code",
   "execution_count": 21,
   "id": "05585c09",
   "metadata": {},
   "outputs": [
    {
     "data": {
      "text/html": [
       "<div>\n",
       "<style scoped>\n",
       "    .dataframe tbody tr th:only-of-type {\n",
       "        vertical-align: middle;\n",
       "    }\n",
       "\n",
       "    .dataframe tbody tr th {\n",
       "        vertical-align: top;\n",
       "    }\n",
       "\n",
       "    .dataframe thead th {\n",
       "        text-align: right;\n",
       "    }\n",
       "</style>\n",
       "<table border=\"1\" class=\"dataframe\">\n",
       "  <thead>\n",
       "    <tr style=\"text-align: right;\">\n",
       "      <th></th>\n",
       "      <th>Best iteration</th>\n",
       "      <th>Full model size (MB)</th>\n",
       "      <th>Best iteration model size (MB)</th>\n",
       "      <th>Final train RMSE</th>\n",
       "      <th>Final test RMSE</th>\n",
       "      <th>Best iteration RMSE</th>\n",
       "      <th>Difference (%)</th>\n",
       "    </tr>\n",
       "    <tr>\n",
       "      <th>Model</th>\n",
       "      <th></th>\n",
       "      <th></th>\n",
       "      <th></th>\n",
       "      <th></th>\n",
       "      <th></th>\n",
       "      <th></th>\n",
       "      <th></th>\n",
       "    </tr>\n",
       "  </thead>\n",
       "  <tbody>\n",
       "    <tr>\n",
       "      <th>Large</th>\n",
       "      <td>3638</td>\n",
       "      <td>353</td>\n",
       "      <td>65</td>\n",
       "      <td>93751</td>\n",
       "      <td>4344339</td>\n",
       "      <td>4342453</td>\n",
       "      <td>0.043446</td>\n",
       "    </tr>\n",
       "    <tr>\n",
       "      <th>Hand-picked</th>\n",
       "      <td>6134</td>\n",
       "      <td>52</td>\n",
       "      <td>16</td>\n",
       "      <td>749400</td>\n",
       "      <td>4419524</td>\n",
       "      <td>4370706</td>\n",
       "      <td>1.116918</td>\n",
       "    </tr>\n",
       "  </tbody>\n",
       "</table>\n",
       "</div>"
      ],
      "text/plain": [
       "             Best iteration  Full model size (MB)  \\\n",
       "Model                                               \n",
       "Large                  3638                   353   \n",
       "Hand-picked            6134                    52   \n",
       "\n",
       "             Best iteration model size (MB)  Final train RMSE  \\\n",
       "Model                                                           \n",
       "Large                                    65             93751   \n",
       "Hand-picked                              16            749400   \n",
       "\n",
       "             Final test RMSE  Best iteration RMSE  Difference (%)  \n",
       "Model                                                              \n",
       "Large                4344339              4342453        0.043446  \n",
       "Hand-picked          4419524              4370706        1.116918  "
      ]
     },
     "execution_count": 21,
     "metadata": {},
     "output_type": "execute_result"
    }
   ],
   "source": [
    "results_overfitting_df.sort_values(by='Final test RMSE')"
   ]
  },
  {
   "cell_type": "markdown",
   "id": "c552488a",
   "metadata": {},
   "source": [
    "Huh? What’s happening here? A larger model, with parameters that supposedly were highly susceptible to overfitting, ends up with both a lower final RMSE and a smaller difference between it and the minimum RMSE. So it's actually overfitting less!"
   ]
  },
  {
   "cell_type": "markdown",
   "id": "4cad30e5",
   "metadata": {},
   "source": [
    "## Huge model params"
   ]
  },
  {
   "cell_type": "markdown",
   "id": "5f827af1",
   "metadata": {},
   "source": [
    "### Params"
   ]
  },
  {
   "cell_type": "markdown",
   "id": "380eedaf",
   "metadata": {},
   "source": [
    "Let’s go over the top: increase `num_leaves` to 1000 and set `max_depth` to -1 (unlimited)."
   ]
  },
  {
   "cell_type": "code",
   "execution_count": 22,
   "id": "ffa3bdb2",
   "metadata": {},
   "outputs": [],
   "source": [
    "huge_params = {\n",
    "    \"n_estimators\": 20000,\n",
    "    \"learning_rate\": 0.05,\n",
    "    \"num_leaves\": 1000,\n",
    "    \"max_depth\": -1,\n",
    "    \"min_child_samples\": 2,\n",
    "    \"verbose\": -1,\n",
    "    'random_state': 42,\n",
    "}"
   ]
  },
  {
   "cell_type": "markdown",
   "id": "281f8015",
   "metadata": {},
   "source": [
    "### 🔍 ChatGPT parameter analysis:\n",
    "\n",
    "| **Parameter**        | **Value**               | **Comment**                                                                 |\n",
    "|----------------------|-------------------------|------------------------------------------------------------------------------|\n",
    "| `learning_rate`      | 0.05                    | ✅ Moderate — balances speed and generalization, but needs careful iteration control. |\n",
    "| `num_leaves`         | 1000                    | ❗ Very high — model becomes highly expressive, easily overfits small patterns. |\n",
    "| `max_depth`          | -1                      | ❗ Unlimited — trees can grow arbitrarily deep; must be capped or monitored.  |\n",
    "| `min_child_samples`  | 2                       | ❗ Very low — allows splits on tiny subsets, increases variance and overfitting. |\n"
   ]
  },
  {
   "cell_type": "markdown",
   "id": "a9a7e5af",
   "metadata": {},
   "source": [
    "### Expectation"
   ]
  },
  {
   "cell_type": "markdown",
   "id": "0dc25aa5",
   "metadata": {},
   "source": [
    "Frankly, I expect it to kinda almost not work at all, and overfitting or degradation after some point in training should be just through the roof."
   ]
  },
  {
   "cell_type": "code",
   "execution_count": 23,
   "id": "8b43a86d",
   "metadata": {},
   "outputs": [
    {
     "name": "stdout",
     "output_type": "stream",
     "text": [
      "[500]\tvalid_0's rmse: 4.53078e+06\tvalid_0's l2: 2.0528e+13\n",
      "[1000]\tvalid_0's rmse: 4.5295e+06\tvalid_0's l2: 2.05163e+13\n",
      "[1500]\tvalid_0's rmse: 4.52965e+06\tvalid_0's l2: 2.05177e+13\n",
      "[2000]\tvalid_0's rmse: 4.52971e+06\tvalid_0's l2: 2.05183e+13\n",
      "[2500]\tvalid_0's rmse: 4.52974e+06\tvalid_0's l2: 2.05185e+13\n",
      "[3000]\tvalid_0's rmse: 4.52974e+06\tvalid_0's l2: 2.05185e+13\n",
      "[3500]\tvalid_0's rmse: 4.52974e+06\tvalid_0's l2: 2.05185e+13\n",
      "[4000]\tvalid_0's rmse: 4.52974e+06\tvalid_0's l2: 2.05185e+13\n",
      "[4500]\tvalid_0's rmse: 4.52974e+06\tvalid_0's l2: 2.05185e+13\n",
      "[5000]\tvalid_0's rmse: 4.52974e+06\tvalid_0's l2: 2.05185e+13\n",
      "[5500]\tvalid_0's rmse: 4.52974e+06\tvalid_0's l2: 2.05185e+13\n",
      "[6000]\tvalid_0's rmse: 4.52974e+06\tvalid_0's l2: 2.05185e+13\n",
      "[6500]\tvalid_0's rmse: 4.52974e+06\tvalid_0's l2: 2.05185e+13\n",
      "[7000]\tvalid_0's rmse: 4.52974e+06\tvalid_0's l2: 2.05185e+13\n",
      "[7500]\tvalid_0's rmse: 4.52974e+06\tvalid_0's l2: 2.05185e+13\n",
      "[8000]\tvalid_0's rmse: 4.52974e+06\tvalid_0's l2: 2.05185e+13\n",
      "[8500]\tvalid_0's rmse: 4.52974e+06\tvalid_0's l2: 2.05185e+13\n",
      "[9000]\tvalid_0's rmse: 4.52974e+06\tvalid_0's l2: 2.05185e+13\n",
      "[9500]\tvalid_0's rmse: 4.52974e+06\tvalid_0's l2: 2.05185e+13\n",
      "[10000]\tvalid_0's rmse: 4.52974e+06\tvalid_0's l2: 2.05185e+13\n",
      "[10500]\tvalid_0's rmse: 4.52974e+06\tvalid_0's l2: 2.05185e+13\n",
      "[11000]\tvalid_0's rmse: 4.52974e+06\tvalid_0's l2: 2.05185e+13\n",
      "[11500]\tvalid_0's rmse: 4.52974e+06\tvalid_0's l2: 2.05185e+13\n",
      "[12000]\tvalid_0's rmse: 4.52974e+06\tvalid_0's l2: 2.05185e+13\n",
      "[12500]\tvalid_0's rmse: 4.52974e+06\tvalid_0's l2: 2.05185e+13\n",
      "[13000]\tvalid_0's rmse: 4.52974e+06\tvalid_0's l2: 2.05185e+13\n",
      "[13500]\tvalid_0's rmse: 4.52974e+06\tvalid_0's l2: 2.05185e+13\n",
      "[14000]\tvalid_0's rmse: 4.52974e+06\tvalid_0's l2: 2.05185e+13\n",
      "[14500]\tvalid_0's rmse: 4.52974e+06\tvalid_0's l2: 2.05185e+13\n",
      "[15000]\tvalid_0's rmse: 4.52974e+06\tvalid_0's l2: 2.05185e+13\n",
      "[15500]\tvalid_0's rmse: 4.52974e+06\tvalid_0's l2: 2.05185e+13\n",
      "[16000]\tvalid_0's rmse: 4.52974e+06\tvalid_0's l2: 2.05185e+13\n",
      "[16500]\tvalid_0's rmse: 4.52974e+06\tvalid_0's l2: 2.05185e+13\n",
      "[17000]\tvalid_0's rmse: 4.52974e+06\tvalid_0's l2: 2.05185e+13\n",
      "[17500]\tvalid_0's rmse: 4.52974e+06\tvalid_0's l2: 2.05185e+13\n",
      "[18000]\tvalid_0's rmse: 4.52974e+06\tvalid_0's l2: 2.05185e+13\n",
      "[18500]\tvalid_0's rmse: 4.52974e+06\tvalid_0's l2: 2.05185e+13\n",
      "[19000]\tvalid_0's rmse: 4.52974e+06\tvalid_0's l2: 2.05185e+13\n",
      "[19500]\tvalid_0's rmse: 4.52974e+06\tvalid_0's l2: 2.05185e+13\n",
      "[20000]\tvalid_0's rmse: 4.52974e+06\tvalid_0's l2: 2.05185e+13\n",
      "Iteration 500: Train RMSE = 364981.768742, Test RMSE = 4530781.525881\n",
      "Iteration 1000: Train RMSE = 115267.638303, Test RMSE = 4529497.532699\n",
      "Iteration 1500: Train RMSE = 94969.423966, Test RMSE = 4529645.962874\n",
      "Iteration 2000: Train RMSE = 93827.012122, Test RMSE = 4529710.132255\n",
      "Iteration 2500: Train RMSE = 93756.683339, Test RMSE = 4529736.965951\n",
      "Iteration 3000: Train RMSE = 93752.185244, Test RMSE = 4529738.824543\n",
      "Iteration 3500: Train RMSE = 93751.890998, Test RMSE = 4529739.689182\n",
      "Iteration 4000: Train RMSE = 93751.871112, Test RMSE = 4529739.943954\n",
      "Iteration 4500: Train RMSE = 93751.869772, Test RMSE = 4529739.959016\n",
      "Iteration 5000: Train RMSE = 93751.869687, Test RMSE = 4529739.979428\n",
      "Iteration 5500: Train RMSE = 93751.869682, Test RMSE = 4529739.980957\n",
      "Iteration 6000: Train RMSE = 93751.869681, Test RMSE = 4529739.982105\n",
      "Iteration 6500: Train RMSE = 93751.869681, Test RMSE = 4529739.982129\n",
      "Iteration 7000: Train RMSE = 93751.869681, Test RMSE = 4529739.982202\n",
      "Iteration 7500: Train RMSE = 93751.869681, Test RMSE = 4529739.982217\n",
      "Iteration 8000: Train RMSE = 93751.869681, Test RMSE = 4529739.982222\n",
      "Iteration 8500: Train RMSE = 93751.869681, Test RMSE = 4529739.982223\n",
      "Iteration 9000: Train RMSE = 93751.869681, Test RMSE = 4529739.982223\n",
      "Iteration 9500: Train RMSE = 93751.869681, Test RMSE = 4529739.982223\n",
      "Iteration 10000: Train RMSE = 93751.869681, Test RMSE = 4529739.982223\n",
      "Iteration 10500: Train RMSE = 93751.869681, Test RMSE = 4529739.982223\n",
      "Iteration 11000: Train RMSE = 93751.869681, Test RMSE = 4529739.982223\n",
      "Iteration 11500: Train RMSE = 93751.869681, Test RMSE = 4529739.982223\n",
      "Iteration 12000: Train RMSE = 93751.869681, Test RMSE = 4529739.982223\n",
      "Iteration 12500: Train RMSE = 93751.869681, Test RMSE = 4529739.982223\n",
      "Iteration 13000: Train RMSE = 93751.869681, Test RMSE = 4529739.982223\n",
      "Iteration 13500: Train RMSE = 93751.869681, Test RMSE = 4529739.982223\n",
      "Iteration 14000: Train RMSE = 93751.869681, Test RMSE = 4529739.982223\n",
      "Iteration 14500: Train RMSE = 93751.869681, Test RMSE = 4529739.982223\n",
      "Iteration 15000: Train RMSE = 93751.869681, Test RMSE = 4529739.982223\n",
      "Iteration 15500: Train RMSE = 93751.869681, Test RMSE = 4529739.982223\n",
      "Iteration 16000: Train RMSE = 93751.869681, Test RMSE = 4529739.982223\n",
      "Iteration 16500: Train RMSE = 93751.869681, Test RMSE = 4529739.982223\n",
      "Iteration 17000: Train RMSE = 93751.869681, Test RMSE = 4529739.982223\n",
      "Iteration 17500: Train RMSE = 93751.869681, Test RMSE = 4529739.982223\n",
      "Iteration 18000: Train RMSE = 93751.869681, Test RMSE = 4529739.982223\n",
      "Iteration 18500: Train RMSE = 93751.869681, Test RMSE = 4529739.982223\n",
      "Iteration 19000: Train RMSE = 93751.869681, Test RMSE = 4529739.982223\n",
      "Iteration 19500: Train RMSE = 93751.869681, Test RMSE = 4529739.982223\n",
      "Iteration 20000: Train RMSE = 93751.869681, Test RMSE = 4529739.982223\n",
      "Final Train RMSE: 93751.869681\n",
      "Final Test RMSE: 4529739.982223\n",
      "Best Iteration RMSE: 4529370.532737\n",
      "Difference (%): 0.008%\n",
      "Full model size: 1900 MB\n",
      "Best iteration model size: 102 MB\n"
     ]
    },
    {
     "data": {
      "application/vnd.plotly.v1+json": {
       "config": {
        "plotlyServerURL": "https://plot.ly"
       },
       "data": [
        {
         "mode": "lines+markers",
         "name": "Train RMSE",
         "type": "scatter",
         "x": [
          500,
          1000,
          1500,
          2000,
          2500,
          3000,
          3500,
          4000,
          4500,
          5000,
          5500,
          6000,
          6500,
          7000,
          7500,
          8000,
          8500,
          9000,
          9500,
          10000,
          10500,
          11000,
          11500,
          12000,
          12500,
          13000,
          13500,
          14000,
          14500,
          15000,
          15500,
          16000,
          16500,
          17000,
          17500,
          18000,
          18500,
          19000,
          19500,
          20000
         ],
         "y": [
          364981.76874195895,
          115267.63830312289,
          94969.42396552493,
          93827.01212183633,
          93756.68333910876,
          93752.18524442163,
          93751.89099834098,
          93751.87111221075,
          93751.86977240212,
          93751.86968730211,
          93751.86968160904,
          93751.86968113005,
          93751.86968109656,
          93751.86968109432,
          93751.86968109419,
          93751.8696810942,
          93751.86968109419,
          93751.86968109418,
          93751.86968109419,
          93751.86968109418,
          93751.86968109418,
          93751.86968109418,
          93751.86968109419,
          93751.86968109419,
          93751.86968109418,
          93751.86968109419,
          93751.86968109419,
          93751.86968109418,
          93751.86968109418,
          93751.86968109419,
          93751.86968109419,
          93751.86968109419,
          93751.86968109419,
          93751.86968109418,
          93751.86968109419,
          93751.86968109419,
          93751.86968109419,
          93751.86968109418,
          93751.86968109418,
          93751.86968109419
         ],
         "yaxis": "y"
        },
        {
         "mode": "lines+markers",
         "name": "Test RMSE",
         "type": "scatter",
         "x": [
          500,
          1000,
          1500,
          2000,
          2500,
          3000,
          3500,
          4000,
          4500,
          5000,
          5500,
          6000,
          6500,
          7000,
          7500,
          8000,
          8500,
          9000,
          9500,
          10000,
          10500,
          11000,
          11500,
          12000,
          12500,
          13000,
          13500,
          14000,
          14500,
          15000,
          15500,
          16000,
          16500,
          17000,
          17500,
          18000,
          18500,
          19000,
          19500,
          20000
         ],
         "y": [
          4530781.525880791,
          4529497.532698866,
          4529645.962873699,
          4529710.13225519,
          4529736.965950984,
          4529738.824543164,
          4529739.689182059,
          4529739.943953754,
          4529739.959016155,
          4529739.979428372,
          4529739.980957057,
          4529739.982105304,
          4529739.982129114,
          4529739.982201551,
          4529739.98221697,
          4529739.982221788,
          4529739.982222836,
          4529739.982222533,
          4529739.982222786,
          4529739.982222672,
          4529739.982222828,
          4529739.982222693,
          4529739.98222285,
          4529739.982222711,
          4529739.982222868,
          4529739.98222273,
          4529739.982222885,
          4529739.982222748,
          4529739.98222261,
          4529739.982222764,
          4529739.982222627,
          4529739.982222786,
          4529739.982222643,
          4529739.982222803,
          4529739.982222664,
          4529739.982222819,
          4529739.982222681,
          4529739.98222284,
          4529739.9822227,
          4529739.982222855
         ],
         "yaxis": "y2"
        }
       ],
       "layout": {
        "annotations": [
         {
          "showarrow": false,
          "text": "Start From: 500",
          "x": 500,
          "xanchor": "left",
          "xref": "x",
          "y": 1,
          "yanchor": "top",
          "yref": "y domain"
         }
        ],
        "height": 500,
        "legend": {
         "orientation": "h",
         "x": 1,
         "xanchor": "right",
         "y": 1.02,
         "yanchor": "bottom"
        },
        "shapes": [
         {
          "line": {
           "color": "red",
           "dash": "dash",
           "width": 2
          },
          "type": "line",
          "x0": 500,
          "x1": 500,
          "xref": "x",
          "y0": 0,
          "y1": 1,
          "yref": "y domain"
         }
        ],
        "template": {
         "data": {
          "bar": [
           {
            "error_x": {
             "color": "#2a3f5f"
            },
            "error_y": {
             "color": "#2a3f5f"
            },
            "marker": {
             "line": {
              "color": "#E5ECF6",
              "width": 0.5
             },
             "pattern": {
              "fillmode": "overlay",
              "size": 10,
              "solidity": 0.2
             }
            },
            "type": "bar"
           }
          ],
          "barpolar": [
           {
            "marker": {
             "line": {
              "color": "#E5ECF6",
              "width": 0.5
             },
             "pattern": {
              "fillmode": "overlay",
              "size": 10,
              "solidity": 0.2
             }
            },
            "type": "barpolar"
           }
          ],
          "carpet": [
           {
            "aaxis": {
             "endlinecolor": "#2a3f5f",
             "gridcolor": "white",
             "linecolor": "white",
             "minorgridcolor": "white",
             "startlinecolor": "#2a3f5f"
            },
            "baxis": {
             "endlinecolor": "#2a3f5f",
             "gridcolor": "white",
             "linecolor": "white",
             "minorgridcolor": "white",
             "startlinecolor": "#2a3f5f"
            },
            "type": "carpet"
           }
          ],
          "choropleth": [
           {
            "colorbar": {
             "outlinewidth": 0,
             "ticks": ""
            },
            "type": "choropleth"
           }
          ],
          "contour": [
           {
            "colorbar": {
             "outlinewidth": 0,
             "ticks": ""
            },
            "colorscale": [
             [
              0,
              "#0d0887"
             ],
             [
              0.1111111111111111,
              "#46039f"
             ],
             [
              0.2222222222222222,
              "#7201a8"
             ],
             [
              0.3333333333333333,
              "#9c179e"
             ],
             [
              0.4444444444444444,
              "#bd3786"
             ],
             [
              0.5555555555555556,
              "#d8576b"
             ],
             [
              0.6666666666666666,
              "#ed7953"
             ],
             [
              0.7777777777777778,
              "#fb9f3a"
             ],
             [
              0.8888888888888888,
              "#fdca26"
             ],
             [
              1,
              "#f0f921"
             ]
            ],
            "type": "contour"
           }
          ],
          "contourcarpet": [
           {
            "colorbar": {
             "outlinewidth": 0,
             "ticks": ""
            },
            "type": "contourcarpet"
           }
          ],
          "heatmap": [
           {
            "colorbar": {
             "outlinewidth": 0,
             "ticks": ""
            },
            "colorscale": [
             [
              0,
              "#0d0887"
             ],
             [
              0.1111111111111111,
              "#46039f"
             ],
             [
              0.2222222222222222,
              "#7201a8"
             ],
             [
              0.3333333333333333,
              "#9c179e"
             ],
             [
              0.4444444444444444,
              "#bd3786"
             ],
             [
              0.5555555555555556,
              "#d8576b"
             ],
             [
              0.6666666666666666,
              "#ed7953"
             ],
             [
              0.7777777777777778,
              "#fb9f3a"
             ],
             [
              0.8888888888888888,
              "#fdca26"
             ],
             [
              1,
              "#f0f921"
             ]
            ],
            "type": "heatmap"
           }
          ],
          "heatmapgl": [
           {
            "colorbar": {
             "outlinewidth": 0,
             "ticks": ""
            },
            "colorscale": [
             [
              0,
              "#0d0887"
             ],
             [
              0.1111111111111111,
              "#46039f"
             ],
             [
              0.2222222222222222,
              "#7201a8"
             ],
             [
              0.3333333333333333,
              "#9c179e"
             ],
             [
              0.4444444444444444,
              "#bd3786"
             ],
             [
              0.5555555555555556,
              "#d8576b"
             ],
             [
              0.6666666666666666,
              "#ed7953"
             ],
             [
              0.7777777777777778,
              "#fb9f3a"
             ],
             [
              0.8888888888888888,
              "#fdca26"
             ],
             [
              1,
              "#f0f921"
             ]
            ],
            "type": "heatmapgl"
           }
          ],
          "histogram": [
           {
            "marker": {
             "pattern": {
              "fillmode": "overlay",
              "size": 10,
              "solidity": 0.2
             }
            },
            "type": "histogram"
           }
          ],
          "histogram2d": [
           {
            "colorbar": {
             "outlinewidth": 0,
             "ticks": ""
            },
            "colorscale": [
             [
              0,
              "#0d0887"
             ],
             [
              0.1111111111111111,
              "#46039f"
             ],
             [
              0.2222222222222222,
              "#7201a8"
             ],
             [
              0.3333333333333333,
              "#9c179e"
             ],
             [
              0.4444444444444444,
              "#bd3786"
             ],
             [
              0.5555555555555556,
              "#d8576b"
             ],
             [
              0.6666666666666666,
              "#ed7953"
             ],
             [
              0.7777777777777778,
              "#fb9f3a"
             ],
             [
              0.8888888888888888,
              "#fdca26"
             ],
             [
              1,
              "#f0f921"
             ]
            ],
            "type": "histogram2d"
           }
          ],
          "histogram2dcontour": [
           {
            "colorbar": {
             "outlinewidth": 0,
             "ticks": ""
            },
            "colorscale": [
             [
              0,
              "#0d0887"
             ],
             [
              0.1111111111111111,
              "#46039f"
             ],
             [
              0.2222222222222222,
              "#7201a8"
             ],
             [
              0.3333333333333333,
              "#9c179e"
             ],
             [
              0.4444444444444444,
              "#bd3786"
             ],
             [
              0.5555555555555556,
              "#d8576b"
             ],
             [
              0.6666666666666666,
              "#ed7953"
             ],
             [
              0.7777777777777778,
              "#fb9f3a"
             ],
             [
              0.8888888888888888,
              "#fdca26"
             ],
             [
              1,
              "#f0f921"
             ]
            ],
            "type": "histogram2dcontour"
           }
          ],
          "mesh3d": [
           {
            "colorbar": {
             "outlinewidth": 0,
             "ticks": ""
            },
            "type": "mesh3d"
           }
          ],
          "parcoords": [
           {
            "line": {
             "colorbar": {
              "outlinewidth": 0,
              "ticks": ""
             }
            },
            "type": "parcoords"
           }
          ],
          "pie": [
           {
            "automargin": true,
            "type": "pie"
           }
          ],
          "scatter": [
           {
            "fillpattern": {
             "fillmode": "overlay",
             "size": 10,
             "solidity": 0.2
            },
            "type": "scatter"
           }
          ],
          "scatter3d": [
           {
            "line": {
             "colorbar": {
              "outlinewidth": 0,
              "ticks": ""
             }
            },
            "marker": {
             "colorbar": {
              "outlinewidth": 0,
              "ticks": ""
             }
            },
            "type": "scatter3d"
           }
          ],
          "scattercarpet": [
           {
            "marker": {
             "colorbar": {
              "outlinewidth": 0,
              "ticks": ""
             }
            },
            "type": "scattercarpet"
           }
          ],
          "scattergeo": [
           {
            "marker": {
             "colorbar": {
              "outlinewidth": 0,
              "ticks": ""
             }
            },
            "type": "scattergeo"
           }
          ],
          "scattergl": [
           {
            "marker": {
             "colorbar": {
              "outlinewidth": 0,
              "ticks": ""
             }
            },
            "type": "scattergl"
           }
          ],
          "scattermapbox": [
           {
            "marker": {
             "colorbar": {
              "outlinewidth": 0,
              "ticks": ""
             }
            },
            "type": "scattermapbox"
           }
          ],
          "scatterpolar": [
           {
            "marker": {
             "colorbar": {
              "outlinewidth": 0,
              "ticks": ""
             }
            },
            "type": "scatterpolar"
           }
          ],
          "scatterpolargl": [
           {
            "marker": {
             "colorbar": {
              "outlinewidth": 0,
              "ticks": ""
             }
            },
            "type": "scatterpolargl"
           }
          ],
          "scatterternary": [
           {
            "marker": {
             "colorbar": {
              "outlinewidth": 0,
              "ticks": ""
             }
            },
            "type": "scatterternary"
           }
          ],
          "surface": [
           {
            "colorbar": {
             "outlinewidth": 0,
             "ticks": ""
            },
            "colorscale": [
             [
              0,
              "#0d0887"
             ],
             [
              0.1111111111111111,
              "#46039f"
             ],
             [
              0.2222222222222222,
              "#7201a8"
             ],
             [
              0.3333333333333333,
              "#9c179e"
             ],
             [
              0.4444444444444444,
              "#bd3786"
             ],
             [
              0.5555555555555556,
              "#d8576b"
             ],
             [
              0.6666666666666666,
              "#ed7953"
             ],
             [
              0.7777777777777778,
              "#fb9f3a"
             ],
             [
              0.8888888888888888,
              "#fdca26"
             ],
             [
              1,
              "#f0f921"
             ]
            ],
            "type": "surface"
           }
          ],
          "table": [
           {
            "cells": {
             "fill": {
              "color": "#EBF0F8"
             },
             "line": {
              "color": "white"
             }
            },
            "header": {
             "fill": {
              "color": "#C8D4E3"
             },
             "line": {
              "color": "white"
             }
            },
            "type": "table"
           }
          ]
         },
         "layout": {
          "annotationdefaults": {
           "arrowcolor": "#2a3f5f",
           "arrowhead": 0,
           "arrowwidth": 1
          },
          "autotypenumbers": "strict",
          "coloraxis": {
           "colorbar": {
            "outlinewidth": 0,
            "ticks": ""
           }
          },
          "colorscale": {
           "diverging": [
            [
             0,
             "#8e0152"
            ],
            [
             0.1,
             "#c51b7d"
            ],
            [
             0.2,
             "#de77ae"
            ],
            [
             0.3,
             "#f1b6da"
            ],
            [
             0.4,
             "#fde0ef"
            ],
            [
             0.5,
             "#f7f7f7"
            ],
            [
             0.6,
             "#e6f5d0"
            ],
            [
             0.7,
             "#b8e186"
            ],
            [
             0.8,
             "#7fbc41"
            ],
            [
             0.9,
             "#4d9221"
            ],
            [
             1,
             "#276419"
            ]
           ],
           "sequential": [
            [
             0,
             "#0d0887"
            ],
            [
             0.1111111111111111,
             "#46039f"
            ],
            [
             0.2222222222222222,
             "#7201a8"
            ],
            [
             0.3333333333333333,
             "#9c179e"
            ],
            [
             0.4444444444444444,
             "#bd3786"
            ],
            [
             0.5555555555555556,
             "#d8576b"
            ],
            [
             0.6666666666666666,
             "#ed7953"
            ],
            [
             0.7777777777777778,
             "#fb9f3a"
            ],
            [
             0.8888888888888888,
             "#fdca26"
            ],
            [
             1,
             "#f0f921"
            ]
           ],
           "sequentialminus": [
            [
             0,
             "#0d0887"
            ],
            [
             0.1111111111111111,
             "#46039f"
            ],
            [
             0.2222222222222222,
             "#7201a8"
            ],
            [
             0.3333333333333333,
             "#9c179e"
            ],
            [
             0.4444444444444444,
             "#bd3786"
            ],
            [
             0.5555555555555556,
             "#d8576b"
            ],
            [
             0.6666666666666666,
             "#ed7953"
            ],
            [
             0.7777777777777778,
             "#fb9f3a"
            ],
            [
             0.8888888888888888,
             "#fdca26"
            ],
            [
             1,
             "#f0f921"
            ]
           ]
          },
          "colorway": [
           "#636efa",
           "#EF553B",
           "#00cc96",
           "#ab63fa",
           "#FFA15A",
           "#19d3f3",
           "#FF6692",
           "#B6E880",
           "#FF97FF",
           "#FECB52"
          ],
          "font": {
           "color": "#2a3f5f"
          },
          "geo": {
           "bgcolor": "white",
           "lakecolor": "white",
           "landcolor": "#E5ECF6",
           "showlakes": true,
           "showland": true,
           "subunitcolor": "white"
          },
          "hoverlabel": {
           "align": "left"
          },
          "hovermode": "closest",
          "mapbox": {
           "style": "light"
          },
          "paper_bgcolor": "white",
          "plot_bgcolor": "#E5ECF6",
          "polar": {
           "angularaxis": {
            "gridcolor": "white",
            "linecolor": "white",
            "ticks": ""
           },
           "bgcolor": "#E5ECF6",
           "radialaxis": {
            "gridcolor": "white",
            "linecolor": "white",
            "ticks": ""
           }
          },
          "scene": {
           "xaxis": {
            "backgroundcolor": "#E5ECF6",
            "gridcolor": "white",
            "gridwidth": 2,
            "linecolor": "white",
            "showbackground": true,
            "ticks": "",
            "zerolinecolor": "white"
           },
           "yaxis": {
            "backgroundcolor": "#E5ECF6",
            "gridcolor": "white",
            "gridwidth": 2,
            "linecolor": "white",
            "showbackground": true,
            "ticks": "",
            "zerolinecolor": "white"
           },
           "zaxis": {
            "backgroundcolor": "#E5ECF6",
            "gridcolor": "white",
            "gridwidth": 2,
            "linecolor": "white",
            "showbackground": true,
            "ticks": "",
            "zerolinecolor": "white"
           }
          },
          "shapedefaults": {
           "line": {
            "color": "#2a3f5f"
           }
          },
          "ternary": {
           "aaxis": {
            "gridcolor": "white",
            "linecolor": "white",
            "ticks": ""
           },
           "baxis": {
            "gridcolor": "white",
            "linecolor": "white",
            "ticks": ""
           },
           "bgcolor": "#E5ECF6",
           "caxis": {
            "gridcolor": "white",
            "linecolor": "white",
            "ticks": ""
           }
          },
          "title": {
           "x": 0.05
          },
          "xaxis": {
           "automargin": true,
           "gridcolor": "white",
           "linecolor": "white",
           "ticks": "",
           "title": {
            "standoff": 15
           },
           "zerolinecolor": "white",
           "zerolinewidth": 2
          },
          "yaxis": {
           "automargin": true,
           "gridcolor": "white",
           "linecolor": "white",
           "ticks": "",
           "title": {
            "standoff": 15
           },
           "zerolinecolor": "white",
           "zerolinewidth": 2
          }
         }
        },
        "title": {
         "text": "Train & Test RMSE over Iterations (Dual Log Scales)"
        },
        "width": 800,
        "xaxis": {
         "title": {
          "text": "Iteration"
         }
        },
        "yaxis": {
         "side": "left",
         "title": {
          "text": "Train RMSE"
         },
         "type": "log"
        },
        "yaxis2": {
         "overlaying": "y",
         "side": "right",
         "title": {
          "text": "Test RMSE"
         },
         "type": "log"
        }
       }
      }
     },
     "metadata": {},
     "output_type": "display_data"
    }
   ],
   "source": [
    "test_params_overfitting(huge_params, \"Huge\", plot_start_from=500, format='.6f')"
   ]
  },
  {
   "cell_type": "code",
   "execution_count": 24,
   "id": "86faee7c",
   "metadata": {},
   "outputs": [
    {
     "data": {
      "text/html": [
       "<div>\n",
       "<style scoped>\n",
       "    .dataframe tbody tr th:only-of-type {\n",
       "        vertical-align: middle;\n",
       "    }\n",
       "\n",
       "    .dataframe tbody tr th {\n",
       "        vertical-align: top;\n",
       "    }\n",
       "\n",
       "    .dataframe thead th {\n",
       "        text-align: right;\n",
       "    }\n",
       "</style>\n",
       "<table border=\"1\" class=\"dataframe\">\n",
       "  <thead>\n",
       "    <tr style=\"text-align: right;\">\n",
       "      <th></th>\n",
       "      <th>Best iteration</th>\n",
       "      <th>Full model size (MB)</th>\n",
       "      <th>Best iteration model size (MB)</th>\n",
       "      <th>Final train RMSE</th>\n",
       "      <th>Final test RMSE</th>\n",
       "      <th>Best iteration RMSE</th>\n",
       "      <th>Difference (%)</th>\n",
       "    </tr>\n",
       "    <tr>\n",
       "      <th>Model</th>\n",
       "      <th></th>\n",
       "      <th></th>\n",
       "      <th></th>\n",
       "      <th></th>\n",
       "      <th></th>\n",
       "      <th></th>\n",
       "      <th></th>\n",
       "    </tr>\n",
       "  </thead>\n",
       "  <tbody>\n",
       "    <tr>\n",
       "      <th>Large</th>\n",
       "      <td>3638</td>\n",
       "      <td>353</td>\n",
       "      <td>65</td>\n",
       "      <td>93751</td>\n",
       "      <td>4344339</td>\n",
       "      <td>4342453</td>\n",
       "      <td>0.043446</td>\n",
       "    </tr>\n",
       "    <tr>\n",
       "      <th>Hand-picked</th>\n",
       "      <td>6134</td>\n",
       "      <td>52</td>\n",
       "      <td>16</td>\n",
       "      <td>749400</td>\n",
       "      <td>4419524</td>\n",
       "      <td>4370706</td>\n",
       "      <td>1.116918</td>\n",
       "    </tr>\n",
       "    <tr>\n",
       "      <th>Huge</th>\n",
       "      <td>1144</td>\n",
       "      <td>1900</td>\n",
       "      <td>102</td>\n",
       "      <td>93751</td>\n",
       "      <td>4529739</td>\n",
       "      <td>4529370</td>\n",
       "      <td>0.008157</td>\n",
       "    </tr>\n",
       "  </tbody>\n",
       "</table>\n",
       "</div>"
      ],
      "text/plain": [
       "             Best iteration  Full model size (MB)  \\\n",
       "Model                                               \n",
       "Large                  3638                   353   \n",
       "Hand-picked            6134                    52   \n",
       "Huge                   1144                  1900   \n",
       "\n",
       "             Best iteration model size (MB)  Final train RMSE  \\\n",
       "Model                                                           \n",
       "Large                                    65             93751   \n",
       "Hand-picked                              16            749400   \n",
       "Huge                                    102             93751   \n",
       "\n",
       "             Final test RMSE  Best iteration RMSE  Difference (%)  \n",
       "Model                                                              \n",
       "Large                4344339              4342453        0.043446  \n",
       "Hand-picked          4419524              4370706        1.116918  \n",
       "Huge                 4529739              4529370        0.008157  "
      ]
     },
     "execution_count": 24,
     "metadata": {},
     "output_type": "execute_result"
    }
   ],
   "source": [
    "results_overfitting_df.sort_values(by='Final test RMSE')"
   ]
  },
  {
   "cell_type": "code",
   "execution_count": 25,
   "id": "4642b7ee",
   "metadata": {},
   "outputs": [
    {
     "name": "stdout",
     "output_type": "stream",
     "text": [
      "Difference between Hand-picked and Huge final RMSE: 2.494%\n"
     ]
    }
   ],
   "source": [
    "hand_picked_rmse = results_overfitting_df.loc[\"Hand-picked\", \"Final test RMSE\"]\n",
    "huge_rmse = results_overfitting_df.loc[\"Huge\", \"Final test RMSE\"]\n",
    "\n",
    "difference = (huge_rmse - hand_picked_rmse) / hand_picked_rmse * 100\n",
    "print(f\"Difference between Hand-picked and Huge final RMSE: {difference:.3f}%\")"
   ]
  },
  {
   "cell_type": "markdown",
   "id": "9f30bcb4",
   "metadata": {},
   "source": [
    "What is going on? First of all, it performed better than I expected—only about 2.5% worse than the model with hand-picked parameters. But what's even more interesting is that the degradation of the test RMSE basically flattens out instead of rising rapidly."
   ]
  },
  {
   "cell_type": "markdown",
   "id": "d3b794a1",
   "metadata": {},
   "source": [
    "## Intermediate conclusions"
   ]
  },
  {
   "cell_type": "markdown",
   "id": "5a9a3e2b",
   "metadata": {},
   "source": [
    "So it seems like reality hits again: at least when using LGBM, there is no textbook degradation of the validation score as training progresses. In fact, it's quite the opposite. The largest model is clearly overfitting - it achieves the lowest training RMSE of all, but its validation score simply flattens out. On the other hand, the smallest and least capable model shows textbook signs of overfitting, even though it's actually underfitting. It's too small to learn real patterns in the data, so its validation error starts rising after a certain point."
   ]
  },
  {
   "cell_type": "markdown",
   "id": "b6f8b2bf",
   "metadata": {},
   "source": [
    "## Real (?) overfitting"
   ]
  },
  {
   "cell_type": "markdown",
   "id": "42ec9d18",
   "metadata": {},
   "source": [
    "So, let's try to see real overfitting. Basically, the expectation is like this: smaller models underfit – show higher RMSE score on the test set; as model size increases, it starts to learn better, but after some time comes overfitting. The model is too large for its own good and starts to generalize poorly, which we would see as an increase of RMSE score. If we plot, then, model complexity vs. RMSE, we should see a U-shape, with optimal models at the bottom, and underfitting/overfitting ones to the sides."
   ]
  },
  {
   "cell_type": "markdown",
   "id": "95f53cf1",
   "metadata": {},
   "source": [
    "### Grid Search"
   ]
  },
  {
   "cell_type": "code",
   "execution_count": 26,
   "id": "1be56f67",
   "metadata": {},
   "outputs": [],
   "source": [
    "X_grid_search = df.drop(columns=['price'])\n",
    "y_grid_search = df['price']"
   ]
  },
  {
   "cell_type": "code",
   "execution_count": 16,
   "id": "56516330",
   "metadata": {},
   "outputs": [],
   "source": [
    "param_grid = {\n",
    "    'num_leaves': [10, 20, 25, 31, 50, 100, 150, 200, 250, 300, 500, 1000],\n",
    "    'max_depth': [5, 8, 9, 10, 15, 20, 25, 30, 35, 40, 50, 100, 200],\n",
    "    'min_child_samples': [2, 3, 5, 10, 15, 20, 25, 30, 40, 50],\n",
    "}\n",
    "# param_grid = {\n",
    "#     'num_leaves': [1000, 500, 300, 250, 200, 150, 100, 50, 31, 25, 20, 10],\n",
    "#     'max_depth': [200, 100, 50, 40, 35, 30, 25, 20, 15, 10, 9, 8, 5],\n",
    "#     'min_child_samples': [50, 40, 30, 25, 20, 15, 10, 5, 3, 2],\n",
    "# }"
   ]
  },
  {
   "cell_type": "code",
   "execution_count": null,
   "id": "77aa6273",
   "metadata": {},
   "outputs": [],
   "source": [
    "# csv_path = './data/real_overfitting.csv'\n",
    "# real_overfitting_df = pd.read_csv(csv_path)"
   ]
  },
  {
   "cell_type": "code",
   "execution_count": 29,
   "id": "486f7665",
   "metadata": {},
   "outputs": [
    {
     "name": "stderr",
     "output_type": "stream",
     "text": [
      "Running Grid Search: 100%|██████████| 1560/1560 [00:00<00:00, 173341.31it/s]\n",
      "Running Grid Search: 100%|██████████| 1560/1560 [00:00<00:00, 173341.31it/s]\n"
     ]
    }
   ],
   "source": [
    "grid = list(ParameterGrid(param_grid))\n",
    "csv_path = './data/real_overfitting.csv'\n",
    "os.makedirs('./data', exist_ok=True)\n",
    "\n",
    "# Load or init results\n",
    "if os.path.exists(csv_path):\n",
    "    real_overfitting_df = pd.read_csv(csv_path)\n",
    "else:\n",
    "    real_overfitting_df = pd.DataFrame({\n",
    "        'num_leaves': pd.Series(dtype='int'),\n",
    "        'max_depth': pd.Series(dtype='int'),\n",
    "        'min_child_samples': pd.Series(dtype='float'),\n",
    "        'best iteration': pd.Series(dtype='int'),\n",
    "        'model size': pd.Series(dtype='int'),\n",
    "        'train rmse': pd.Series(dtype='int'),\n",
    "        'test rmse': pd.Series(dtype='int'),\n",
    "        'test rmse stddev': pd.Series(dtype='float'),\n",
    "    })\n",
    "\n",
    "# Already evaluated params for skipping\n",
    "already_seen = set(\n",
    "    tuple(row) for row in real_overfitting_df[['num_leaves', 'max_depth', 'min_child_samples']].to_numpy()\n",
    ")\n",
    "\n",
    "# Grid Search\n",
    "for params in tqdm(grid, desc=\"Running Grid Search\"):\n",
    "    key = (params['num_leaves'], params['max_depth'], params['min_child_samples'])\n",
    "    if key in already_seen:\n",
    "        continue\n",
    "\n",
    "    train_rmses = []\n",
    "    test_rmses = []\n",
    "    best_iterations = []\n",
    "    model_sizes = []\n",
    "\n",
    "    FOLDS = 10\n",
    "    kf = KFold(n_splits=FOLDS, shuffle=True, random_state=42)\n",
    "\n",
    "    for i, (train_index, test_index) in enumerate(kf.split(X_grid_search, y_grid_search)):\n",
    "        X_train_cv_fold = X_grid_search.iloc[train_index].copy()\n",
    "        y_train_cv_fold = y_grid_search.iloc[train_index].copy()\n",
    "        X_valid_fold = X_grid_search.iloc[test_index].copy()\n",
    "        y_valid_fold = y_grid_search.iloc[test_index].copy()\n",
    "\n",
    "        encode_map_city(X_train_cv_fold, y_train_cv_fold, X_valid_fold)\n",
    "\n",
    "        model = LGBMRegressor(**{\n",
    "            'n_estimators': 10000,\n",
    "            'learning_rate': 0.05,\n",
    "            'num_leaves': params['num_leaves'],\n",
    "            'max_depth': params['max_depth'],\n",
    "            'min_child_samples': params['min_child_samples'],\n",
    "            'verbose': -1,\n",
    "            'random_state': 42,\n",
    "            'n_jobs': -1,\n",
    "        })\n",
    "        model.fit(\n",
    "            X_train_cv_fold, y_train_cv_fold,\n",
    "            eval_set=[(X_valid_fold, y_valid_fold)],\n",
    "            eval_metric='rmse',\n",
    "            callbacks=[\n",
    "                lgb.early_stopping(250, verbose=False),\n",
    "            ],\n",
    "        )\n",
    "\n",
    "        train_rmse = root_mean_squared_error(y_train_cv_fold, model.predict(X_train_cv_fold))\n",
    "        eval_results = model.evals_result_\n",
    "        valid_rmse_history = eval_results['valid_0']['rmse']\n",
    "        valid_rmse = valid_rmse_history[model.best_iteration_ - 1]\n",
    "\n",
    "        train_rmses.append(train_rmse)\n",
    "        test_rmses.append(valid_rmse)\n",
    "        best_iterations.append(model.best_iteration_)\n",
    "\n",
    "        model_path = f\"./data/models/lgbm_grid_search.txt\"\n",
    "        model.booster_.save_model(model_path)\n",
    "        model_size = os.path.getsize(model_path)\n",
    "        model_sizes.append(model_size)\n",
    "\n",
    "\n",
    "    real_overfitting_df.loc[len(real_overfitting_df)] = {\n",
    "        'num_leaves': params['num_leaves'],\n",
    "        'max_depth': params['max_depth'],\n",
    "        'min_child_samples': params['min_child_samples'],\n",
    "        'best iteration': int(np.mean(best_iterations)),\n",
    "        'model size': int(np.mean(model_sizes)),\n",
    "        'train rmse': int(np.mean(train_rmses)),\n",
    "        'test rmse': int(np.mean(test_rmses)),\n",
    "        'test rmse stddev': float(np.std(test_rmses, ddof=1)),\n",
    "    }\n",
    "\n",
    "    print(f\"Num leaves: {params['num_leaves']}, Max depth: {params['max_depth']}, Min child samples: {params['min_child_samples']}\")\n",
    "\n",
    "\n",
    "    # Update seen set and save\n",
    "    already_seen.add(key)\n",
    "    real_overfitting_df.to_csv(csv_path, index=False)"
   ]
  },
  {
   "cell_type": "markdown",
   "id": "20c7f8b5",
   "metadata": {},
   "source": [
    "### Params in 3D"
   ]
  },
  {
   "cell_type": "markdown",
   "id": "d7acd386",
   "metadata": {},
   "source": [
    "#### All params"
   ]
  },
  {
   "cell_type": "code",
   "execution_count": 30,
   "id": "f88541b4",
   "metadata": {},
   "outputs": [
    {
     "data": {
      "application/vnd.plotly.v1+json": {
       "config": {
        "plotlyServerURL": "https://plot.ly"
       },
       "data": [
        {
         "hovertemplate": "num_leaves=%{x}<br>max_depth=%{y}<br>min_child_samples=%{z}<br>test rmse=%{marker.color}<extra></extra>",
         "legendgroup": "",
         "marker": {
          "color": [
           4602577,
           4592886,
           4528393,
           4505285,
           4479905,
           4469998,
           4453595,
           4448423,
           4455756,
           4463405,
           4468770,
           4516330,
           4595139,
           4551596,
           4487467,
           4483491,
           4467510,
           4449981,
           4447538,
           4426816,
           4444290,
           4456815,
           4465210,
           4508497,
           4584339,
           4501157,
           4458974,
           4440650,
           4437947,
           4420608,
           4419634,
           4414528,
           4426174,
           4442899,
           4446576,
           4504117,
           4565078,
           4489010,
           4440967,
           4431234,
           4424472,
           4409198,
           4398929,
           4406428,
           4414901,
           4430404,
           4439130,
           4502340,
           4557872,
           4477357,
           4427170,
           4425008,
           4414120,
           4394494,
           4382888,
           4395768,
           4408703,
           4413688,
           4427242,
           4488307,
           4555116,
           4471649,
           4432982,
           4420621,
           4402739,
           4385016,
           4380399,
           4376800,
           4401646,
           4388311,
           4414485,
           4487220,
           4556383,
           4475201,
           4419125,
           4411438,
           4378000,
           4374639,
           4367959,
           4362232,
           4374915,
           4383208,
           4392150,
           4468987,
           4571025,
           4466261,
           4396486,
           4390135,
           4367499,
           4349686,
           4358235,
           4351404,
           4371928,
           4377314,
           4391018,
           4462827,
           4559696,
           4448424,
           4385665,
           4378988,
           4359156,
           4351062,
           4351073,
           4353311,
           4367771,
           4374603,
           4384525,
           4473426,
           4562324,
           4447286,
           4394541,
           4374647,
           4363751,
           4352560,
           4351997,
           4351119,
           4366505,
           4368171,
           4396288,
           4472045,
           4606327,
           4591961,
           4528145,
           4505060,
           4479719,
           4469880,
           4453423,
           4448306,
           4455679,
           4463315,
           4468653,
           4516330,
           4591896,
           4551929,
           4487467,
           4483491,
           4467510,
           4449981,
           4447538,
           4426816,
           4444290,
           4456815,
           4465210,
           4508497,
           4585368,
           4501157,
           4458974,
           4440650,
           4437947,
           4420608,
           4419634,
           4414528,
           4426174,
           4442899,
           4446576,
           4504117,
           4567323,
           4489010,
           4440967,
           4431234,
           4424472,
           4409198,
           4398929,
           4406428,
           4414901,
           4430404,
           4439130,
           4502340,
           4558376,
           4477357,
           4427170,
           4425008,
           4414120,
           4394494,
           4382888,
           4395768,
           4408703,
           4413688,
           4427242,
           4488307,
           4555116,
           4471649,
           4432982,
           4420621,
           4402739,
           4385016,
           4380399,
           4376800,
           4401646,
           4388311,
           4414485,
           4487220,
           4556383,
           4475201,
           4419125,
           4411438,
           4378000,
           4374639,
           4367959,
           4362232,
           4374915,
           4383208,
           4392150,
           4468987,
           4571025,
           4466261,
           4396486,
           4390135,
           4367499,
           4349686,
           4358235,
           4351404,
           4371928,
           4377314,
           4391018,
           4462827,
           4559696,
           4448424,
           4385665,
           4378988,
           4359156,
           4351062,
           4351073,
           4353311,
           4367771,
           4374603,
           4384525,
           4473426,
           4562324,
           4447286,
           4394541,
           4374647,
           4363751,
           4352560,
           4351997,
           4351119,
           4366505,
           4368171,
           4396288,
           4472045,
           4587290,
           4585421,
           4526408,
           4504351,
           4477753,
           4464540,
           4454174,
           4448306,
           4455679,
           4463315,
           4468653,
           4516330,
           4576875,
           4547792,
           4486188,
           4477456,
           4468417,
           4448538,
           4447538,
           4426816,
           4444290,
           4456815,
           4465210,
           4508497,
           4568928,
           4502569,
           4462032,
           4438014,
           4441530,
           4421150,
           4419634,
           4414528,
           4426174,
           4442899,
           4446576,
           4504117,
           4554230,
           4484597,
           4439024,
           4433539,
           4424748,
           4410852,
           4398929,
           4406428,
           4414901,
           4430404,
           4439130,
           4502340,
           4550597,
           4476540,
           4427279,
           4425015,
           4413477,
           4394494,
           4382888,
           4395768,
           4408703,
           4413688,
           4427242,
           4488307,
           4553341,
           4476460,
           4432154,
           4419777,
           4403871,
           4385016,
           4380399,
           4376800,
           4401646,
           4388311,
           4414485,
           4487220,
           4555507,
           4474568,
           4418704,
           4411438,
           4378000,
           4374639,
           4367959,
           4362232,
           4374915,
           4383208,
           4392150,
           4468987,
           4571232,
           4466259,
           4396486,
           4390135,
           4367499,
           4349686,
           4358235,
           4351404,
           4371928,
           4377314,
           4391018,
           4462827,
           4558754,
           4448424,
           4385665,
           4378988,
           4359156,
           4351062,
           4351073,
           4353311,
           4367771,
           4374603,
           4384525,
           4473426,
           4562566,
           4447365,
           4394541,
           4374647,
           4363751,
           4352560,
           4351997,
           4351119,
           4366505,
           4368171,
           4396288,
           4472045,
           4572725,
           4570734,
           4531234,
           4499979,
           4484824,
           4465720,
           4452152,
           4448306,
           4455679,
           4463315,
           4468653,
           4516330,
           4565906,
           4540097,
           4488049,
           4479421,
           4459720,
           4451781,
           4443816,
           4426816,
           4444290,
           4456815,
           4465210,
           4508497,
           4551690,
           4500807,
           4458984,
           4438770,
           4435542,
           4414156,
           4420986,
           4414528,
           4426174,
           4442899,
           4446576,
           4504117,
           4550520,
           4482645,
           4441190,
           4434973,
           4415921,
           4409839,
           4401218,
           4406428,
           4414901,
           4430404,
           4439130,
           4502340,
           4547642,
           4472149,
           4433294,
           4427619,
           4408359,
           4399182,
           4383360,
           4395768,
           4408703,
           4413688,
           4427242,
           4488307,
           4549894,
           4471285,
           4436028,
           4415764,
           4399549,
           4385189,
           4380399,
           4376800,
           4401646,
           4388311,
           4414485,
           4487220,
           4558413,
           4473839,
           4422776,
           4409264,
           4379703,
           4375486,
           4367959,
           4362232,
           4374915,
           4383208,
           4392150,
           4468987,
           4574403,
           4465812,
           4397896,
           4391309,
           4367499,
           4349686,
           4358235,
           4351404,
           4371928,
           4377314,
           4391018,
           4462827,
           4556506,
           4447367,
           4387167,
           4378679,
           4359156,
           4351062,
           4351073,
           4353311,
           4367771,
           4374603,
           4384525,
           4473426,
           4561918,
           4451289,
           4392259,
           4374194,
           4363751,
           4352560,
           4351997,
           4351119,
           4366505,
           4368171,
           4396288,
           4472045,
           4563592,
           4561720,
           4524495,
           4498460,
           4480515,
           4469715,
           4448487,
           4448306,
           4455679,
           4463315,
           4468653,
           4516330,
           4552180,
           4535322,
           4483560,
           4476838,
           4467642,
           4447737,
           4443046,
           4426896,
           4444290,
           4456815,
           4465210,
           4508497,
           4540656,
           4497679,
           4460097,
           4436482,
           4433584,
           4419045,
           4417234,
           4414528,
           4426174,
           4442899,
           4446576,
           4504117,
           4540331,
           4484802,
           4440829,
           4436097,
           4418685,
           4404285,
           4401962,
           4406428,
           4414901,
           4430404,
           4439130,
           4502340,
           4539790,
           4479650,
           4432492,
           4424805,
           4411355,
           4396251,
           4390053,
           4395768,
           4408703,
           4413688,
           4427242,
           4488307,
           4549575,
           4475799,
           4429140,
           4417062,
           4407195,
           4384002,
           4380986,
           4376800,
           4401646,
           4388311,
           4414485,
           4487220,
           4557188,
           4472498,
           4419279,
           4410514,
           4382473,
           4377221,
           4367959,
           4362232,
           4374915,
           4383208,
           4392150,
           4468987,
           4572460,
           4461615,
           4395312,
           4390247,
           4361345,
           4349224,
           4358372,
           4351404,
           4371928,
           4377314,
           4391018,
           4462827,
           4558066,
           4450717,
           4381611,
           4378612,
           4357768,
           4352123,
           4351036,
           4353311,
           4367771,
           4374603,
           4384525,
           4473426,
           4562295,
           4452264,
           4390310,
           4375810,
           4361433,
           4349458,
           4351997,
           4351119,
           4366505,
           4368171,
           4396288,
           4472045,
           4549650,
           4547834,
           4515822,
           4497586,
           4481609,
           4464977,
           4451229,
           4445943,
           4455679,
           4463315,
           4468653,
           4516330,
           4539994,
           4524191,
           4485521,
           4472494,
           4465455,
           4449186,
           4440935,
           4426189,
           4444290,
           4456815,
           4465210,
           4508497,
           4534873,
           4493561,
           4454445,
           4441230,
           4436421,
           4422947,
           4417246,
           4420613,
           4426174,
           4442899,
           4446576,
           4504117,
           4531424,
           4476728,
           4443317,
           4429771,
           4416880,
           4410410,
           4401756,
           4406222,
           4414901,
           4430404,
           4439130,
           4502340,
           4530417,
           4476327,
           4429283,
           4422926,
           4407762,
           4396728,
           4389299,
           4398782,
           4408703,
           4413688,
           4427242,
           4488307,
           4544418,
           4471099,
           4432274,
           4417451,
           4406018,
           4384695,
           4374777,
           4376800,
           4401646,
           4388311,
           4414485,
           4487220,
           4554862,
           4469460,
           4416245,
           4409994,
           4382329,
           4379329,
           4367285,
           4362232,
           4374915,
           4383208,
           4392150,
           4468987,
           4568861,
           4457568,
           4395703,
           4388132,
           4365866,
           4351057,
           4358324,
           4351404,
           4371928,
           4377314,
           4391018,
           4462827,
           4559247,
           4451317,
           4376801,
           4374089,
           4371715,
           4354413,
           4348139,
           4353311,
           4367771,
           4374603,
           4384525,
           4473426,
           4560183,
           4449186,
           4381429,
           4365489,
           4357966,
           4357612,
           4351729,
           4351119,
           4366505,
           4368171,
           4396288,
           4472045,
           4537188,
           4537812,
           4510284,
           4492507,
           4481857,
           4463252,
           4450570,
           4449142,
           4456288,
           4463315,
           4468653,
           4516330,
           4532256,
           4512711,
           4479416,
           4475864,
           4463555,
           4452513,
           4444652,
           4429503,
           4444290,
           4456815,
           4465210,
           4508497,
           4529805,
           4490116,
           4454696,
           4437312,
           4429669,
           4419812,
           4412774,
           4408290,
           4426174,
           4442899,
           4446576,
           4504117,
           4523603,
           4483583,
           4440362,
           4430751,
           4423575,
           4405701,
           4398257,
           4401478,
           4414901,
           4430404,
           4439130,
           4502340,
           4526399,
           4468442,
           4428195,
           4425149,
           4402989,
           4398459,
           4392490,
           4397728,
           4408703,
           4413688,
           4427242,
           4488307,
           4541753,
           4471827,
           4437347,
           4414152,
           4398974,
           4379420,
           4381201,
           4379297,
           4401646,
           4388311,
           4414485,
           4487220,
           4555071,
           4474199,
           4415862,
           4405491,
           4381172,
           4389021,
           4365506,
           4360109,
           4374915,
           4383208,
           4392150,
           4468987,
           4570066,
           4465521,
           4391617,
           4387076,
           4366586,
           4358029,
           4354592,
           4350629,
           4371928,
           4377314,
           4391018,
           4462827,
           4564551,
           4453242,
           4381171,
           4370504,
           4368261,
           4356954,
           4348496,
           4355991,
           4367771,
           4374603,
           4384525,
           4473426,
           4560073,
           4451423,
           4385376,
           4372700,
           4364379,
           4345771,
           4342491,
           4351612,
           4366505,
           4368171,
           4396288,
           4472045,
           4520808,
           4526764,
           4509162,
           4490037,
           4477463,
           4460551,
           4453968,
           4447068,
           4454874,
           4465699,
           4468653,
           4516330,
           4513509,
           4511820,
           4476657,
           4476011,
           4459298,
           4450236,
           4446108,
           4430277,
           4448265,
           4458300,
           4465210,
           4508497,
           4505842,
           4481533,
           4451872,
           4442942,
           4440636,
           4424026,
           4419909,
           4406058,
           4426011,
           4438422,
           4446576,
           4504117,
           4516779,
           4473471,
           4444185,
           4427514,
           4415215,
           4400141,
           4397889,
           4409718,
           4424276,
           4430404,
           4439130,
           4502340,
           4518550,
           4470664,
           4429625,
           4417327,
           4411067,
           4392376,
           4382476,
           4385422,
           4393361,
           4413688,
           4427242,
           4488307,
           4528540,
           4466412,
           4432438,
           4420497,
           4401722,
           4395835,
           4378768,
           4394629,
           4396158,
           4388744,
           4414485,
           4487220,
           4546060,
           4468011,
           4415305,
           4409090,
           4379720,
           4380874,
           4375380,
           4358170,
           4372443,
           4383317,
           4392150,
           4468987,
           4569095,
           4458581,
           4395946,
           4384918,
           4362596,
           4345642,
           4347991,
           4364700,
           4365880,
           4377314,
           4391018,
           4462827,
           4567327,
           4444752,
           4380031,
           4366496,
           4356768,
           4348668,
           4350489,
           4347702,
           4362203,
           4374603,
           4384525,
           4473426,
           4551781,
           4451364,
           4383757,
           4374223,
           4357007,
           4341559,
           4343096,
           4347498,
           4364735,
           4367216,
           4396288,
           4472045,
           4507564,
           4516774,
           4494175,
           4484255,
           4481355,
           4464041,
           4462968,
           4451636,
           4455886,
           4458569,
           4465464,
           4516330,
           4506121,
           4500366,
           4480705,
           4477982,
           4478975,
           4455469,
           4443311,
           4429041,
           4439512,
           4455776,
           4464070,
           4508497,
           4498352,
           4473669,
           4454102,
           4447594,
           4435372,
           4419513,
           4419113,
           4411901,
           4423957,
           4433951,
           4445194,
           4504117,
           4491179,
           4470907,
           4442594,
           4441386,
           4426182,
           4402697,
           4401532,
           4404811,
           4407065,
           4432855,
           4430758,
           4502340,
           4496300,
           4466339,
           4428600,
           4420340,
           4405002,
           4393649,
           4381593,
           4396816,
           4412407,
           4421428,
           4436959,
           4488307,
           4518759,
           4468592,
           4424321,
           4405977,
           4400583,
           4389973,
           4385188,
           4387698,
           4396414,
           4408202,
           4413002,
           4487220,
           4539628,
           4465804,
           4411117,
           4403519,
           4387869,
           4375267,
           4366971,
           4370501,
           4388057,
           4391434,
           4394563,
           4468987,
           4559911,
           4462395,
           4403180,
           4382922,
           4368825,
           4354446,
           4348735,
           4348409,
           4373784,
           4383880,
           4391307,
           4462827,
           4561525,
           4461505,
           4387126,
           4378097,
           4359347,
           4358305,
           4351126,
           4345839,
           4381590,
           4366186,
           4389817,
           4473426,
           4555064,
           4451311,
           4397238,
           4375845,
           4362011,
           4349455,
           4340532,
           4356444,
           4375138,
           4380977,
           4384530,
           4472045,
           4492180,
           4492180,
           4492149,
           4492942,
           4485794,
           4484919,
           4470336,
           4455463,
           4455878,
           4471938,
           4463664,
           4516330,
           4484407,
           4484407,
           4481195,
           4480236,
           4462986,
           4461769,
           4462614,
           4456538,
           4449559,
           4465426,
           4467953,
           4508497,
           4462003,
           4456122,
           4462292,
           4455877,
           4461394,
           4438500,
           4421022,
           4423328,
           4432048,
           4448608,
           4451204,
           4504117,
           4464722,
           4452927,
           4441638,
           4457465,
           4438012,
           4426951,
           4414107,
           4423334,
           4427534,
           4441162,
           4448258,
           4502340,
           4449359,
           4445164,
           4432255,
           4432417,
           4425192,
           4414164,
           4409500,
           4404145,
           4412798,
           4423584,
           4441370,
           4488307,
           4439340,
           4441216,
           4429969,
           4425103,
           4414468,
           4405457,
           4389851,
           4395355,
           4408762,
           4412620,
           4417402,
           4487220,
           4444981,
           4447001,
           4415366,
           4414553,
           4402574,
           4379600,
           4373249,
           4376829,
           4382415,
           4398664,
           4411172,
           4468987,
           4462651,
           4439724,
           4416404,
           4395693,
           4391543,
           4366775,
           4367434,
           4350549,
           4384889,
           4393662,
           4378860,
           4462827,
           4460768,
           4443694,
           4408242,
           4384891,
           4379191,
           4374817,
           4353847,
           4371037,
           4385781,
           4378641,
           4391148,
           4473426,
           4471752,
           4445103,
           4411461,
           4401717,
           4387586,
           4363827,
           4372300,
           4358267,
           4368492,
           4381523,
           4403295,
           4472045,
           4487109,
           4487109,
           4494512,
           4493192,
           4485459,
           4482624,
           4480746,
           4462614,
           4470910,
           4474590,
           4470535,
           4516330,
           4479156,
           4479156,
           4485462,
           4471257,
           4483294,
           4474442,
           4463256,
           4451187,
           4460425,
           4463725,
           4466802,
           4508497,
           4458124,
           4458124,
           4464025,
           4460050,
           4454487,
           4442288,
           4436855,
           4436347,
           4443126,
           4446529,
           4453530,
           4504117,
           4456843,
           4456843,
           4450789,
           4452213,
           4456767,
           4431913,
           4421891,
           4425516,
           4430695,
           4434168,
           4440996,
           4502340,
           4433339,
           4433339,
           4435346,
           4442634,
           4432286,
           4418210,
           4410734,
           4403681,
           4419603,
           4428670,
           4440953,
           4488307,
           4426348,
           4426348,
           4434837,
           4426857,
           4427530,
           4412115,
           4400472,
           4405074,
           4411878,
           4415467,
           4415033,
           4487220,
           4429181,
           4429181,
           4413480,
           4420900,
           4402630,
           4393666,
           4392823,
           4384351,
           4392808,
           4404954,
           4406868,
           4468987,
           4422020,
           4422020,
           4427364,
           4416453,
           4387999,
           4378398,
           4374490,
           4362130,
           4390414,
           4394507,
           4404073,
           4462827,
           4414847,
           4414847,
           4423996,
           4401512,
           4395737,
           4380871,
           4371189,
           4367600,
           4388471,
           4374593,
           4393054,
           4473426,
           4424262,
           4423055,
           4425708,
           4397649,
           4395238,
           4376302,
           4365531,
           4383992,
           4378762,
           4373916,
           4389542,
           4472045,
           4490995,
           4490995,
           4490995,
           4490995,
           4486241,
           4494000,
           4486093,
           4474464,
           4467818,
           4477127,
           4483612,
           4527525,
           4488178,
           4488178,
           4488178,
           4488178,
           4485190,
           4489780,
           4480962,
           4470965,
           4463020,
           4471362,
           4475064,
           4514412,
           4463533,
           4463533,
           4463533,
           4463533,
           4460337,
           4455105,
           4448254,
           4432316,
           4433486,
           4459063,
           4456386,
           4510620,
           4450023,
           4450023,
           4450023,
           4450023,
           4451185,
           4444108,
           4440143,
           4418848,
           4436029,
           4435350,
           4450888,
           4503976,
           4439033,
           4439033,
           4439033,
           4439033,
           4442084,
           4438183,
           4430092,
           4422145,
           4430744,
           4431015,
           4429998,
           4495983,
           4432395,
           4432395,
           4432395,
           4432395,
           4435824,
           4424580,
           4414583,
           4414547,
           4414016,
           4426242,
           4415622,
           4482147,
           4424520,
           4424520,
           4424520,
           4419626,
           4418429,
           4407890,
           4394709,
           4383418,
           4413138,
           4408744,
           4405720,
           4480283,
           4404870,
           4404870,
           4404870,
           4394665,
           4407460,
           4406612,
           4378747,
           4375522,
           4403808,
           4412114,
           4417933,
           4478313,
           4402831,
           4402831,
           4402831,
           4400945,
           4395798,
           4397184,
           4367537,
           4378582,
           4395652,
           4387014,
           4399809,
           4475013,
           4421579,
           4421579,
           4421579,
           4397286,
           4414106,
           4401349,
           4387579,
           4378565,
           4379314,
           4385694,
           4407726,
           4475692,
           4532252,
           4532252,
           4532252,
           4532252,
           4532252,
           4532252,
           4532252,
           4532252,
           4529295,
           4534096,
           4541683,
           4559951,
           4528474,
           4528474,
           4528474,
           4528474,
           4528474,
           4528474,
           4528474,
           4528474,
           4538213,
           4535726,
           4515976,
           4550920,
           4499934,
           4499934,
           4499934,
           4499934,
           4499934,
           4499934,
           4499934,
           4499934,
           4494403,
           4495729,
           4489137,
           4537403,
           4506622,
           4506622,
           4506622,
           4506622,
           4506622,
           4506622,
           4506622,
           4506622,
           4493804,
           4505385,
           4495375,
           4533723,
           4490686,
           4490686,
           4490686,
           4490686,
           4490686,
           4490686,
           4490686,
           4490686,
           4494447,
           4496711,
           4486675,
           4530477,
           4487734,
           4487734,
           4487734,
           4487734,
           4487734,
           4487734,
           4487734,
           4487734,
           4476861,
           4480430,
           4478942,
           4513469,
           4478509,
           4478509,
           4478509,
           4478509,
           4478509,
           4478509,
           4478509,
           4478509,
           4478147,
           4482146,
           4469689,
           4514491,
           4466308,
           4466308,
           4466308,
           4466308,
           4466308,
           4466308,
           4466308,
           4466308,
           4463002,
           4471955,
           4468977,
           4509441,
           4477124,
           4477124,
           4477124,
           4477124,
           4477124,
           4477124,
           4477124,
           4477124,
           4463288,
           4458431,
           4464261,
           4513604,
           4462867,
           4462867,
           4462867,
           4462867,
           4462867,
           4462867,
           4462867,
           4462867,
           4460262,
           4453296,
           4471086,
           4503271
          ],
          "coloraxis": "coloraxis",
          "size": 4,
          "symbol": "circle"
         },
         "mode": "markers",
         "name": "",
         "scene": "scene",
         "showlegend": false,
         "type": "scatter3d",
         "x": [
          1000,
          500,
          300,
          250,
          200,
          150,
          100,
          50,
          31,
          25,
          20,
          10,
          1000,
          500,
          300,
          250,
          200,
          150,
          100,
          50,
          31,
          25,
          20,
          10,
          1000,
          500,
          300,
          250,
          200,
          150,
          100,
          50,
          31,
          25,
          20,
          10,
          1000,
          500,
          300,
          250,
          200,
          150,
          100,
          50,
          31,
          25,
          20,
          10,
          1000,
          500,
          300,
          250,
          200,
          150,
          100,
          50,
          31,
          25,
          20,
          10,
          1000,
          500,
          300,
          250,
          200,
          150,
          100,
          50,
          31,
          25,
          20,
          10,
          1000,
          500,
          300,
          250,
          200,
          150,
          100,
          50,
          31,
          25,
          20,
          10,
          1000,
          500,
          300,
          250,
          200,
          150,
          100,
          50,
          31,
          25,
          20,
          10,
          1000,
          500,
          300,
          250,
          200,
          150,
          100,
          50,
          31,
          25,
          20,
          10,
          1000,
          500,
          300,
          250,
          200,
          150,
          100,
          50,
          31,
          25,
          20,
          10,
          1000,
          500,
          300,
          250,
          200,
          150,
          100,
          50,
          31,
          25,
          20,
          10,
          1000,
          500,
          300,
          250,
          200,
          150,
          100,
          50,
          31,
          25,
          20,
          10,
          1000,
          500,
          300,
          250,
          200,
          150,
          100,
          50,
          31,
          25,
          20,
          10,
          1000,
          500,
          300,
          250,
          200,
          150,
          100,
          50,
          31,
          25,
          20,
          10,
          1000,
          500,
          300,
          250,
          200,
          150,
          100,
          50,
          31,
          25,
          20,
          10,
          1000,
          500,
          300,
          250,
          200,
          150,
          100,
          50,
          31,
          25,
          20,
          10,
          1000,
          500,
          300,
          250,
          200,
          150,
          100,
          50,
          31,
          25,
          20,
          10,
          1000,
          500,
          300,
          250,
          200,
          150,
          100,
          50,
          31,
          25,
          20,
          10,
          1000,
          500,
          300,
          250,
          200,
          150,
          100,
          50,
          31,
          25,
          20,
          10,
          1000,
          500,
          300,
          250,
          200,
          150,
          100,
          50,
          31,
          25,
          20,
          10,
          1000,
          500,
          300,
          250,
          200,
          150,
          100,
          50,
          31,
          25,
          20,
          10,
          1000,
          500,
          300,
          250,
          200,
          150,
          100,
          50,
          31,
          25,
          20,
          10,
          1000,
          500,
          300,
          250,
          200,
          150,
          100,
          50,
          31,
          25,
          20,
          10,
          1000,
          500,
          300,
          250,
          200,
          150,
          100,
          50,
          31,
          25,
          20,
          10,
          1000,
          500,
          300,
          250,
          200,
          150,
          100,
          50,
          31,
          25,
          20,
          10,
          1000,
          500,
          300,
          250,
          200,
          150,
          100,
          50,
          31,
          25,
          20,
          10,
          1000,
          500,
          300,
          250,
          200,
          150,
          100,
          50,
          31,
          25,
          20,
          10,
          1000,
          500,
          300,
          250,
          200,
          150,
          100,
          50,
          31,
          25,
          20,
          10,
          1000,
          500,
          300,
          250,
          200,
          150,
          100,
          50,
          31,
          25,
          20,
          10,
          1000,
          500,
          300,
          250,
          200,
          150,
          100,
          50,
          31,
          25,
          20,
          10,
          1000,
          500,
          300,
          250,
          200,
          150,
          100,
          50,
          31,
          25,
          20,
          10,
          1000,
          500,
          300,
          250,
          200,
          150,
          100,
          50,
          31,
          25,
          20,
          10,
          1000,
          500,
          300,
          250,
          200,
          150,
          100,
          50,
          31,
          25,
          20,
          10,
          1000,
          500,
          300,
          250,
          200,
          150,
          100,
          50,
          31,
          25,
          20,
          10,
          1000,
          500,
          300,
          250,
          200,
          150,
          100,
          50,
          31,
          25,
          20,
          10,
          1000,
          500,
          300,
          250,
          200,
          150,
          100,
          50,
          31,
          25,
          20,
          10,
          1000,
          500,
          300,
          250,
          200,
          150,
          100,
          50,
          31,
          25,
          20,
          10,
          1000,
          500,
          300,
          250,
          200,
          150,
          100,
          50,
          31,
          25,
          20,
          10,
          1000,
          500,
          300,
          250,
          200,
          150,
          100,
          50,
          31,
          25,
          20,
          10,
          1000,
          500,
          300,
          250,
          200,
          150,
          100,
          50,
          31,
          25,
          20,
          10,
          1000,
          500,
          300,
          250,
          200,
          150,
          100,
          50,
          31,
          25,
          20,
          10,
          1000,
          500,
          300,
          250,
          200,
          150,
          100,
          50,
          31,
          25,
          20,
          10,
          1000,
          500,
          300,
          250,
          200,
          150,
          100,
          50,
          31,
          25,
          20,
          10,
          1000,
          500,
          300,
          250,
          200,
          150,
          100,
          50,
          31,
          25,
          20,
          10,
          1000,
          500,
          300,
          250,
          200,
          150,
          100,
          50,
          31,
          25,
          20,
          10,
          1000,
          500,
          300,
          250,
          200,
          150,
          100,
          50,
          31,
          25,
          20,
          10,
          1000,
          500,
          300,
          250,
          200,
          150,
          100,
          50,
          31,
          25,
          20,
          10,
          1000,
          500,
          300,
          250,
          200,
          150,
          100,
          50,
          31,
          25,
          20,
          10,
          1000,
          500,
          300,
          250,
          200,
          150,
          100,
          50,
          31,
          25,
          20,
          10,
          1000,
          500,
          300,
          250,
          200,
          150,
          100,
          50,
          31,
          25,
          20,
          10,
          1000,
          500,
          300,
          250,
          200,
          150,
          100,
          50,
          31,
          25,
          20,
          10,
          1000,
          500,
          300,
          250,
          200,
          150,
          100,
          50,
          31,
          25,
          20,
          10,
          1000,
          500,
          300,
          250,
          200,
          150,
          100,
          50,
          31,
          25,
          20,
          10,
          1000,
          500,
          300,
          250,
          200,
          150,
          100,
          50,
          31,
          25,
          20,
          10,
          1000,
          500,
          300,
          250,
          200,
          150,
          100,
          50,
          31,
          25,
          20,
          10,
          1000,
          500,
          300,
          250,
          200,
          150,
          100,
          50,
          31,
          25,
          20,
          10,
          1000,
          500,
          300,
          250,
          200,
          150,
          100,
          50,
          31,
          25,
          20,
          10,
          1000,
          500,
          300,
          250,
          200,
          150,
          100,
          50,
          31,
          25,
          20,
          10,
          1000,
          500,
          300,
          250,
          200,
          150,
          100,
          50,
          31,
          25,
          20,
          10,
          1000,
          500,
          300,
          250,
          200,
          150,
          100,
          50,
          31,
          25,
          20,
          10,
          1000,
          500,
          300,
          250,
          200,
          150,
          100,
          50,
          31,
          25,
          20,
          10,
          1000,
          500,
          300,
          250,
          200,
          150,
          100,
          50,
          31,
          25,
          20,
          10,
          1000,
          500,
          300,
          250,
          200,
          150,
          100,
          50,
          31,
          25,
          20,
          10,
          1000,
          500,
          300,
          250,
          200,
          150,
          100,
          50,
          31,
          25,
          20,
          10,
          1000,
          500,
          300,
          250,
          200,
          150,
          100,
          50,
          31,
          25,
          20,
          10,
          1000,
          500,
          300,
          250,
          200,
          150,
          100,
          50,
          31,
          25,
          20,
          10,
          1000,
          500,
          300,
          250,
          200,
          150,
          100,
          50,
          31,
          25,
          20,
          10,
          1000,
          500,
          300,
          250,
          200,
          150,
          100,
          50,
          31,
          25,
          20,
          10,
          1000,
          500,
          300,
          250,
          200,
          150,
          100,
          50,
          31,
          25,
          20,
          10,
          1000,
          500,
          300,
          250,
          200,
          150,
          100,
          50,
          31,
          25,
          20,
          10,
          1000,
          500,
          300,
          250,
          200,
          150,
          100,
          50,
          31,
          25,
          20,
          10,
          1000,
          500,
          300,
          250,
          200,
          150,
          100,
          50,
          31,
          25,
          20,
          10,
          1000,
          500,
          300,
          250,
          200,
          150,
          100,
          50,
          31,
          25,
          20,
          10,
          1000,
          500,
          300,
          250,
          200,
          150,
          100,
          50,
          31,
          25,
          20,
          10,
          1000,
          500,
          300,
          250,
          200,
          150,
          100,
          50,
          31,
          25,
          20,
          10,
          1000,
          500,
          300,
          250,
          200,
          150,
          100,
          50,
          31,
          25,
          20,
          10,
          1000,
          500,
          300,
          250,
          200,
          150,
          100,
          50,
          31,
          25,
          20,
          10,
          1000,
          500,
          300,
          250,
          200,
          150,
          100,
          50,
          31,
          25,
          20,
          10,
          1000,
          500,
          300,
          250,
          200,
          150,
          100,
          50,
          31,
          25,
          20,
          10,
          1000,
          500,
          300,
          250,
          200,
          150,
          100,
          50,
          31,
          25,
          20,
          10,
          1000,
          500,
          300,
          250,
          200,
          150,
          100,
          50,
          31,
          25,
          20,
          10,
          1000,
          500,
          300,
          250,
          200,
          150,
          100,
          50,
          31,
          25,
          20,
          10,
          1000,
          500,
          300,
          250,
          200,
          150,
          100,
          50,
          31,
          25,
          20,
          10,
          1000,
          500,
          300,
          250,
          200,
          150,
          100,
          50,
          31,
          25,
          20,
          10,
          1000,
          500,
          300,
          250,
          200,
          150,
          100,
          50,
          31,
          25,
          20,
          10,
          1000,
          500,
          300,
          250,
          200,
          150,
          100,
          50,
          31,
          25,
          20,
          10,
          1000,
          500,
          300,
          250,
          200,
          150,
          100,
          50,
          31,
          25,
          20,
          10,
          1000,
          500,
          300,
          250,
          200,
          150,
          100,
          50,
          31,
          25,
          20,
          10,
          1000,
          500,
          300,
          250,
          200,
          150,
          100,
          50,
          31,
          25,
          20,
          10,
          1000,
          500,
          300,
          250,
          200,
          150,
          100,
          50,
          31,
          25,
          20,
          10,
          1000,
          500,
          300,
          250,
          200,
          150,
          100,
          50,
          31,
          25,
          20,
          10,
          1000,
          500,
          300,
          250,
          200,
          150,
          100,
          50,
          31,
          25,
          20,
          10,
          1000,
          500,
          300,
          250,
          200,
          150,
          100,
          50,
          31,
          25,
          20,
          10,
          1000,
          500,
          300,
          250,
          200,
          150,
          100,
          50,
          31,
          25,
          20,
          10,
          1000,
          500,
          300,
          250,
          200,
          150,
          100,
          50,
          31,
          25,
          20,
          10,
          1000,
          500,
          300,
          250,
          200,
          150,
          100,
          50,
          31,
          25,
          20,
          10,
          1000,
          500,
          300,
          250,
          200,
          150,
          100,
          50,
          31,
          25,
          20,
          10,
          1000,
          500,
          300,
          250,
          200,
          150,
          100,
          50,
          31,
          25,
          20,
          10,
          1000,
          500,
          300,
          250,
          200,
          150,
          100,
          50,
          31,
          25,
          20,
          10,
          1000,
          500,
          300,
          250,
          200,
          150,
          100,
          50,
          31,
          25,
          20,
          10,
          1000,
          500,
          300,
          250,
          200,
          150,
          100,
          50,
          31,
          25,
          20,
          10,
          1000,
          500,
          300,
          250,
          200,
          150,
          100,
          50,
          31,
          25,
          20,
          10,
          1000,
          500,
          300,
          250,
          200,
          150,
          100,
          50,
          31,
          25,
          20,
          10,
          1000,
          500,
          300,
          250,
          200,
          150,
          100,
          50,
          31,
          25,
          20,
          10,
          1000,
          500,
          300,
          250,
          200,
          150,
          100,
          50,
          31,
          25,
          20,
          10,
          1000,
          500,
          300,
          250,
          200,
          150,
          100,
          50,
          31,
          25,
          20,
          10,
          1000,
          500,
          300,
          250,
          200,
          150,
          100,
          50,
          31,
          25,
          20,
          10,
          1000,
          500,
          300,
          250,
          200,
          150,
          100,
          50,
          31,
          25,
          20,
          10,
          1000,
          500,
          300,
          250,
          200,
          150,
          100,
          50,
          31,
          25,
          20,
          10,
          1000,
          500,
          300,
          250,
          200,
          150,
          100,
          50,
          31,
          25,
          20,
          10,
          1000,
          500,
          300,
          250,
          200,
          150,
          100,
          50,
          31,
          25,
          20,
          10,
          1000,
          500,
          300,
          250,
          200,
          150,
          100,
          50,
          31,
          25,
          20,
          10,
          1000,
          500,
          300,
          250,
          200,
          150,
          100,
          50,
          31,
          25,
          20,
          10,
          1000,
          500,
          300,
          250,
          200,
          150,
          100,
          50,
          31,
          25,
          20,
          10,
          1000,
          500,
          300,
          250,
          200,
          150,
          100,
          50,
          31,
          25,
          20,
          10,
          1000,
          500,
          300,
          250,
          200,
          150,
          100,
          50,
          31,
          25,
          20,
          10,
          1000,
          500,
          300,
          250,
          200,
          150,
          100,
          50,
          31,
          25,
          20,
          10,
          1000,
          500,
          300,
          250,
          200,
          150,
          100,
          50,
          31,
          25,
          20,
          10,
          1000,
          500,
          300,
          250,
          200,
          150,
          100,
          50,
          31,
          25,
          20,
          10,
          1000,
          500,
          300,
          250,
          200,
          150,
          100,
          50,
          31,
          25,
          20,
          10,
          1000,
          500,
          300,
          250,
          200,
          150,
          100,
          50,
          31,
          25,
          20,
          10,
          1000,
          500,
          300,
          250,
          200,
          150,
          100,
          50,
          31,
          25,
          20,
          10,
          1000,
          500,
          300,
          250,
          200,
          150,
          100,
          50,
          31,
          25,
          20,
          10,
          1000,
          500,
          300,
          250,
          200,
          150,
          100,
          50,
          31,
          25,
          20,
          10,
          1000,
          500,
          300,
          250,
          200,
          150,
          100,
          50,
          31,
          25,
          20,
          10,
          1000,
          500,
          300,
          250,
          200,
          150,
          100,
          50,
          31,
          25,
          20,
          10,
          1000,
          500,
          300,
          250,
          200,
          150,
          100,
          50,
          31,
          25,
          20,
          10,
          1000,
          500,
          300,
          250,
          200,
          150,
          100,
          50,
          31,
          25,
          20,
          10,
          1000,
          500,
          300,
          250,
          200,
          150,
          100,
          50,
          31,
          25,
          20,
          10,
          1000,
          500,
          300,
          250,
          200,
          150,
          100,
          50,
          31,
          25,
          20,
          10
         ],
         "y": [
          200,
          200,
          200,
          200,
          200,
          200,
          200,
          200,
          200,
          200,
          200,
          200,
          200,
          200,
          200,
          200,
          200,
          200,
          200,
          200,
          200,
          200,
          200,
          200,
          200,
          200,
          200,
          200,
          200,
          200,
          200,
          200,
          200,
          200,
          200,
          200,
          200,
          200,
          200,
          200,
          200,
          200,
          200,
          200,
          200,
          200,
          200,
          200,
          200,
          200,
          200,
          200,
          200,
          200,
          200,
          200,
          200,
          200,
          200,
          200,
          200,
          200,
          200,
          200,
          200,
          200,
          200,
          200,
          200,
          200,
          200,
          200,
          200,
          200,
          200,
          200,
          200,
          200,
          200,
          200,
          200,
          200,
          200,
          200,
          200,
          200,
          200,
          200,
          200,
          200,
          200,
          200,
          200,
          200,
          200,
          200,
          200,
          200,
          200,
          200,
          200,
          200,
          200,
          200,
          200,
          200,
          200,
          200,
          200,
          200,
          200,
          200,
          200,
          200,
          200,
          200,
          200,
          200,
          200,
          200,
          100,
          100,
          100,
          100,
          100,
          100,
          100,
          100,
          100,
          100,
          100,
          100,
          100,
          100,
          100,
          100,
          100,
          100,
          100,
          100,
          100,
          100,
          100,
          100,
          100,
          100,
          100,
          100,
          100,
          100,
          100,
          100,
          100,
          100,
          100,
          100,
          100,
          100,
          100,
          100,
          100,
          100,
          100,
          100,
          100,
          100,
          100,
          100,
          100,
          100,
          100,
          100,
          100,
          100,
          100,
          100,
          100,
          100,
          100,
          100,
          100,
          100,
          100,
          100,
          100,
          100,
          100,
          100,
          100,
          100,
          100,
          100,
          100,
          100,
          100,
          100,
          100,
          100,
          100,
          100,
          100,
          100,
          100,
          100,
          100,
          100,
          100,
          100,
          100,
          100,
          100,
          100,
          100,
          100,
          100,
          100,
          100,
          100,
          100,
          100,
          100,
          100,
          100,
          100,
          100,
          100,
          100,
          100,
          100,
          100,
          100,
          100,
          100,
          100,
          100,
          100,
          100,
          100,
          100,
          100,
          50,
          50,
          50,
          50,
          50,
          50,
          50,
          50,
          50,
          50,
          50,
          50,
          50,
          50,
          50,
          50,
          50,
          50,
          50,
          50,
          50,
          50,
          50,
          50,
          50,
          50,
          50,
          50,
          50,
          50,
          50,
          50,
          50,
          50,
          50,
          50,
          50,
          50,
          50,
          50,
          50,
          50,
          50,
          50,
          50,
          50,
          50,
          50,
          50,
          50,
          50,
          50,
          50,
          50,
          50,
          50,
          50,
          50,
          50,
          50,
          50,
          50,
          50,
          50,
          50,
          50,
          50,
          50,
          50,
          50,
          50,
          50,
          50,
          50,
          50,
          50,
          50,
          50,
          50,
          50,
          50,
          50,
          50,
          50,
          50,
          50,
          50,
          50,
          50,
          50,
          50,
          50,
          50,
          50,
          50,
          50,
          50,
          50,
          50,
          50,
          50,
          50,
          50,
          50,
          50,
          50,
          50,
          50,
          50,
          50,
          50,
          50,
          50,
          50,
          50,
          50,
          50,
          50,
          50,
          50,
          40,
          40,
          40,
          40,
          40,
          40,
          40,
          40,
          40,
          40,
          40,
          40,
          40,
          40,
          40,
          40,
          40,
          40,
          40,
          40,
          40,
          40,
          40,
          40,
          40,
          40,
          40,
          40,
          40,
          40,
          40,
          40,
          40,
          40,
          40,
          40,
          40,
          40,
          40,
          40,
          40,
          40,
          40,
          40,
          40,
          40,
          40,
          40,
          40,
          40,
          40,
          40,
          40,
          40,
          40,
          40,
          40,
          40,
          40,
          40,
          40,
          40,
          40,
          40,
          40,
          40,
          40,
          40,
          40,
          40,
          40,
          40,
          40,
          40,
          40,
          40,
          40,
          40,
          40,
          40,
          40,
          40,
          40,
          40,
          40,
          40,
          40,
          40,
          40,
          40,
          40,
          40,
          40,
          40,
          40,
          40,
          40,
          40,
          40,
          40,
          40,
          40,
          40,
          40,
          40,
          40,
          40,
          40,
          40,
          40,
          40,
          40,
          40,
          40,
          40,
          40,
          40,
          40,
          40,
          40,
          35,
          35,
          35,
          35,
          35,
          35,
          35,
          35,
          35,
          35,
          35,
          35,
          35,
          35,
          35,
          35,
          35,
          35,
          35,
          35,
          35,
          35,
          35,
          35,
          35,
          35,
          35,
          35,
          35,
          35,
          35,
          35,
          35,
          35,
          35,
          35,
          35,
          35,
          35,
          35,
          35,
          35,
          35,
          35,
          35,
          35,
          35,
          35,
          35,
          35,
          35,
          35,
          35,
          35,
          35,
          35,
          35,
          35,
          35,
          35,
          35,
          35,
          35,
          35,
          35,
          35,
          35,
          35,
          35,
          35,
          35,
          35,
          35,
          35,
          35,
          35,
          35,
          35,
          35,
          35,
          35,
          35,
          35,
          35,
          35,
          35,
          35,
          35,
          35,
          35,
          35,
          35,
          35,
          35,
          35,
          35,
          35,
          35,
          35,
          35,
          35,
          35,
          35,
          35,
          35,
          35,
          35,
          35,
          35,
          35,
          35,
          35,
          35,
          35,
          35,
          35,
          35,
          35,
          35,
          35,
          30,
          30,
          30,
          30,
          30,
          30,
          30,
          30,
          30,
          30,
          30,
          30,
          30,
          30,
          30,
          30,
          30,
          30,
          30,
          30,
          30,
          30,
          30,
          30,
          30,
          30,
          30,
          30,
          30,
          30,
          30,
          30,
          30,
          30,
          30,
          30,
          30,
          30,
          30,
          30,
          30,
          30,
          30,
          30,
          30,
          30,
          30,
          30,
          30,
          30,
          30,
          30,
          30,
          30,
          30,
          30,
          30,
          30,
          30,
          30,
          30,
          30,
          30,
          30,
          30,
          30,
          30,
          30,
          30,
          30,
          30,
          30,
          30,
          30,
          30,
          30,
          30,
          30,
          30,
          30,
          30,
          30,
          30,
          30,
          30,
          30,
          30,
          30,
          30,
          30,
          30,
          30,
          30,
          30,
          30,
          30,
          30,
          30,
          30,
          30,
          30,
          30,
          30,
          30,
          30,
          30,
          30,
          30,
          30,
          30,
          30,
          30,
          30,
          30,
          30,
          30,
          30,
          30,
          30,
          30,
          25,
          25,
          25,
          25,
          25,
          25,
          25,
          25,
          25,
          25,
          25,
          25,
          25,
          25,
          25,
          25,
          25,
          25,
          25,
          25,
          25,
          25,
          25,
          25,
          25,
          25,
          25,
          25,
          25,
          25,
          25,
          25,
          25,
          25,
          25,
          25,
          25,
          25,
          25,
          25,
          25,
          25,
          25,
          25,
          25,
          25,
          25,
          25,
          25,
          25,
          25,
          25,
          25,
          25,
          25,
          25,
          25,
          25,
          25,
          25,
          25,
          25,
          25,
          25,
          25,
          25,
          25,
          25,
          25,
          25,
          25,
          25,
          25,
          25,
          25,
          25,
          25,
          25,
          25,
          25,
          25,
          25,
          25,
          25,
          25,
          25,
          25,
          25,
          25,
          25,
          25,
          25,
          25,
          25,
          25,
          25,
          25,
          25,
          25,
          25,
          25,
          25,
          25,
          25,
          25,
          25,
          25,
          25,
          25,
          25,
          25,
          25,
          25,
          25,
          25,
          25,
          25,
          25,
          25,
          25,
          20,
          20,
          20,
          20,
          20,
          20,
          20,
          20,
          20,
          20,
          20,
          20,
          20,
          20,
          20,
          20,
          20,
          20,
          20,
          20,
          20,
          20,
          20,
          20,
          20,
          20,
          20,
          20,
          20,
          20,
          20,
          20,
          20,
          20,
          20,
          20,
          20,
          20,
          20,
          20,
          20,
          20,
          20,
          20,
          20,
          20,
          20,
          20,
          20,
          20,
          20,
          20,
          20,
          20,
          20,
          20,
          20,
          20,
          20,
          20,
          20,
          20,
          20,
          20,
          20,
          20,
          20,
          20,
          20,
          20,
          20,
          20,
          20,
          20,
          20,
          20,
          20,
          20,
          20,
          20,
          20,
          20,
          20,
          20,
          20,
          20,
          20,
          20,
          20,
          20,
          20,
          20,
          20,
          20,
          20,
          20,
          20,
          20,
          20,
          20,
          20,
          20,
          20,
          20,
          20,
          20,
          20,
          20,
          20,
          20,
          20,
          20,
          20,
          20,
          20,
          20,
          20,
          20,
          20,
          20,
          15,
          15,
          15,
          15,
          15,
          15,
          15,
          15,
          15,
          15,
          15,
          15,
          15,
          15,
          15,
          15,
          15,
          15,
          15,
          15,
          15,
          15,
          15,
          15,
          15,
          15,
          15,
          15,
          15,
          15,
          15,
          15,
          15,
          15,
          15,
          15,
          15,
          15,
          15,
          15,
          15,
          15,
          15,
          15,
          15,
          15,
          15,
          15,
          15,
          15,
          15,
          15,
          15,
          15,
          15,
          15,
          15,
          15,
          15,
          15,
          15,
          15,
          15,
          15,
          15,
          15,
          15,
          15,
          15,
          15,
          15,
          15,
          15,
          15,
          15,
          15,
          15,
          15,
          15,
          15,
          15,
          15,
          15,
          15,
          15,
          15,
          15,
          15,
          15,
          15,
          15,
          15,
          15,
          15,
          15,
          15,
          15,
          15,
          15,
          15,
          15,
          15,
          15,
          15,
          15,
          15,
          15,
          15,
          15,
          15,
          15,
          15,
          15,
          15,
          15,
          15,
          15,
          15,
          15,
          15,
          10,
          10,
          10,
          10,
          10,
          10,
          10,
          10,
          10,
          10,
          10,
          10,
          10,
          10,
          10,
          10,
          10,
          10,
          10,
          10,
          10,
          10,
          10,
          10,
          10,
          10,
          10,
          10,
          10,
          10,
          10,
          10,
          10,
          10,
          10,
          10,
          10,
          10,
          10,
          10,
          10,
          10,
          10,
          10,
          10,
          10,
          10,
          10,
          10,
          10,
          10,
          10,
          10,
          10,
          10,
          10,
          10,
          10,
          10,
          10,
          10,
          10,
          10,
          10,
          10,
          10,
          10,
          10,
          10,
          10,
          10,
          10,
          10,
          10,
          10,
          10,
          10,
          10,
          10,
          10,
          10,
          10,
          10,
          10,
          10,
          10,
          10,
          10,
          10,
          10,
          10,
          10,
          10,
          10,
          10,
          10,
          10,
          10,
          10,
          10,
          10,
          10,
          10,
          10,
          10,
          10,
          10,
          10,
          10,
          10,
          10,
          10,
          10,
          10,
          10,
          10,
          10,
          10,
          10,
          10,
          9,
          9,
          9,
          9,
          9,
          9,
          9,
          9,
          9,
          9,
          9,
          9,
          9,
          9,
          9,
          9,
          9,
          9,
          9,
          9,
          9,
          9,
          9,
          9,
          9,
          9,
          9,
          9,
          9,
          9,
          9,
          9,
          9,
          9,
          9,
          9,
          9,
          9,
          9,
          9,
          9,
          9,
          9,
          9,
          9,
          9,
          9,
          9,
          9,
          9,
          9,
          9,
          9,
          9,
          9,
          9,
          9,
          9,
          9,
          9,
          9,
          9,
          9,
          9,
          9,
          9,
          9,
          9,
          9,
          9,
          9,
          9,
          9,
          9,
          9,
          9,
          9,
          9,
          9,
          9,
          9,
          9,
          9,
          9,
          9,
          9,
          9,
          9,
          9,
          9,
          9,
          9,
          9,
          9,
          9,
          9,
          9,
          9,
          9,
          9,
          9,
          9,
          9,
          9,
          9,
          9,
          9,
          9,
          9,
          9,
          9,
          9,
          9,
          9,
          9,
          9,
          9,
          9,
          9,
          9,
          8,
          8,
          8,
          8,
          8,
          8,
          8,
          8,
          8,
          8,
          8,
          8,
          8,
          8,
          8,
          8,
          8,
          8,
          8,
          8,
          8,
          8,
          8,
          8,
          8,
          8,
          8,
          8,
          8,
          8,
          8,
          8,
          8,
          8,
          8,
          8,
          8,
          8,
          8,
          8,
          8,
          8,
          8,
          8,
          8,
          8,
          8,
          8,
          8,
          8,
          8,
          8,
          8,
          8,
          8,
          8,
          8,
          8,
          8,
          8,
          8,
          8,
          8,
          8,
          8,
          8,
          8,
          8,
          8,
          8,
          8,
          8,
          8,
          8,
          8,
          8,
          8,
          8,
          8,
          8,
          8,
          8,
          8,
          8,
          8,
          8,
          8,
          8,
          8,
          8,
          8,
          8,
          8,
          8,
          8,
          8,
          8,
          8,
          8,
          8,
          8,
          8,
          8,
          8,
          8,
          8,
          8,
          8,
          8,
          8,
          8,
          8,
          8,
          8,
          8,
          8,
          8,
          8,
          8,
          8,
          5,
          5,
          5,
          5,
          5,
          5,
          5,
          5,
          5,
          5,
          5,
          5,
          5,
          5,
          5,
          5,
          5,
          5,
          5,
          5,
          5,
          5,
          5,
          5,
          5,
          5,
          5,
          5,
          5,
          5,
          5,
          5,
          5,
          5,
          5,
          5,
          5,
          5,
          5,
          5,
          5,
          5,
          5,
          5,
          5,
          5,
          5,
          5,
          5,
          5,
          5,
          5,
          5,
          5,
          5,
          5,
          5,
          5,
          5,
          5,
          5,
          5,
          5,
          5,
          5,
          5,
          5,
          5,
          5,
          5,
          5,
          5,
          5,
          5,
          5,
          5,
          5,
          5,
          5,
          5,
          5,
          5,
          5,
          5,
          5,
          5,
          5,
          5,
          5,
          5,
          5,
          5,
          5,
          5,
          5,
          5,
          5,
          5,
          5,
          5,
          5,
          5,
          5,
          5,
          5,
          5,
          5,
          5,
          5,
          5,
          5,
          5,
          5,
          5,
          5,
          5,
          5,
          5,
          5,
          5
         ],
         "z": [
          50,
          50,
          50,
          50,
          50,
          50,
          50,
          50,
          50,
          50,
          50,
          50,
          40,
          40,
          40,
          40,
          40,
          40,
          40,
          40,
          40,
          40,
          40,
          40,
          30,
          30,
          30,
          30,
          30,
          30,
          30,
          30,
          30,
          30,
          30,
          30,
          25,
          25,
          25,
          25,
          25,
          25,
          25,
          25,
          25,
          25,
          25,
          25,
          20,
          20,
          20,
          20,
          20,
          20,
          20,
          20,
          20,
          20,
          20,
          20,
          15,
          15,
          15,
          15,
          15,
          15,
          15,
          15,
          15,
          15,
          15,
          15,
          10,
          10,
          10,
          10,
          10,
          10,
          10,
          10,
          10,
          10,
          10,
          10,
          5,
          5,
          5,
          5,
          5,
          5,
          5,
          5,
          5,
          5,
          5,
          5,
          3,
          3,
          3,
          3,
          3,
          3,
          3,
          3,
          3,
          3,
          3,
          3,
          2,
          2,
          2,
          2,
          2,
          2,
          2,
          2,
          2,
          2,
          2,
          2,
          50,
          50,
          50,
          50,
          50,
          50,
          50,
          50,
          50,
          50,
          50,
          50,
          40,
          40,
          40,
          40,
          40,
          40,
          40,
          40,
          40,
          40,
          40,
          40,
          30,
          30,
          30,
          30,
          30,
          30,
          30,
          30,
          30,
          30,
          30,
          30,
          25,
          25,
          25,
          25,
          25,
          25,
          25,
          25,
          25,
          25,
          25,
          25,
          20,
          20,
          20,
          20,
          20,
          20,
          20,
          20,
          20,
          20,
          20,
          20,
          15,
          15,
          15,
          15,
          15,
          15,
          15,
          15,
          15,
          15,
          15,
          15,
          10,
          10,
          10,
          10,
          10,
          10,
          10,
          10,
          10,
          10,
          10,
          10,
          5,
          5,
          5,
          5,
          5,
          5,
          5,
          5,
          5,
          5,
          5,
          5,
          3,
          3,
          3,
          3,
          3,
          3,
          3,
          3,
          3,
          3,
          3,
          3,
          2,
          2,
          2,
          2,
          2,
          2,
          2,
          2,
          2,
          2,
          2,
          2,
          50,
          50,
          50,
          50,
          50,
          50,
          50,
          50,
          50,
          50,
          50,
          50,
          40,
          40,
          40,
          40,
          40,
          40,
          40,
          40,
          40,
          40,
          40,
          40,
          30,
          30,
          30,
          30,
          30,
          30,
          30,
          30,
          30,
          30,
          30,
          30,
          25,
          25,
          25,
          25,
          25,
          25,
          25,
          25,
          25,
          25,
          25,
          25,
          20,
          20,
          20,
          20,
          20,
          20,
          20,
          20,
          20,
          20,
          20,
          20,
          15,
          15,
          15,
          15,
          15,
          15,
          15,
          15,
          15,
          15,
          15,
          15,
          10,
          10,
          10,
          10,
          10,
          10,
          10,
          10,
          10,
          10,
          10,
          10,
          5,
          5,
          5,
          5,
          5,
          5,
          5,
          5,
          5,
          5,
          5,
          5,
          3,
          3,
          3,
          3,
          3,
          3,
          3,
          3,
          3,
          3,
          3,
          3,
          2,
          2,
          2,
          2,
          2,
          2,
          2,
          2,
          2,
          2,
          2,
          2,
          50,
          50,
          50,
          50,
          50,
          50,
          50,
          50,
          50,
          50,
          50,
          50,
          40,
          40,
          40,
          40,
          40,
          40,
          40,
          40,
          40,
          40,
          40,
          40,
          30,
          30,
          30,
          30,
          30,
          30,
          30,
          30,
          30,
          30,
          30,
          30,
          25,
          25,
          25,
          25,
          25,
          25,
          25,
          25,
          25,
          25,
          25,
          25,
          20,
          20,
          20,
          20,
          20,
          20,
          20,
          20,
          20,
          20,
          20,
          20,
          15,
          15,
          15,
          15,
          15,
          15,
          15,
          15,
          15,
          15,
          15,
          15,
          10,
          10,
          10,
          10,
          10,
          10,
          10,
          10,
          10,
          10,
          10,
          10,
          5,
          5,
          5,
          5,
          5,
          5,
          5,
          5,
          5,
          5,
          5,
          5,
          3,
          3,
          3,
          3,
          3,
          3,
          3,
          3,
          3,
          3,
          3,
          3,
          2,
          2,
          2,
          2,
          2,
          2,
          2,
          2,
          2,
          2,
          2,
          2,
          50,
          50,
          50,
          50,
          50,
          50,
          50,
          50,
          50,
          50,
          50,
          50,
          40,
          40,
          40,
          40,
          40,
          40,
          40,
          40,
          40,
          40,
          40,
          40,
          30,
          30,
          30,
          30,
          30,
          30,
          30,
          30,
          30,
          30,
          30,
          30,
          25,
          25,
          25,
          25,
          25,
          25,
          25,
          25,
          25,
          25,
          25,
          25,
          20,
          20,
          20,
          20,
          20,
          20,
          20,
          20,
          20,
          20,
          20,
          20,
          15,
          15,
          15,
          15,
          15,
          15,
          15,
          15,
          15,
          15,
          15,
          15,
          10,
          10,
          10,
          10,
          10,
          10,
          10,
          10,
          10,
          10,
          10,
          10,
          5,
          5,
          5,
          5,
          5,
          5,
          5,
          5,
          5,
          5,
          5,
          5,
          3,
          3,
          3,
          3,
          3,
          3,
          3,
          3,
          3,
          3,
          3,
          3,
          2,
          2,
          2,
          2,
          2,
          2,
          2,
          2,
          2,
          2,
          2,
          2,
          50,
          50,
          50,
          50,
          50,
          50,
          50,
          50,
          50,
          50,
          50,
          50,
          40,
          40,
          40,
          40,
          40,
          40,
          40,
          40,
          40,
          40,
          40,
          40,
          30,
          30,
          30,
          30,
          30,
          30,
          30,
          30,
          30,
          30,
          30,
          30,
          25,
          25,
          25,
          25,
          25,
          25,
          25,
          25,
          25,
          25,
          25,
          25,
          20,
          20,
          20,
          20,
          20,
          20,
          20,
          20,
          20,
          20,
          20,
          20,
          15,
          15,
          15,
          15,
          15,
          15,
          15,
          15,
          15,
          15,
          15,
          15,
          10,
          10,
          10,
          10,
          10,
          10,
          10,
          10,
          10,
          10,
          10,
          10,
          5,
          5,
          5,
          5,
          5,
          5,
          5,
          5,
          5,
          5,
          5,
          5,
          3,
          3,
          3,
          3,
          3,
          3,
          3,
          3,
          3,
          3,
          3,
          3,
          2,
          2,
          2,
          2,
          2,
          2,
          2,
          2,
          2,
          2,
          2,
          2,
          50,
          50,
          50,
          50,
          50,
          50,
          50,
          50,
          50,
          50,
          50,
          50,
          40,
          40,
          40,
          40,
          40,
          40,
          40,
          40,
          40,
          40,
          40,
          40,
          30,
          30,
          30,
          30,
          30,
          30,
          30,
          30,
          30,
          30,
          30,
          30,
          25,
          25,
          25,
          25,
          25,
          25,
          25,
          25,
          25,
          25,
          25,
          25,
          20,
          20,
          20,
          20,
          20,
          20,
          20,
          20,
          20,
          20,
          20,
          20,
          15,
          15,
          15,
          15,
          15,
          15,
          15,
          15,
          15,
          15,
          15,
          15,
          10,
          10,
          10,
          10,
          10,
          10,
          10,
          10,
          10,
          10,
          10,
          10,
          5,
          5,
          5,
          5,
          5,
          5,
          5,
          5,
          5,
          5,
          5,
          5,
          3,
          3,
          3,
          3,
          3,
          3,
          3,
          3,
          3,
          3,
          3,
          3,
          2,
          2,
          2,
          2,
          2,
          2,
          2,
          2,
          2,
          2,
          2,
          2,
          50,
          50,
          50,
          50,
          50,
          50,
          50,
          50,
          50,
          50,
          50,
          50,
          40,
          40,
          40,
          40,
          40,
          40,
          40,
          40,
          40,
          40,
          40,
          40,
          30,
          30,
          30,
          30,
          30,
          30,
          30,
          30,
          30,
          30,
          30,
          30,
          25,
          25,
          25,
          25,
          25,
          25,
          25,
          25,
          25,
          25,
          25,
          25,
          20,
          20,
          20,
          20,
          20,
          20,
          20,
          20,
          20,
          20,
          20,
          20,
          15,
          15,
          15,
          15,
          15,
          15,
          15,
          15,
          15,
          15,
          15,
          15,
          10,
          10,
          10,
          10,
          10,
          10,
          10,
          10,
          10,
          10,
          10,
          10,
          5,
          5,
          5,
          5,
          5,
          5,
          5,
          5,
          5,
          5,
          5,
          5,
          3,
          3,
          3,
          3,
          3,
          3,
          3,
          3,
          3,
          3,
          3,
          3,
          2,
          2,
          2,
          2,
          2,
          2,
          2,
          2,
          2,
          2,
          2,
          2,
          50,
          50,
          50,
          50,
          50,
          50,
          50,
          50,
          50,
          50,
          50,
          50,
          40,
          40,
          40,
          40,
          40,
          40,
          40,
          40,
          40,
          40,
          40,
          40,
          30,
          30,
          30,
          30,
          30,
          30,
          30,
          30,
          30,
          30,
          30,
          30,
          25,
          25,
          25,
          25,
          25,
          25,
          25,
          25,
          25,
          25,
          25,
          25,
          20,
          20,
          20,
          20,
          20,
          20,
          20,
          20,
          20,
          20,
          20,
          20,
          15,
          15,
          15,
          15,
          15,
          15,
          15,
          15,
          15,
          15,
          15,
          15,
          10,
          10,
          10,
          10,
          10,
          10,
          10,
          10,
          10,
          10,
          10,
          10,
          5,
          5,
          5,
          5,
          5,
          5,
          5,
          5,
          5,
          5,
          5,
          5,
          3,
          3,
          3,
          3,
          3,
          3,
          3,
          3,
          3,
          3,
          3,
          3,
          2,
          2,
          2,
          2,
          2,
          2,
          2,
          2,
          2,
          2,
          2,
          2,
          50,
          50,
          50,
          50,
          50,
          50,
          50,
          50,
          50,
          50,
          50,
          50,
          40,
          40,
          40,
          40,
          40,
          40,
          40,
          40,
          40,
          40,
          40,
          40,
          30,
          30,
          30,
          30,
          30,
          30,
          30,
          30,
          30,
          30,
          30,
          30,
          25,
          25,
          25,
          25,
          25,
          25,
          25,
          25,
          25,
          25,
          25,
          25,
          20,
          20,
          20,
          20,
          20,
          20,
          20,
          20,
          20,
          20,
          20,
          20,
          15,
          15,
          15,
          15,
          15,
          15,
          15,
          15,
          15,
          15,
          15,
          15,
          10,
          10,
          10,
          10,
          10,
          10,
          10,
          10,
          10,
          10,
          10,
          10,
          5,
          5,
          5,
          5,
          5,
          5,
          5,
          5,
          5,
          5,
          5,
          5,
          3,
          3,
          3,
          3,
          3,
          3,
          3,
          3,
          3,
          3,
          3,
          3,
          2,
          2,
          2,
          2,
          2,
          2,
          2,
          2,
          2,
          2,
          2,
          2,
          50,
          50,
          50,
          50,
          50,
          50,
          50,
          50,
          50,
          50,
          50,
          50,
          40,
          40,
          40,
          40,
          40,
          40,
          40,
          40,
          40,
          40,
          40,
          40,
          30,
          30,
          30,
          30,
          30,
          30,
          30,
          30,
          30,
          30,
          30,
          30,
          25,
          25,
          25,
          25,
          25,
          25,
          25,
          25,
          25,
          25,
          25,
          25,
          20,
          20,
          20,
          20,
          20,
          20,
          20,
          20,
          20,
          20,
          20,
          20,
          15,
          15,
          15,
          15,
          15,
          15,
          15,
          15,
          15,
          15,
          15,
          15,
          10,
          10,
          10,
          10,
          10,
          10,
          10,
          10,
          10,
          10,
          10,
          10,
          5,
          5,
          5,
          5,
          5,
          5,
          5,
          5,
          5,
          5,
          5,
          5,
          3,
          3,
          3,
          3,
          3,
          3,
          3,
          3,
          3,
          3,
          3,
          3,
          2,
          2,
          2,
          2,
          2,
          2,
          2,
          2,
          2,
          2,
          2,
          2,
          50,
          50,
          50,
          50,
          50,
          50,
          50,
          50,
          50,
          50,
          50,
          50,
          40,
          40,
          40,
          40,
          40,
          40,
          40,
          40,
          40,
          40,
          40,
          40,
          30,
          30,
          30,
          30,
          30,
          30,
          30,
          30,
          30,
          30,
          30,
          30,
          25,
          25,
          25,
          25,
          25,
          25,
          25,
          25,
          25,
          25,
          25,
          25,
          20,
          20,
          20,
          20,
          20,
          20,
          20,
          20,
          20,
          20,
          20,
          20,
          15,
          15,
          15,
          15,
          15,
          15,
          15,
          15,
          15,
          15,
          15,
          15,
          10,
          10,
          10,
          10,
          10,
          10,
          10,
          10,
          10,
          10,
          10,
          10,
          5,
          5,
          5,
          5,
          5,
          5,
          5,
          5,
          5,
          5,
          5,
          5,
          3,
          3,
          3,
          3,
          3,
          3,
          3,
          3,
          3,
          3,
          3,
          3,
          2,
          2,
          2,
          2,
          2,
          2,
          2,
          2,
          2,
          2,
          2,
          2,
          50,
          50,
          50,
          50,
          50,
          50,
          50,
          50,
          50,
          50,
          50,
          50,
          40,
          40,
          40,
          40,
          40,
          40,
          40,
          40,
          40,
          40,
          40,
          40,
          30,
          30,
          30,
          30,
          30,
          30,
          30,
          30,
          30,
          30,
          30,
          30,
          25,
          25,
          25,
          25,
          25,
          25,
          25,
          25,
          25,
          25,
          25,
          25,
          20,
          20,
          20,
          20,
          20,
          20,
          20,
          20,
          20,
          20,
          20,
          20,
          15,
          15,
          15,
          15,
          15,
          15,
          15,
          15,
          15,
          15,
          15,
          15,
          10,
          10,
          10,
          10,
          10,
          10,
          10,
          10,
          10,
          10,
          10,
          10,
          5,
          5,
          5,
          5,
          5,
          5,
          5,
          5,
          5,
          5,
          5,
          5,
          3,
          3,
          3,
          3,
          3,
          3,
          3,
          3,
          3,
          3,
          3,
          3,
          2,
          2,
          2,
          2,
          2,
          2,
          2,
          2,
          2,
          2,
          2,
          2
         ]
        }
       ],
       "layout": {
        "coloraxis": {
         "colorbar": {
          "title": {
           "text": "test rmse"
          }
         },
         "colorscale": [
          [
           0,
           "#440154"
          ],
          [
           0.1111111111111111,
           "#482878"
          ],
          [
           0.2222222222222222,
           "#3e4989"
          ],
          [
           0.3333333333333333,
           "#31688e"
          ],
          [
           0.4444444444444444,
           "#26828e"
          ],
          [
           0.5555555555555556,
           "#1f9e89"
          ],
          [
           0.6666666666666666,
           "#35b779"
          ],
          [
           0.7777777777777778,
           "#6ece58"
          ],
          [
           0.8888888888888888,
           "#b5de2b"
          ],
          [
           1,
           "#fde725"
          ]
         ]
        },
        "height": 800,
        "legend": {
         "tracegroupgap": 0
        },
        "scene": {
         "domain": {
          "x": [
           0,
           1
          ],
          "y": [
           0,
           1
          ]
         },
         "xaxis": {
          "title": {
           "text": "num_leaves"
          }
         },
         "yaxis": {
          "title": {
           "text": "max_depth"
          }
         },
         "zaxis": {
          "title": {
           "text": "min_child_samples"
          }
         }
        },
        "template": {
         "data": {
          "bar": [
           {
            "error_x": {
             "color": "#2a3f5f"
            },
            "error_y": {
             "color": "#2a3f5f"
            },
            "marker": {
             "line": {
              "color": "#E5ECF6",
              "width": 0.5
             },
             "pattern": {
              "fillmode": "overlay",
              "size": 10,
              "solidity": 0.2
             }
            },
            "type": "bar"
           }
          ],
          "barpolar": [
           {
            "marker": {
             "line": {
              "color": "#E5ECF6",
              "width": 0.5
             },
             "pattern": {
              "fillmode": "overlay",
              "size": 10,
              "solidity": 0.2
             }
            },
            "type": "barpolar"
           }
          ],
          "carpet": [
           {
            "aaxis": {
             "endlinecolor": "#2a3f5f",
             "gridcolor": "white",
             "linecolor": "white",
             "minorgridcolor": "white",
             "startlinecolor": "#2a3f5f"
            },
            "baxis": {
             "endlinecolor": "#2a3f5f",
             "gridcolor": "white",
             "linecolor": "white",
             "minorgridcolor": "white",
             "startlinecolor": "#2a3f5f"
            },
            "type": "carpet"
           }
          ],
          "choropleth": [
           {
            "colorbar": {
             "outlinewidth": 0,
             "ticks": ""
            },
            "type": "choropleth"
           }
          ],
          "contour": [
           {
            "colorbar": {
             "outlinewidth": 0,
             "ticks": ""
            },
            "colorscale": [
             [
              0,
              "#0d0887"
             ],
             [
              0.1111111111111111,
              "#46039f"
             ],
             [
              0.2222222222222222,
              "#7201a8"
             ],
             [
              0.3333333333333333,
              "#9c179e"
             ],
             [
              0.4444444444444444,
              "#bd3786"
             ],
             [
              0.5555555555555556,
              "#d8576b"
             ],
             [
              0.6666666666666666,
              "#ed7953"
             ],
             [
              0.7777777777777778,
              "#fb9f3a"
             ],
             [
              0.8888888888888888,
              "#fdca26"
             ],
             [
              1,
              "#f0f921"
             ]
            ],
            "type": "contour"
           }
          ],
          "contourcarpet": [
           {
            "colorbar": {
             "outlinewidth": 0,
             "ticks": ""
            },
            "type": "contourcarpet"
           }
          ],
          "heatmap": [
           {
            "colorbar": {
             "outlinewidth": 0,
             "ticks": ""
            },
            "colorscale": [
             [
              0,
              "#0d0887"
             ],
             [
              0.1111111111111111,
              "#46039f"
             ],
             [
              0.2222222222222222,
              "#7201a8"
             ],
             [
              0.3333333333333333,
              "#9c179e"
             ],
             [
              0.4444444444444444,
              "#bd3786"
             ],
             [
              0.5555555555555556,
              "#d8576b"
             ],
             [
              0.6666666666666666,
              "#ed7953"
             ],
             [
              0.7777777777777778,
              "#fb9f3a"
             ],
             [
              0.8888888888888888,
              "#fdca26"
             ],
             [
              1,
              "#f0f921"
             ]
            ],
            "type": "heatmap"
           }
          ],
          "heatmapgl": [
           {
            "colorbar": {
             "outlinewidth": 0,
             "ticks": ""
            },
            "colorscale": [
             [
              0,
              "#0d0887"
             ],
             [
              0.1111111111111111,
              "#46039f"
             ],
             [
              0.2222222222222222,
              "#7201a8"
             ],
             [
              0.3333333333333333,
              "#9c179e"
             ],
             [
              0.4444444444444444,
              "#bd3786"
             ],
             [
              0.5555555555555556,
              "#d8576b"
             ],
             [
              0.6666666666666666,
              "#ed7953"
             ],
             [
              0.7777777777777778,
              "#fb9f3a"
             ],
             [
              0.8888888888888888,
              "#fdca26"
             ],
             [
              1,
              "#f0f921"
             ]
            ],
            "type": "heatmapgl"
           }
          ],
          "histogram": [
           {
            "marker": {
             "pattern": {
              "fillmode": "overlay",
              "size": 10,
              "solidity": 0.2
             }
            },
            "type": "histogram"
           }
          ],
          "histogram2d": [
           {
            "colorbar": {
             "outlinewidth": 0,
             "ticks": ""
            },
            "colorscale": [
             [
              0,
              "#0d0887"
             ],
             [
              0.1111111111111111,
              "#46039f"
             ],
             [
              0.2222222222222222,
              "#7201a8"
             ],
             [
              0.3333333333333333,
              "#9c179e"
             ],
             [
              0.4444444444444444,
              "#bd3786"
             ],
             [
              0.5555555555555556,
              "#d8576b"
             ],
             [
              0.6666666666666666,
              "#ed7953"
             ],
             [
              0.7777777777777778,
              "#fb9f3a"
             ],
             [
              0.8888888888888888,
              "#fdca26"
             ],
             [
              1,
              "#f0f921"
             ]
            ],
            "type": "histogram2d"
           }
          ],
          "histogram2dcontour": [
           {
            "colorbar": {
             "outlinewidth": 0,
             "ticks": ""
            },
            "colorscale": [
             [
              0,
              "#0d0887"
             ],
             [
              0.1111111111111111,
              "#46039f"
             ],
             [
              0.2222222222222222,
              "#7201a8"
             ],
             [
              0.3333333333333333,
              "#9c179e"
             ],
             [
              0.4444444444444444,
              "#bd3786"
             ],
             [
              0.5555555555555556,
              "#d8576b"
             ],
             [
              0.6666666666666666,
              "#ed7953"
             ],
             [
              0.7777777777777778,
              "#fb9f3a"
             ],
             [
              0.8888888888888888,
              "#fdca26"
             ],
             [
              1,
              "#f0f921"
             ]
            ],
            "type": "histogram2dcontour"
           }
          ],
          "mesh3d": [
           {
            "colorbar": {
             "outlinewidth": 0,
             "ticks": ""
            },
            "type": "mesh3d"
           }
          ],
          "parcoords": [
           {
            "line": {
             "colorbar": {
              "outlinewidth": 0,
              "ticks": ""
             }
            },
            "type": "parcoords"
           }
          ],
          "pie": [
           {
            "automargin": true,
            "type": "pie"
           }
          ],
          "scatter": [
           {
            "fillpattern": {
             "fillmode": "overlay",
             "size": 10,
             "solidity": 0.2
            },
            "type": "scatter"
           }
          ],
          "scatter3d": [
           {
            "line": {
             "colorbar": {
              "outlinewidth": 0,
              "ticks": ""
             }
            },
            "marker": {
             "colorbar": {
              "outlinewidth": 0,
              "ticks": ""
             }
            },
            "type": "scatter3d"
           }
          ],
          "scattercarpet": [
           {
            "marker": {
             "colorbar": {
              "outlinewidth": 0,
              "ticks": ""
             }
            },
            "type": "scattercarpet"
           }
          ],
          "scattergeo": [
           {
            "marker": {
             "colorbar": {
              "outlinewidth": 0,
              "ticks": ""
             }
            },
            "type": "scattergeo"
           }
          ],
          "scattergl": [
           {
            "marker": {
             "colorbar": {
              "outlinewidth": 0,
              "ticks": ""
             }
            },
            "type": "scattergl"
           }
          ],
          "scattermapbox": [
           {
            "marker": {
             "colorbar": {
              "outlinewidth": 0,
              "ticks": ""
             }
            },
            "type": "scattermapbox"
           }
          ],
          "scatterpolar": [
           {
            "marker": {
             "colorbar": {
              "outlinewidth": 0,
              "ticks": ""
             }
            },
            "type": "scatterpolar"
           }
          ],
          "scatterpolargl": [
           {
            "marker": {
             "colorbar": {
              "outlinewidth": 0,
              "ticks": ""
             }
            },
            "type": "scatterpolargl"
           }
          ],
          "scatterternary": [
           {
            "marker": {
             "colorbar": {
              "outlinewidth": 0,
              "ticks": ""
             }
            },
            "type": "scatterternary"
           }
          ],
          "surface": [
           {
            "colorbar": {
             "outlinewidth": 0,
             "ticks": ""
            },
            "colorscale": [
             [
              0,
              "#0d0887"
             ],
             [
              0.1111111111111111,
              "#46039f"
             ],
             [
              0.2222222222222222,
              "#7201a8"
             ],
             [
              0.3333333333333333,
              "#9c179e"
             ],
             [
              0.4444444444444444,
              "#bd3786"
             ],
             [
              0.5555555555555556,
              "#d8576b"
             ],
             [
              0.6666666666666666,
              "#ed7953"
             ],
             [
              0.7777777777777778,
              "#fb9f3a"
             ],
             [
              0.8888888888888888,
              "#fdca26"
             ],
             [
              1,
              "#f0f921"
             ]
            ],
            "type": "surface"
           }
          ],
          "table": [
           {
            "cells": {
             "fill": {
              "color": "#EBF0F8"
             },
             "line": {
              "color": "white"
             }
            },
            "header": {
             "fill": {
              "color": "#C8D4E3"
             },
             "line": {
              "color": "white"
             }
            },
            "type": "table"
           }
          ]
         },
         "layout": {
          "annotationdefaults": {
           "arrowcolor": "#2a3f5f",
           "arrowhead": 0,
           "arrowwidth": 1
          },
          "autotypenumbers": "strict",
          "coloraxis": {
           "colorbar": {
            "outlinewidth": 0,
            "ticks": ""
           }
          },
          "colorscale": {
           "diverging": [
            [
             0,
             "#8e0152"
            ],
            [
             0.1,
             "#c51b7d"
            ],
            [
             0.2,
             "#de77ae"
            ],
            [
             0.3,
             "#f1b6da"
            ],
            [
             0.4,
             "#fde0ef"
            ],
            [
             0.5,
             "#f7f7f7"
            ],
            [
             0.6,
             "#e6f5d0"
            ],
            [
             0.7,
             "#b8e186"
            ],
            [
             0.8,
             "#7fbc41"
            ],
            [
             0.9,
             "#4d9221"
            ],
            [
             1,
             "#276419"
            ]
           ],
           "sequential": [
            [
             0,
             "#0d0887"
            ],
            [
             0.1111111111111111,
             "#46039f"
            ],
            [
             0.2222222222222222,
             "#7201a8"
            ],
            [
             0.3333333333333333,
             "#9c179e"
            ],
            [
             0.4444444444444444,
             "#bd3786"
            ],
            [
             0.5555555555555556,
             "#d8576b"
            ],
            [
             0.6666666666666666,
             "#ed7953"
            ],
            [
             0.7777777777777778,
             "#fb9f3a"
            ],
            [
             0.8888888888888888,
             "#fdca26"
            ],
            [
             1,
             "#f0f921"
            ]
           ],
           "sequentialminus": [
            [
             0,
             "#0d0887"
            ],
            [
             0.1111111111111111,
             "#46039f"
            ],
            [
             0.2222222222222222,
             "#7201a8"
            ],
            [
             0.3333333333333333,
             "#9c179e"
            ],
            [
             0.4444444444444444,
             "#bd3786"
            ],
            [
             0.5555555555555556,
             "#d8576b"
            ],
            [
             0.6666666666666666,
             "#ed7953"
            ],
            [
             0.7777777777777778,
             "#fb9f3a"
            ],
            [
             0.8888888888888888,
             "#fdca26"
            ],
            [
             1,
             "#f0f921"
            ]
           ]
          },
          "colorway": [
           "#636efa",
           "#EF553B",
           "#00cc96",
           "#ab63fa",
           "#FFA15A",
           "#19d3f3",
           "#FF6692",
           "#B6E880",
           "#FF97FF",
           "#FECB52"
          ],
          "font": {
           "color": "#2a3f5f"
          },
          "geo": {
           "bgcolor": "white",
           "lakecolor": "white",
           "landcolor": "#E5ECF6",
           "showlakes": true,
           "showland": true,
           "subunitcolor": "white"
          },
          "hoverlabel": {
           "align": "left"
          },
          "hovermode": "closest",
          "mapbox": {
           "style": "light"
          },
          "paper_bgcolor": "white",
          "plot_bgcolor": "#E5ECF6",
          "polar": {
           "angularaxis": {
            "gridcolor": "white",
            "linecolor": "white",
            "ticks": ""
           },
           "bgcolor": "#E5ECF6",
           "radialaxis": {
            "gridcolor": "white",
            "linecolor": "white",
            "ticks": ""
           }
          },
          "scene": {
           "xaxis": {
            "backgroundcolor": "#E5ECF6",
            "gridcolor": "white",
            "gridwidth": 2,
            "linecolor": "white",
            "showbackground": true,
            "ticks": "",
            "zerolinecolor": "white"
           },
           "yaxis": {
            "backgroundcolor": "#E5ECF6",
            "gridcolor": "white",
            "gridwidth": 2,
            "linecolor": "white",
            "showbackground": true,
            "ticks": "",
            "zerolinecolor": "white"
           },
           "zaxis": {
            "backgroundcolor": "#E5ECF6",
            "gridcolor": "white",
            "gridwidth": 2,
            "linecolor": "white",
            "showbackground": true,
            "ticks": "",
            "zerolinecolor": "white"
           }
          },
          "shapedefaults": {
           "line": {
            "color": "#2a3f5f"
           }
          },
          "ternary": {
           "aaxis": {
            "gridcolor": "white",
            "linecolor": "white",
            "ticks": ""
           },
           "baxis": {
            "gridcolor": "white",
            "linecolor": "white",
            "ticks": ""
           },
           "bgcolor": "#E5ECF6",
           "caxis": {
            "gridcolor": "white",
            "linecolor": "white",
            "ticks": ""
           }
          },
          "title": {
           "x": 0.05
          },
          "xaxis": {
           "automargin": true,
           "gridcolor": "white",
           "linecolor": "white",
           "ticks": "",
           "title": {
            "standoff": 15
           },
           "zerolinecolor": "white",
           "zerolinewidth": 2
          },
          "yaxis": {
           "automargin": true,
           "gridcolor": "white",
           "linecolor": "white",
           "ticks": "",
           "title": {
            "standoff": 15
           },
           "zerolinecolor": "white",
           "zerolinewidth": 2
          }
         }
        },
        "title": {
         "text": "RMSE across Grid Search Params (3D)"
        }
       }
      }
     },
     "metadata": {},
     "output_type": "display_data"
    }
   ],
   "source": [
    "fig = px.scatter_3d(\n",
    "    real_overfitting_df,\n",
    "    x='num_leaves',\n",
    "    y='max_depth',\n",
    "    z='min_child_samples',\n",
    "    color='test rmse',\n",
    "    color_continuous_scale='Viridis',\n",
    "    title='RMSE across Grid Search Params (3D)',\n",
    "    height=800,\n",
    ")\n",
    "fig.update_traces(marker=dict(size=4))\n",
    "fig.show()"
   ]
  },
  {
   "cell_type": "markdown",
   "id": "f931d8bc",
   "metadata": {},
   "source": [
    "#### Params with RMSE < 4330000"
   ]
  },
  {
   "cell_type": "code",
   "execution_count": 32,
   "id": "cf4540b2",
   "metadata": {},
   "outputs": [
    {
     "data": {
      "application/vnd.plotly.v1+json": {
       "config": {
        "plotlyServerURL": "https://plot.ly"
       },
       "data": [
        {
         "hovertemplate": "num_leaves=%{x}<br>max_depth=%{y}<br>min_child_samples=%{z}<br>test rmse=%{marker.color}<extra></extra>",
         "legendgroup": "",
         "marker": {
          "color": [],
          "coloraxis": "coloraxis",
          "size": 4,
          "symbol": "circle"
         },
         "mode": "markers",
         "name": "",
         "scene": "scene",
         "showlegend": false,
         "type": "scatter3d",
         "x": [],
         "y": [],
         "z": []
        }
       ],
       "layout": {
        "coloraxis": {
         "colorbar": {
          "title": {
           "text": "test rmse"
          }
         },
         "colorscale": [
          [
           0,
           "#440154"
          ],
          [
           0.1111111111111111,
           "#482878"
          ],
          [
           0.2222222222222222,
           "#3e4989"
          ],
          [
           0.3333333333333333,
           "#31688e"
          ],
          [
           0.4444444444444444,
           "#26828e"
          ],
          [
           0.5555555555555556,
           "#1f9e89"
          ],
          [
           0.6666666666666666,
           "#35b779"
          ],
          [
           0.7777777777777778,
           "#6ece58"
          ],
          [
           0.8888888888888888,
           "#b5de2b"
          ],
          [
           1,
           "#fde725"
          ]
         ]
        },
        "height": 800,
        "legend": {
         "tracegroupgap": 0
        },
        "scene": {
         "domain": {
          "x": [
           0,
           1
          ],
          "y": [
           0,
           1
          ]
         },
         "xaxis": {
          "title": {
           "text": "num_leaves"
          }
         },
         "yaxis": {
          "title": {
           "text": "max_depth"
          }
         },
         "zaxis": {
          "title": {
           "text": "min_child_samples"
          }
         }
        },
        "template": {
         "data": {
          "bar": [
           {
            "error_x": {
             "color": "#2a3f5f"
            },
            "error_y": {
             "color": "#2a3f5f"
            },
            "marker": {
             "line": {
              "color": "#E5ECF6",
              "width": 0.5
             },
             "pattern": {
              "fillmode": "overlay",
              "size": 10,
              "solidity": 0.2
             }
            },
            "type": "bar"
           }
          ],
          "barpolar": [
           {
            "marker": {
             "line": {
              "color": "#E5ECF6",
              "width": 0.5
             },
             "pattern": {
              "fillmode": "overlay",
              "size": 10,
              "solidity": 0.2
             }
            },
            "type": "barpolar"
           }
          ],
          "carpet": [
           {
            "aaxis": {
             "endlinecolor": "#2a3f5f",
             "gridcolor": "white",
             "linecolor": "white",
             "minorgridcolor": "white",
             "startlinecolor": "#2a3f5f"
            },
            "baxis": {
             "endlinecolor": "#2a3f5f",
             "gridcolor": "white",
             "linecolor": "white",
             "minorgridcolor": "white",
             "startlinecolor": "#2a3f5f"
            },
            "type": "carpet"
           }
          ],
          "choropleth": [
           {
            "colorbar": {
             "outlinewidth": 0,
             "ticks": ""
            },
            "type": "choropleth"
           }
          ],
          "contour": [
           {
            "colorbar": {
             "outlinewidth": 0,
             "ticks": ""
            },
            "colorscale": [
             [
              0,
              "#0d0887"
             ],
             [
              0.1111111111111111,
              "#46039f"
             ],
             [
              0.2222222222222222,
              "#7201a8"
             ],
             [
              0.3333333333333333,
              "#9c179e"
             ],
             [
              0.4444444444444444,
              "#bd3786"
             ],
             [
              0.5555555555555556,
              "#d8576b"
             ],
             [
              0.6666666666666666,
              "#ed7953"
             ],
             [
              0.7777777777777778,
              "#fb9f3a"
             ],
             [
              0.8888888888888888,
              "#fdca26"
             ],
             [
              1,
              "#f0f921"
             ]
            ],
            "type": "contour"
           }
          ],
          "contourcarpet": [
           {
            "colorbar": {
             "outlinewidth": 0,
             "ticks": ""
            },
            "type": "contourcarpet"
           }
          ],
          "heatmap": [
           {
            "colorbar": {
             "outlinewidth": 0,
             "ticks": ""
            },
            "colorscale": [
             [
              0,
              "#0d0887"
             ],
             [
              0.1111111111111111,
              "#46039f"
             ],
             [
              0.2222222222222222,
              "#7201a8"
             ],
             [
              0.3333333333333333,
              "#9c179e"
             ],
             [
              0.4444444444444444,
              "#bd3786"
             ],
             [
              0.5555555555555556,
              "#d8576b"
             ],
             [
              0.6666666666666666,
              "#ed7953"
             ],
             [
              0.7777777777777778,
              "#fb9f3a"
             ],
             [
              0.8888888888888888,
              "#fdca26"
             ],
             [
              1,
              "#f0f921"
             ]
            ],
            "type": "heatmap"
           }
          ],
          "heatmapgl": [
           {
            "colorbar": {
             "outlinewidth": 0,
             "ticks": ""
            },
            "colorscale": [
             [
              0,
              "#0d0887"
             ],
             [
              0.1111111111111111,
              "#46039f"
             ],
             [
              0.2222222222222222,
              "#7201a8"
             ],
             [
              0.3333333333333333,
              "#9c179e"
             ],
             [
              0.4444444444444444,
              "#bd3786"
             ],
             [
              0.5555555555555556,
              "#d8576b"
             ],
             [
              0.6666666666666666,
              "#ed7953"
             ],
             [
              0.7777777777777778,
              "#fb9f3a"
             ],
             [
              0.8888888888888888,
              "#fdca26"
             ],
             [
              1,
              "#f0f921"
             ]
            ],
            "type": "heatmapgl"
           }
          ],
          "histogram": [
           {
            "marker": {
             "pattern": {
              "fillmode": "overlay",
              "size": 10,
              "solidity": 0.2
             }
            },
            "type": "histogram"
           }
          ],
          "histogram2d": [
           {
            "colorbar": {
             "outlinewidth": 0,
             "ticks": ""
            },
            "colorscale": [
             [
              0,
              "#0d0887"
             ],
             [
              0.1111111111111111,
              "#46039f"
             ],
             [
              0.2222222222222222,
              "#7201a8"
             ],
             [
              0.3333333333333333,
              "#9c179e"
             ],
             [
              0.4444444444444444,
              "#bd3786"
             ],
             [
              0.5555555555555556,
              "#d8576b"
             ],
             [
              0.6666666666666666,
              "#ed7953"
             ],
             [
              0.7777777777777778,
              "#fb9f3a"
             ],
             [
              0.8888888888888888,
              "#fdca26"
             ],
             [
              1,
              "#f0f921"
             ]
            ],
            "type": "histogram2d"
           }
          ],
          "histogram2dcontour": [
           {
            "colorbar": {
             "outlinewidth": 0,
             "ticks": ""
            },
            "colorscale": [
             [
              0,
              "#0d0887"
             ],
             [
              0.1111111111111111,
              "#46039f"
             ],
             [
              0.2222222222222222,
              "#7201a8"
             ],
             [
              0.3333333333333333,
              "#9c179e"
             ],
             [
              0.4444444444444444,
              "#bd3786"
             ],
             [
              0.5555555555555556,
              "#d8576b"
             ],
             [
              0.6666666666666666,
              "#ed7953"
             ],
             [
              0.7777777777777778,
              "#fb9f3a"
             ],
             [
              0.8888888888888888,
              "#fdca26"
             ],
             [
              1,
              "#f0f921"
             ]
            ],
            "type": "histogram2dcontour"
           }
          ],
          "mesh3d": [
           {
            "colorbar": {
             "outlinewidth": 0,
             "ticks": ""
            },
            "type": "mesh3d"
           }
          ],
          "parcoords": [
           {
            "line": {
             "colorbar": {
              "outlinewidth": 0,
              "ticks": ""
             }
            },
            "type": "parcoords"
           }
          ],
          "pie": [
           {
            "automargin": true,
            "type": "pie"
           }
          ],
          "scatter": [
           {
            "fillpattern": {
             "fillmode": "overlay",
             "size": 10,
             "solidity": 0.2
            },
            "type": "scatter"
           }
          ],
          "scatter3d": [
           {
            "line": {
             "colorbar": {
              "outlinewidth": 0,
              "ticks": ""
             }
            },
            "marker": {
             "colorbar": {
              "outlinewidth": 0,
              "ticks": ""
             }
            },
            "type": "scatter3d"
           }
          ],
          "scattercarpet": [
           {
            "marker": {
             "colorbar": {
              "outlinewidth": 0,
              "ticks": ""
             }
            },
            "type": "scattercarpet"
           }
          ],
          "scattergeo": [
           {
            "marker": {
             "colorbar": {
              "outlinewidth": 0,
              "ticks": ""
             }
            },
            "type": "scattergeo"
           }
          ],
          "scattergl": [
           {
            "marker": {
             "colorbar": {
              "outlinewidth": 0,
              "ticks": ""
             }
            },
            "type": "scattergl"
           }
          ],
          "scattermapbox": [
           {
            "marker": {
             "colorbar": {
              "outlinewidth": 0,
              "ticks": ""
             }
            },
            "type": "scattermapbox"
           }
          ],
          "scatterpolar": [
           {
            "marker": {
             "colorbar": {
              "outlinewidth": 0,
              "ticks": ""
             }
            },
            "type": "scatterpolar"
           }
          ],
          "scatterpolargl": [
           {
            "marker": {
             "colorbar": {
              "outlinewidth": 0,
              "ticks": ""
             }
            },
            "type": "scatterpolargl"
           }
          ],
          "scatterternary": [
           {
            "marker": {
             "colorbar": {
              "outlinewidth": 0,
              "ticks": ""
             }
            },
            "type": "scatterternary"
           }
          ],
          "surface": [
           {
            "colorbar": {
             "outlinewidth": 0,
             "ticks": ""
            },
            "colorscale": [
             [
              0,
              "#0d0887"
             ],
             [
              0.1111111111111111,
              "#46039f"
             ],
             [
              0.2222222222222222,
              "#7201a8"
             ],
             [
              0.3333333333333333,
              "#9c179e"
             ],
             [
              0.4444444444444444,
              "#bd3786"
             ],
             [
              0.5555555555555556,
              "#d8576b"
             ],
             [
              0.6666666666666666,
              "#ed7953"
             ],
             [
              0.7777777777777778,
              "#fb9f3a"
             ],
             [
              0.8888888888888888,
              "#fdca26"
             ],
             [
              1,
              "#f0f921"
             ]
            ],
            "type": "surface"
           }
          ],
          "table": [
           {
            "cells": {
             "fill": {
              "color": "#EBF0F8"
             },
             "line": {
              "color": "white"
             }
            },
            "header": {
             "fill": {
              "color": "#C8D4E3"
             },
             "line": {
              "color": "white"
             }
            },
            "type": "table"
           }
          ]
         },
         "layout": {
          "annotationdefaults": {
           "arrowcolor": "#2a3f5f",
           "arrowhead": 0,
           "arrowwidth": 1
          },
          "autotypenumbers": "strict",
          "coloraxis": {
           "colorbar": {
            "outlinewidth": 0,
            "ticks": ""
           }
          },
          "colorscale": {
           "diverging": [
            [
             0,
             "#8e0152"
            ],
            [
             0.1,
             "#c51b7d"
            ],
            [
             0.2,
             "#de77ae"
            ],
            [
             0.3,
             "#f1b6da"
            ],
            [
             0.4,
             "#fde0ef"
            ],
            [
             0.5,
             "#f7f7f7"
            ],
            [
             0.6,
             "#e6f5d0"
            ],
            [
             0.7,
             "#b8e186"
            ],
            [
             0.8,
             "#7fbc41"
            ],
            [
             0.9,
             "#4d9221"
            ],
            [
             1,
             "#276419"
            ]
           ],
           "sequential": [
            [
             0,
             "#0d0887"
            ],
            [
             0.1111111111111111,
             "#46039f"
            ],
            [
             0.2222222222222222,
             "#7201a8"
            ],
            [
             0.3333333333333333,
             "#9c179e"
            ],
            [
             0.4444444444444444,
             "#bd3786"
            ],
            [
             0.5555555555555556,
             "#d8576b"
            ],
            [
             0.6666666666666666,
             "#ed7953"
            ],
            [
             0.7777777777777778,
             "#fb9f3a"
            ],
            [
             0.8888888888888888,
             "#fdca26"
            ],
            [
             1,
             "#f0f921"
            ]
           ],
           "sequentialminus": [
            [
             0,
             "#0d0887"
            ],
            [
             0.1111111111111111,
             "#46039f"
            ],
            [
             0.2222222222222222,
             "#7201a8"
            ],
            [
             0.3333333333333333,
             "#9c179e"
            ],
            [
             0.4444444444444444,
             "#bd3786"
            ],
            [
             0.5555555555555556,
             "#d8576b"
            ],
            [
             0.6666666666666666,
             "#ed7953"
            ],
            [
             0.7777777777777778,
             "#fb9f3a"
            ],
            [
             0.8888888888888888,
             "#fdca26"
            ],
            [
             1,
             "#f0f921"
            ]
           ]
          },
          "colorway": [
           "#636efa",
           "#EF553B",
           "#00cc96",
           "#ab63fa",
           "#FFA15A",
           "#19d3f3",
           "#FF6692",
           "#B6E880",
           "#FF97FF",
           "#FECB52"
          ],
          "font": {
           "color": "#2a3f5f"
          },
          "geo": {
           "bgcolor": "white",
           "lakecolor": "white",
           "landcolor": "#E5ECF6",
           "showlakes": true,
           "showland": true,
           "subunitcolor": "white"
          },
          "hoverlabel": {
           "align": "left"
          },
          "hovermode": "closest",
          "mapbox": {
           "style": "light"
          },
          "paper_bgcolor": "white",
          "plot_bgcolor": "#E5ECF6",
          "polar": {
           "angularaxis": {
            "gridcolor": "white",
            "linecolor": "white",
            "ticks": ""
           },
           "bgcolor": "#E5ECF6",
           "radialaxis": {
            "gridcolor": "white",
            "linecolor": "white",
            "ticks": ""
           }
          },
          "scene": {
           "xaxis": {
            "backgroundcolor": "#E5ECF6",
            "gridcolor": "white",
            "gridwidth": 2,
            "linecolor": "white",
            "showbackground": true,
            "ticks": "",
            "zerolinecolor": "white"
           },
           "yaxis": {
            "backgroundcolor": "#E5ECF6",
            "gridcolor": "white",
            "gridwidth": 2,
            "linecolor": "white",
            "showbackground": true,
            "ticks": "",
            "zerolinecolor": "white"
           },
           "zaxis": {
            "backgroundcolor": "#E5ECF6",
            "gridcolor": "white",
            "gridwidth": 2,
            "linecolor": "white",
            "showbackground": true,
            "ticks": "",
            "zerolinecolor": "white"
           }
          },
          "shapedefaults": {
           "line": {
            "color": "#2a3f5f"
           }
          },
          "ternary": {
           "aaxis": {
            "gridcolor": "white",
            "linecolor": "white",
            "ticks": ""
           },
           "baxis": {
            "gridcolor": "white",
            "linecolor": "white",
            "ticks": ""
           },
           "bgcolor": "#E5ECF6",
           "caxis": {
            "gridcolor": "white",
            "linecolor": "white",
            "ticks": ""
           }
          },
          "title": {
           "x": 0.05
          },
          "xaxis": {
           "automargin": true,
           "gridcolor": "white",
           "linecolor": "white",
           "ticks": "",
           "title": {
            "standoff": 15
           },
           "zerolinecolor": "white",
           "zerolinewidth": 2
          },
          "yaxis": {
           "automargin": true,
           "gridcolor": "white",
           "linecolor": "white",
           "ticks": "",
           "title": {
            "standoff": 15
           },
           "zerolinecolor": "white",
           "zerolinewidth": 2
          }
         }
        },
        "title": {
         "text": "RMSE across Grid Search Params (3D)"
        }
       }
      }
     },
     "metadata": {},
     "output_type": "display_data"
    }
   ],
   "source": [
    "filtered_df = real_overfitting_df[real_overfitting_df['test rmse'] < 4330000]\n",
    "\n",
    "fig = px.scatter_3d(\n",
    "    filtered_df,\n",
    "    x='num_leaves',\n",
    "    y='max_depth',\n",
    "    z='min_child_samples',\n",
    "    color='test rmse',\n",
    "    color_continuous_scale='Viridis',\n",
    "    title='RMSE across Grid Search Params (3D)',\n",
    "    height=800,\n",
    ")\n",
    "fig.update_traces(marker=dict(size=4))\n",
    "fig.show()"
   ]
  },
  {
   "cell_type": "markdown",
   "id": "395ccab6",
   "metadata": {},
   "source": [
    "#### Params with RMSE > 4500000"
   ]
  },
  {
   "cell_type": "code",
   "execution_count": 33,
   "id": "e1d4ceeb",
   "metadata": {},
   "outputs": [
    {
     "data": {
      "application/vnd.plotly.v1+json": {
       "config": {
        "plotlyServerURL": "https://plot.ly"
       },
       "data": [
        {
         "hovertemplate": "num_leaves=%{x}<br>max_depth=%{y}<br>min_child_samples=%{z}<br>test rmse=%{marker.color}<extra></extra>",
         "legendgroup": "",
         "marker": {
          "color": [
           4602577,
           4592886,
           4528393,
           4505285,
           4516330,
           4595139,
           4551596,
           4508497,
           4584339,
           4501157,
           4504117,
           4565078,
           4502340,
           4557872,
           4555116,
           4556383,
           4571025,
           4559696,
           4562324,
           4606327,
           4591961,
           4528145,
           4505060,
           4516330,
           4591896,
           4551929,
           4508497,
           4585368,
           4501157,
           4504117,
           4567323,
           4502340,
           4558376,
           4555116,
           4556383,
           4571025,
           4559696,
           4562324,
           4587290,
           4585421,
           4526408,
           4504351,
           4516330,
           4576875,
           4547792,
           4508497,
           4568928,
           4502569,
           4504117,
           4554230,
           4502340,
           4550597,
           4553341,
           4555507,
           4571232,
           4558754,
           4562566,
           4572725,
           4570734,
           4531234,
           4516330,
           4565906,
           4540097,
           4508497,
           4551690,
           4500807,
           4504117,
           4550520,
           4502340,
           4547642,
           4549894,
           4558413,
           4574403,
           4556506,
           4561918,
           4563592,
           4561720,
           4524495,
           4516330,
           4552180,
           4535322,
           4508497,
           4540656,
           4504117,
           4540331,
           4502340,
           4539790,
           4549575,
           4557188,
           4572460,
           4558066,
           4562295,
           4549650,
           4547834,
           4515822,
           4516330,
           4539994,
           4524191,
           4508497,
           4534873,
           4504117,
           4531424,
           4502340,
           4530417,
           4544418,
           4554862,
           4568861,
           4559247,
           4560183,
           4537188,
           4537812,
           4510284,
           4516330,
           4532256,
           4512711,
           4508497,
           4529805,
           4504117,
           4523603,
           4502340,
           4526399,
           4541753,
           4555071,
           4570066,
           4564551,
           4560073,
           4520808,
           4526764,
           4509162,
           4516330,
           4513509,
           4511820,
           4508497,
           4505842,
           4504117,
           4516779,
           4502340,
           4518550,
           4528540,
           4546060,
           4569095,
           4567327,
           4551781,
           4507564,
           4516774,
           4516330,
           4506121,
           4500366,
           4508497,
           4504117,
           4502340,
           4518759,
           4539628,
           4559911,
           4561525,
           4555064,
           4516330,
           4508497,
           4504117,
           4502340,
           4516330,
           4508497,
           4504117,
           4502340,
           4527525,
           4514412,
           4510620,
           4503976,
           4532252,
           4532252,
           4532252,
           4532252,
           4532252,
           4532252,
           4532252,
           4532252,
           4529295,
           4534096,
           4541683,
           4559951,
           4528474,
           4528474,
           4528474,
           4528474,
           4528474,
           4528474,
           4528474,
           4528474,
           4538213,
           4535726,
           4515976,
           4550920,
           4537403,
           4506622,
           4506622,
           4506622,
           4506622,
           4506622,
           4506622,
           4506622,
           4506622,
           4505385,
           4533723,
           4530477,
           4513469,
           4514491,
           4509441,
           4513604,
           4503271
          ],
          "coloraxis": "coloraxis",
          "size": 4,
          "symbol": "circle"
         },
         "mode": "markers",
         "name": "",
         "scene": "scene",
         "showlegend": false,
         "type": "scatter3d",
         "x": [
          1000,
          500,
          300,
          250,
          10,
          1000,
          500,
          10,
          1000,
          500,
          10,
          1000,
          10,
          1000,
          1000,
          1000,
          1000,
          1000,
          1000,
          1000,
          500,
          300,
          250,
          10,
          1000,
          500,
          10,
          1000,
          500,
          10,
          1000,
          10,
          1000,
          1000,
          1000,
          1000,
          1000,
          1000,
          1000,
          500,
          300,
          250,
          10,
          1000,
          500,
          10,
          1000,
          500,
          10,
          1000,
          10,
          1000,
          1000,
          1000,
          1000,
          1000,
          1000,
          1000,
          500,
          300,
          10,
          1000,
          500,
          10,
          1000,
          500,
          10,
          1000,
          10,
          1000,
          1000,
          1000,
          1000,
          1000,
          1000,
          1000,
          500,
          300,
          10,
          1000,
          500,
          10,
          1000,
          10,
          1000,
          10,
          1000,
          1000,
          1000,
          1000,
          1000,
          1000,
          1000,
          500,
          300,
          10,
          1000,
          500,
          10,
          1000,
          10,
          1000,
          10,
          1000,
          1000,
          1000,
          1000,
          1000,
          1000,
          1000,
          500,
          300,
          10,
          1000,
          500,
          10,
          1000,
          10,
          1000,
          10,
          1000,
          1000,
          1000,
          1000,
          1000,
          1000,
          1000,
          500,
          300,
          10,
          1000,
          500,
          10,
          1000,
          10,
          1000,
          10,
          1000,
          1000,
          1000,
          1000,
          1000,
          1000,
          1000,
          500,
          10,
          1000,
          500,
          10,
          10,
          10,
          1000,
          1000,
          1000,
          1000,
          1000,
          10,
          10,
          10,
          10,
          10,
          10,
          10,
          10,
          10,
          10,
          10,
          10,
          1000,
          500,
          300,
          250,
          200,
          150,
          100,
          50,
          31,
          25,
          20,
          10,
          1000,
          500,
          300,
          250,
          200,
          150,
          100,
          50,
          31,
          25,
          20,
          10,
          10,
          1000,
          500,
          300,
          250,
          200,
          150,
          100,
          50,
          25,
          10,
          10,
          10,
          10,
          10,
          10,
          10
         ],
         "y": [
          200,
          200,
          200,
          200,
          200,
          200,
          200,
          200,
          200,
          200,
          200,
          200,
          200,
          200,
          200,
          200,
          200,
          200,
          200,
          100,
          100,
          100,
          100,
          100,
          100,
          100,
          100,
          100,
          100,
          100,
          100,
          100,
          100,
          100,
          100,
          100,
          100,
          100,
          50,
          50,
          50,
          50,
          50,
          50,
          50,
          50,
          50,
          50,
          50,
          50,
          50,
          50,
          50,
          50,
          50,
          50,
          50,
          40,
          40,
          40,
          40,
          40,
          40,
          40,
          40,
          40,
          40,
          40,
          40,
          40,
          40,
          40,
          40,
          40,
          40,
          35,
          35,
          35,
          35,
          35,
          35,
          35,
          35,
          35,
          35,
          35,
          35,
          35,
          35,
          35,
          35,
          35,
          30,
          30,
          30,
          30,
          30,
          30,
          30,
          30,
          30,
          30,
          30,
          30,
          30,
          30,
          30,
          30,
          30,
          25,
          25,
          25,
          25,
          25,
          25,
          25,
          25,
          25,
          25,
          25,
          25,
          25,
          25,
          25,
          25,
          25,
          20,
          20,
          20,
          20,
          20,
          20,
          20,
          20,
          20,
          20,
          20,
          20,
          20,
          20,
          20,
          20,
          20,
          15,
          15,
          15,
          15,
          15,
          15,
          15,
          15,
          15,
          15,
          15,
          15,
          15,
          10,
          10,
          10,
          10,
          9,
          9,
          9,
          9,
          8,
          8,
          8,
          8,
          5,
          5,
          5,
          5,
          5,
          5,
          5,
          5,
          5,
          5,
          5,
          5,
          5,
          5,
          5,
          5,
          5,
          5,
          5,
          5,
          5,
          5,
          5,
          5,
          5,
          5,
          5,
          5,
          5,
          5,
          5,
          5,
          5,
          5,
          5,
          5,
          5,
          5,
          5,
          5,
          5
         ],
         "z": [
          50,
          50,
          50,
          50,
          50,
          40,
          40,
          40,
          30,
          30,
          30,
          25,
          25,
          20,
          15,
          10,
          5,
          3,
          2,
          50,
          50,
          50,
          50,
          50,
          40,
          40,
          40,
          30,
          30,
          30,
          25,
          25,
          20,
          15,
          10,
          5,
          3,
          2,
          50,
          50,
          50,
          50,
          50,
          40,
          40,
          40,
          30,
          30,
          30,
          25,
          25,
          20,
          15,
          10,
          5,
          3,
          2,
          50,
          50,
          50,
          50,
          40,
          40,
          40,
          30,
          30,
          30,
          25,
          25,
          20,
          15,
          10,
          5,
          3,
          2,
          50,
          50,
          50,
          50,
          40,
          40,
          40,
          30,
          30,
          25,
          25,
          20,
          15,
          10,
          5,
          3,
          2,
          50,
          50,
          50,
          50,
          40,
          40,
          40,
          30,
          30,
          25,
          25,
          20,
          15,
          10,
          5,
          3,
          2,
          50,
          50,
          50,
          50,
          40,
          40,
          40,
          30,
          30,
          25,
          25,
          20,
          15,
          10,
          5,
          3,
          2,
          50,
          50,
          50,
          50,
          40,
          40,
          40,
          30,
          30,
          25,
          25,
          20,
          15,
          10,
          5,
          3,
          2,
          50,
          50,
          50,
          40,
          40,
          40,
          30,
          25,
          15,
          10,
          5,
          3,
          2,
          50,
          40,
          30,
          25,
          50,
          40,
          30,
          25,
          50,
          40,
          30,
          25,
          50,
          50,
          50,
          50,
          50,
          50,
          50,
          50,
          50,
          50,
          50,
          50,
          40,
          40,
          40,
          40,
          40,
          40,
          40,
          40,
          40,
          40,
          40,
          40,
          30,
          25,
          25,
          25,
          25,
          25,
          25,
          25,
          25,
          25,
          25,
          20,
          15,
          10,
          5,
          3,
          2
         ]
        }
       ],
       "layout": {
        "coloraxis": {
         "colorbar": {
          "title": {
           "text": "test rmse"
          }
         },
         "colorscale": [
          [
           0,
           "#440154"
          ],
          [
           0.1111111111111111,
           "#482878"
          ],
          [
           0.2222222222222222,
           "#3e4989"
          ],
          [
           0.3333333333333333,
           "#31688e"
          ],
          [
           0.4444444444444444,
           "#26828e"
          ],
          [
           0.5555555555555556,
           "#1f9e89"
          ],
          [
           0.6666666666666666,
           "#35b779"
          ],
          [
           0.7777777777777778,
           "#6ece58"
          ],
          [
           0.8888888888888888,
           "#b5de2b"
          ],
          [
           1,
           "#fde725"
          ]
         ]
        },
        "height": 800,
        "legend": {
         "tracegroupgap": 0
        },
        "scene": {
         "domain": {
          "x": [
           0,
           1
          ],
          "y": [
           0,
           1
          ]
         },
         "xaxis": {
          "title": {
           "text": "num_leaves"
          }
         },
         "yaxis": {
          "title": {
           "text": "max_depth"
          }
         },
         "zaxis": {
          "title": {
           "text": "min_child_samples"
          }
         }
        },
        "template": {
         "data": {
          "bar": [
           {
            "error_x": {
             "color": "#2a3f5f"
            },
            "error_y": {
             "color": "#2a3f5f"
            },
            "marker": {
             "line": {
              "color": "#E5ECF6",
              "width": 0.5
             },
             "pattern": {
              "fillmode": "overlay",
              "size": 10,
              "solidity": 0.2
             }
            },
            "type": "bar"
           }
          ],
          "barpolar": [
           {
            "marker": {
             "line": {
              "color": "#E5ECF6",
              "width": 0.5
             },
             "pattern": {
              "fillmode": "overlay",
              "size": 10,
              "solidity": 0.2
             }
            },
            "type": "barpolar"
           }
          ],
          "carpet": [
           {
            "aaxis": {
             "endlinecolor": "#2a3f5f",
             "gridcolor": "white",
             "linecolor": "white",
             "minorgridcolor": "white",
             "startlinecolor": "#2a3f5f"
            },
            "baxis": {
             "endlinecolor": "#2a3f5f",
             "gridcolor": "white",
             "linecolor": "white",
             "minorgridcolor": "white",
             "startlinecolor": "#2a3f5f"
            },
            "type": "carpet"
           }
          ],
          "choropleth": [
           {
            "colorbar": {
             "outlinewidth": 0,
             "ticks": ""
            },
            "type": "choropleth"
           }
          ],
          "contour": [
           {
            "colorbar": {
             "outlinewidth": 0,
             "ticks": ""
            },
            "colorscale": [
             [
              0,
              "#0d0887"
             ],
             [
              0.1111111111111111,
              "#46039f"
             ],
             [
              0.2222222222222222,
              "#7201a8"
             ],
             [
              0.3333333333333333,
              "#9c179e"
             ],
             [
              0.4444444444444444,
              "#bd3786"
             ],
             [
              0.5555555555555556,
              "#d8576b"
             ],
             [
              0.6666666666666666,
              "#ed7953"
             ],
             [
              0.7777777777777778,
              "#fb9f3a"
             ],
             [
              0.8888888888888888,
              "#fdca26"
             ],
             [
              1,
              "#f0f921"
             ]
            ],
            "type": "contour"
           }
          ],
          "contourcarpet": [
           {
            "colorbar": {
             "outlinewidth": 0,
             "ticks": ""
            },
            "type": "contourcarpet"
           }
          ],
          "heatmap": [
           {
            "colorbar": {
             "outlinewidth": 0,
             "ticks": ""
            },
            "colorscale": [
             [
              0,
              "#0d0887"
             ],
             [
              0.1111111111111111,
              "#46039f"
             ],
             [
              0.2222222222222222,
              "#7201a8"
             ],
             [
              0.3333333333333333,
              "#9c179e"
             ],
             [
              0.4444444444444444,
              "#bd3786"
             ],
             [
              0.5555555555555556,
              "#d8576b"
             ],
             [
              0.6666666666666666,
              "#ed7953"
             ],
             [
              0.7777777777777778,
              "#fb9f3a"
             ],
             [
              0.8888888888888888,
              "#fdca26"
             ],
             [
              1,
              "#f0f921"
             ]
            ],
            "type": "heatmap"
           }
          ],
          "heatmapgl": [
           {
            "colorbar": {
             "outlinewidth": 0,
             "ticks": ""
            },
            "colorscale": [
             [
              0,
              "#0d0887"
             ],
             [
              0.1111111111111111,
              "#46039f"
             ],
             [
              0.2222222222222222,
              "#7201a8"
             ],
             [
              0.3333333333333333,
              "#9c179e"
             ],
             [
              0.4444444444444444,
              "#bd3786"
             ],
             [
              0.5555555555555556,
              "#d8576b"
             ],
             [
              0.6666666666666666,
              "#ed7953"
             ],
             [
              0.7777777777777778,
              "#fb9f3a"
             ],
             [
              0.8888888888888888,
              "#fdca26"
             ],
             [
              1,
              "#f0f921"
             ]
            ],
            "type": "heatmapgl"
           }
          ],
          "histogram": [
           {
            "marker": {
             "pattern": {
              "fillmode": "overlay",
              "size": 10,
              "solidity": 0.2
             }
            },
            "type": "histogram"
           }
          ],
          "histogram2d": [
           {
            "colorbar": {
             "outlinewidth": 0,
             "ticks": ""
            },
            "colorscale": [
             [
              0,
              "#0d0887"
             ],
             [
              0.1111111111111111,
              "#46039f"
             ],
             [
              0.2222222222222222,
              "#7201a8"
             ],
             [
              0.3333333333333333,
              "#9c179e"
             ],
             [
              0.4444444444444444,
              "#bd3786"
             ],
             [
              0.5555555555555556,
              "#d8576b"
             ],
             [
              0.6666666666666666,
              "#ed7953"
             ],
             [
              0.7777777777777778,
              "#fb9f3a"
             ],
             [
              0.8888888888888888,
              "#fdca26"
             ],
             [
              1,
              "#f0f921"
             ]
            ],
            "type": "histogram2d"
           }
          ],
          "histogram2dcontour": [
           {
            "colorbar": {
             "outlinewidth": 0,
             "ticks": ""
            },
            "colorscale": [
             [
              0,
              "#0d0887"
             ],
             [
              0.1111111111111111,
              "#46039f"
             ],
             [
              0.2222222222222222,
              "#7201a8"
             ],
             [
              0.3333333333333333,
              "#9c179e"
             ],
             [
              0.4444444444444444,
              "#bd3786"
             ],
             [
              0.5555555555555556,
              "#d8576b"
             ],
             [
              0.6666666666666666,
              "#ed7953"
             ],
             [
              0.7777777777777778,
              "#fb9f3a"
             ],
             [
              0.8888888888888888,
              "#fdca26"
             ],
             [
              1,
              "#f0f921"
             ]
            ],
            "type": "histogram2dcontour"
           }
          ],
          "mesh3d": [
           {
            "colorbar": {
             "outlinewidth": 0,
             "ticks": ""
            },
            "type": "mesh3d"
           }
          ],
          "parcoords": [
           {
            "line": {
             "colorbar": {
              "outlinewidth": 0,
              "ticks": ""
             }
            },
            "type": "parcoords"
           }
          ],
          "pie": [
           {
            "automargin": true,
            "type": "pie"
           }
          ],
          "scatter": [
           {
            "fillpattern": {
             "fillmode": "overlay",
             "size": 10,
             "solidity": 0.2
            },
            "type": "scatter"
           }
          ],
          "scatter3d": [
           {
            "line": {
             "colorbar": {
              "outlinewidth": 0,
              "ticks": ""
             }
            },
            "marker": {
             "colorbar": {
              "outlinewidth": 0,
              "ticks": ""
             }
            },
            "type": "scatter3d"
           }
          ],
          "scattercarpet": [
           {
            "marker": {
             "colorbar": {
              "outlinewidth": 0,
              "ticks": ""
             }
            },
            "type": "scattercarpet"
           }
          ],
          "scattergeo": [
           {
            "marker": {
             "colorbar": {
              "outlinewidth": 0,
              "ticks": ""
             }
            },
            "type": "scattergeo"
           }
          ],
          "scattergl": [
           {
            "marker": {
             "colorbar": {
              "outlinewidth": 0,
              "ticks": ""
             }
            },
            "type": "scattergl"
           }
          ],
          "scattermapbox": [
           {
            "marker": {
             "colorbar": {
              "outlinewidth": 0,
              "ticks": ""
             }
            },
            "type": "scattermapbox"
           }
          ],
          "scatterpolar": [
           {
            "marker": {
             "colorbar": {
              "outlinewidth": 0,
              "ticks": ""
             }
            },
            "type": "scatterpolar"
           }
          ],
          "scatterpolargl": [
           {
            "marker": {
             "colorbar": {
              "outlinewidth": 0,
              "ticks": ""
             }
            },
            "type": "scatterpolargl"
           }
          ],
          "scatterternary": [
           {
            "marker": {
             "colorbar": {
              "outlinewidth": 0,
              "ticks": ""
             }
            },
            "type": "scatterternary"
           }
          ],
          "surface": [
           {
            "colorbar": {
             "outlinewidth": 0,
             "ticks": ""
            },
            "colorscale": [
             [
              0,
              "#0d0887"
             ],
             [
              0.1111111111111111,
              "#46039f"
             ],
             [
              0.2222222222222222,
              "#7201a8"
             ],
             [
              0.3333333333333333,
              "#9c179e"
             ],
             [
              0.4444444444444444,
              "#bd3786"
             ],
             [
              0.5555555555555556,
              "#d8576b"
             ],
             [
              0.6666666666666666,
              "#ed7953"
             ],
             [
              0.7777777777777778,
              "#fb9f3a"
             ],
             [
              0.8888888888888888,
              "#fdca26"
             ],
             [
              1,
              "#f0f921"
             ]
            ],
            "type": "surface"
           }
          ],
          "table": [
           {
            "cells": {
             "fill": {
              "color": "#EBF0F8"
             },
             "line": {
              "color": "white"
             }
            },
            "header": {
             "fill": {
              "color": "#C8D4E3"
             },
             "line": {
              "color": "white"
             }
            },
            "type": "table"
           }
          ]
         },
         "layout": {
          "annotationdefaults": {
           "arrowcolor": "#2a3f5f",
           "arrowhead": 0,
           "arrowwidth": 1
          },
          "autotypenumbers": "strict",
          "coloraxis": {
           "colorbar": {
            "outlinewidth": 0,
            "ticks": ""
           }
          },
          "colorscale": {
           "diverging": [
            [
             0,
             "#8e0152"
            ],
            [
             0.1,
             "#c51b7d"
            ],
            [
             0.2,
             "#de77ae"
            ],
            [
             0.3,
             "#f1b6da"
            ],
            [
             0.4,
             "#fde0ef"
            ],
            [
             0.5,
             "#f7f7f7"
            ],
            [
             0.6,
             "#e6f5d0"
            ],
            [
             0.7,
             "#b8e186"
            ],
            [
             0.8,
             "#7fbc41"
            ],
            [
             0.9,
             "#4d9221"
            ],
            [
             1,
             "#276419"
            ]
           ],
           "sequential": [
            [
             0,
             "#0d0887"
            ],
            [
             0.1111111111111111,
             "#46039f"
            ],
            [
             0.2222222222222222,
             "#7201a8"
            ],
            [
             0.3333333333333333,
             "#9c179e"
            ],
            [
             0.4444444444444444,
             "#bd3786"
            ],
            [
             0.5555555555555556,
             "#d8576b"
            ],
            [
             0.6666666666666666,
             "#ed7953"
            ],
            [
             0.7777777777777778,
             "#fb9f3a"
            ],
            [
             0.8888888888888888,
             "#fdca26"
            ],
            [
             1,
             "#f0f921"
            ]
           ],
           "sequentialminus": [
            [
             0,
             "#0d0887"
            ],
            [
             0.1111111111111111,
             "#46039f"
            ],
            [
             0.2222222222222222,
             "#7201a8"
            ],
            [
             0.3333333333333333,
             "#9c179e"
            ],
            [
             0.4444444444444444,
             "#bd3786"
            ],
            [
             0.5555555555555556,
             "#d8576b"
            ],
            [
             0.6666666666666666,
             "#ed7953"
            ],
            [
             0.7777777777777778,
             "#fb9f3a"
            ],
            [
             0.8888888888888888,
             "#fdca26"
            ],
            [
             1,
             "#f0f921"
            ]
           ]
          },
          "colorway": [
           "#636efa",
           "#EF553B",
           "#00cc96",
           "#ab63fa",
           "#FFA15A",
           "#19d3f3",
           "#FF6692",
           "#B6E880",
           "#FF97FF",
           "#FECB52"
          ],
          "font": {
           "color": "#2a3f5f"
          },
          "geo": {
           "bgcolor": "white",
           "lakecolor": "white",
           "landcolor": "#E5ECF6",
           "showlakes": true,
           "showland": true,
           "subunitcolor": "white"
          },
          "hoverlabel": {
           "align": "left"
          },
          "hovermode": "closest",
          "mapbox": {
           "style": "light"
          },
          "paper_bgcolor": "white",
          "plot_bgcolor": "#E5ECF6",
          "polar": {
           "angularaxis": {
            "gridcolor": "white",
            "linecolor": "white",
            "ticks": ""
           },
           "bgcolor": "#E5ECF6",
           "radialaxis": {
            "gridcolor": "white",
            "linecolor": "white",
            "ticks": ""
           }
          },
          "scene": {
           "xaxis": {
            "backgroundcolor": "#E5ECF6",
            "gridcolor": "white",
            "gridwidth": 2,
            "linecolor": "white",
            "showbackground": true,
            "ticks": "",
            "zerolinecolor": "white"
           },
           "yaxis": {
            "backgroundcolor": "#E5ECF6",
            "gridcolor": "white",
            "gridwidth": 2,
            "linecolor": "white",
            "showbackground": true,
            "ticks": "",
            "zerolinecolor": "white"
           },
           "zaxis": {
            "backgroundcolor": "#E5ECF6",
            "gridcolor": "white",
            "gridwidth": 2,
            "linecolor": "white",
            "showbackground": true,
            "ticks": "",
            "zerolinecolor": "white"
           }
          },
          "shapedefaults": {
           "line": {
            "color": "#2a3f5f"
           }
          },
          "ternary": {
           "aaxis": {
            "gridcolor": "white",
            "linecolor": "white",
            "ticks": ""
           },
           "baxis": {
            "gridcolor": "white",
            "linecolor": "white",
            "ticks": ""
           },
           "bgcolor": "#E5ECF6",
           "caxis": {
            "gridcolor": "white",
            "linecolor": "white",
            "ticks": ""
           }
          },
          "title": {
           "x": 0.05
          },
          "xaxis": {
           "automargin": true,
           "gridcolor": "white",
           "linecolor": "white",
           "ticks": "",
           "title": {
            "standoff": 15
           },
           "zerolinecolor": "white",
           "zerolinewidth": 2
          },
          "yaxis": {
           "automargin": true,
           "gridcolor": "white",
           "linecolor": "white",
           "ticks": "",
           "title": {
            "standoff": 15
           },
           "zerolinecolor": "white",
           "zerolinewidth": 2
          }
         }
        },
        "title": {
         "text": "RMSE across Grid Search Params (3D)"
        }
       }
      }
     },
     "metadata": {},
     "output_type": "display_data"
    }
   ],
   "source": [
    "filtered_df = real_overfitting_df[real_overfitting_df['test rmse'] > 4500000]\n",
    "\n",
    "fig = px.scatter_3d(\n",
    "    filtered_df,\n",
    "    x='num_leaves',\n",
    "    y='max_depth',\n",
    "    z='min_child_samples',\n",
    "    color='test rmse',\n",
    "    color_continuous_scale='Viridis',\n",
    "    title='RMSE across Grid Search Params (3D)',\n",
    "    height=800,\n",
    ")\n",
    "fig.update_traces(marker=dict(size=4))\n",
    "fig.show()"
   ]
  },
  {
   "cell_type": "code",
   "execution_count": 34,
   "id": "9bf76658",
   "metadata": {},
   "outputs": [
    {
     "data": {
      "text/html": [
       "<div>\n",
       "<style scoped>\n",
       "    .dataframe tbody tr th:only-of-type {\n",
       "        vertical-align: middle;\n",
       "    }\n",
       "\n",
       "    .dataframe tbody tr th {\n",
       "        vertical-align: top;\n",
       "    }\n",
       "\n",
       "    .dataframe thead th {\n",
       "        text-align: right;\n",
       "    }\n",
       "</style>\n",
       "<table border=\"1\" class=\"dataframe\">\n",
       "  <thead>\n",
       "    <tr style=\"text-align: right;\">\n",
       "      <th></th>\n",
       "      <th>num_leaves</th>\n",
       "      <th>max_depth</th>\n",
       "      <th>min_child_samples</th>\n",
       "      <th>best iteration</th>\n",
       "      <th>model size</th>\n",
       "      <th>train rmse</th>\n",
       "      <th>test rmse</th>\n",
       "      <th>test rmse stddev</th>\n",
       "    </tr>\n",
       "  </thead>\n",
       "  <tbody>\n",
       "    <tr>\n",
       "      <th>1074</th>\n",
       "      <td>100</td>\n",
       "      <td>15</td>\n",
       "      <td>2</td>\n",
       "      <td>4708</td>\n",
       "      <td>43928428</td>\n",
       "      <td>639456</td>\n",
       "      <td>4340532</td>\n",
       "      <td>131094.596010</td>\n",
       "    </tr>\n",
       "    <tr>\n",
       "      <th>953</th>\n",
       "      <td>150</td>\n",
       "      <td>20</td>\n",
       "      <td>2</td>\n",
       "      <td>3708</td>\n",
       "      <td>52061646</td>\n",
       "      <td>519308</td>\n",
       "      <td>4341559</td>\n",
       "      <td>128994.516580</td>\n",
       "    </tr>\n",
       "    <tr>\n",
       "      <th>834</th>\n",
       "      <td>100</td>\n",
       "      <td>25</td>\n",
       "      <td>2</td>\n",
       "      <td>4597</td>\n",
       "      <td>42918090</td>\n",
       "      <td>641821</td>\n",
       "      <td>4342491</td>\n",
       "      <td>123097.153489</td>\n",
       "    </tr>\n",
       "    <tr>\n",
       "      <th>954</th>\n",
       "      <td>100</td>\n",
       "      <td>20</td>\n",
       "      <td>2</td>\n",
       "      <td>4735</td>\n",
       "      <td>44217377</td>\n",
       "      <td>630894</td>\n",
       "      <td>4343096</td>\n",
       "      <td>123576.364663</td>\n",
       "    </tr>\n",
       "    <tr>\n",
       "      <th>929</th>\n",
       "      <td>150</td>\n",
       "      <td>20</td>\n",
       "      <td>5</td>\n",
       "      <td>2552</td>\n",
       "      <td>36085516</td>\n",
       "      <td>817624</td>\n",
       "      <td>4345642</td>\n",
       "      <td>136420.663990</td>\n",
       "    </tr>\n",
       "    <tr>\n",
       "      <th>833</th>\n",
       "      <td>150</td>\n",
       "      <td>25</td>\n",
       "      <td>2</td>\n",
       "      <td>3314</td>\n",
       "      <td>46523747</td>\n",
       "      <td>557946</td>\n",
       "      <td>4345771</td>\n",
       "      <td>131364.579244</td>\n",
       "    </tr>\n",
       "    <tr>\n",
       "      <th>1063</th>\n",
       "      <td>50</td>\n",
       "      <td>15</td>\n",
       "      <td>3</td>\n",
       "      <td>5686</td>\n",
       "      <td>26701298</td>\n",
       "      <td>1139862</td>\n",
       "      <td>4345839</td>\n",
       "      <td>127679.060962</td>\n",
       "    </tr>\n",
       "    <tr>\n",
       "      <th>955</th>\n",
       "      <td>50</td>\n",
       "      <td>20</td>\n",
       "      <td>2</td>\n",
       "      <td>6918</td>\n",
       "      <td>32728929</td>\n",
       "      <td>922592</td>\n",
       "      <td>4347498</td>\n",
       "      <td>116302.505721</td>\n",
       "    </tr>\n",
       "    <tr>\n",
       "      <th>943</th>\n",
       "      <td>50</td>\n",
       "      <td>20</td>\n",
       "      <td>3</td>\n",
       "      <td>6419</td>\n",
       "      <td>30147889</td>\n",
       "      <td>1011563</td>\n",
       "      <td>4347702</td>\n",
       "      <td>128241.860572</td>\n",
       "    </tr>\n",
       "    <tr>\n",
       "      <th>930</th>\n",
       "      <td>100</td>\n",
       "      <td>20</td>\n",
       "      <td>5</td>\n",
       "      <td>3795</td>\n",
       "      <td>35689053</td>\n",
       "      <td>895014</td>\n",
       "      <td>4347991</td>\n",
       "      <td>138615.979706</td>\n",
       "    </tr>\n",
       "    <tr>\n",
       "      <th>702</th>\n",
       "      <td>100</td>\n",
       "      <td>30</td>\n",
       "      <td>3</td>\n",
       "      <td>4199</td>\n",
       "      <td>38834013</td>\n",
       "      <td>759616</td>\n",
       "      <td>4348139</td>\n",
       "      <td>135608.868381</td>\n",
       "    </tr>\n",
       "    <tr>\n",
       "      <th>1051</th>\n",
       "      <td>50</td>\n",
       "      <td>15</td>\n",
       "      <td>5</td>\n",
       "      <td>5894</td>\n",
       "      <td>28032996</td>\n",
       "      <td>1190688</td>\n",
       "      <td>4348409</td>\n",
       "      <td>126707.936359</td>\n",
       "    </tr>\n",
       "    <tr>\n",
       "      <th>822</th>\n",
       "      <td>100</td>\n",
       "      <td>25</td>\n",
       "      <td>3</td>\n",
       "      <td>3847</td>\n",
       "      <td>35588511</td>\n",
       "      <td>789090</td>\n",
       "      <td>4348496</td>\n",
       "      <td>135311.401734</td>\n",
       "    </tr>\n",
       "    <tr>\n",
       "      <th>941</th>\n",
       "      <td>150</td>\n",
       "      <td>20</td>\n",
       "      <td>3</td>\n",
       "      <td>3292</td>\n",
       "      <td>45742383</td>\n",
       "      <td>579298</td>\n",
       "      <td>4348668</td>\n",
       "      <td>133388.818655</td>\n",
       "    </tr>\n",
       "    <tr>\n",
       "      <th>1050</th>\n",
       "      <td>100</td>\n",
       "      <td>15</td>\n",
       "      <td>5</td>\n",
       "      <td>3220</td>\n",
       "      <td>30211091</td>\n",
       "      <td>1047800</td>\n",
       "      <td>4348735</td>\n",
       "      <td>133465.921286</td>\n",
       "    </tr>\n",
       "    <tr>\n",
       "      <th>569</th>\n",
       "      <td>150</td>\n",
       "      <td>35</td>\n",
       "      <td>5</td>\n",
       "      <td>2725</td>\n",
       "      <td>38554363</td>\n",
       "      <td>790577</td>\n",
       "      <td>4349224</td>\n",
       "      <td>130949.093156</td>\n",
       "    </tr>\n",
       "    <tr>\n",
       "      <th>1073</th>\n",
       "      <td>150</td>\n",
       "      <td>15</td>\n",
       "      <td>2</td>\n",
       "      <td>2983</td>\n",
       "      <td>41816714</td>\n",
       "      <td>701334</td>\n",
       "      <td>4349455</td>\n",
       "      <td>124793.467280</td>\n",
       "    </tr>\n",
       "    <tr>\n",
       "      <th>593</th>\n",
       "      <td>150</td>\n",
       "      <td>35</td>\n",
       "      <td>2</td>\n",
       "      <td>3459</td>\n",
       "      <td>48563278</td>\n",
       "      <td>525121</td>\n",
       "      <td>4349458</td>\n",
       "      <td>137747.938253</td>\n",
       "    </tr>\n",
       "    <tr>\n",
       "      <th>209</th>\n",
       "      <td>150</td>\n",
       "      <td>100</td>\n",
       "      <td>5</td>\n",
       "      <td>2774</td>\n",
       "      <td>39255979</td>\n",
       "      <td>764022</td>\n",
       "      <td>4349686</td>\n",
       "      <td>133267.809430</td>\n",
       "    </tr>\n",
       "    <tr>\n",
       "      <th>89</th>\n",
       "      <td>150</td>\n",
       "      <td>200</td>\n",
       "      <td>5</td>\n",
       "      <td>2774</td>\n",
       "      <td>39255979</td>\n",
       "      <td>764022</td>\n",
       "      <td>4349686</td>\n",
       "      <td>133267.809430</td>\n",
       "    </tr>\n",
       "  </tbody>\n",
       "</table>\n",
       "</div>"
      ],
      "text/plain": [
       "      num_leaves  max_depth  min_child_samples  best iteration  model size  \\\n",
       "1074         100         15                  2            4708    43928428   \n",
       "953          150         20                  2            3708    52061646   \n",
       "834          100         25                  2            4597    42918090   \n",
       "954          100         20                  2            4735    44217377   \n",
       "929          150         20                  5            2552    36085516   \n",
       "833          150         25                  2            3314    46523747   \n",
       "1063          50         15                  3            5686    26701298   \n",
       "955           50         20                  2            6918    32728929   \n",
       "943           50         20                  3            6419    30147889   \n",
       "930          100         20                  5            3795    35689053   \n",
       "702          100         30                  3            4199    38834013   \n",
       "1051          50         15                  5            5894    28032996   \n",
       "822          100         25                  3            3847    35588511   \n",
       "941          150         20                  3            3292    45742383   \n",
       "1050         100         15                  5            3220    30211091   \n",
       "569          150         35                  5            2725    38554363   \n",
       "1073         150         15                  2            2983    41816714   \n",
       "593          150         35                  2            3459    48563278   \n",
       "209          150        100                  5            2774    39255979   \n",
       "89           150        200                  5            2774    39255979   \n",
       "\n",
       "      train rmse  test rmse  test rmse stddev  \n",
       "1074      639456    4340532     131094.596010  \n",
       "953       519308    4341559     128994.516580  \n",
       "834       641821    4342491     123097.153489  \n",
       "954       630894    4343096     123576.364663  \n",
       "929       817624    4345642     136420.663990  \n",
       "833       557946    4345771     131364.579244  \n",
       "1063     1139862    4345839     127679.060962  \n",
       "955       922592    4347498     116302.505721  \n",
       "943      1011563    4347702     128241.860572  \n",
       "930       895014    4347991     138615.979706  \n",
       "702       759616    4348139     135608.868381  \n",
       "1051     1190688    4348409     126707.936359  \n",
       "822       789090    4348496     135311.401734  \n",
       "941       579298    4348668     133388.818655  \n",
       "1050     1047800    4348735     133465.921286  \n",
       "569       790577    4349224     130949.093156  \n",
       "1073      701334    4349455     124793.467280  \n",
       "593       525121    4349458     137747.938253  \n",
       "209       764022    4349686     133267.809430  \n",
       "89        764022    4349686     133267.809430  "
      ]
     },
     "execution_count": 34,
     "metadata": {},
     "output_type": "execute_result"
    }
   ],
   "source": [
    "real_overfitting_df.sort_values(by='test rmse').head(20)"
   ]
  },
  {
   "cell_type": "markdown",
   "id": "0fc9dd2e",
   "metadata": {},
   "source": [
    "### Params distribution"
   ]
  },
  {
   "cell_type": "code",
   "execution_count": 35,
   "id": "fbabf2ad",
   "metadata": {},
   "outputs": [],
   "source": [
    "def plot_param_distribution(df, title):\n",
    "    # create a 1×3 subplot figure\n",
    "    fig = make_subplots(\n",
    "        rows=1, cols=3,\n",
    "        subplot_titles=[\n",
    "            \"num_leaves\",\n",
    "            \"max_depth\",\n",
    "            \"min_child_samples\"\n",
    "        ]\n",
    "    )\n",
    "\n",
    "    # loop through each parameter and its bins\n",
    "    for i, (param, bins) in enumerate(param_grid.items(), start=1):\n",
    "        # add the histogram for this param into the i-th column\n",
    "        fig.add_trace(\n",
    "            go.Histogram(\n",
    "                x=df[param],\n",
    "                nbinsx=len(bins),      # one bin per category\n",
    "                showlegend=False\n",
    "            ),\n",
    "            row=1, col=i\n",
    "        )\n",
    "        # force categorical ordering on the x-axis\n",
    "        fig.update_xaxes(\n",
    "            row=1, col=i,\n",
    "            type='category',\n",
    "            categoryorder='array',\n",
    "            categoryarray=bins\n",
    "        )\n",
    "\n",
    "    # tweak overall layout\n",
    "    fig.update_layout(\n",
    "        title_text=f\"Distributions of Parameters in {title}\",\n",
    "        bargap=0.1,\n",
    "        # width=1000,\n",
    "        # height=400,\n",
    "    )\n",
    "\n",
    "    fig.show()"
   ]
  },
  {
   "cell_type": "markdown",
   "id": "f49d05e4",
   "metadata": {},
   "source": [
    "#### 100 best params"
   ]
  },
  {
   "cell_type": "code",
   "execution_count": 36,
   "id": "a2066a43",
   "metadata": {},
   "outputs": [
    {
     "data": {
      "application/vnd.plotly.v1+json": {
       "config": {
        "plotlyServerURL": "https://plot.ly"
       },
       "data": [
        {
         "nbinsx": 12,
         "showlegend": false,
         "type": "histogram",
         "x": [
          100,
          150,
          100,
          100,
          150,
          150,
          50,
          50,
          50,
          100,
          100,
          50,
          100,
          150,
          100,
          150,
          150,
          150,
          150,
          150,
          150,
          150,
          100,
          50,
          50,
          100,
          150,
          150,
          150,
          150,
          150,
          100,
          100,
          100,
          100,
          50,
          50,
          50,
          50,
          50,
          50,
          100,
          50,
          50,
          50,
          50,
          50,
          50,
          50,
          100,
          100,
          100,
          100,
          100,
          100,
          150,
          150,
          150,
          150,
          150,
          50,
          50,
          50,
          50,
          50,
          50,
          100,
          150,
          150,
          100,
          50,
          50,
          200,
          150,
          200,
          150,
          200,
          200,
          150,
          50,
          100,
          100,
          100,
          100,
          50,
          150,
          100,
          100,
          200,
          200,
          200,
          200,
          200,
          50,
          200,
          200,
          200,
          50,
          31,
          50
         ],
         "xaxis": "x",
         "yaxis": "y"
        },
        {
         "nbinsx": 13,
         "showlegend": false,
         "type": "histogram",
         "x": [
          15,
          20,
          25,
          20,
          20,
          25,
          15,
          20,
          20,
          20,
          30,
          15,
          25,
          20,
          15,
          35,
          15,
          35,
          200,
          100,
          50,
          40,
          20,
          10,
          25,
          35,
          30,
          200,
          100,
          50,
          40,
          200,
          100,
          50,
          40,
          200,
          100,
          50,
          40,
          35,
          30,
          15,
          200,
          100,
          50,
          40,
          35,
          30,
          25,
          30,
          200,
          100,
          50,
          40,
          35,
          35,
          200,
          100,
          50,
          40,
          200,
          100,
          50,
          40,
          35,
          30,
          10,
          30,
          15,
          25,
          25,
          15,
          20,
          25,
          20,
          30,
          35,
          30,
          25,
          20,
          200,
          100,
          50,
          40,
          10,
          15,
          30,
          35,
          200,
          100,
          50,
          40,
          15,
          25,
          35,
          35,
          15,
          9,
          20,
          200
         ],
         "xaxis": "x2",
         "yaxis": "y2"
        },
        {
         "nbinsx": 10,
         "showlegend": false,
         "type": "histogram",
         "x": [
          2,
          2,
          2,
          2,
          5,
          2,
          3,
          2,
          3,
          5,
          3,
          5,
          3,
          3,
          5,
          5,
          2,
          2,
          5,
          5,
          5,
          5,
          3,
          5,
          5,
          3,
          5,
          3,
          3,
          3,
          3,
          3,
          3,
          3,
          3,
          2,
          2,
          2,
          2,
          2,
          2,
          3,
          5,
          5,
          5,
          5,
          5,
          5,
          2,
          2,
          2,
          2,
          2,
          2,
          2,
          3,
          2,
          2,
          2,
          2,
          3,
          3,
          3,
          3,
          3,
          3,
          3,
          3,
          5,
          5,
          3,
          2,
          3,
          3,
          2,
          2,
          3,
          2,
          5,
          10,
          5,
          5,
          5,
          5,
          2,
          3,
          5,
          5,
          3,
          3,
          3,
          3,
          3,
          10,
          5,
          2,
          2,
          5,
          3,
          10
         ],
         "xaxis": "x3",
         "yaxis": "y3"
        }
       ],
       "layout": {
        "annotations": [
         {
          "font": {
           "size": 16
          },
          "showarrow": false,
          "text": "num_leaves",
          "x": 0.14444444444444446,
          "xanchor": "center",
          "xref": "paper",
          "y": 1,
          "yanchor": "bottom",
          "yref": "paper"
         },
         {
          "font": {
           "size": 16
          },
          "showarrow": false,
          "text": "max_depth",
          "x": 0.5,
          "xanchor": "center",
          "xref": "paper",
          "y": 1,
          "yanchor": "bottom",
          "yref": "paper"
         },
         {
          "font": {
           "size": 16
          },
          "showarrow": false,
          "text": "min_child_samples",
          "x": 0.8555555555555556,
          "xanchor": "center",
          "xref": "paper",
          "y": 1,
          "yanchor": "bottom",
          "yref": "paper"
         }
        ],
        "bargap": 0.1,
        "template": {
         "data": {
          "bar": [
           {
            "error_x": {
             "color": "#2a3f5f"
            },
            "error_y": {
             "color": "#2a3f5f"
            },
            "marker": {
             "line": {
              "color": "#E5ECF6",
              "width": 0.5
             },
             "pattern": {
              "fillmode": "overlay",
              "size": 10,
              "solidity": 0.2
             }
            },
            "type": "bar"
           }
          ],
          "barpolar": [
           {
            "marker": {
             "line": {
              "color": "#E5ECF6",
              "width": 0.5
             },
             "pattern": {
              "fillmode": "overlay",
              "size": 10,
              "solidity": 0.2
             }
            },
            "type": "barpolar"
           }
          ],
          "carpet": [
           {
            "aaxis": {
             "endlinecolor": "#2a3f5f",
             "gridcolor": "white",
             "linecolor": "white",
             "minorgridcolor": "white",
             "startlinecolor": "#2a3f5f"
            },
            "baxis": {
             "endlinecolor": "#2a3f5f",
             "gridcolor": "white",
             "linecolor": "white",
             "minorgridcolor": "white",
             "startlinecolor": "#2a3f5f"
            },
            "type": "carpet"
           }
          ],
          "choropleth": [
           {
            "colorbar": {
             "outlinewidth": 0,
             "ticks": ""
            },
            "type": "choropleth"
           }
          ],
          "contour": [
           {
            "colorbar": {
             "outlinewidth": 0,
             "ticks": ""
            },
            "colorscale": [
             [
              0,
              "#0d0887"
             ],
             [
              0.1111111111111111,
              "#46039f"
             ],
             [
              0.2222222222222222,
              "#7201a8"
             ],
             [
              0.3333333333333333,
              "#9c179e"
             ],
             [
              0.4444444444444444,
              "#bd3786"
             ],
             [
              0.5555555555555556,
              "#d8576b"
             ],
             [
              0.6666666666666666,
              "#ed7953"
             ],
             [
              0.7777777777777778,
              "#fb9f3a"
             ],
             [
              0.8888888888888888,
              "#fdca26"
             ],
             [
              1,
              "#f0f921"
             ]
            ],
            "type": "contour"
           }
          ],
          "contourcarpet": [
           {
            "colorbar": {
             "outlinewidth": 0,
             "ticks": ""
            },
            "type": "contourcarpet"
           }
          ],
          "heatmap": [
           {
            "colorbar": {
             "outlinewidth": 0,
             "ticks": ""
            },
            "colorscale": [
             [
              0,
              "#0d0887"
             ],
             [
              0.1111111111111111,
              "#46039f"
             ],
             [
              0.2222222222222222,
              "#7201a8"
             ],
             [
              0.3333333333333333,
              "#9c179e"
             ],
             [
              0.4444444444444444,
              "#bd3786"
             ],
             [
              0.5555555555555556,
              "#d8576b"
             ],
             [
              0.6666666666666666,
              "#ed7953"
             ],
             [
              0.7777777777777778,
              "#fb9f3a"
             ],
             [
              0.8888888888888888,
              "#fdca26"
             ],
             [
              1,
              "#f0f921"
             ]
            ],
            "type": "heatmap"
           }
          ],
          "heatmapgl": [
           {
            "colorbar": {
             "outlinewidth": 0,
             "ticks": ""
            },
            "colorscale": [
             [
              0,
              "#0d0887"
             ],
             [
              0.1111111111111111,
              "#46039f"
             ],
             [
              0.2222222222222222,
              "#7201a8"
             ],
             [
              0.3333333333333333,
              "#9c179e"
             ],
             [
              0.4444444444444444,
              "#bd3786"
             ],
             [
              0.5555555555555556,
              "#d8576b"
             ],
             [
              0.6666666666666666,
              "#ed7953"
             ],
             [
              0.7777777777777778,
              "#fb9f3a"
             ],
             [
              0.8888888888888888,
              "#fdca26"
             ],
             [
              1,
              "#f0f921"
             ]
            ],
            "type": "heatmapgl"
           }
          ],
          "histogram": [
           {
            "marker": {
             "pattern": {
              "fillmode": "overlay",
              "size": 10,
              "solidity": 0.2
             }
            },
            "type": "histogram"
           }
          ],
          "histogram2d": [
           {
            "colorbar": {
             "outlinewidth": 0,
             "ticks": ""
            },
            "colorscale": [
             [
              0,
              "#0d0887"
             ],
             [
              0.1111111111111111,
              "#46039f"
             ],
             [
              0.2222222222222222,
              "#7201a8"
             ],
             [
              0.3333333333333333,
              "#9c179e"
             ],
             [
              0.4444444444444444,
              "#bd3786"
             ],
             [
              0.5555555555555556,
              "#d8576b"
             ],
             [
              0.6666666666666666,
              "#ed7953"
             ],
             [
              0.7777777777777778,
              "#fb9f3a"
             ],
             [
              0.8888888888888888,
              "#fdca26"
             ],
             [
              1,
              "#f0f921"
             ]
            ],
            "type": "histogram2d"
           }
          ],
          "histogram2dcontour": [
           {
            "colorbar": {
             "outlinewidth": 0,
             "ticks": ""
            },
            "colorscale": [
             [
              0,
              "#0d0887"
             ],
             [
              0.1111111111111111,
              "#46039f"
             ],
             [
              0.2222222222222222,
              "#7201a8"
             ],
             [
              0.3333333333333333,
              "#9c179e"
             ],
             [
              0.4444444444444444,
              "#bd3786"
             ],
             [
              0.5555555555555556,
              "#d8576b"
             ],
             [
              0.6666666666666666,
              "#ed7953"
             ],
             [
              0.7777777777777778,
              "#fb9f3a"
             ],
             [
              0.8888888888888888,
              "#fdca26"
             ],
             [
              1,
              "#f0f921"
             ]
            ],
            "type": "histogram2dcontour"
           }
          ],
          "mesh3d": [
           {
            "colorbar": {
             "outlinewidth": 0,
             "ticks": ""
            },
            "type": "mesh3d"
           }
          ],
          "parcoords": [
           {
            "line": {
             "colorbar": {
              "outlinewidth": 0,
              "ticks": ""
             }
            },
            "type": "parcoords"
           }
          ],
          "pie": [
           {
            "automargin": true,
            "type": "pie"
           }
          ],
          "scatter": [
           {
            "fillpattern": {
             "fillmode": "overlay",
             "size": 10,
             "solidity": 0.2
            },
            "type": "scatter"
           }
          ],
          "scatter3d": [
           {
            "line": {
             "colorbar": {
              "outlinewidth": 0,
              "ticks": ""
             }
            },
            "marker": {
             "colorbar": {
              "outlinewidth": 0,
              "ticks": ""
             }
            },
            "type": "scatter3d"
           }
          ],
          "scattercarpet": [
           {
            "marker": {
             "colorbar": {
              "outlinewidth": 0,
              "ticks": ""
             }
            },
            "type": "scattercarpet"
           }
          ],
          "scattergeo": [
           {
            "marker": {
             "colorbar": {
              "outlinewidth": 0,
              "ticks": ""
             }
            },
            "type": "scattergeo"
           }
          ],
          "scattergl": [
           {
            "marker": {
             "colorbar": {
              "outlinewidth": 0,
              "ticks": ""
             }
            },
            "type": "scattergl"
           }
          ],
          "scattermapbox": [
           {
            "marker": {
             "colorbar": {
              "outlinewidth": 0,
              "ticks": ""
             }
            },
            "type": "scattermapbox"
           }
          ],
          "scatterpolar": [
           {
            "marker": {
             "colorbar": {
              "outlinewidth": 0,
              "ticks": ""
             }
            },
            "type": "scatterpolar"
           }
          ],
          "scatterpolargl": [
           {
            "marker": {
             "colorbar": {
              "outlinewidth": 0,
              "ticks": ""
             }
            },
            "type": "scatterpolargl"
           }
          ],
          "scatterternary": [
           {
            "marker": {
             "colorbar": {
              "outlinewidth": 0,
              "ticks": ""
             }
            },
            "type": "scatterternary"
           }
          ],
          "surface": [
           {
            "colorbar": {
             "outlinewidth": 0,
             "ticks": ""
            },
            "colorscale": [
             [
              0,
              "#0d0887"
             ],
             [
              0.1111111111111111,
              "#46039f"
             ],
             [
              0.2222222222222222,
              "#7201a8"
             ],
             [
              0.3333333333333333,
              "#9c179e"
             ],
             [
              0.4444444444444444,
              "#bd3786"
             ],
             [
              0.5555555555555556,
              "#d8576b"
             ],
             [
              0.6666666666666666,
              "#ed7953"
             ],
             [
              0.7777777777777778,
              "#fb9f3a"
             ],
             [
              0.8888888888888888,
              "#fdca26"
             ],
             [
              1,
              "#f0f921"
             ]
            ],
            "type": "surface"
           }
          ],
          "table": [
           {
            "cells": {
             "fill": {
              "color": "#EBF0F8"
             },
             "line": {
              "color": "white"
             }
            },
            "header": {
             "fill": {
              "color": "#C8D4E3"
             },
             "line": {
              "color": "white"
             }
            },
            "type": "table"
           }
          ]
         },
         "layout": {
          "annotationdefaults": {
           "arrowcolor": "#2a3f5f",
           "arrowhead": 0,
           "arrowwidth": 1
          },
          "autotypenumbers": "strict",
          "coloraxis": {
           "colorbar": {
            "outlinewidth": 0,
            "ticks": ""
           }
          },
          "colorscale": {
           "diverging": [
            [
             0,
             "#8e0152"
            ],
            [
             0.1,
             "#c51b7d"
            ],
            [
             0.2,
             "#de77ae"
            ],
            [
             0.3,
             "#f1b6da"
            ],
            [
             0.4,
             "#fde0ef"
            ],
            [
             0.5,
             "#f7f7f7"
            ],
            [
             0.6,
             "#e6f5d0"
            ],
            [
             0.7,
             "#b8e186"
            ],
            [
             0.8,
             "#7fbc41"
            ],
            [
             0.9,
             "#4d9221"
            ],
            [
             1,
             "#276419"
            ]
           ],
           "sequential": [
            [
             0,
             "#0d0887"
            ],
            [
             0.1111111111111111,
             "#46039f"
            ],
            [
             0.2222222222222222,
             "#7201a8"
            ],
            [
             0.3333333333333333,
             "#9c179e"
            ],
            [
             0.4444444444444444,
             "#bd3786"
            ],
            [
             0.5555555555555556,
             "#d8576b"
            ],
            [
             0.6666666666666666,
             "#ed7953"
            ],
            [
             0.7777777777777778,
             "#fb9f3a"
            ],
            [
             0.8888888888888888,
             "#fdca26"
            ],
            [
             1,
             "#f0f921"
            ]
           ],
           "sequentialminus": [
            [
             0,
             "#0d0887"
            ],
            [
             0.1111111111111111,
             "#46039f"
            ],
            [
             0.2222222222222222,
             "#7201a8"
            ],
            [
             0.3333333333333333,
             "#9c179e"
            ],
            [
             0.4444444444444444,
             "#bd3786"
            ],
            [
             0.5555555555555556,
             "#d8576b"
            ],
            [
             0.6666666666666666,
             "#ed7953"
            ],
            [
             0.7777777777777778,
             "#fb9f3a"
            ],
            [
             0.8888888888888888,
             "#fdca26"
            ],
            [
             1,
             "#f0f921"
            ]
           ]
          },
          "colorway": [
           "#636efa",
           "#EF553B",
           "#00cc96",
           "#ab63fa",
           "#FFA15A",
           "#19d3f3",
           "#FF6692",
           "#B6E880",
           "#FF97FF",
           "#FECB52"
          ],
          "font": {
           "color": "#2a3f5f"
          },
          "geo": {
           "bgcolor": "white",
           "lakecolor": "white",
           "landcolor": "#E5ECF6",
           "showlakes": true,
           "showland": true,
           "subunitcolor": "white"
          },
          "hoverlabel": {
           "align": "left"
          },
          "hovermode": "closest",
          "mapbox": {
           "style": "light"
          },
          "paper_bgcolor": "white",
          "plot_bgcolor": "#E5ECF6",
          "polar": {
           "angularaxis": {
            "gridcolor": "white",
            "linecolor": "white",
            "ticks": ""
           },
           "bgcolor": "#E5ECF6",
           "radialaxis": {
            "gridcolor": "white",
            "linecolor": "white",
            "ticks": ""
           }
          },
          "scene": {
           "xaxis": {
            "backgroundcolor": "#E5ECF6",
            "gridcolor": "white",
            "gridwidth": 2,
            "linecolor": "white",
            "showbackground": true,
            "ticks": "",
            "zerolinecolor": "white"
           },
           "yaxis": {
            "backgroundcolor": "#E5ECF6",
            "gridcolor": "white",
            "gridwidth": 2,
            "linecolor": "white",
            "showbackground": true,
            "ticks": "",
            "zerolinecolor": "white"
           },
           "zaxis": {
            "backgroundcolor": "#E5ECF6",
            "gridcolor": "white",
            "gridwidth": 2,
            "linecolor": "white",
            "showbackground": true,
            "ticks": "",
            "zerolinecolor": "white"
           }
          },
          "shapedefaults": {
           "line": {
            "color": "#2a3f5f"
           }
          },
          "ternary": {
           "aaxis": {
            "gridcolor": "white",
            "linecolor": "white",
            "ticks": ""
           },
           "baxis": {
            "gridcolor": "white",
            "linecolor": "white",
            "ticks": ""
           },
           "bgcolor": "#E5ECF6",
           "caxis": {
            "gridcolor": "white",
            "linecolor": "white",
            "ticks": ""
           }
          },
          "title": {
           "x": 0.05
          },
          "xaxis": {
           "automargin": true,
           "gridcolor": "white",
           "linecolor": "white",
           "ticks": "",
           "title": {
            "standoff": 15
           },
           "zerolinecolor": "white",
           "zerolinewidth": 2
          },
          "yaxis": {
           "automargin": true,
           "gridcolor": "white",
           "linecolor": "white",
           "ticks": "",
           "title": {
            "standoff": 15
           },
           "zerolinecolor": "white",
           "zerolinewidth": 2
          }
         }
        },
        "title": {
         "text": "Distributions of Parameters in Top 100 Lowest RMSE Configs"
        },
        "xaxis": {
         "anchor": "y",
         "categoryarray": [
          10,
          20,
          25,
          31,
          50,
          100,
          150,
          200,
          250,
          300,
          500,
          1000
         ],
         "categoryorder": "array",
         "domain": [
          0,
          0.2888888888888889
         ],
         "type": "category"
        },
        "xaxis2": {
         "anchor": "y2",
         "categoryarray": [
          5,
          8,
          9,
          10,
          15,
          20,
          25,
          30,
          35,
          40,
          50,
          100,
          200
         ],
         "categoryorder": "array",
         "domain": [
          0.35555555555555557,
          0.6444444444444445
         ],
         "type": "category"
        },
        "xaxis3": {
         "anchor": "y3",
         "categoryarray": [
          2,
          3,
          5,
          10,
          15,
          20,
          25,
          30,
          40,
          50
         ],
         "categoryorder": "array",
         "domain": [
          0.7111111111111111,
          1
         ],
         "type": "category"
        },
        "yaxis": {
         "anchor": "x",
         "domain": [
          0,
          1
         ]
        },
        "yaxis2": {
         "anchor": "x2",
         "domain": [
          0,
          1
         ]
        },
        "yaxis3": {
         "anchor": "x3",
         "domain": [
          0,
          1
         ]
        }
       }
      }
     },
     "metadata": {},
     "output_type": "display_data"
    }
   ],
   "source": [
    "top_100 = real_overfitting_df.nsmallest(100, 'test rmse')\n",
    "plot_param_distribution(top_100, 'Top 100 Lowest RMSE Configs')"
   ]
  },
  {
   "cell_type": "markdown",
   "id": "6115bb47",
   "metadata": {},
   "source": [
    "#### 100 worst params"
   ]
  },
  {
   "cell_type": "code",
   "execution_count": 37,
   "id": "53200575",
   "metadata": {},
   "outputs": [
    {
     "data": {
      "application/vnd.plotly.v1+json": {
       "config": {
        "plotlyServerURL": "https://plot.ly"
       },
       "data": [
        {
         "nbinsx": 12,
         "showlegend": false,
         "type": "histogram",
         "x": [
          1000,
          1000,
          1000,
          500,
          500,
          1000,
          1000,
          500,
          1000,
          1000,
          1000,
          1000,
          1000,
          1000,
          1000,
          1000,
          1000,
          500,
          1000,
          1000,
          1000,
          1000,
          1000,
          1000,
          1000,
          1000,
          1000,
          1000,
          1000,
          1000,
          1000,
          1000,
          1000,
          500,
          1000,
          1000,
          1000,
          10,
          1000,
          1000,
          1000,
          1000,
          1000,
          1000,
          1000,
          1000,
          1000,
          1000,
          1000,
          1000,
          1000,
          1000,
          1000,
          1000,
          1000,
          1000,
          1000,
          1000,
          1000,
          1000,
          500,
          1000,
          1000,
          500,
          10,
          1000,
          1000,
          1000,
          1000,
          1000,
          500,
          500,
          1000,
          1000,
          1000,
          1000,
          20,
          1000,
          1000,
          500,
          1000,
          1000,
          1000,
          31,
          500,
          10,
          1000,
          25,
          500,
          1000,
          25,
          10,
          1000,
          1000,
          500,
          300,
          250,
          200,
          150,
          100
         ],
         "xaxis": "x",
         "yaxis": "y"
        },
        {
         "nbinsx": 13,
         "showlegend": false,
         "type": "histogram",
         "x": [
          100,
          200,
          200,
          200,
          100,
          100,
          50,
          50,
          100,
          200,
          50,
          40,
          40,
          35,
          50,
          200,
          100,
          40,
          25,
          20,
          50,
          30,
          20,
          100,
          40,
          200,
          25,
          35,
          50,
          200,
          100,
          35,
          40,
          35,
          15,
          30,
          25,
          5,
          15,
          200,
          100,
          30,
          50,
          40,
          100,
          35,
          200,
          35,
          40,
          200,
          100,
          50,
          200,
          100,
          25,
          15,
          30,
          50,
          50,
          35,
          100,
          20,
          40,
          200,
          5,
          50,
          40,
          40,
          30,
          35,
          30,
          50,
          40,
          20,
          30,
          25,
          5,
          35,
          35,
          40,
          30,
          35,
          15,
          5,
          25,
          5,
          25,
          5,
          35,
          30,
          5,
          5,
          25,
          5,
          5,
          5,
          5,
          5,
          5,
          5
         ],
         "xaxis": "x2",
         "yaxis": "y2"
        },
        {
         "nbinsx": 10,
         "showlegend": false,
         "type": "histogram",
         "x": [
          50,
          50,
          40,
          50,
          50,
          40,
          50,
          50,
          30,
          30,
          40,
          5,
          50,
          5,
          5,
          5,
          5,
          50,
          5,
          5,
          30,
          5,
          3,
          25,
          40,
          25,
          3,
          50,
          2,
          2,
          2,
          2,
          2,
          50,
          3,
          2,
          2,
          50,
          5,
          3,
          3,
          3,
          3,
          10,
          20,
          3,
          20,
          10,
          3,
          10,
          10,
          10,
          15,
          15,
          10,
          2,
          10,
          25,
          15,
          40,
          40,
          2,
          30,
          40,
          40,
          20,
          25,
          15,
          50,
          15,
          50,
          40,
          20,
          10,
          15,
          15,
          50,
          30,
          25,
          40,
          40,
          20,
          10,
          40,
          50,
          30,
          50,
          40,
          40,
          30,
          50,
          25,
          40,
          50,
          50,
          50,
          50,
          50,
          50,
          50
         ],
         "xaxis": "x3",
         "yaxis": "y3"
        }
       ],
       "layout": {
        "annotations": [
         {
          "font": {
           "size": 16
          },
          "showarrow": false,
          "text": "num_leaves",
          "x": 0.14444444444444446,
          "xanchor": "center",
          "xref": "paper",
          "y": 1,
          "yanchor": "bottom",
          "yref": "paper"
         },
         {
          "font": {
           "size": 16
          },
          "showarrow": false,
          "text": "max_depth",
          "x": 0.5,
          "xanchor": "center",
          "xref": "paper",
          "y": 1,
          "yanchor": "bottom",
          "yref": "paper"
         },
         {
          "font": {
           "size": 16
          },
          "showarrow": false,
          "text": "min_child_samples",
          "x": 0.8555555555555556,
          "xanchor": "center",
          "xref": "paper",
          "y": 1,
          "yanchor": "bottom",
          "yref": "paper"
         }
        ],
        "bargap": 0.1,
        "template": {
         "data": {
          "bar": [
           {
            "error_x": {
             "color": "#2a3f5f"
            },
            "error_y": {
             "color": "#2a3f5f"
            },
            "marker": {
             "line": {
              "color": "#E5ECF6",
              "width": 0.5
             },
             "pattern": {
              "fillmode": "overlay",
              "size": 10,
              "solidity": 0.2
             }
            },
            "type": "bar"
           }
          ],
          "barpolar": [
           {
            "marker": {
             "line": {
              "color": "#E5ECF6",
              "width": 0.5
             },
             "pattern": {
              "fillmode": "overlay",
              "size": 10,
              "solidity": 0.2
             }
            },
            "type": "barpolar"
           }
          ],
          "carpet": [
           {
            "aaxis": {
             "endlinecolor": "#2a3f5f",
             "gridcolor": "white",
             "linecolor": "white",
             "minorgridcolor": "white",
             "startlinecolor": "#2a3f5f"
            },
            "baxis": {
             "endlinecolor": "#2a3f5f",
             "gridcolor": "white",
             "linecolor": "white",
             "minorgridcolor": "white",
             "startlinecolor": "#2a3f5f"
            },
            "type": "carpet"
           }
          ],
          "choropleth": [
           {
            "colorbar": {
             "outlinewidth": 0,
             "ticks": ""
            },
            "type": "choropleth"
           }
          ],
          "contour": [
           {
            "colorbar": {
             "outlinewidth": 0,
             "ticks": ""
            },
            "colorscale": [
             [
              0,
              "#0d0887"
             ],
             [
              0.1111111111111111,
              "#46039f"
             ],
             [
              0.2222222222222222,
              "#7201a8"
             ],
             [
              0.3333333333333333,
              "#9c179e"
             ],
             [
              0.4444444444444444,
              "#bd3786"
             ],
             [
              0.5555555555555556,
              "#d8576b"
             ],
             [
              0.6666666666666666,
              "#ed7953"
             ],
             [
              0.7777777777777778,
              "#fb9f3a"
             ],
             [
              0.8888888888888888,
              "#fdca26"
             ],
             [
              1,
              "#f0f921"
             ]
            ],
            "type": "contour"
           }
          ],
          "contourcarpet": [
           {
            "colorbar": {
             "outlinewidth": 0,
             "ticks": ""
            },
            "type": "contourcarpet"
           }
          ],
          "heatmap": [
           {
            "colorbar": {
             "outlinewidth": 0,
             "ticks": ""
            },
            "colorscale": [
             [
              0,
              "#0d0887"
             ],
             [
              0.1111111111111111,
              "#46039f"
             ],
             [
              0.2222222222222222,
              "#7201a8"
             ],
             [
              0.3333333333333333,
              "#9c179e"
             ],
             [
              0.4444444444444444,
              "#bd3786"
             ],
             [
              0.5555555555555556,
              "#d8576b"
             ],
             [
              0.6666666666666666,
              "#ed7953"
             ],
             [
              0.7777777777777778,
              "#fb9f3a"
             ],
             [
              0.8888888888888888,
              "#fdca26"
             ],
             [
              1,
              "#f0f921"
             ]
            ],
            "type": "heatmap"
           }
          ],
          "heatmapgl": [
           {
            "colorbar": {
             "outlinewidth": 0,
             "ticks": ""
            },
            "colorscale": [
             [
              0,
              "#0d0887"
             ],
             [
              0.1111111111111111,
              "#46039f"
             ],
             [
              0.2222222222222222,
              "#7201a8"
             ],
             [
              0.3333333333333333,
              "#9c179e"
             ],
             [
              0.4444444444444444,
              "#bd3786"
             ],
             [
              0.5555555555555556,
              "#d8576b"
             ],
             [
              0.6666666666666666,
              "#ed7953"
             ],
             [
              0.7777777777777778,
              "#fb9f3a"
             ],
             [
              0.8888888888888888,
              "#fdca26"
             ],
             [
              1,
              "#f0f921"
             ]
            ],
            "type": "heatmapgl"
           }
          ],
          "histogram": [
           {
            "marker": {
             "pattern": {
              "fillmode": "overlay",
              "size": 10,
              "solidity": 0.2
             }
            },
            "type": "histogram"
           }
          ],
          "histogram2d": [
           {
            "colorbar": {
             "outlinewidth": 0,
             "ticks": ""
            },
            "colorscale": [
             [
              0,
              "#0d0887"
             ],
             [
              0.1111111111111111,
              "#46039f"
             ],
             [
              0.2222222222222222,
              "#7201a8"
             ],
             [
              0.3333333333333333,
              "#9c179e"
             ],
             [
              0.4444444444444444,
              "#bd3786"
             ],
             [
              0.5555555555555556,
              "#d8576b"
             ],
             [
              0.6666666666666666,
              "#ed7953"
             ],
             [
              0.7777777777777778,
              "#fb9f3a"
             ],
             [
              0.8888888888888888,
              "#fdca26"
             ],
             [
              1,
              "#f0f921"
             ]
            ],
            "type": "histogram2d"
           }
          ],
          "histogram2dcontour": [
           {
            "colorbar": {
             "outlinewidth": 0,
             "ticks": ""
            },
            "colorscale": [
             [
              0,
              "#0d0887"
             ],
             [
              0.1111111111111111,
              "#46039f"
             ],
             [
              0.2222222222222222,
              "#7201a8"
             ],
             [
              0.3333333333333333,
              "#9c179e"
             ],
             [
              0.4444444444444444,
              "#bd3786"
             ],
             [
              0.5555555555555556,
              "#d8576b"
             ],
             [
              0.6666666666666666,
              "#ed7953"
             ],
             [
              0.7777777777777778,
              "#fb9f3a"
             ],
             [
              0.8888888888888888,
              "#fdca26"
             ],
             [
              1,
              "#f0f921"
             ]
            ],
            "type": "histogram2dcontour"
           }
          ],
          "mesh3d": [
           {
            "colorbar": {
             "outlinewidth": 0,
             "ticks": ""
            },
            "type": "mesh3d"
           }
          ],
          "parcoords": [
           {
            "line": {
             "colorbar": {
              "outlinewidth": 0,
              "ticks": ""
             }
            },
            "type": "parcoords"
           }
          ],
          "pie": [
           {
            "automargin": true,
            "type": "pie"
           }
          ],
          "scatter": [
           {
            "fillpattern": {
             "fillmode": "overlay",
             "size": 10,
             "solidity": 0.2
            },
            "type": "scatter"
           }
          ],
          "scatter3d": [
           {
            "line": {
             "colorbar": {
              "outlinewidth": 0,
              "ticks": ""
             }
            },
            "marker": {
             "colorbar": {
              "outlinewidth": 0,
              "ticks": ""
             }
            },
            "type": "scatter3d"
           }
          ],
          "scattercarpet": [
           {
            "marker": {
             "colorbar": {
              "outlinewidth": 0,
              "ticks": ""
             }
            },
            "type": "scattercarpet"
           }
          ],
          "scattergeo": [
           {
            "marker": {
             "colorbar": {
              "outlinewidth": 0,
              "ticks": ""
             }
            },
            "type": "scattergeo"
           }
          ],
          "scattergl": [
           {
            "marker": {
             "colorbar": {
              "outlinewidth": 0,
              "ticks": ""
             }
            },
            "type": "scattergl"
           }
          ],
          "scattermapbox": [
           {
            "marker": {
             "colorbar": {
              "outlinewidth": 0,
              "ticks": ""
             }
            },
            "type": "scattermapbox"
           }
          ],
          "scatterpolar": [
           {
            "marker": {
             "colorbar": {
              "outlinewidth": 0,
              "ticks": ""
             }
            },
            "type": "scatterpolar"
           }
          ],
          "scatterpolargl": [
           {
            "marker": {
             "colorbar": {
              "outlinewidth": 0,
              "ticks": ""
             }
            },
            "type": "scatterpolargl"
           }
          ],
          "scatterternary": [
           {
            "marker": {
             "colorbar": {
              "outlinewidth": 0,
              "ticks": ""
             }
            },
            "type": "scatterternary"
           }
          ],
          "surface": [
           {
            "colorbar": {
             "outlinewidth": 0,
             "ticks": ""
            },
            "colorscale": [
             [
              0,
              "#0d0887"
             ],
             [
              0.1111111111111111,
              "#46039f"
             ],
             [
              0.2222222222222222,
              "#7201a8"
             ],
             [
              0.3333333333333333,
              "#9c179e"
             ],
             [
              0.4444444444444444,
              "#bd3786"
             ],
             [
              0.5555555555555556,
              "#d8576b"
             ],
             [
              0.6666666666666666,
              "#ed7953"
             ],
             [
              0.7777777777777778,
              "#fb9f3a"
             ],
             [
              0.8888888888888888,
              "#fdca26"
             ],
             [
              1,
              "#f0f921"
             ]
            ],
            "type": "surface"
           }
          ],
          "table": [
           {
            "cells": {
             "fill": {
              "color": "#EBF0F8"
             },
             "line": {
              "color": "white"
             }
            },
            "header": {
             "fill": {
              "color": "#C8D4E3"
             },
             "line": {
              "color": "white"
             }
            },
            "type": "table"
           }
          ]
         },
         "layout": {
          "annotationdefaults": {
           "arrowcolor": "#2a3f5f",
           "arrowhead": 0,
           "arrowwidth": 1
          },
          "autotypenumbers": "strict",
          "coloraxis": {
           "colorbar": {
            "outlinewidth": 0,
            "ticks": ""
           }
          },
          "colorscale": {
           "diverging": [
            [
             0,
             "#8e0152"
            ],
            [
             0.1,
             "#c51b7d"
            ],
            [
             0.2,
             "#de77ae"
            ],
            [
             0.3,
             "#f1b6da"
            ],
            [
             0.4,
             "#fde0ef"
            ],
            [
             0.5,
             "#f7f7f7"
            ],
            [
             0.6,
             "#e6f5d0"
            ],
            [
             0.7,
             "#b8e186"
            ],
            [
             0.8,
             "#7fbc41"
            ],
            [
             0.9,
             "#4d9221"
            ],
            [
             1,
             "#276419"
            ]
           ],
           "sequential": [
            [
             0,
             "#0d0887"
            ],
            [
             0.1111111111111111,
             "#46039f"
            ],
            [
             0.2222222222222222,
             "#7201a8"
            ],
            [
             0.3333333333333333,
             "#9c179e"
            ],
            [
             0.4444444444444444,
             "#bd3786"
            ],
            [
             0.5555555555555556,
             "#d8576b"
            ],
            [
             0.6666666666666666,
             "#ed7953"
            ],
            [
             0.7777777777777778,
             "#fb9f3a"
            ],
            [
             0.8888888888888888,
             "#fdca26"
            ],
            [
             1,
             "#f0f921"
            ]
           ],
           "sequentialminus": [
            [
             0,
             "#0d0887"
            ],
            [
             0.1111111111111111,
             "#46039f"
            ],
            [
             0.2222222222222222,
             "#7201a8"
            ],
            [
             0.3333333333333333,
             "#9c179e"
            ],
            [
             0.4444444444444444,
             "#bd3786"
            ],
            [
             0.5555555555555556,
             "#d8576b"
            ],
            [
             0.6666666666666666,
             "#ed7953"
            ],
            [
             0.7777777777777778,
             "#fb9f3a"
            ],
            [
             0.8888888888888888,
             "#fdca26"
            ],
            [
             1,
             "#f0f921"
            ]
           ]
          },
          "colorway": [
           "#636efa",
           "#EF553B",
           "#00cc96",
           "#ab63fa",
           "#FFA15A",
           "#19d3f3",
           "#FF6692",
           "#B6E880",
           "#FF97FF",
           "#FECB52"
          ],
          "font": {
           "color": "#2a3f5f"
          },
          "geo": {
           "bgcolor": "white",
           "lakecolor": "white",
           "landcolor": "#E5ECF6",
           "showlakes": true,
           "showland": true,
           "subunitcolor": "white"
          },
          "hoverlabel": {
           "align": "left"
          },
          "hovermode": "closest",
          "mapbox": {
           "style": "light"
          },
          "paper_bgcolor": "white",
          "plot_bgcolor": "#E5ECF6",
          "polar": {
           "angularaxis": {
            "gridcolor": "white",
            "linecolor": "white",
            "ticks": ""
           },
           "bgcolor": "#E5ECF6",
           "radialaxis": {
            "gridcolor": "white",
            "linecolor": "white",
            "ticks": ""
           }
          },
          "scene": {
           "xaxis": {
            "backgroundcolor": "#E5ECF6",
            "gridcolor": "white",
            "gridwidth": 2,
            "linecolor": "white",
            "showbackground": true,
            "ticks": "",
            "zerolinecolor": "white"
           },
           "yaxis": {
            "backgroundcolor": "#E5ECF6",
            "gridcolor": "white",
            "gridwidth": 2,
            "linecolor": "white",
            "showbackground": true,
            "ticks": "",
            "zerolinecolor": "white"
           },
           "zaxis": {
            "backgroundcolor": "#E5ECF6",
            "gridcolor": "white",
            "gridwidth": 2,
            "linecolor": "white",
            "showbackground": true,
            "ticks": "",
            "zerolinecolor": "white"
           }
          },
          "shapedefaults": {
           "line": {
            "color": "#2a3f5f"
           }
          },
          "ternary": {
           "aaxis": {
            "gridcolor": "white",
            "linecolor": "white",
            "ticks": ""
           },
           "baxis": {
            "gridcolor": "white",
            "linecolor": "white",
            "ticks": ""
           },
           "bgcolor": "#E5ECF6",
           "caxis": {
            "gridcolor": "white",
            "linecolor": "white",
            "ticks": ""
           }
          },
          "title": {
           "x": 0.05
          },
          "xaxis": {
           "automargin": true,
           "gridcolor": "white",
           "linecolor": "white",
           "ticks": "",
           "title": {
            "standoff": 15
           },
           "zerolinecolor": "white",
           "zerolinewidth": 2
          },
          "yaxis": {
           "automargin": true,
           "gridcolor": "white",
           "linecolor": "white",
           "ticks": "",
           "title": {
            "standoff": 15
           },
           "zerolinecolor": "white",
           "zerolinewidth": 2
          }
         }
        },
        "title": {
         "text": "Distributions of Parameters in Top 100 Highest RMSE Configs"
        },
        "xaxis": {
         "anchor": "y",
         "categoryarray": [
          10,
          20,
          25,
          31,
          50,
          100,
          150,
          200,
          250,
          300,
          500,
          1000
         ],
         "categoryorder": "array",
         "domain": [
          0,
          0.2888888888888889
         ],
         "type": "category"
        },
        "xaxis2": {
         "anchor": "y2",
         "categoryarray": [
          5,
          8,
          9,
          10,
          15,
          20,
          25,
          30,
          35,
          40,
          50,
          100,
          200
         ],
         "categoryorder": "array",
         "domain": [
          0.35555555555555557,
          0.6444444444444445
         ],
         "type": "category"
        },
        "xaxis3": {
         "anchor": "y3",
         "categoryarray": [
          2,
          3,
          5,
          10,
          15,
          20,
          25,
          30,
          40,
          50
         ],
         "categoryorder": "array",
         "domain": [
          0.7111111111111111,
          1
         ],
         "type": "category"
        },
        "yaxis": {
         "anchor": "x",
         "domain": [
          0,
          1
         ]
        },
        "yaxis2": {
         "anchor": "x2",
         "domain": [
          0,
          1
         ]
        },
        "yaxis3": {
         "anchor": "x3",
         "domain": [
          0,
          1
         ]
        }
       }
      }
     },
     "metadata": {},
     "output_type": "display_data"
    }
   ],
   "source": [
    "bottom_100 = real_overfitting_df.nlargest(100, 'test rmse')\n",
    "\n",
    "plot_param_distribution(bottom_100, 'Top 100 Highest RMSE Configs')"
   ]
  },
  {
   "cell_type": "markdown",
   "id": "da409c72",
   "metadata": {},
   "source": [
    "#### 100 worst params with `num_leaves` < 500"
   ]
  },
  {
   "cell_type": "code",
   "execution_count": 38,
   "id": "0c5a5741",
   "metadata": {},
   "outputs": [
    {
     "data": {
      "application/vnd.plotly.v1+json": {
       "config": {
        "plotlyServerURL": "https://plot.ly"
       },
       "data": [
        {
         "nbinsx": 12,
         "showlegend": false,
         "type": "histogram",
         "x": [
          10,
          10,
          20,
          31,
          10,
          25,
          25,
          10,
          300,
          250,
          200,
          150,
          100,
          50,
          300,
          10,
          31,
          300,
          250,
          200,
          150,
          100,
          50,
          300,
          300,
          10,
          300,
          300,
          10,
          10,
          10,
          10,
          10,
          10,
          10,
          10,
          10,
          10,
          10,
          20,
          300,
          10,
          10,
          10,
          10,
          10,
          300,
          10,
          300,
          10,
          10,
          10,
          10,
          10,
          10,
          10,
          10,
          10,
          10,
          10,
          300,
          250,
          200,
          150,
          100,
          50,
          25,
          250,
          250,
          250,
          10,
          10,
          10,
          10,
          10,
          10,
          10,
          10,
          10,
          10,
          10,
          10,
          10,
          10,
          10,
          10,
          10,
          10,
          10,
          10,
          10,
          10,
          10,
          10,
          250,
          300,
          250,
          200,
          150,
          100
         ],
         "xaxis": "x",
         "yaxis": "y"
        },
        {
         "nbinsx": 13,
         "showlegend": false,
         "type": "histogram",
         "x": [
          5,
          5,
          5,
          5,
          5,
          5,
          5,
          5,
          5,
          5,
          5,
          5,
          5,
          5,
          40,
          5,
          5,
          5,
          5,
          5,
          5,
          5,
          5,
          200,
          100,
          8,
          50,
          35,
          200,
          100,
          50,
          40,
          35,
          30,
          25,
          20,
          15,
          10,
          9,
          5,
          30,
          5,
          8,
          5,
          5,
          8,
          25,
          5,
          20,
          200,
          100,
          50,
          40,
          35,
          30,
          25,
          20,
          15,
          10,
          9,
          5,
          5,
          5,
          5,
          5,
          5,
          5,
          200,
          100,
          50,
          200,
          100,
          50,
          40,
          35,
          30,
          25,
          20,
          15,
          10,
          9,
          8,
          5,
          200,
          100,
          50,
          40,
          35,
          30,
          25,
          20,
          15,
          10,
          9,
          40,
          5,
          5,
          5,
          5,
          5
         ],
         "xaxis": "x2",
         "yaxis": "y2"
        },
        {
         "nbinsx": 10,
         "showlegend": false,
         "type": "histogram",
         "x": [
          50,
          40,
          50,
          40,
          30,
          40,
          50,
          25,
          50,
          50,
          50,
          50,
          50,
          50,
          50,
          20,
          50,
          40,
          40,
          40,
          40,
          40,
          40,
          50,
          50,
          50,
          50,
          50,
          50,
          50,
          50,
          50,
          50,
          50,
          50,
          50,
          50,
          50,
          50,
          40,
          50,
          10,
          40,
          3,
          15,
          30,
          50,
          5,
          50,
          40,
          40,
          40,
          40,
          40,
          40,
          40,
          40,
          40,
          40,
          40,
          25,
          25,
          25,
          25,
          25,
          25,
          25,
          50,
          50,
          50,
          30,
          30,
          30,
          30,
          30,
          30,
          30,
          30,
          30,
          30,
          30,
          25,
          2,
          25,
          25,
          25,
          25,
          25,
          25,
          25,
          25,
          25,
          25,
          25,
          50,
          30,
          30,
          30,
          30,
          30
         ],
         "xaxis": "x3",
         "yaxis": "y3"
        }
       ],
       "layout": {
        "annotations": [
         {
          "font": {
           "size": 16
          },
          "showarrow": false,
          "text": "num_leaves",
          "x": 0.14444444444444446,
          "xanchor": "center",
          "xref": "paper",
          "y": 1,
          "yanchor": "bottom",
          "yref": "paper"
         },
         {
          "font": {
           "size": 16
          },
          "showarrow": false,
          "text": "max_depth",
          "x": 0.5,
          "xanchor": "center",
          "xref": "paper",
          "y": 1,
          "yanchor": "bottom",
          "yref": "paper"
         },
         {
          "font": {
           "size": 16
          },
          "showarrow": false,
          "text": "min_child_samples",
          "x": 0.8555555555555556,
          "xanchor": "center",
          "xref": "paper",
          "y": 1,
          "yanchor": "bottom",
          "yref": "paper"
         }
        ],
        "bargap": 0.1,
        "template": {
         "data": {
          "bar": [
           {
            "error_x": {
             "color": "#2a3f5f"
            },
            "error_y": {
             "color": "#2a3f5f"
            },
            "marker": {
             "line": {
              "color": "#E5ECF6",
              "width": 0.5
             },
             "pattern": {
              "fillmode": "overlay",
              "size": 10,
              "solidity": 0.2
             }
            },
            "type": "bar"
           }
          ],
          "barpolar": [
           {
            "marker": {
             "line": {
              "color": "#E5ECF6",
              "width": 0.5
             },
             "pattern": {
              "fillmode": "overlay",
              "size": 10,
              "solidity": 0.2
             }
            },
            "type": "barpolar"
           }
          ],
          "carpet": [
           {
            "aaxis": {
             "endlinecolor": "#2a3f5f",
             "gridcolor": "white",
             "linecolor": "white",
             "minorgridcolor": "white",
             "startlinecolor": "#2a3f5f"
            },
            "baxis": {
             "endlinecolor": "#2a3f5f",
             "gridcolor": "white",
             "linecolor": "white",
             "minorgridcolor": "white",
             "startlinecolor": "#2a3f5f"
            },
            "type": "carpet"
           }
          ],
          "choropleth": [
           {
            "colorbar": {
             "outlinewidth": 0,
             "ticks": ""
            },
            "type": "choropleth"
           }
          ],
          "contour": [
           {
            "colorbar": {
             "outlinewidth": 0,
             "ticks": ""
            },
            "colorscale": [
             [
              0,
              "#0d0887"
             ],
             [
              0.1111111111111111,
              "#46039f"
             ],
             [
              0.2222222222222222,
              "#7201a8"
             ],
             [
              0.3333333333333333,
              "#9c179e"
             ],
             [
              0.4444444444444444,
              "#bd3786"
             ],
             [
              0.5555555555555556,
              "#d8576b"
             ],
             [
              0.6666666666666666,
              "#ed7953"
             ],
             [
              0.7777777777777778,
              "#fb9f3a"
             ],
             [
              0.8888888888888888,
              "#fdca26"
             ],
             [
              1,
              "#f0f921"
             ]
            ],
            "type": "contour"
           }
          ],
          "contourcarpet": [
           {
            "colorbar": {
             "outlinewidth": 0,
             "ticks": ""
            },
            "type": "contourcarpet"
           }
          ],
          "heatmap": [
           {
            "colorbar": {
             "outlinewidth": 0,
             "ticks": ""
            },
            "colorscale": [
             [
              0,
              "#0d0887"
             ],
             [
              0.1111111111111111,
              "#46039f"
             ],
             [
              0.2222222222222222,
              "#7201a8"
             ],
             [
              0.3333333333333333,
              "#9c179e"
             ],
             [
              0.4444444444444444,
              "#bd3786"
             ],
             [
              0.5555555555555556,
              "#d8576b"
             ],
             [
              0.6666666666666666,
              "#ed7953"
             ],
             [
              0.7777777777777778,
              "#fb9f3a"
             ],
             [
              0.8888888888888888,
              "#fdca26"
             ],
             [
              1,
              "#f0f921"
             ]
            ],
            "type": "heatmap"
           }
          ],
          "heatmapgl": [
           {
            "colorbar": {
             "outlinewidth": 0,
             "ticks": ""
            },
            "colorscale": [
             [
              0,
              "#0d0887"
             ],
             [
              0.1111111111111111,
              "#46039f"
             ],
             [
              0.2222222222222222,
              "#7201a8"
             ],
             [
              0.3333333333333333,
              "#9c179e"
             ],
             [
              0.4444444444444444,
              "#bd3786"
             ],
             [
              0.5555555555555556,
              "#d8576b"
             ],
             [
              0.6666666666666666,
              "#ed7953"
             ],
             [
              0.7777777777777778,
              "#fb9f3a"
             ],
             [
              0.8888888888888888,
              "#fdca26"
             ],
             [
              1,
              "#f0f921"
             ]
            ],
            "type": "heatmapgl"
           }
          ],
          "histogram": [
           {
            "marker": {
             "pattern": {
              "fillmode": "overlay",
              "size": 10,
              "solidity": 0.2
             }
            },
            "type": "histogram"
           }
          ],
          "histogram2d": [
           {
            "colorbar": {
             "outlinewidth": 0,
             "ticks": ""
            },
            "colorscale": [
             [
              0,
              "#0d0887"
             ],
             [
              0.1111111111111111,
              "#46039f"
             ],
             [
              0.2222222222222222,
              "#7201a8"
             ],
             [
              0.3333333333333333,
              "#9c179e"
             ],
             [
              0.4444444444444444,
              "#bd3786"
             ],
             [
              0.5555555555555556,
              "#d8576b"
             ],
             [
              0.6666666666666666,
              "#ed7953"
             ],
             [
              0.7777777777777778,
              "#fb9f3a"
             ],
             [
              0.8888888888888888,
              "#fdca26"
             ],
             [
              1,
              "#f0f921"
             ]
            ],
            "type": "histogram2d"
           }
          ],
          "histogram2dcontour": [
           {
            "colorbar": {
             "outlinewidth": 0,
             "ticks": ""
            },
            "colorscale": [
             [
              0,
              "#0d0887"
             ],
             [
              0.1111111111111111,
              "#46039f"
             ],
             [
              0.2222222222222222,
              "#7201a8"
             ],
             [
              0.3333333333333333,
              "#9c179e"
             ],
             [
              0.4444444444444444,
              "#bd3786"
             ],
             [
              0.5555555555555556,
              "#d8576b"
             ],
             [
              0.6666666666666666,
              "#ed7953"
             ],
             [
              0.7777777777777778,
              "#fb9f3a"
             ],
             [
              0.8888888888888888,
              "#fdca26"
             ],
             [
              1,
              "#f0f921"
             ]
            ],
            "type": "histogram2dcontour"
           }
          ],
          "mesh3d": [
           {
            "colorbar": {
             "outlinewidth": 0,
             "ticks": ""
            },
            "type": "mesh3d"
           }
          ],
          "parcoords": [
           {
            "line": {
             "colorbar": {
              "outlinewidth": 0,
              "ticks": ""
             }
            },
            "type": "parcoords"
           }
          ],
          "pie": [
           {
            "automargin": true,
            "type": "pie"
           }
          ],
          "scatter": [
           {
            "fillpattern": {
             "fillmode": "overlay",
             "size": 10,
             "solidity": 0.2
            },
            "type": "scatter"
           }
          ],
          "scatter3d": [
           {
            "line": {
             "colorbar": {
              "outlinewidth": 0,
              "ticks": ""
             }
            },
            "marker": {
             "colorbar": {
              "outlinewidth": 0,
              "ticks": ""
             }
            },
            "type": "scatter3d"
           }
          ],
          "scattercarpet": [
           {
            "marker": {
             "colorbar": {
              "outlinewidth": 0,
              "ticks": ""
             }
            },
            "type": "scattercarpet"
           }
          ],
          "scattergeo": [
           {
            "marker": {
             "colorbar": {
              "outlinewidth": 0,
              "ticks": ""
             }
            },
            "type": "scattergeo"
           }
          ],
          "scattergl": [
           {
            "marker": {
             "colorbar": {
              "outlinewidth": 0,
              "ticks": ""
             }
            },
            "type": "scattergl"
           }
          ],
          "scattermapbox": [
           {
            "marker": {
             "colorbar": {
              "outlinewidth": 0,
              "ticks": ""
             }
            },
            "type": "scattermapbox"
           }
          ],
          "scatterpolar": [
           {
            "marker": {
             "colorbar": {
              "outlinewidth": 0,
              "ticks": ""
             }
            },
            "type": "scatterpolar"
           }
          ],
          "scatterpolargl": [
           {
            "marker": {
             "colorbar": {
              "outlinewidth": 0,
              "ticks": ""
             }
            },
            "type": "scatterpolargl"
           }
          ],
          "scatterternary": [
           {
            "marker": {
             "colorbar": {
              "outlinewidth": 0,
              "ticks": ""
             }
            },
            "type": "scatterternary"
           }
          ],
          "surface": [
           {
            "colorbar": {
             "outlinewidth": 0,
             "ticks": ""
            },
            "colorscale": [
             [
              0,
              "#0d0887"
             ],
             [
              0.1111111111111111,
              "#46039f"
             ],
             [
              0.2222222222222222,
              "#7201a8"
             ],
             [
              0.3333333333333333,
              "#9c179e"
             ],
             [
              0.4444444444444444,
              "#bd3786"
             ],
             [
              0.5555555555555556,
              "#d8576b"
             ],
             [
              0.6666666666666666,
              "#ed7953"
             ],
             [
              0.7777777777777778,
              "#fb9f3a"
             ],
             [
              0.8888888888888888,
              "#fdca26"
             ],
             [
              1,
              "#f0f921"
             ]
            ],
            "type": "surface"
           }
          ],
          "table": [
           {
            "cells": {
             "fill": {
              "color": "#EBF0F8"
             },
             "line": {
              "color": "white"
             }
            },
            "header": {
             "fill": {
              "color": "#C8D4E3"
             },
             "line": {
              "color": "white"
             }
            },
            "type": "table"
           }
          ]
         },
         "layout": {
          "annotationdefaults": {
           "arrowcolor": "#2a3f5f",
           "arrowhead": 0,
           "arrowwidth": 1
          },
          "autotypenumbers": "strict",
          "coloraxis": {
           "colorbar": {
            "outlinewidth": 0,
            "ticks": ""
           }
          },
          "colorscale": {
           "diverging": [
            [
             0,
             "#8e0152"
            ],
            [
             0.1,
             "#c51b7d"
            ],
            [
             0.2,
             "#de77ae"
            ],
            [
             0.3,
             "#f1b6da"
            ],
            [
             0.4,
             "#fde0ef"
            ],
            [
             0.5,
             "#f7f7f7"
            ],
            [
             0.6,
             "#e6f5d0"
            ],
            [
             0.7,
             "#b8e186"
            ],
            [
             0.8,
             "#7fbc41"
            ],
            [
             0.9,
             "#4d9221"
            ],
            [
             1,
             "#276419"
            ]
           ],
           "sequential": [
            [
             0,
             "#0d0887"
            ],
            [
             0.1111111111111111,
             "#46039f"
            ],
            [
             0.2222222222222222,
             "#7201a8"
            ],
            [
             0.3333333333333333,
             "#9c179e"
            ],
            [
             0.4444444444444444,
             "#bd3786"
            ],
            [
             0.5555555555555556,
             "#d8576b"
            ],
            [
             0.6666666666666666,
             "#ed7953"
            ],
            [
             0.7777777777777778,
             "#fb9f3a"
            ],
            [
             0.8888888888888888,
             "#fdca26"
            ],
            [
             1,
             "#f0f921"
            ]
           ],
           "sequentialminus": [
            [
             0,
             "#0d0887"
            ],
            [
             0.1111111111111111,
             "#46039f"
            ],
            [
             0.2222222222222222,
             "#7201a8"
            ],
            [
             0.3333333333333333,
             "#9c179e"
            ],
            [
             0.4444444444444444,
             "#bd3786"
            ],
            [
             0.5555555555555556,
             "#d8576b"
            ],
            [
             0.6666666666666666,
             "#ed7953"
            ],
            [
             0.7777777777777778,
             "#fb9f3a"
            ],
            [
             0.8888888888888888,
             "#fdca26"
            ],
            [
             1,
             "#f0f921"
            ]
           ]
          },
          "colorway": [
           "#636efa",
           "#EF553B",
           "#00cc96",
           "#ab63fa",
           "#FFA15A",
           "#19d3f3",
           "#FF6692",
           "#B6E880",
           "#FF97FF",
           "#FECB52"
          ],
          "font": {
           "color": "#2a3f5f"
          },
          "geo": {
           "bgcolor": "white",
           "lakecolor": "white",
           "landcolor": "#E5ECF6",
           "showlakes": true,
           "showland": true,
           "subunitcolor": "white"
          },
          "hoverlabel": {
           "align": "left"
          },
          "hovermode": "closest",
          "mapbox": {
           "style": "light"
          },
          "paper_bgcolor": "white",
          "plot_bgcolor": "#E5ECF6",
          "polar": {
           "angularaxis": {
            "gridcolor": "white",
            "linecolor": "white",
            "ticks": ""
           },
           "bgcolor": "#E5ECF6",
           "radialaxis": {
            "gridcolor": "white",
            "linecolor": "white",
            "ticks": ""
           }
          },
          "scene": {
           "xaxis": {
            "backgroundcolor": "#E5ECF6",
            "gridcolor": "white",
            "gridwidth": 2,
            "linecolor": "white",
            "showbackground": true,
            "ticks": "",
            "zerolinecolor": "white"
           },
           "yaxis": {
            "backgroundcolor": "#E5ECF6",
            "gridcolor": "white",
            "gridwidth": 2,
            "linecolor": "white",
            "showbackground": true,
            "ticks": "",
            "zerolinecolor": "white"
           },
           "zaxis": {
            "backgroundcolor": "#E5ECF6",
            "gridcolor": "white",
            "gridwidth": 2,
            "linecolor": "white",
            "showbackground": true,
            "ticks": "",
            "zerolinecolor": "white"
           }
          },
          "shapedefaults": {
           "line": {
            "color": "#2a3f5f"
           }
          },
          "ternary": {
           "aaxis": {
            "gridcolor": "white",
            "linecolor": "white",
            "ticks": ""
           },
           "baxis": {
            "gridcolor": "white",
            "linecolor": "white",
            "ticks": ""
           },
           "bgcolor": "#E5ECF6",
           "caxis": {
            "gridcolor": "white",
            "linecolor": "white",
            "ticks": ""
           }
          },
          "title": {
           "x": 0.05
          },
          "xaxis": {
           "automargin": true,
           "gridcolor": "white",
           "linecolor": "white",
           "ticks": "",
           "title": {
            "standoff": 15
           },
           "zerolinecolor": "white",
           "zerolinewidth": 2
          },
          "yaxis": {
           "automargin": true,
           "gridcolor": "white",
           "linecolor": "white",
           "ticks": "",
           "title": {
            "standoff": 15
           },
           "zerolinecolor": "white",
           "zerolinewidth": 2
          }
         }
        },
        "title": {
         "text": "Distributions of Parameters in Top 100 Highest RMSE Configs (without large num_leaves)"
        },
        "xaxis": {
         "anchor": "y",
         "categoryarray": [
          10,
          20,
          25,
          31,
          50,
          100,
          150,
          200,
          250,
          300,
          500,
          1000
         ],
         "categoryorder": "array",
         "domain": [
          0,
          0.2888888888888889
         ],
         "type": "category"
        },
        "xaxis2": {
         "anchor": "y2",
         "categoryarray": [
          5,
          8,
          9,
          10,
          15,
          20,
          25,
          30,
          35,
          40,
          50,
          100,
          200
         ],
         "categoryorder": "array",
         "domain": [
          0.35555555555555557,
          0.6444444444444445
         ],
         "type": "category"
        },
        "xaxis3": {
         "anchor": "y3",
         "categoryarray": [
          2,
          3,
          5,
          10,
          15,
          20,
          25,
          30,
          40,
          50
         ],
         "categoryorder": "array",
         "domain": [
          0.7111111111111111,
          1
         ],
         "type": "category"
        },
        "yaxis": {
         "anchor": "x",
         "domain": [
          0,
          1
         ]
        },
        "yaxis2": {
         "anchor": "x2",
         "domain": [
          0,
          1
         ]
        },
        "yaxis3": {
         "anchor": "x3",
         "domain": [
          0,
          1
         ]
        }
       }
      }
     },
     "metadata": {},
     "output_type": "display_data"
    }
   ],
   "source": [
    "bottom_100_wo_large_n_leaves = real_overfitting_df[real_overfitting_df['num_leaves'] < 500]\n",
    "bottom_100_wo_large_n_leaves = bottom_100_wo_large_n_leaves.nlargest(100, 'test rmse')\n",
    "plot_param_distribution(bottom_100_wo_large_n_leaves, 'Top 100 Highest RMSE Configs (without large num_leaves)')"
   ]
  },
  {
   "cell_type": "markdown",
   "id": "36923c80",
   "metadata": {},
   "source": [
    "#### RMSE"
   ]
  },
  {
   "cell_type": "code",
   "execution_count": 6,
   "id": "224931ba",
   "metadata": {},
   "outputs": [],
   "source": [
    "def plot_rmse(df, param_name):\n",
    "    avg_df = df.groupby(param_name, as_index=False).agg({\n",
    "        \"model size\": \"mean\",\n",
    "        \"test rmse\": \"mean\"\n",
    "    })\n",
    "\n",
    "    fig_rmse = px.line(avg_df, x=param_name, y=\"test rmse\", markers=True,\n",
    "                    title=f\"Average Test RMSE vs {param_name}\")\n",
    "    fig_rmse.update_layout(xaxis_title=param_name, yaxis_title=\"Average Test RMSE\")\n",
    "    fig_rmse.show()"
   ]
  },
  {
   "cell_type": "code",
   "execution_count": 7,
   "id": "4770ac9b",
   "metadata": {},
   "outputs": [
    {
     "data": {
      "application/vnd.plotly.v1+json": {
       "config": {
        "plotlyServerURL": "https://plot.ly"
       },
       "data": [
        {
         "hovertemplate": "num_leaves=%{x}<br>test rmse=%{y}<extra></extra>",
         "legendgroup": "",
         "line": {
          "color": "#636efa",
          "dash": "solid"
         },
         "marker": {
          "symbol": "circle"
         },
         "mode": "lines+markers",
         "name": "",
         "orientation": "v",
         "showlegend": false,
         "type": "scatter",
         "x": [
          10,
          20,
          25,
          31,
          50,
          100,
          150,
          200,
          250,
          300,
          500,
          1000
         ],
         "xaxis": "x",
         "y": [
          4491813.615384615,
          4429217.446153847,
          4419667.138461539,
          4413186.776923077,
          4401397.753846154,
          4403537.092307692,
          4409311.86923077,
          4420627.807692308,
          4431995.907692308,
          4441154.107692308,
          4476479.653846154,
          4523751.538461538
         ],
         "yaxis": "y"
        }
       ],
       "layout": {
        "legend": {
         "tracegroupgap": 0
        },
        "template": {
         "data": {
          "bar": [
           {
            "error_x": {
             "color": "#2a3f5f"
            },
            "error_y": {
             "color": "#2a3f5f"
            },
            "marker": {
             "line": {
              "color": "#E5ECF6",
              "width": 0.5
             },
             "pattern": {
              "fillmode": "overlay",
              "size": 10,
              "solidity": 0.2
             }
            },
            "type": "bar"
           }
          ],
          "barpolar": [
           {
            "marker": {
             "line": {
              "color": "#E5ECF6",
              "width": 0.5
             },
             "pattern": {
              "fillmode": "overlay",
              "size": 10,
              "solidity": 0.2
             }
            },
            "type": "barpolar"
           }
          ],
          "carpet": [
           {
            "aaxis": {
             "endlinecolor": "#2a3f5f",
             "gridcolor": "white",
             "linecolor": "white",
             "minorgridcolor": "white",
             "startlinecolor": "#2a3f5f"
            },
            "baxis": {
             "endlinecolor": "#2a3f5f",
             "gridcolor": "white",
             "linecolor": "white",
             "minorgridcolor": "white",
             "startlinecolor": "#2a3f5f"
            },
            "type": "carpet"
           }
          ],
          "choropleth": [
           {
            "colorbar": {
             "outlinewidth": 0,
             "ticks": ""
            },
            "type": "choropleth"
           }
          ],
          "contour": [
           {
            "colorbar": {
             "outlinewidth": 0,
             "ticks": ""
            },
            "colorscale": [
             [
              0,
              "#0d0887"
             ],
             [
              0.1111111111111111,
              "#46039f"
             ],
             [
              0.2222222222222222,
              "#7201a8"
             ],
             [
              0.3333333333333333,
              "#9c179e"
             ],
             [
              0.4444444444444444,
              "#bd3786"
             ],
             [
              0.5555555555555556,
              "#d8576b"
             ],
             [
              0.6666666666666666,
              "#ed7953"
             ],
             [
              0.7777777777777778,
              "#fb9f3a"
             ],
             [
              0.8888888888888888,
              "#fdca26"
             ],
             [
              1,
              "#f0f921"
             ]
            ],
            "type": "contour"
           }
          ],
          "contourcarpet": [
           {
            "colorbar": {
             "outlinewidth": 0,
             "ticks": ""
            },
            "type": "contourcarpet"
           }
          ],
          "heatmap": [
           {
            "colorbar": {
             "outlinewidth": 0,
             "ticks": ""
            },
            "colorscale": [
             [
              0,
              "#0d0887"
             ],
             [
              0.1111111111111111,
              "#46039f"
             ],
             [
              0.2222222222222222,
              "#7201a8"
             ],
             [
              0.3333333333333333,
              "#9c179e"
             ],
             [
              0.4444444444444444,
              "#bd3786"
             ],
             [
              0.5555555555555556,
              "#d8576b"
             ],
             [
              0.6666666666666666,
              "#ed7953"
             ],
             [
              0.7777777777777778,
              "#fb9f3a"
             ],
             [
              0.8888888888888888,
              "#fdca26"
             ],
             [
              1,
              "#f0f921"
             ]
            ],
            "type": "heatmap"
           }
          ],
          "heatmapgl": [
           {
            "colorbar": {
             "outlinewidth": 0,
             "ticks": ""
            },
            "colorscale": [
             [
              0,
              "#0d0887"
             ],
             [
              0.1111111111111111,
              "#46039f"
             ],
             [
              0.2222222222222222,
              "#7201a8"
             ],
             [
              0.3333333333333333,
              "#9c179e"
             ],
             [
              0.4444444444444444,
              "#bd3786"
             ],
             [
              0.5555555555555556,
              "#d8576b"
             ],
             [
              0.6666666666666666,
              "#ed7953"
             ],
             [
              0.7777777777777778,
              "#fb9f3a"
             ],
             [
              0.8888888888888888,
              "#fdca26"
             ],
             [
              1,
              "#f0f921"
             ]
            ],
            "type": "heatmapgl"
           }
          ],
          "histogram": [
           {
            "marker": {
             "pattern": {
              "fillmode": "overlay",
              "size": 10,
              "solidity": 0.2
             }
            },
            "type": "histogram"
           }
          ],
          "histogram2d": [
           {
            "colorbar": {
             "outlinewidth": 0,
             "ticks": ""
            },
            "colorscale": [
             [
              0,
              "#0d0887"
             ],
             [
              0.1111111111111111,
              "#46039f"
             ],
             [
              0.2222222222222222,
              "#7201a8"
             ],
             [
              0.3333333333333333,
              "#9c179e"
             ],
             [
              0.4444444444444444,
              "#bd3786"
             ],
             [
              0.5555555555555556,
              "#d8576b"
             ],
             [
              0.6666666666666666,
              "#ed7953"
             ],
             [
              0.7777777777777778,
              "#fb9f3a"
             ],
             [
              0.8888888888888888,
              "#fdca26"
             ],
             [
              1,
              "#f0f921"
             ]
            ],
            "type": "histogram2d"
           }
          ],
          "histogram2dcontour": [
           {
            "colorbar": {
             "outlinewidth": 0,
             "ticks": ""
            },
            "colorscale": [
             [
              0,
              "#0d0887"
             ],
             [
              0.1111111111111111,
              "#46039f"
             ],
             [
              0.2222222222222222,
              "#7201a8"
             ],
             [
              0.3333333333333333,
              "#9c179e"
             ],
             [
              0.4444444444444444,
              "#bd3786"
             ],
             [
              0.5555555555555556,
              "#d8576b"
             ],
             [
              0.6666666666666666,
              "#ed7953"
             ],
             [
              0.7777777777777778,
              "#fb9f3a"
             ],
             [
              0.8888888888888888,
              "#fdca26"
             ],
             [
              1,
              "#f0f921"
             ]
            ],
            "type": "histogram2dcontour"
           }
          ],
          "mesh3d": [
           {
            "colorbar": {
             "outlinewidth": 0,
             "ticks": ""
            },
            "type": "mesh3d"
           }
          ],
          "parcoords": [
           {
            "line": {
             "colorbar": {
              "outlinewidth": 0,
              "ticks": ""
             }
            },
            "type": "parcoords"
           }
          ],
          "pie": [
           {
            "automargin": true,
            "type": "pie"
           }
          ],
          "scatter": [
           {
            "fillpattern": {
             "fillmode": "overlay",
             "size": 10,
             "solidity": 0.2
            },
            "type": "scatter"
           }
          ],
          "scatter3d": [
           {
            "line": {
             "colorbar": {
              "outlinewidth": 0,
              "ticks": ""
             }
            },
            "marker": {
             "colorbar": {
              "outlinewidth": 0,
              "ticks": ""
             }
            },
            "type": "scatter3d"
           }
          ],
          "scattercarpet": [
           {
            "marker": {
             "colorbar": {
              "outlinewidth": 0,
              "ticks": ""
             }
            },
            "type": "scattercarpet"
           }
          ],
          "scattergeo": [
           {
            "marker": {
             "colorbar": {
              "outlinewidth": 0,
              "ticks": ""
             }
            },
            "type": "scattergeo"
           }
          ],
          "scattergl": [
           {
            "marker": {
             "colorbar": {
              "outlinewidth": 0,
              "ticks": ""
             }
            },
            "type": "scattergl"
           }
          ],
          "scattermapbox": [
           {
            "marker": {
             "colorbar": {
              "outlinewidth": 0,
              "ticks": ""
             }
            },
            "type": "scattermapbox"
           }
          ],
          "scatterpolar": [
           {
            "marker": {
             "colorbar": {
              "outlinewidth": 0,
              "ticks": ""
             }
            },
            "type": "scatterpolar"
           }
          ],
          "scatterpolargl": [
           {
            "marker": {
             "colorbar": {
              "outlinewidth": 0,
              "ticks": ""
             }
            },
            "type": "scatterpolargl"
           }
          ],
          "scatterternary": [
           {
            "marker": {
             "colorbar": {
              "outlinewidth": 0,
              "ticks": ""
             }
            },
            "type": "scatterternary"
           }
          ],
          "surface": [
           {
            "colorbar": {
             "outlinewidth": 0,
             "ticks": ""
            },
            "colorscale": [
             [
              0,
              "#0d0887"
             ],
             [
              0.1111111111111111,
              "#46039f"
             ],
             [
              0.2222222222222222,
              "#7201a8"
             ],
             [
              0.3333333333333333,
              "#9c179e"
             ],
             [
              0.4444444444444444,
              "#bd3786"
             ],
             [
              0.5555555555555556,
              "#d8576b"
             ],
             [
              0.6666666666666666,
              "#ed7953"
             ],
             [
              0.7777777777777778,
              "#fb9f3a"
             ],
             [
              0.8888888888888888,
              "#fdca26"
             ],
             [
              1,
              "#f0f921"
             ]
            ],
            "type": "surface"
           }
          ],
          "table": [
           {
            "cells": {
             "fill": {
              "color": "#EBF0F8"
             },
             "line": {
              "color": "white"
             }
            },
            "header": {
             "fill": {
              "color": "#C8D4E3"
             },
             "line": {
              "color": "white"
             }
            },
            "type": "table"
           }
          ]
         },
         "layout": {
          "annotationdefaults": {
           "arrowcolor": "#2a3f5f",
           "arrowhead": 0,
           "arrowwidth": 1
          },
          "autotypenumbers": "strict",
          "coloraxis": {
           "colorbar": {
            "outlinewidth": 0,
            "ticks": ""
           }
          },
          "colorscale": {
           "diverging": [
            [
             0,
             "#8e0152"
            ],
            [
             0.1,
             "#c51b7d"
            ],
            [
             0.2,
             "#de77ae"
            ],
            [
             0.3,
             "#f1b6da"
            ],
            [
             0.4,
             "#fde0ef"
            ],
            [
             0.5,
             "#f7f7f7"
            ],
            [
             0.6,
             "#e6f5d0"
            ],
            [
             0.7,
             "#b8e186"
            ],
            [
             0.8,
             "#7fbc41"
            ],
            [
             0.9,
             "#4d9221"
            ],
            [
             1,
             "#276419"
            ]
           ],
           "sequential": [
            [
             0,
             "#0d0887"
            ],
            [
             0.1111111111111111,
             "#46039f"
            ],
            [
             0.2222222222222222,
             "#7201a8"
            ],
            [
             0.3333333333333333,
             "#9c179e"
            ],
            [
             0.4444444444444444,
             "#bd3786"
            ],
            [
             0.5555555555555556,
             "#d8576b"
            ],
            [
             0.6666666666666666,
             "#ed7953"
            ],
            [
             0.7777777777777778,
             "#fb9f3a"
            ],
            [
             0.8888888888888888,
             "#fdca26"
            ],
            [
             1,
             "#f0f921"
            ]
           ],
           "sequentialminus": [
            [
             0,
             "#0d0887"
            ],
            [
             0.1111111111111111,
             "#46039f"
            ],
            [
             0.2222222222222222,
             "#7201a8"
            ],
            [
             0.3333333333333333,
             "#9c179e"
            ],
            [
             0.4444444444444444,
             "#bd3786"
            ],
            [
             0.5555555555555556,
             "#d8576b"
            ],
            [
             0.6666666666666666,
             "#ed7953"
            ],
            [
             0.7777777777777778,
             "#fb9f3a"
            ],
            [
             0.8888888888888888,
             "#fdca26"
            ],
            [
             1,
             "#f0f921"
            ]
           ]
          },
          "colorway": [
           "#636efa",
           "#EF553B",
           "#00cc96",
           "#ab63fa",
           "#FFA15A",
           "#19d3f3",
           "#FF6692",
           "#B6E880",
           "#FF97FF",
           "#FECB52"
          ],
          "font": {
           "color": "#2a3f5f"
          },
          "geo": {
           "bgcolor": "white",
           "lakecolor": "white",
           "landcolor": "#E5ECF6",
           "showlakes": true,
           "showland": true,
           "subunitcolor": "white"
          },
          "hoverlabel": {
           "align": "left"
          },
          "hovermode": "closest",
          "mapbox": {
           "style": "light"
          },
          "paper_bgcolor": "white",
          "plot_bgcolor": "#E5ECF6",
          "polar": {
           "angularaxis": {
            "gridcolor": "white",
            "linecolor": "white",
            "ticks": ""
           },
           "bgcolor": "#E5ECF6",
           "radialaxis": {
            "gridcolor": "white",
            "linecolor": "white",
            "ticks": ""
           }
          },
          "scene": {
           "xaxis": {
            "backgroundcolor": "#E5ECF6",
            "gridcolor": "white",
            "gridwidth": 2,
            "linecolor": "white",
            "showbackground": true,
            "ticks": "",
            "zerolinecolor": "white"
           },
           "yaxis": {
            "backgroundcolor": "#E5ECF6",
            "gridcolor": "white",
            "gridwidth": 2,
            "linecolor": "white",
            "showbackground": true,
            "ticks": "",
            "zerolinecolor": "white"
           },
           "zaxis": {
            "backgroundcolor": "#E5ECF6",
            "gridcolor": "white",
            "gridwidth": 2,
            "linecolor": "white",
            "showbackground": true,
            "ticks": "",
            "zerolinecolor": "white"
           }
          },
          "shapedefaults": {
           "line": {
            "color": "#2a3f5f"
           }
          },
          "ternary": {
           "aaxis": {
            "gridcolor": "white",
            "linecolor": "white",
            "ticks": ""
           },
           "baxis": {
            "gridcolor": "white",
            "linecolor": "white",
            "ticks": ""
           },
           "bgcolor": "#E5ECF6",
           "caxis": {
            "gridcolor": "white",
            "linecolor": "white",
            "ticks": ""
           }
          },
          "title": {
           "x": 0.05
          },
          "xaxis": {
           "automargin": true,
           "gridcolor": "white",
           "linecolor": "white",
           "ticks": "",
           "title": {
            "standoff": 15
           },
           "zerolinecolor": "white",
           "zerolinewidth": 2
          },
          "yaxis": {
           "automargin": true,
           "gridcolor": "white",
           "linecolor": "white",
           "ticks": "",
           "title": {
            "standoff": 15
           },
           "zerolinecolor": "white",
           "zerolinewidth": 2
          }
         }
        },
        "title": {
         "text": "Average Test RMSE vs num_leaves"
        },
        "xaxis": {
         "anchor": "y",
         "domain": [
          0,
          1
         ],
         "title": {
          "text": "num_leaves"
         }
        },
        "yaxis": {
         "anchor": "x",
         "domain": [
          0,
          1
         ],
         "title": {
          "text": "Average Test RMSE"
         }
        }
       }
      }
     },
     "metadata": {},
     "output_type": "display_data"
    },
    {
     "data": {
      "application/vnd.plotly.v1+json": {
       "config": {
        "plotlyServerURL": "https://plot.ly"
       },
       "data": [
        {
         "hovertemplate": "max_depth=%{x}<br>test rmse=%{y}<extra></extra>",
         "legendgroup": "",
         "line": {
          "color": "#636efa",
          "dash": "solid"
         },
         "marker": {
          "symbol": "circle"
         },
         "mode": "lines+markers",
         "name": "",
         "orientation": "v",
         "showlegend": false,
         "type": "scatter",
         "x": [
          5,
          8,
          9,
          10,
          15,
          20,
          25,
          30,
          35,
          40,
          50,
          100,
          200
         ],
         "xaxis": "x",
         "y": [
          4494985.483333333,
          4438179.483333333,
          4433132.625,
          4431738.3,
          4430603.908333333,
          4430197.483333333,
          4432095.433333334,
          4432821.033333333,
          4433998.7,
          4434764.125,
          4435517.05,
          4436319.166666667,
          4436299.641666667
         ],
         "yaxis": "y"
        }
       ],
       "layout": {
        "legend": {
         "tracegroupgap": 0
        },
        "template": {
         "data": {
          "bar": [
           {
            "error_x": {
             "color": "#2a3f5f"
            },
            "error_y": {
             "color": "#2a3f5f"
            },
            "marker": {
             "line": {
              "color": "#E5ECF6",
              "width": 0.5
             },
             "pattern": {
              "fillmode": "overlay",
              "size": 10,
              "solidity": 0.2
             }
            },
            "type": "bar"
           }
          ],
          "barpolar": [
           {
            "marker": {
             "line": {
              "color": "#E5ECF6",
              "width": 0.5
             },
             "pattern": {
              "fillmode": "overlay",
              "size": 10,
              "solidity": 0.2
             }
            },
            "type": "barpolar"
           }
          ],
          "carpet": [
           {
            "aaxis": {
             "endlinecolor": "#2a3f5f",
             "gridcolor": "white",
             "linecolor": "white",
             "minorgridcolor": "white",
             "startlinecolor": "#2a3f5f"
            },
            "baxis": {
             "endlinecolor": "#2a3f5f",
             "gridcolor": "white",
             "linecolor": "white",
             "minorgridcolor": "white",
             "startlinecolor": "#2a3f5f"
            },
            "type": "carpet"
           }
          ],
          "choropleth": [
           {
            "colorbar": {
             "outlinewidth": 0,
             "ticks": ""
            },
            "type": "choropleth"
           }
          ],
          "contour": [
           {
            "colorbar": {
             "outlinewidth": 0,
             "ticks": ""
            },
            "colorscale": [
             [
              0,
              "#0d0887"
             ],
             [
              0.1111111111111111,
              "#46039f"
             ],
             [
              0.2222222222222222,
              "#7201a8"
             ],
             [
              0.3333333333333333,
              "#9c179e"
             ],
             [
              0.4444444444444444,
              "#bd3786"
             ],
             [
              0.5555555555555556,
              "#d8576b"
             ],
             [
              0.6666666666666666,
              "#ed7953"
             ],
             [
              0.7777777777777778,
              "#fb9f3a"
             ],
             [
              0.8888888888888888,
              "#fdca26"
             ],
             [
              1,
              "#f0f921"
             ]
            ],
            "type": "contour"
           }
          ],
          "contourcarpet": [
           {
            "colorbar": {
             "outlinewidth": 0,
             "ticks": ""
            },
            "type": "contourcarpet"
           }
          ],
          "heatmap": [
           {
            "colorbar": {
             "outlinewidth": 0,
             "ticks": ""
            },
            "colorscale": [
             [
              0,
              "#0d0887"
             ],
             [
              0.1111111111111111,
              "#46039f"
             ],
             [
              0.2222222222222222,
              "#7201a8"
             ],
             [
              0.3333333333333333,
              "#9c179e"
             ],
             [
              0.4444444444444444,
              "#bd3786"
             ],
             [
              0.5555555555555556,
              "#d8576b"
             ],
             [
              0.6666666666666666,
              "#ed7953"
             ],
             [
              0.7777777777777778,
              "#fb9f3a"
             ],
             [
              0.8888888888888888,
              "#fdca26"
             ],
             [
              1,
              "#f0f921"
             ]
            ],
            "type": "heatmap"
           }
          ],
          "heatmapgl": [
           {
            "colorbar": {
             "outlinewidth": 0,
             "ticks": ""
            },
            "colorscale": [
             [
              0,
              "#0d0887"
             ],
             [
              0.1111111111111111,
              "#46039f"
             ],
             [
              0.2222222222222222,
              "#7201a8"
             ],
             [
              0.3333333333333333,
              "#9c179e"
             ],
             [
              0.4444444444444444,
              "#bd3786"
             ],
             [
              0.5555555555555556,
              "#d8576b"
             ],
             [
              0.6666666666666666,
              "#ed7953"
             ],
             [
              0.7777777777777778,
              "#fb9f3a"
             ],
             [
              0.8888888888888888,
              "#fdca26"
             ],
             [
              1,
              "#f0f921"
             ]
            ],
            "type": "heatmapgl"
           }
          ],
          "histogram": [
           {
            "marker": {
             "pattern": {
              "fillmode": "overlay",
              "size": 10,
              "solidity": 0.2
             }
            },
            "type": "histogram"
           }
          ],
          "histogram2d": [
           {
            "colorbar": {
             "outlinewidth": 0,
             "ticks": ""
            },
            "colorscale": [
             [
              0,
              "#0d0887"
             ],
             [
              0.1111111111111111,
              "#46039f"
             ],
             [
              0.2222222222222222,
              "#7201a8"
             ],
             [
              0.3333333333333333,
              "#9c179e"
             ],
             [
              0.4444444444444444,
              "#bd3786"
             ],
             [
              0.5555555555555556,
              "#d8576b"
             ],
             [
              0.6666666666666666,
              "#ed7953"
             ],
             [
              0.7777777777777778,
              "#fb9f3a"
             ],
             [
              0.8888888888888888,
              "#fdca26"
             ],
             [
              1,
              "#f0f921"
             ]
            ],
            "type": "histogram2d"
           }
          ],
          "histogram2dcontour": [
           {
            "colorbar": {
             "outlinewidth": 0,
             "ticks": ""
            },
            "colorscale": [
             [
              0,
              "#0d0887"
             ],
             [
              0.1111111111111111,
              "#46039f"
             ],
             [
              0.2222222222222222,
              "#7201a8"
             ],
             [
              0.3333333333333333,
              "#9c179e"
             ],
             [
              0.4444444444444444,
              "#bd3786"
             ],
             [
              0.5555555555555556,
              "#d8576b"
             ],
             [
              0.6666666666666666,
              "#ed7953"
             ],
             [
              0.7777777777777778,
              "#fb9f3a"
             ],
             [
              0.8888888888888888,
              "#fdca26"
             ],
             [
              1,
              "#f0f921"
             ]
            ],
            "type": "histogram2dcontour"
           }
          ],
          "mesh3d": [
           {
            "colorbar": {
             "outlinewidth": 0,
             "ticks": ""
            },
            "type": "mesh3d"
           }
          ],
          "parcoords": [
           {
            "line": {
             "colorbar": {
              "outlinewidth": 0,
              "ticks": ""
             }
            },
            "type": "parcoords"
           }
          ],
          "pie": [
           {
            "automargin": true,
            "type": "pie"
           }
          ],
          "scatter": [
           {
            "fillpattern": {
             "fillmode": "overlay",
             "size": 10,
             "solidity": 0.2
            },
            "type": "scatter"
           }
          ],
          "scatter3d": [
           {
            "line": {
             "colorbar": {
              "outlinewidth": 0,
              "ticks": ""
             }
            },
            "marker": {
             "colorbar": {
              "outlinewidth": 0,
              "ticks": ""
             }
            },
            "type": "scatter3d"
           }
          ],
          "scattercarpet": [
           {
            "marker": {
             "colorbar": {
              "outlinewidth": 0,
              "ticks": ""
             }
            },
            "type": "scattercarpet"
           }
          ],
          "scattergeo": [
           {
            "marker": {
             "colorbar": {
              "outlinewidth": 0,
              "ticks": ""
             }
            },
            "type": "scattergeo"
           }
          ],
          "scattergl": [
           {
            "marker": {
             "colorbar": {
              "outlinewidth": 0,
              "ticks": ""
             }
            },
            "type": "scattergl"
           }
          ],
          "scattermapbox": [
           {
            "marker": {
             "colorbar": {
              "outlinewidth": 0,
              "ticks": ""
             }
            },
            "type": "scattermapbox"
           }
          ],
          "scatterpolar": [
           {
            "marker": {
             "colorbar": {
              "outlinewidth": 0,
              "ticks": ""
             }
            },
            "type": "scatterpolar"
           }
          ],
          "scatterpolargl": [
           {
            "marker": {
             "colorbar": {
              "outlinewidth": 0,
              "ticks": ""
             }
            },
            "type": "scatterpolargl"
           }
          ],
          "scatterternary": [
           {
            "marker": {
             "colorbar": {
              "outlinewidth": 0,
              "ticks": ""
             }
            },
            "type": "scatterternary"
           }
          ],
          "surface": [
           {
            "colorbar": {
             "outlinewidth": 0,
             "ticks": ""
            },
            "colorscale": [
             [
              0,
              "#0d0887"
             ],
             [
              0.1111111111111111,
              "#46039f"
             ],
             [
              0.2222222222222222,
              "#7201a8"
             ],
             [
              0.3333333333333333,
              "#9c179e"
             ],
             [
              0.4444444444444444,
              "#bd3786"
             ],
             [
              0.5555555555555556,
              "#d8576b"
             ],
             [
              0.6666666666666666,
              "#ed7953"
             ],
             [
              0.7777777777777778,
              "#fb9f3a"
             ],
             [
              0.8888888888888888,
              "#fdca26"
             ],
             [
              1,
              "#f0f921"
             ]
            ],
            "type": "surface"
           }
          ],
          "table": [
           {
            "cells": {
             "fill": {
              "color": "#EBF0F8"
             },
             "line": {
              "color": "white"
             }
            },
            "header": {
             "fill": {
              "color": "#C8D4E3"
             },
             "line": {
              "color": "white"
             }
            },
            "type": "table"
           }
          ]
         },
         "layout": {
          "annotationdefaults": {
           "arrowcolor": "#2a3f5f",
           "arrowhead": 0,
           "arrowwidth": 1
          },
          "autotypenumbers": "strict",
          "coloraxis": {
           "colorbar": {
            "outlinewidth": 0,
            "ticks": ""
           }
          },
          "colorscale": {
           "diverging": [
            [
             0,
             "#8e0152"
            ],
            [
             0.1,
             "#c51b7d"
            ],
            [
             0.2,
             "#de77ae"
            ],
            [
             0.3,
             "#f1b6da"
            ],
            [
             0.4,
             "#fde0ef"
            ],
            [
             0.5,
             "#f7f7f7"
            ],
            [
             0.6,
             "#e6f5d0"
            ],
            [
             0.7,
             "#b8e186"
            ],
            [
             0.8,
             "#7fbc41"
            ],
            [
             0.9,
             "#4d9221"
            ],
            [
             1,
             "#276419"
            ]
           ],
           "sequential": [
            [
             0,
             "#0d0887"
            ],
            [
             0.1111111111111111,
             "#46039f"
            ],
            [
             0.2222222222222222,
             "#7201a8"
            ],
            [
             0.3333333333333333,
             "#9c179e"
            ],
            [
             0.4444444444444444,
             "#bd3786"
            ],
            [
             0.5555555555555556,
             "#d8576b"
            ],
            [
             0.6666666666666666,
             "#ed7953"
            ],
            [
             0.7777777777777778,
             "#fb9f3a"
            ],
            [
             0.8888888888888888,
             "#fdca26"
            ],
            [
             1,
             "#f0f921"
            ]
           ],
           "sequentialminus": [
            [
             0,
             "#0d0887"
            ],
            [
             0.1111111111111111,
             "#46039f"
            ],
            [
             0.2222222222222222,
             "#7201a8"
            ],
            [
             0.3333333333333333,
             "#9c179e"
            ],
            [
             0.4444444444444444,
             "#bd3786"
            ],
            [
             0.5555555555555556,
             "#d8576b"
            ],
            [
             0.6666666666666666,
             "#ed7953"
            ],
            [
             0.7777777777777778,
             "#fb9f3a"
            ],
            [
             0.8888888888888888,
             "#fdca26"
            ],
            [
             1,
             "#f0f921"
            ]
           ]
          },
          "colorway": [
           "#636efa",
           "#EF553B",
           "#00cc96",
           "#ab63fa",
           "#FFA15A",
           "#19d3f3",
           "#FF6692",
           "#B6E880",
           "#FF97FF",
           "#FECB52"
          ],
          "font": {
           "color": "#2a3f5f"
          },
          "geo": {
           "bgcolor": "white",
           "lakecolor": "white",
           "landcolor": "#E5ECF6",
           "showlakes": true,
           "showland": true,
           "subunitcolor": "white"
          },
          "hoverlabel": {
           "align": "left"
          },
          "hovermode": "closest",
          "mapbox": {
           "style": "light"
          },
          "paper_bgcolor": "white",
          "plot_bgcolor": "#E5ECF6",
          "polar": {
           "angularaxis": {
            "gridcolor": "white",
            "linecolor": "white",
            "ticks": ""
           },
           "bgcolor": "#E5ECF6",
           "radialaxis": {
            "gridcolor": "white",
            "linecolor": "white",
            "ticks": ""
           }
          },
          "scene": {
           "xaxis": {
            "backgroundcolor": "#E5ECF6",
            "gridcolor": "white",
            "gridwidth": 2,
            "linecolor": "white",
            "showbackground": true,
            "ticks": "",
            "zerolinecolor": "white"
           },
           "yaxis": {
            "backgroundcolor": "#E5ECF6",
            "gridcolor": "white",
            "gridwidth": 2,
            "linecolor": "white",
            "showbackground": true,
            "ticks": "",
            "zerolinecolor": "white"
           },
           "zaxis": {
            "backgroundcolor": "#E5ECF6",
            "gridcolor": "white",
            "gridwidth": 2,
            "linecolor": "white",
            "showbackground": true,
            "ticks": "",
            "zerolinecolor": "white"
           }
          },
          "shapedefaults": {
           "line": {
            "color": "#2a3f5f"
           }
          },
          "ternary": {
           "aaxis": {
            "gridcolor": "white",
            "linecolor": "white",
            "ticks": ""
           },
           "baxis": {
            "gridcolor": "white",
            "linecolor": "white",
            "ticks": ""
           },
           "bgcolor": "#E5ECF6",
           "caxis": {
            "gridcolor": "white",
            "linecolor": "white",
            "ticks": ""
           }
          },
          "title": {
           "x": 0.05
          },
          "xaxis": {
           "automargin": true,
           "gridcolor": "white",
           "linecolor": "white",
           "ticks": "",
           "title": {
            "standoff": 15
           },
           "zerolinecolor": "white",
           "zerolinewidth": 2
          },
          "yaxis": {
           "automargin": true,
           "gridcolor": "white",
           "linecolor": "white",
           "ticks": "",
           "title": {
            "standoff": 15
           },
           "zerolinecolor": "white",
           "zerolinewidth": 2
          }
         }
        },
        "title": {
         "text": "Average Test RMSE vs max_depth"
        },
        "xaxis": {
         "anchor": "y",
         "domain": [
          0,
          1
         ],
         "title": {
          "text": "max_depth"
         }
        },
        "yaxis": {
         "anchor": "x",
         "domain": [
          0,
          1
         ],
         "title": {
          "text": "Average Test RMSE"
         }
        }
       }
      }
     },
     "metadata": {},
     "output_type": "display_data"
    },
    {
     "data": {
      "application/vnd.plotly.v1+json": {
       "config": {
        "plotlyServerURL": "https://plot.ly"
       },
       "data": [
        {
         "hovertemplate": "min_child_samples=%{x}<br>test rmse=%{y}<extra></extra>",
         "legendgroup": "",
         "line": {
          "color": "#636efa",
          "dash": "solid"
         },
         "marker": {
          "symbol": "circle"
         },
         "mode": "lines+markers",
         "name": "",
         "orientation": "v",
         "showlegend": false,
         "type": "scatter",
         "x": [
          2,
          3,
          5,
          10,
          15,
          20,
          25,
          30,
          40,
          50
         ],
         "xaxis": "x",
         "y": [
          4405357.679487179,
          4405245.724358974,
          4409011.019230769,
          4418599.551282051,
          4430276.282051282,
          4437588.358974359,
          4448649.320512821,
          4457543.378205128,
          4480199.262820513,
          4492646.679487179
         ],
         "yaxis": "y"
        }
       ],
       "layout": {
        "legend": {
         "tracegroupgap": 0
        },
        "template": {
         "data": {
          "bar": [
           {
            "error_x": {
             "color": "#2a3f5f"
            },
            "error_y": {
             "color": "#2a3f5f"
            },
            "marker": {
             "line": {
              "color": "#E5ECF6",
              "width": 0.5
             },
             "pattern": {
              "fillmode": "overlay",
              "size": 10,
              "solidity": 0.2
             }
            },
            "type": "bar"
           }
          ],
          "barpolar": [
           {
            "marker": {
             "line": {
              "color": "#E5ECF6",
              "width": 0.5
             },
             "pattern": {
              "fillmode": "overlay",
              "size": 10,
              "solidity": 0.2
             }
            },
            "type": "barpolar"
           }
          ],
          "carpet": [
           {
            "aaxis": {
             "endlinecolor": "#2a3f5f",
             "gridcolor": "white",
             "linecolor": "white",
             "minorgridcolor": "white",
             "startlinecolor": "#2a3f5f"
            },
            "baxis": {
             "endlinecolor": "#2a3f5f",
             "gridcolor": "white",
             "linecolor": "white",
             "minorgridcolor": "white",
             "startlinecolor": "#2a3f5f"
            },
            "type": "carpet"
           }
          ],
          "choropleth": [
           {
            "colorbar": {
             "outlinewidth": 0,
             "ticks": ""
            },
            "type": "choropleth"
           }
          ],
          "contour": [
           {
            "colorbar": {
             "outlinewidth": 0,
             "ticks": ""
            },
            "colorscale": [
             [
              0,
              "#0d0887"
             ],
             [
              0.1111111111111111,
              "#46039f"
             ],
             [
              0.2222222222222222,
              "#7201a8"
             ],
             [
              0.3333333333333333,
              "#9c179e"
             ],
             [
              0.4444444444444444,
              "#bd3786"
             ],
             [
              0.5555555555555556,
              "#d8576b"
             ],
             [
              0.6666666666666666,
              "#ed7953"
             ],
             [
              0.7777777777777778,
              "#fb9f3a"
             ],
             [
              0.8888888888888888,
              "#fdca26"
             ],
             [
              1,
              "#f0f921"
             ]
            ],
            "type": "contour"
           }
          ],
          "contourcarpet": [
           {
            "colorbar": {
             "outlinewidth": 0,
             "ticks": ""
            },
            "type": "contourcarpet"
           }
          ],
          "heatmap": [
           {
            "colorbar": {
             "outlinewidth": 0,
             "ticks": ""
            },
            "colorscale": [
             [
              0,
              "#0d0887"
             ],
             [
              0.1111111111111111,
              "#46039f"
             ],
             [
              0.2222222222222222,
              "#7201a8"
             ],
             [
              0.3333333333333333,
              "#9c179e"
             ],
             [
              0.4444444444444444,
              "#bd3786"
             ],
             [
              0.5555555555555556,
              "#d8576b"
             ],
             [
              0.6666666666666666,
              "#ed7953"
             ],
             [
              0.7777777777777778,
              "#fb9f3a"
             ],
             [
              0.8888888888888888,
              "#fdca26"
             ],
             [
              1,
              "#f0f921"
             ]
            ],
            "type": "heatmap"
           }
          ],
          "heatmapgl": [
           {
            "colorbar": {
             "outlinewidth": 0,
             "ticks": ""
            },
            "colorscale": [
             [
              0,
              "#0d0887"
             ],
             [
              0.1111111111111111,
              "#46039f"
             ],
             [
              0.2222222222222222,
              "#7201a8"
             ],
             [
              0.3333333333333333,
              "#9c179e"
             ],
             [
              0.4444444444444444,
              "#bd3786"
             ],
             [
              0.5555555555555556,
              "#d8576b"
             ],
             [
              0.6666666666666666,
              "#ed7953"
             ],
             [
              0.7777777777777778,
              "#fb9f3a"
             ],
             [
              0.8888888888888888,
              "#fdca26"
             ],
             [
              1,
              "#f0f921"
             ]
            ],
            "type": "heatmapgl"
           }
          ],
          "histogram": [
           {
            "marker": {
             "pattern": {
              "fillmode": "overlay",
              "size": 10,
              "solidity": 0.2
             }
            },
            "type": "histogram"
           }
          ],
          "histogram2d": [
           {
            "colorbar": {
             "outlinewidth": 0,
             "ticks": ""
            },
            "colorscale": [
             [
              0,
              "#0d0887"
             ],
             [
              0.1111111111111111,
              "#46039f"
             ],
             [
              0.2222222222222222,
              "#7201a8"
             ],
             [
              0.3333333333333333,
              "#9c179e"
             ],
             [
              0.4444444444444444,
              "#bd3786"
             ],
             [
              0.5555555555555556,
              "#d8576b"
             ],
             [
              0.6666666666666666,
              "#ed7953"
             ],
             [
              0.7777777777777778,
              "#fb9f3a"
             ],
             [
              0.8888888888888888,
              "#fdca26"
             ],
             [
              1,
              "#f0f921"
             ]
            ],
            "type": "histogram2d"
           }
          ],
          "histogram2dcontour": [
           {
            "colorbar": {
             "outlinewidth": 0,
             "ticks": ""
            },
            "colorscale": [
             [
              0,
              "#0d0887"
             ],
             [
              0.1111111111111111,
              "#46039f"
             ],
             [
              0.2222222222222222,
              "#7201a8"
             ],
             [
              0.3333333333333333,
              "#9c179e"
             ],
             [
              0.4444444444444444,
              "#bd3786"
             ],
             [
              0.5555555555555556,
              "#d8576b"
             ],
             [
              0.6666666666666666,
              "#ed7953"
             ],
             [
              0.7777777777777778,
              "#fb9f3a"
             ],
             [
              0.8888888888888888,
              "#fdca26"
             ],
             [
              1,
              "#f0f921"
             ]
            ],
            "type": "histogram2dcontour"
           }
          ],
          "mesh3d": [
           {
            "colorbar": {
             "outlinewidth": 0,
             "ticks": ""
            },
            "type": "mesh3d"
           }
          ],
          "parcoords": [
           {
            "line": {
             "colorbar": {
              "outlinewidth": 0,
              "ticks": ""
             }
            },
            "type": "parcoords"
           }
          ],
          "pie": [
           {
            "automargin": true,
            "type": "pie"
           }
          ],
          "scatter": [
           {
            "fillpattern": {
             "fillmode": "overlay",
             "size": 10,
             "solidity": 0.2
            },
            "type": "scatter"
           }
          ],
          "scatter3d": [
           {
            "line": {
             "colorbar": {
              "outlinewidth": 0,
              "ticks": ""
             }
            },
            "marker": {
             "colorbar": {
              "outlinewidth": 0,
              "ticks": ""
             }
            },
            "type": "scatter3d"
           }
          ],
          "scattercarpet": [
           {
            "marker": {
             "colorbar": {
              "outlinewidth": 0,
              "ticks": ""
             }
            },
            "type": "scattercarpet"
           }
          ],
          "scattergeo": [
           {
            "marker": {
             "colorbar": {
              "outlinewidth": 0,
              "ticks": ""
             }
            },
            "type": "scattergeo"
           }
          ],
          "scattergl": [
           {
            "marker": {
             "colorbar": {
              "outlinewidth": 0,
              "ticks": ""
             }
            },
            "type": "scattergl"
           }
          ],
          "scattermapbox": [
           {
            "marker": {
             "colorbar": {
              "outlinewidth": 0,
              "ticks": ""
             }
            },
            "type": "scattermapbox"
           }
          ],
          "scatterpolar": [
           {
            "marker": {
             "colorbar": {
              "outlinewidth": 0,
              "ticks": ""
             }
            },
            "type": "scatterpolar"
           }
          ],
          "scatterpolargl": [
           {
            "marker": {
             "colorbar": {
              "outlinewidth": 0,
              "ticks": ""
             }
            },
            "type": "scatterpolargl"
           }
          ],
          "scatterternary": [
           {
            "marker": {
             "colorbar": {
              "outlinewidth": 0,
              "ticks": ""
             }
            },
            "type": "scatterternary"
           }
          ],
          "surface": [
           {
            "colorbar": {
             "outlinewidth": 0,
             "ticks": ""
            },
            "colorscale": [
             [
              0,
              "#0d0887"
             ],
             [
              0.1111111111111111,
              "#46039f"
             ],
             [
              0.2222222222222222,
              "#7201a8"
             ],
             [
              0.3333333333333333,
              "#9c179e"
             ],
             [
              0.4444444444444444,
              "#bd3786"
             ],
             [
              0.5555555555555556,
              "#d8576b"
             ],
             [
              0.6666666666666666,
              "#ed7953"
             ],
             [
              0.7777777777777778,
              "#fb9f3a"
             ],
             [
              0.8888888888888888,
              "#fdca26"
             ],
             [
              1,
              "#f0f921"
             ]
            ],
            "type": "surface"
           }
          ],
          "table": [
           {
            "cells": {
             "fill": {
              "color": "#EBF0F8"
             },
             "line": {
              "color": "white"
             }
            },
            "header": {
             "fill": {
              "color": "#C8D4E3"
             },
             "line": {
              "color": "white"
             }
            },
            "type": "table"
           }
          ]
         },
         "layout": {
          "annotationdefaults": {
           "arrowcolor": "#2a3f5f",
           "arrowhead": 0,
           "arrowwidth": 1
          },
          "autotypenumbers": "strict",
          "coloraxis": {
           "colorbar": {
            "outlinewidth": 0,
            "ticks": ""
           }
          },
          "colorscale": {
           "diverging": [
            [
             0,
             "#8e0152"
            ],
            [
             0.1,
             "#c51b7d"
            ],
            [
             0.2,
             "#de77ae"
            ],
            [
             0.3,
             "#f1b6da"
            ],
            [
             0.4,
             "#fde0ef"
            ],
            [
             0.5,
             "#f7f7f7"
            ],
            [
             0.6,
             "#e6f5d0"
            ],
            [
             0.7,
             "#b8e186"
            ],
            [
             0.8,
             "#7fbc41"
            ],
            [
             0.9,
             "#4d9221"
            ],
            [
             1,
             "#276419"
            ]
           ],
           "sequential": [
            [
             0,
             "#0d0887"
            ],
            [
             0.1111111111111111,
             "#46039f"
            ],
            [
             0.2222222222222222,
             "#7201a8"
            ],
            [
             0.3333333333333333,
             "#9c179e"
            ],
            [
             0.4444444444444444,
             "#bd3786"
            ],
            [
             0.5555555555555556,
             "#d8576b"
            ],
            [
             0.6666666666666666,
             "#ed7953"
            ],
            [
             0.7777777777777778,
             "#fb9f3a"
            ],
            [
             0.8888888888888888,
             "#fdca26"
            ],
            [
             1,
             "#f0f921"
            ]
           ],
           "sequentialminus": [
            [
             0,
             "#0d0887"
            ],
            [
             0.1111111111111111,
             "#46039f"
            ],
            [
             0.2222222222222222,
             "#7201a8"
            ],
            [
             0.3333333333333333,
             "#9c179e"
            ],
            [
             0.4444444444444444,
             "#bd3786"
            ],
            [
             0.5555555555555556,
             "#d8576b"
            ],
            [
             0.6666666666666666,
             "#ed7953"
            ],
            [
             0.7777777777777778,
             "#fb9f3a"
            ],
            [
             0.8888888888888888,
             "#fdca26"
            ],
            [
             1,
             "#f0f921"
            ]
           ]
          },
          "colorway": [
           "#636efa",
           "#EF553B",
           "#00cc96",
           "#ab63fa",
           "#FFA15A",
           "#19d3f3",
           "#FF6692",
           "#B6E880",
           "#FF97FF",
           "#FECB52"
          ],
          "font": {
           "color": "#2a3f5f"
          },
          "geo": {
           "bgcolor": "white",
           "lakecolor": "white",
           "landcolor": "#E5ECF6",
           "showlakes": true,
           "showland": true,
           "subunitcolor": "white"
          },
          "hoverlabel": {
           "align": "left"
          },
          "hovermode": "closest",
          "mapbox": {
           "style": "light"
          },
          "paper_bgcolor": "white",
          "plot_bgcolor": "#E5ECF6",
          "polar": {
           "angularaxis": {
            "gridcolor": "white",
            "linecolor": "white",
            "ticks": ""
           },
           "bgcolor": "#E5ECF6",
           "radialaxis": {
            "gridcolor": "white",
            "linecolor": "white",
            "ticks": ""
           }
          },
          "scene": {
           "xaxis": {
            "backgroundcolor": "#E5ECF6",
            "gridcolor": "white",
            "gridwidth": 2,
            "linecolor": "white",
            "showbackground": true,
            "ticks": "",
            "zerolinecolor": "white"
           },
           "yaxis": {
            "backgroundcolor": "#E5ECF6",
            "gridcolor": "white",
            "gridwidth": 2,
            "linecolor": "white",
            "showbackground": true,
            "ticks": "",
            "zerolinecolor": "white"
           },
           "zaxis": {
            "backgroundcolor": "#E5ECF6",
            "gridcolor": "white",
            "gridwidth": 2,
            "linecolor": "white",
            "showbackground": true,
            "ticks": "",
            "zerolinecolor": "white"
           }
          },
          "shapedefaults": {
           "line": {
            "color": "#2a3f5f"
           }
          },
          "ternary": {
           "aaxis": {
            "gridcolor": "white",
            "linecolor": "white",
            "ticks": ""
           },
           "baxis": {
            "gridcolor": "white",
            "linecolor": "white",
            "ticks": ""
           },
           "bgcolor": "#E5ECF6",
           "caxis": {
            "gridcolor": "white",
            "linecolor": "white",
            "ticks": ""
           }
          },
          "title": {
           "x": 0.05
          },
          "xaxis": {
           "automargin": true,
           "gridcolor": "white",
           "linecolor": "white",
           "ticks": "",
           "title": {
            "standoff": 15
           },
           "zerolinecolor": "white",
           "zerolinewidth": 2
          },
          "yaxis": {
           "automargin": true,
           "gridcolor": "white",
           "linecolor": "white",
           "ticks": "",
           "title": {
            "standoff": 15
           },
           "zerolinecolor": "white",
           "zerolinewidth": 2
          }
         }
        },
        "title": {
         "text": "Average Test RMSE vs min_child_samples"
        },
        "xaxis": {
         "anchor": "y",
         "domain": [
          0,
          1
         ],
         "title": {
          "text": "min_child_samples"
         }
        },
        "yaxis": {
         "anchor": "x",
         "domain": [
          0,
          1
         ],
         "title": {
          "text": "Average Test RMSE"
         }
        }
       }
      }
     },
     "metadata": {},
     "output_type": "display_data"
    }
   ],
   "source": [
    "plot_rmse(real_overfitting_df, \"num_leaves\")\n",
    "plot_rmse(real_overfitting_df, \"max_depth\")\n",
    "plot_rmse(real_overfitting_df, \"min_child_samples\")"
   ]
  },
  {
   "cell_type": "code",
   "execution_count": 11,
   "id": "c71bbde5",
   "metadata": {},
   "outputs": [
    {
     "data": {
      "application/vnd.plotly.v1+json": {
       "config": {
        "plotlyServerURL": "https://plot.ly"
       },
       "data": [
        {
         "hovertemplate": "num_leaves=%{x}<br>test rmse=%{y}<extra></extra>",
         "legendgroup": "",
         "line": {
          "color": "#636efa",
          "dash": "solid"
         },
         "marker": {
          "symbol": "circle"
         },
         "mode": "lines+markers",
         "name": "",
         "orientation": "v",
         "showlegend": false,
         "type": "scatter",
         "x": [
          10,
          20,
          25,
          31,
          50,
          100,
          150,
          200,
          250,
          300,
          500,
          1000
         ],
         "xaxis": "x",
         "y": [
          4491813.615384615,
          4429217.446153847,
          4419667.138461539,
          4413186.776923077,
          4401397.753846154,
          4403537.092307692,
          4409311.86923077,
          4420627.807692308,
          4431995.907692308,
          4441154.107692308,
          4476479.653846154,
          4523751.538461538
         ],
         "yaxis": "y"
        },
        {
         "hovertemplate": "max_depth=%{x}<br>test rmse=%{y}<extra></extra>",
         "legendgroup": "",
         "line": {
          "color": "#636efa",
          "dash": "solid"
         },
         "marker": {
          "symbol": "circle"
         },
         "mode": "lines+markers",
         "name": "",
         "orientation": "v",
         "showlegend": false,
         "type": "scatter",
         "x": [
          5,
          8,
          9,
          10,
          15,
          20,
          25,
          30,
          35,
          40,
          50,
          100,
          200
         ],
         "xaxis": "x2",
         "y": [
          4494985.483333333,
          4438179.483333333,
          4433132.625,
          4431738.3,
          4430603.908333333,
          4430197.483333333,
          4432095.433333334,
          4432821.033333333,
          4433998.7,
          4434764.125,
          4435517.05,
          4436319.166666667,
          4436299.641666667
         ],
         "yaxis": "y2"
        },
        {
         "hovertemplate": "min_child_samples=%{x}<br>test rmse=%{y}<extra></extra>",
         "legendgroup": "",
         "line": {
          "color": "#636efa",
          "dash": "solid"
         },
         "marker": {
          "symbol": "circle"
         },
         "mode": "lines+markers",
         "name": "",
         "orientation": "v",
         "showlegend": false,
         "type": "scatter",
         "x": [
          2,
          3,
          5,
          10,
          15,
          20,
          25,
          30,
          40,
          50
         ],
         "xaxis": "x3",
         "y": [
          4405357.679487179,
          4405245.724358974,
          4409011.019230769,
          4418599.551282051,
          4430276.282051282,
          4437588.358974359,
          4448649.320512821,
          4457543.378205128,
          4480199.262820513,
          4492646.679487179
         ],
         "yaxis": "y3"
        }
       ],
       "layout": {
        "annotations": [
         {
          "font": {
           "size": 16
          },
          "showarrow": false,
          "text": "Test RMSE vs num_leaves",
          "x": 0.14444444444444446,
          "xanchor": "center",
          "xref": "paper",
          "y": 1,
          "yanchor": "bottom",
          "yref": "paper"
         },
         {
          "font": {
           "size": 16
          },
          "showarrow": false,
          "text": "Test RMSE vs max_depth",
          "x": 0.5,
          "xanchor": "center",
          "xref": "paper",
          "y": 1,
          "yanchor": "bottom",
          "yref": "paper"
         },
         {
          "font": {
           "size": 16
          },
          "showarrow": false,
          "text": "Test RMSE vs min_child_samples",
          "x": 0.8555555555555556,
          "xanchor": "center",
          "xref": "paper",
          "y": 1,
          "yanchor": "bottom",
          "yref": "paper"
         }
        ],
        "height": 400,
        "showlegend": false,
        "template": {
         "data": {
          "bar": [
           {
            "error_x": {
             "color": "#2a3f5f"
            },
            "error_y": {
             "color": "#2a3f5f"
            },
            "marker": {
             "line": {
              "color": "#E5ECF6",
              "width": 0.5
             },
             "pattern": {
              "fillmode": "overlay",
              "size": 10,
              "solidity": 0.2
             }
            },
            "type": "bar"
           }
          ],
          "barpolar": [
           {
            "marker": {
             "line": {
              "color": "#E5ECF6",
              "width": 0.5
             },
             "pattern": {
              "fillmode": "overlay",
              "size": 10,
              "solidity": 0.2
             }
            },
            "type": "barpolar"
           }
          ],
          "carpet": [
           {
            "aaxis": {
             "endlinecolor": "#2a3f5f",
             "gridcolor": "white",
             "linecolor": "white",
             "minorgridcolor": "white",
             "startlinecolor": "#2a3f5f"
            },
            "baxis": {
             "endlinecolor": "#2a3f5f",
             "gridcolor": "white",
             "linecolor": "white",
             "minorgridcolor": "white",
             "startlinecolor": "#2a3f5f"
            },
            "type": "carpet"
           }
          ],
          "choropleth": [
           {
            "colorbar": {
             "outlinewidth": 0,
             "ticks": ""
            },
            "type": "choropleth"
           }
          ],
          "contour": [
           {
            "colorbar": {
             "outlinewidth": 0,
             "ticks": ""
            },
            "colorscale": [
             [
              0,
              "#0d0887"
             ],
             [
              0.1111111111111111,
              "#46039f"
             ],
             [
              0.2222222222222222,
              "#7201a8"
             ],
             [
              0.3333333333333333,
              "#9c179e"
             ],
             [
              0.4444444444444444,
              "#bd3786"
             ],
             [
              0.5555555555555556,
              "#d8576b"
             ],
             [
              0.6666666666666666,
              "#ed7953"
             ],
             [
              0.7777777777777778,
              "#fb9f3a"
             ],
             [
              0.8888888888888888,
              "#fdca26"
             ],
             [
              1,
              "#f0f921"
             ]
            ],
            "type": "contour"
           }
          ],
          "contourcarpet": [
           {
            "colorbar": {
             "outlinewidth": 0,
             "ticks": ""
            },
            "type": "contourcarpet"
           }
          ],
          "heatmap": [
           {
            "colorbar": {
             "outlinewidth": 0,
             "ticks": ""
            },
            "colorscale": [
             [
              0,
              "#0d0887"
             ],
             [
              0.1111111111111111,
              "#46039f"
             ],
             [
              0.2222222222222222,
              "#7201a8"
             ],
             [
              0.3333333333333333,
              "#9c179e"
             ],
             [
              0.4444444444444444,
              "#bd3786"
             ],
             [
              0.5555555555555556,
              "#d8576b"
             ],
             [
              0.6666666666666666,
              "#ed7953"
             ],
             [
              0.7777777777777778,
              "#fb9f3a"
             ],
             [
              0.8888888888888888,
              "#fdca26"
             ],
             [
              1,
              "#f0f921"
             ]
            ],
            "type": "heatmap"
           }
          ],
          "heatmapgl": [
           {
            "colorbar": {
             "outlinewidth": 0,
             "ticks": ""
            },
            "colorscale": [
             [
              0,
              "#0d0887"
             ],
             [
              0.1111111111111111,
              "#46039f"
             ],
             [
              0.2222222222222222,
              "#7201a8"
             ],
             [
              0.3333333333333333,
              "#9c179e"
             ],
             [
              0.4444444444444444,
              "#bd3786"
             ],
             [
              0.5555555555555556,
              "#d8576b"
             ],
             [
              0.6666666666666666,
              "#ed7953"
             ],
             [
              0.7777777777777778,
              "#fb9f3a"
             ],
             [
              0.8888888888888888,
              "#fdca26"
             ],
             [
              1,
              "#f0f921"
             ]
            ],
            "type": "heatmapgl"
           }
          ],
          "histogram": [
           {
            "marker": {
             "pattern": {
              "fillmode": "overlay",
              "size": 10,
              "solidity": 0.2
             }
            },
            "type": "histogram"
           }
          ],
          "histogram2d": [
           {
            "colorbar": {
             "outlinewidth": 0,
             "ticks": ""
            },
            "colorscale": [
             [
              0,
              "#0d0887"
             ],
             [
              0.1111111111111111,
              "#46039f"
             ],
             [
              0.2222222222222222,
              "#7201a8"
             ],
             [
              0.3333333333333333,
              "#9c179e"
             ],
             [
              0.4444444444444444,
              "#bd3786"
             ],
             [
              0.5555555555555556,
              "#d8576b"
             ],
             [
              0.6666666666666666,
              "#ed7953"
             ],
             [
              0.7777777777777778,
              "#fb9f3a"
             ],
             [
              0.8888888888888888,
              "#fdca26"
             ],
             [
              1,
              "#f0f921"
             ]
            ],
            "type": "histogram2d"
           }
          ],
          "histogram2dcontour": [
           {
            "colorbar": {
             "outlinewidth": 0,
             "ticks": ""
            },
            "colorscale": [
             [
              0,
              "#0d0887"
             ],
             [
              0.1111111111111111,
              "#46039f"
             ],
             [
              0.2222222222222222,
              "#7201a8"
             ],
             [
              0.3333333333333333,
              "#9c179e"
             ],
             [
              0.4444444444444444,
              "#bd3786"
             ],
             [
              0.5555555555555556,
              "#d8576b"
             ],
             [
              0.6666666666666666,
              "#ed7953"
             ],
             [
              0.7777777777777778,
              "#fb9f3a"
             ],
             [
              0.8888888888888888,
              "#fdca26"
             ],
             [
              1,
              "#f0f921"
             ]
            ],
            "type": "histogram2dcontour"
           }
          ],
          "mesh3d": [
           {
            "colorbar": {
             "outlinewidth": 0,
             "ticks": ""
            },
            "type": "mesh3d"
           }
          ],
          "parcoords": [
           {
            "line": {
             "colorbar": {
              "outlinewidth": 0,
              "ticks": ""
             }
            },
            "type": "parcoords"
           }
          ],
          "pie": [
           {
            "automargin": true,
            "type": "pie"
           }
          ],
          "scatter": [
           {
            "fillpattern": {
             "fillmode": "overlay",
             "size": 10,
             "solidity": 0.2
            },
            "type": "scatter"
           }
          ],
          "scatter3d": [
           {
            "line": {
             "colorbar": {
              "outlinewidth": 0,
              "ticks": ""
             }
            },
            "marker": {
             "colorbar": {
              "outlinewidth": 0,
              "ticks": ""
             }
            },
            "type": "scatter3d"
           }
          ],
          "scattercarpet": [
           {
            "marker": {
             "colorbar": {
              "outlinewidth": 0,
              "ticks": ""
             }
            },
            "type": "scattercarpet"
           }
          ],
          "scattergeo": [
           {
            "marker": {
             "colorbar": {
              "outlinewidth": 0,
              "ticks": ""
             }
            },
            "type": "scattergeo"
           }
          ],
          "scattergl": [
           {
            "marker": {
             "colorbar": {
              "outlinewidth": 0,
              "ticks": ""
             }
            },
            "type": "scattergl"
           }
          ],
          "scattermapbox": [
           {
            "marker": {
             "colorbar": {
              "outlinewidth": 0,
              "ticks": ""
             }
            },
            "type": "scattermapbox"
           }
          ],
          "scatterpolar": [
           {
            "marker": {
             "colorbar": {
              "outlinewidth": 0,
              "ticks": ""
             }
            },
            "type": "scatterpolar"
           }
          ],
          "scatterpolargl": [
           {
            "marker": {
             "colorbar": {
              "outlinewidth": 0,
              "ticks": ""
             }
            },
            "type": "scatterpolargl"
           }
          ],
          "scatterternary": [
           {
            "marker": {
             "colorbar": {
              "outlinewidth": 0,
              "ticks": ""
             }
            },
            "type": "scatterternary"
           }
          ],
          "surface": [
           {
            "colorbar": {
             "outlinewidth": 0,
             "ticks": ""
            },
            "colorscale": [
             [
              0,
              "#0d0887"
             ],
             [
              0.1111111111111111,
              "#46039f"
             ],
             [
              0.2222222222222222,
              "#7201a8"
             ],
             [
              0.3333333333333333,
              "#9c179e"
             ],
             [
              0.4444444444444444,
              "#bd3786"
             ],
             [
              0.5555555555555556,
              "#d8576b"
             ],
             [
              0.6666666666666666,
              "#ed7953"
             ],
             [
              0.7777777777777778,
              "#fb9f3a"
             ],
             [
              0.8888888888888888,
              "#fdca26"
             ],
             [
              1,
              "#f0f921"
             ]
            ],
            "type": "surface"
           }
          ],
          "table": [
           {
            "cells": {
             "fill": {
              "color": "#EBF0F8"
             },
             "line": {
              "color": "white"
             }
            },
            "header": {
             "fill": {
              "color": "#C8D4E3"
             },
             "line": {
              "color": "white"
             }
            },
            "type": "table"
           }
          ]
         },
         "layout": {
          "annotationdefaults": {
           "arrowcolor": "#2a3f5f",
           "arrowhead": 0,
           "arrowwidth": 1
          },
          "autotypenumbers": "strict",
          "coloraxis": {
           "colorbar": {
            "outlinewidth": 0,
            "ticks": ""
           }
          },
          "colorscale": {
           "diverging": [
            [
             0,
             "#8e0152"
            ],
            [
             0.1,
             "#c51b7d"
            ],
            [
             0.2,
             "#de77ae"
            ],
            [
             0.3,
             "#f1b6da"
            ],
            [
             0.4,
             "#fde0ef"
            ],
            [
             0.5,
             "#f7f7f7"
            ],
            [
             0.6,
             "#e6f5d0"
            ],
            [
             0.7,
             "#b8e186"
            ],
            [
             0.8,
             "#7fbc41"
            ],
            [
             0.9,
             "#4d9221"
            ],
            [
             1,
             "#276419"
            ]
           ],
           "sequential": [
            [
             0,
             "#0d0887"
            ],
            [
             0.1111111111111111,
             "#46039f"
            ],
            [
             0.2222222222222222,
             "#7201a8"
            ],
            [
             0.3333333333333333,
             "#9c179e"
            ],
            [
             0.4444444444444444,
             "#bd3786"
            ],
            [
             0.5555555555555556,
             "#d8576b"
            ],
            [
             0.6666666666666666,
             "#ed7953"
            ],
            [
             0.7777777777777778,
             "#fb9f3a"
            ],
            [
             0.8888888888888888,
             "#fdca26"
            ],
            [
             1,
             "#f0f921"
            ]
           ],
           "sequentialminus": [
            [
             0,
             "#0d0887"
            ],
            [
             0.1111111111111111,
             "#46039f"
            ],
            [
             0.2222222222222222,
             "#7201a8"
            ],
            [
             0.3333333333333333,
             "#9c179e"
            ],
            [
             0.4444444444444444,
             "#bd3786"
            ],
            [
             0.5555555555555556,
             "#d8576b"
            ],
            [
             0.6666666666666666,
             "#ed7953"
            ],
            [
             0.7777777777777778,
             "#fb9f3a"
            ],
            [
             0.8888888888888888,
             "#fdca26"
            ],
            [
             1,
             "#f0f921"
            ]
           ]
          },
          "colorway": [
           "#636efa",
           "#EF553B",
           "#00cc96",
           "#ab63fa",
           "#FFA15A",
           "#19d3f3",
           "#FF6692",
           "#B6E880",
           "#FF97FF",
           "#FECB52"
          ],
          "font": {
           "color": "#2a3f5f"
          },
          "geo": {
           "bgcolor": "white",
           "lakecolor": "white",
           "landcolor": "#E5ECF6",
           "showlakes": true,
           "showland": true,
           "subunitcolor": "white"
          },
          "hoverlabel": {
           "align": "left"
          },
          "hovermode": "closest",
          "mapbox": {
           "style": "light"
          },
          "paper_bgcolor": "white",
          "plot_bgcolor": "#E5ECF6",
          "polar": {
           "angularaxis": {
            "gridcolor": "white",
            "linecolor": "white",
            "ticks": ""
           },
           "bgcolor": "#E5ECF6",
           "radialaxis": {
            "gridcolor": "white",
            "linecolor": "white",
            "ticks": ""
           }
          },
          "scene": {
           "xaxis": {
            "backgroundcolor": "#E5ECF6",
            "gridcolor": "white",
            "gridwidth": 2,
            "linecolor": "white",
            "showbackground": true,
            "ticks": "",
            "zerolinecolor": "white"
           },
           "yaxis": {
            "backgroundcolor": "#E5ECF6",
            "gridcolor": "white",
            "gridwidth": 2,
            "linecolor": "white",
            "showbackground": true,
            "ticks": "",
            "zerolinecolor": "white"
           },
           "zaxis": {
            "backgroundcolor": "#E5ECF6",
            "gridcolor": "white",
            "gridwidth": 2,
            "linecolor": "white",
            "showbackground": true,
            "ticks": "",
            "zerolinecolor": "white"
           }
          },
          "shapedefaults": {
           "line": {
            "color": "#2a3f5f"
           }
          },
          "ternary": {
           "aaxis": {
            "gridcolor": "white",
            "linecolor": "white",
            "ticks": ""
           },
           "baxis": {
            "gridcolor": "white",
            "linecolor": "white",
            "ticks": ""
           },
           "bgcolor": "#E5ECF6",
           "caxis": {
            "gridcolor": "white",
            "linecolor": "white",
            "ticks": ""
           }
          },
          "title": {
           "x": 0.05
          },
          "xaxis": {
           "automargin": true,
           "gridcolor": "white",
           "linecolor": "white",
           "ticks": "",
           "title": {
            "standoff": 15
           },
           "zerolinecolor": "white",
           "zerolinewidth": 2
          },
          "yaxis": {
           "automargin": true,
           "gridcolor": "white",
           "linecolor": "white",
           "ticks": "",
           "title": {
            "standoff": 15
           },
           "zerolinecolor": "white",
           "zerolinewidth": 2
          }
         }
        },
        "title": {
         "text": "Average Test RMSE for Different Parameters"
        },
        "width": 1000,
        "xaxis": {
         "anchor": "y",
         "domain": [
          0,
          0.2888888888888889
         ],
         "title": {
          "text": "num_leaves"
         }
        },
        "xaxis2": {
         "anchor": "y2",
         "domain": [
          0.35555555555555557,
          0.6444444444444445
         ],
         "title": {
          "text": "max_depth"
         }
        },
        "xaxis3": {
         "anchor": "y3",
         "domain": [
          0.7111111111111111,
          1
         ],
         "title": {
          "text": "min_child_samples"
         }
        },
        "yaxis": {
         "anchor": "x",
         "domain": [
          0,
          1
         ],
         "title": {
          "text": "Test RMSE"
         }
        },
        "yaxis2": {
         "anchor": "x2",
         "domain": [
          0,
          1
         ]
        },
        "yaxis3": {
         "anchor": "x3",
         "domain": [
          0,
          1
         ]
        }
       }
      }
     },
     "metadata": {},
     "output_type": "display_data"
    }
   ],
   "source": [
    "def plot_rmse_side_by_side(df, param_names):\n",
    "    fig = make_subplots(rows=1, cols=len(param_names), subplot_titles=[\n",
    "        f\"Test RMSE vs {param}\" for param in param_names\n",
    "    ])\n",
    "\n",
    "    for i, param in enumerate(param_names, start=1):\n",
    "        avg_df = df.groupby(param, as_index=False).agg({\n",
    "            \"test rmse\": \"mean\"\n",
    "        })\n",
    "\n",
    "        fig_part = px.line(avg_df, x=param, y=\"test rmse\", markers=True)\n",
    "        for trace in fig_part.data:\n",
    "            fig.add_trace(trace, row=1, col=i)\n",
    "\n",
    "        fig.update_xaxes(title_text=param, row=1, col=i)\n",
    "\n",
    "    fig.update_layout(height=400, width=1000, showlegend=False,\n",
    "                      title_text=\"Average Test RMSE for Different Parameters\",\n",
    "                      yaxis_title=\"Test RMSE\")\n",
    "    fig.show()\n",
    "\n",
    "plot_rmse_side_by_side(real_overfitting_df, [\"num_leaves\", \"max_depth\", \"min_child_samples\"])"
   ]
  },
  {
   "cell_type": "markdown",
   "id": "5bee5e12",
   "metadata": {},
   "source": [
    "#### Params analysis"
   ]
  },
  {
   "cell_type": "markdown",
   "id": "a659c3a7",
   "metadata": {},
   "source": [
    "- `num_leaves`: < 20 - underfitting, > 150 - overfitting\n",
    "- `max_depth`: < 10 - underfitting, everything else is viable, probalby large max_depth just doesn't get used all the way\n",
    "- `min_child_samples`: 2-5 good range, everything over it is overfitting, which is surprising"
   ]
  },
  {
   "cell_type": "markdown",
   "id": "ccae951f",
   "metadata": {},
   "source": [
    "### Model capacity"
   ]
  },
  {
   "cell_type": "markdown",
   "id": "38aad860",
   "metadata": {},
   "source": [
    "To plot model capacity, we need to calculate some metric that would be a proxy for model capacity. To do so, we would simply sum indexes of params (with min_child_samples reversed)."
   ]
  },
  {
   "cell_type": "code",
   "execution_count": 17,
   "id": "3461a7b4",
   "metadata": {},
   "outputs": [],
   "source": [
    "idx_leaves = {v: i for i, v in enumerate(param_grid['num_leaves'])}\n",
    "idx_depth = {v: i for i, v in enumerate(param_grid['max_depth'])}\n",
    "idx_child = {v: i for i, v in enumerate(param_grid['min_child_samples'])}\n",
    "max_child_idx = len(param_grid['min_child_samples']) - 1\n",
    "\n",
    "real_overfitting_df['i_leaves'] = real_overfitting_df['num_leaves'].map(idx_leaves)\n",
    "real_overfitting_df['i_depth'] = real_overfitting_df['max_depth'].map(idx_depth)\n",
    "real_overfitting_df['i_child'] = real_overfitting_df['min_child_samples'].map(lambda x: max_child_idx - idx_child[x])\n",
    "\n",
    "real_overfitting_df['capacity'] = real_overfitting_df['i_leaves'] + real_overfitting_df['i_depth'] + real_overfitting_df['i_child']\n",
    "# real_overfitting_df['complexity_add'] = real_overfitting_df['i_leaves'] + real_overfitting_df['i_child']\n",
    "\n",
    "real_overfitting_df.drop(columns=['i_leaves', 'i_depth', 'i_child'], inplace=True)"
   ]
  },
  {
   "cell_type": "code",
   "execution_count": 42,
   "id": "8a64e83d",
   "metadata": {},
   "outputs": [
    {
     "data": {
      "text/html": [
       "<div>\n",
       "<style scoped>\n",
       "    .dataframe tbody tr th:only-of-type {\n",
       "        vertical-align: middle;\n",
       "    }\n",
       "\n",
       "    .dataframe tbody tr th {\n",
       "        vertical-align: top;\n",
       "    }\n",
       "\n",
       "    .dataframe thead th {\n",
       "        text-align: right;\n",
       "    }\n",
       "</style>\n",
       "<table border=\"1\" class=\"dataframe\">\n",
       "  <thead>\n",
       "    <tr style=\"text-align: right;\">\n",
       "      <th></th>\n",
       "      <th>num_leaves</th>\n",
       "      <th>max_depth</th>\n",
       "      <th>min_child_samples</th>\n",
       "      <th>best iteration</th>\n",
       "      <th>model size</th>\n",
       "      <th>train rmse</th>\n",
       "      <th>test rmse</th>\n",
       "      <th>test rmse stddev</th>\n",
       "      <th>capacity</th>\n",
       "    </tr>\n",
       "  </thead>\n",
       "  <tbody>\n",
       "    <tr>\n",
       "      <th>1074</th>\n",
       "      <td>100</td>\n",
       "      <td>15</td>\n",
       "      <td>2</td>\n",
       "      <td>4708</td>\n",
       "      <td>43928428</td>\n",
       "      <td>639456</td>\n",
       "      <td>4340532</td>\n",
       "      <td>131094.596010</td>\n",
       "      <td>18</td>\n",
       "    </tr>\n",
       "    <tr>\n",
       "      <th>953</th>\n",
       "      <td>150</td>\n",
       "      <td>20</td>\n",
       "      <td>2</td>\n",
       "      <td>3708</td>\n",
       "      <td>52061646</td>\n",
       "      <td>519308</td>\n",
       "      <td>4341559</td>\n",
       "      <td>128994.516580</td>\n",
       "      <td>20</td>\n",
       "    </tr>\n",
       "    <tr>\n",
       "      <th>834</th>\n",
       "      <td>100</td>\n",
       "      <td>25</td>\n",
       "      <td>2</td>\n",
       "      <td>4597</td>\n",
       "      <td>42918090</td>\n",
       "      <td>641821</td>\n",
       "      <td>4342491</td>\n",
       "      <td>123097.153489</td>\n",
       "      <td>20</td>\n",
       "    </tr>\n",
       "    <tr>\n",
       "      <th>954</th>\n",
       "      <td>100</td>\n",
       "      <td>20</td>\n",
       "      <td>2</td>\n",
       "      <td>4735</td>\n",
       "      <td>44217377</td>\n",
       "      <td>630894</td>\n",
       "      <td>4343096</td>\n",
       "      <td>123576.364663</td>\n",
       "      <td>19</td>\n",
       "    </tr>\n",
       "    <tr>\n",
       "      <th>929</th>\n",
       "      <td>150</td>\n",
       "      <td>20</td>\n",
       "      <td>5</td>\n",
       "      <td>2552</td>\n",
       "      <td>36085516</td>\n",
       "      <td>817624</td>\n",
       "      <td>4345642</td>\n",
       "      <td>136420.663990</td>\n",
       "      <td>18</td>\n",
       "    </tr>\n",
       "    <tr>\n",
       "      <th>833</th>\n",
       "      <td>150</td>\n",
       "      <td>25</td>\n",
       "      <td>2</td>\n",
       "      <td>3314</td>\n",
       "      <td>46523747</td>\n",
       "      <td>557946</td>\n",
       "      <td>4345771</td>\n",
       "      <td>131364.579244</td>\n",
       "      <td>21</td>\n",
       "    </tr>\n",
       "    <tr>\n",
       "      <th>1063</th>\n",
       "      <td>50</td>\n",
       "      <td>15</td>\n",
       "      <td>3</td>\n",
       "      <td>5686</td>\n",
       "      <td>26701298</td>\n",
       "      <td>1139862</td>\n",
       "      <td>4345839</td>\n",
       "      <td>127679.060962</td>\n",
       "      <td>16</td>\n",
       "    </tr>\n",
       "    <tr>\n",
       "      <th>955</th>\n",
       "      <td>50</td>\n",
       "      <td>20</td>\n",
       "      <td>2</td>\n",
       "      <td>6918</td>\n",
       "      <td>32728929</td>\n",
       "      <td>922592</td>\n",
       "      <td>4347498</td>\n",
       "      <td>116302.505721</td>\n",
       "      <td>18</td>\n",
       "    </tr>\n",
       "    <tr>\n",
       "      <th>943</th>\n",
       "      <td>50</td>\n",
       "      <td>20</td>\n",
       "      <td>3</td>\n",
       "      <td>6419</td>\n",
       "      <td>30147889</td>\n",
       "      <td>1011563</td>\n",
       "      <td>4347702</td>\n",
       "      <td>128241.860572</td>\n",
       "      <td>17</td>\n",
       "    </tr>\n",
       "    <tr>\n",
       "      <th>930</th>\n",
       "      <td>100</td>\n",
       "      <td>20</td>\n",
       "      <td>5</td>\n",
       "      <td>3795</td>\n",
       "      <td>35689053</td>\n",
       "      <td>895014</td>\n",
       "      <td>4347991</td>\n",
       "      <td>138615.979706</td>\n",
       "      <td>17</td>\n",
       "    </tr>\n",
       "  </tbody>\n",
       "</table>\n",
       "</div>"
      ],
      "text/plain": [
       "      num_leaves  max_depth  min_child_samples  best iteration  model size  \\\n",
       "1074         100         15                  2            4708    43928428   \n",
       "953          150         20                  2            3708    52061646   \n",
       "834          100         25                  2            4597    42918090   \n",
       "954          100         20                  2            4735    44217377   \n",
       "929          150         20                  5            2552    36085516   \n",
       "833          150         25                  2            3314    46523747   \n",
       "1063          50         15                  3            5686    26701298   \n",
       "955           50         20                  2            6918    32728929   \n",
       "943           50         20                  3            6419    30147889   \n",
       "930          100         20                  5            3795    35689053   \n",
       "\n",
       "      train rmse  test rmse  test rmse stddev  capacity  \n",
       "1074      639456    4340532     131094.596010        18  \n",
       "953       519308    4341559     128994.516580        20  \n",
       "834       641821    4342491     123097.153489        20  \n",
       "954       630894    4343096     123576.364663        19  \n",
       "929       817624    4345642     136420.663990        18  \n",
       "833       557946    4345771     131364.579244        21  \n",
       "1063     1139862    4345839     127679.060962        16  \n",
       "955       922592    4347498     116302.505721        18  \n",
       "943      1011563    4347702     128241.860572        17  \n",
       "930       895014    4347991     138615.979706        17  "
      ]
     },
     "execution_count": 42,
     "metadata": {},
     "output_type": "execute_result"
    }
   ],
   "source": [
    "real_overfitting_df.nsmallest(10, 'test rmse')"
   ]
  },
  {
   "cell_type": "code",
   "execution_count": 43,
   "id": "74c6ff75",
   "metadata": {},
   "outputs": [
    {
     "data": {
      "text/html": [
       "<div>\n",
       "<style scoped>\n",
       "    .dataframe tbody tr th:only-of-type {\n",
       "        vertical-align: middle;\n",
       "    }\n",
       "\n",
       "    .dataframe tbody tr th {\n",
       "        vertical-align: top;\n",
       "    }\n",
       "\n",
       "    .dataframe thead th {\n",
       "        text-align: right;\n",
       "    }\n",
       "</style>\n",
       "<table border=\"1\" class=\"dataframe\">\n",
       "  <thead>\n",
       "    <tr style=\"text-align: right;\">\n",
       "      <th></th>\n",
       "      <th>num_leaves</th>\n",
       "      <th>max_depth</th>\n",
       "      <th>min_child_samples</th>\n",
       "      <th>best iteration</th>\n",
       "      <th>model size</th>\n",
       "      <th>train rmse</th>\n",
       "      <th>test rmse</th>\n",
       "      <th>test rmse stddev</th>\n",
       "      <th>capacity</th>\n",
       "    </tr>\n",
       "  </thead>\n",
       "  <tbody>\n",
       "    <tr>\n",
       "      <th>120</th>\n",
       "      <td>1000</td>\n",
       "      <td>100</td>\n",
       "      <td>50</td>\n",
       "      <td>499</td>\n",
       "      <td>28617214</td>\n",
       "      <td>1852458</td>\n",
       "      <td>4606327</td>\n",
       "      <td>151741.034132</td>\n",
       "      <td>22</td>\n",
       "    </tr>\n",
       "    <tr>\n",
       "      <th>0</th>\n",
       "      <td>1000</td>\n",
       "      <td>200</td>\n",
       "      <td>50</td>\n",
       "      <td>482</td>\n",
       "      <td>27637898</td>\n",
       "      <td>1884280</td>\n",
       "      <td>4602577</td>\n",
       "      <td>153382.949895</td>\n",
       "      <td>23</td>\n",
       "    </tr>\n",
       "    <tr>\n",
       "      <th>12</th>\n",
       "      <td>1000</td>\n",
       "      <td>200</td>\n",
       "      <td>40</td>\n",
       "      <td>457</td>\n",
       "      <td>32670452</td>\n",
       "      <td>1608440</td>\n",
       "      <td>4595139</td>\n",
       "      <td>155456.955344</td>\n",
       "      <td>24</td>\n",
       "    </tr>\n",
       "    <tr>\n",
       "      <th>1</th>\n",
       "      <td>500</td>\n",
       "      <td>200</td>\n",
       "      <td>50</td>\n",
       "      <td>600</td>\n",
       "      <td>25928049</td>\n",
       "      <td>1794538</td>\n",
       "      <td>4592886</td>\n",
       "      <td>152922.311411</td>\n",
       "      <td>22</td>\n",
       "    </tr>\n",
       "    <tr>\n",
       "      <th>121</th>\n",
       "      <td>500</td>\n",
       "      <td>100</td>\n",
       "      <td>50</td>\n",
       "      <td>606</td>\n",
       "      <td>26182900</td>\n",
       "      <td>1783718</td>\n",
       "      <td>4591961</td>\n",
       "      <td>152467.073355</td>\n",
       "      <td>21</td>\n",
       "    </tr>\n",
       "    <tr>\n",
       "      <th>132</th>\n",
       "      <td>1000</td>\n",
       "      <td>100</td>\n",
       "      <td>40</td>\n",
       "      <td>439</td>\n",
       "      <td>31301027</td>\n",
       "      <td>1664559</td>\n",
       "      <td>4591896</td>\n",
       "      <td>156014.105355</td>\n",
       "      <td>23</td>\n",
       "    </tr>\n",
       "    <tr>\n",
       "      <th>240</th>\n",
       "      <td>1000</td>\n",
       "      <td>50</td>\n",
       "      <td>50</td>\n",
       "      <td>604</td>\n",
       "      <td>25570407</td>\n",
       "      <td>1859536</td>\n",
       "      <td>4587290</td>\n",
       "      <td>161869.026511</td>\n",
       "      <td>21</td>\n",
       "    </tr>\n",
       "    <tr>\n",
       "      <th>241</th>\n",
       "      <td>500</td>\n",
       "      <td>50</td>\n",
       "      <td>50</td>\n",
       "      <td>532</td>\n",
       "      <td>20530276</td>\n",
       "      <td>2017431</td>\n",
       "      <td>4585421</td>\n",
       "      <td>160037.346680</td>\n",
       "      <td>20</td>\n",
       "    </tr>\n",
       "    <tr>\n",
       "      <th>144</th>\n",
       "      <td>1000</td>\n",
       "      <td>100</td>\n",
       "      <td>30</td>\n",
       "      <td>370</td>\n",
       "      <td>31694141</td>\n",
       "      <td>1426294</td>\n",
       "      <td>4585368</td>\n",
       "      <td>159168.640207</td>\n",
       "      <td>24</td>\n",
       "    </tr>\n",
       "    <tr>\n",
       "      <th>24</th>\n",
       "      <td>1000</td>\n",
       "      <td>200</td>\n",
       "      <td>30</td>\n",
       "      <td>412</td>\n",
       "      <td>35241796</td>\n",
       "      <td>1333247</td>\n",
       "      <td>4584339</td>\n",
       "      <td>158479.593765</td>\n",
       "      <td>25</td>\n",
       "    </tr>\n",
       "  </tbody>\n",
       "</table>\n",
       "</div>"
      ],
      "text/plain": [
       "     num_leaves  max_depth  min_child_samples  best iteration  model size  \\\n",
       "120        1000        100                 50             499    28617214   \n",
       "0          1000        200                 50             482    27637898   \n",
       "12         1000        200                 40             457    32670452   \n",
       "1           500        200                 50             600    25928049   \n",
       "121         500        100                 50             606    26182900   \n",
       "132        1000        100                 40             439    31301027   \n",
       "240        1000         50                 50             604    25570407   \n",
       "241         500         50                 50             532    20530276   \n",
       "144        1000        100                 30             370    31694141   \n",
       "24         1000        200                 30             412    35241796   \n",
       "\n",
       "     train rmse  test rmse  test rmse stddev  capacity  \n",
       "120     1852458    4606327     151741.034132        22  \n",
       "0       1884280    4602577     153382.949895        23  \n",
       "12      1608440    4595139     155456.955344        24  \n",
       "1       1794538    4592886     152922.311411        22  \n",
       "121     1783718    4591961     152467.073355        21  \n",
       "132     1664559    4591896     156014.105355        23  \n",
       "240     1859536    4587290     161869.026511        21  \n",
       "241     2017431    4585421     160037.346680        20  \n",
       "144     1426294    4585368     159168.640207        24  \n",
       "24      1333247    4584339     158479.593765        25  "
      ]
     },
     "execution_count": 43,
     "metadata": {},
     "output_type": "execute_result"
    }
   ],
   "source": [
    "real_overfitting_df.nlargest(10, 'test rmse')"
   ]
  },
  {
   "cell_type": "code",
   "execution_count": 19,
   "id": "65cdae7e",
   "metadata": {},
   "outputs": [
    {
     "data": {
      "application/vnd.plotly.v1+json": {
       "config": {
        "plotlyServerURL": "https://plot.ly"
       },
       "data": [
        {
         "hovertemplate": "capacity=%{x}<br>test rmse=%{y}<extra></extra>",
         "legendgroup": "",
         "line": {
          "color": "#636efa",
          "dash": "solid"
         },
         "marker": {
          "symbol": "circle"
         },
         "mode": "lines",
         "name": "",
         "orientation": "v",
         "showlegend": false,
         "type": "scatter",
         "x": [
          0,
          1,
          2,
          3,
          4,
          5,
          6,
          7,
          8,
          9,
          10,
          11,
          12,
          13,
          14,
          15,
          16,
          17,
          18,
          19,
          20,
          21,
          22,
          23,
          24,
          25,
          26,
          27,
          28,
          29,
          30,
          31,
          32
         ],
         "xaxis": "x",
         "y": [
          4559951,
          4540042.666666667,
          4516971.5,
          4504605.4,
          4495039.2,
          4487089.523809524,
          4477735.785714285,
          4472411.472222222,
          4466008,
          4460551.963636364,
          4454029.384615385,
          4448008.306666667,
          4443020.297619048,
          4437185.32967033,
          4432761.885416667,
          4428120.525252526,
          4424430.02,
          4421639.575757576,
          4420016.010416667,
          4420224.758241759,
          4420958.119047619,
          4423059.16,
          4426981.476923077,
          4431143.4363636365,
          4434532.977777778,
          4437998.138888889,
          4444397.392857143,
          4451745.666666667,
          4462452.333333333,
          4476498.3,
          4497256.333333333,
          4523102,
          4562324
         ],
         "yaxis": "y"
        }
       ],
       "layout": {
        "legend": {
         "tracegroupgap": 0
        },
        "template": {
         "data": {
          "bar": [
           {
            "error_x": {
             "color": "#2a3f5f"
            },
            "error_y": {
             "color": "#2a3f5f"
            },
            "marker": {
             "line": {
              "color": "#E5ECF6",
              "width": 0.5
             },
             "pattern": {
              "fillmode": "overlay",
              "size": 10,
              "solidity": 0.2
             }
            },
            "type": "bar"
           }
          ],
          "barpolar": [
           {
            "marker": {
             "line": {
              "color": "#E5ECF6",
              "width": 0.5
             },
             "pattern": {
              "fillmode": "overlay",
              "size": 10,
              "solidity": 0.2
             }
            },
            "type": "barpolar"
           }
          ],
          "carpet": [
           {
            "aaxis": {
             "endlinecolor": "#2a3f5f",
             "gridcolor": "white",
             "linecolor": "white",
             "minorgridcolor": "white",
             "startlinecolor": "#2a3f5f"
            },
            "baxis": {
             "endlinecolor": "#2a3f5f",
             "gridcolor": "white",
             "linecolor": "white",
             "minorgridcolor": "white",
             "startlinecolor": "#2a3f5f"
            },
            "type": "carpet"
           }
          ],
          "choropleth": [
           {
            "colorbar": {
             "outlinewidth": 0,
             "ticks": ""
            },
            "type": "choropleth"
           }
          ],
          "contour": [
           {
            "colorbar": {
             "outlinewidth": 0,
             "ticks": ""
            },
            "colorscale": [
             [
              0,
              "#0d0887"
             ],
             [
              0.1111111111111111,
              "#46039f"
             ],
             [
              0.2222222222222222,
              "#7201a8"
             ],
             [
              0.3333333333333333,
              "#9c179e"
             ],
             [
              0.4444444444444444,
              "#bd3786"
             ],
             [
              0.5555555555555556,
              "#d8576b"
             ],
             [
              0.6666666666666666,
              "#ed7953"
             ],
             [
              0.7777777777777778,
              "#fb9f3a"
             ],
             [
              0.8888888888888888,
              "#fdca26"
             ],
             [
              1,
              "#f0f921"
             ]
            ],
            "type": "contour"
           }
          ],
          "contourcarpet": [
           {
            "colorbar": {
             "outlinewidth": 0,
             "ticks": ""
            },
            "type": "contourcarpet"
           }
          ],
          "heatmap": [
           {
            "colorbar": {
             "outlinewidth": 0,
             "ticks": ""
            },
            "colorscale": [
             [
              0,
              "#0d0887"
             ],
             [
              0.1111111111111111,
              "#46039f"
             ],
             [
              0.2222222222222222,
              "#7201a8"
             ],
             [
              0.3333333333333333,
              "#9c179e"
             ],
             [
              0.4444444444444444,
              "#bd3786"
             ],
             [
              0.5555555555555556,
              "#d8576b"
             ],
             [
              0.6666666666666666,
              "#ed7953"
             ],
             [
              0.7777777777777778,
              "#fb9f3a"
             ],
             [
              0.8888888888888888,
              "#fdca26"
             ],
             [
              1,
              "#f0f921"
             ]
            ],
            "type": "heatmap"
           }
          ],
          "heatmapgl": [
           {
            "colorbar": {
             "outlinewidth": 0,
             "ticks": ""
            },
            "colorscale": [
             [
              0,
              "#0d0887"
             ],
             [
              0.1111111111111111,
              "#46039f"
             ],
             [
              0.2222222222222222,
              "#7201a8"
             ],
             [
              0.3333333333333333,
              "#9c179e"
             ],
             [
              0.4444444444444444,
              "#bd3786"
             ],
             [
              0.5555555555555556,
              "#d8576b"
             ],
             [
              0.6666666666666666,
              "#ed7953"
             ],
             [
              0.7777777777777778,
              "#fb9f3a"
             ],
             [
              0.8888888888888888,
              "#fdca26"
             ],
             [
              1,
              "#f0f921"
             ]
            ],
            "type": "heatmapgl"
           }
          ],
          "histogram": [
           {
            "marker": {
             "pattern": {
              "fillmode": "overlay",
              "size": 10,
              "solidity": 0.2
             }
            },
            "type": "histogram"
           }
          ],
          "histogram2d": [
           {
            "colorbar": {
             "outlinewidth": 0,
             "ticks": ""
            },
            "colorscale": [
             [
              0,
              "#0d0887"
             ],
             [
              0.1111111111111111,
              "#46039f"
             ],
             [
              0.2222222222222222,
              "#7201a8"
             ],
             [
              0.3333333333333333,
              "#9c179e"
             ],
             [
              0.4444444444444444,
              "#bd3786"
             ],
             [
              0.5555555555555556,
              "#d8576b"
             ],
             [
              0.6666666666666666,
              "#ed7953"
             ],
             [
              0.7777777777777778,
              "#fb9f3a"
             ],
             [
              0.8888888888888888,
              "#fdca26"
             ],
             [
              1,
              "#f0f921"
             ]
            ],
            "type": "histogram2d"
           }
          ],
          "histogram2dcontour": [
           {
            "colorbar": {
             "outlinewidth": 0,
             "ticks": ""
            },
            "colorscale": [
             [
              0,
              "#0d0887"
             ],
             [
              0.1111111111111111,
              "#46039f"
             ],
             [
              0.2222222222222222,
              "#7201a8"
             ],
             [
              0.3333333333333333,
              "#9c179e"
             ],
             [
              0.4444444444444444,
              "#bd3786"
             ],
             [
              0.5555555555555556,
              "#d8576b"
             ],
             [
              0.6666666666666666,
              "#ed7953"
             ],
             [
              0.7777777777777778,
              "#fb9f3a"
             ],
             [
              0.8888888888888888,
              "#fdca26"
             ],
             [
              1,
              "#f0f921"
             ]
            ],
            "type": "histogram2dcontour"
           }
          ],
          "mesh3d": [
           {
            "colorbar": {
             "outlinewidth": 0,
             "ticks": ""
            },
            "type": "mesh3d"
           }
          ],
          "parcoords": [
           {
            "line": {
             "colorbar": {
              "outlinewidth": 0,
              "ticks": ""
             }
            },
            "type": "parcoords"
           }
          ],
          "pie": [
           {
            "automargin": true,
            "type": "pie"
           }
          ],
          "scatter": [
           {
            "fillpattern": {
             "fillmode": "overlay",
             "size": 10,
             "solidity": 0.2
            },
            "type": "scatter"
           }
          ],
          "scatter3d": [
           {
            "line": {
             "colorbar": {
              "outlinewidth": 0,
              "ticks": ""
             }
            },
            "marker": {
             "colorbar": {
              "outlinewidth": 0,
              "ticks": ""
             }
            },
            "type": "scatter3d"
           }
          ],
          "scattercarpet": [
           {
            "marker": {
             "colorbar": {
              "outlinewidth": 0,
              "ticks": ""
             }
            },
            "type": "scattercarpet"
           }
          ],
          "scattergeo": [
           {
            "marker": {
             "colorbar": {
              "outlinewidth": 0,
              "ticks": ""
             }
            },
            "type": "scattergeo"
           }
          ],
          "scattergl": [
           {
            "marker": {
             "colorbar": {
              "outlinewidth": 0,
              "ticks": ""
             }
            },
            "type": "scattergl"
           }
          ],
          "scattermapbox": [
           {
            "marker": {
             "colorbar": {
              "outlinewidth": 0,
              "ticks": ""
             }
            },
            "type": "scattermapbox"
           }
          ],
          "scatterpolar": [
           {
            "marker": {
             "colorbar": {
              "outlinewidth": 0,
              "ticks": ""
             }
            },
            "type": "scatterpolar"
           }
          ],
          "scatterpolargl": [
           {
            "marker": {
             "colorbar": {
              "outlinewidth": 0,
              "ticks": ""
             }
            },
            "type": "scatterpolargl"
           }
          ],
          "scatterternary": [
           {
            "marker": {
             "colorbar": {
              "outlinewidth": 0,
              "ticks": ""
             }
            },
            "type": "scatterternary"
           }
          ],
          "surface": [
           {
            "colorbar": {
             "outlinewidth": 0,
             "ticks": ""
            },
            "colorscale": [
             [
              0,
              "#0d0887"
             ],
             [
              0.1111111111111111,
              "#46039f"
             ],
             [
              0.2222222222222222,
              "#7201a8"
             ],
             [
              0.3333333333333333,
              "#9c179e"
             ],
             [
              0.4444444444444444,
              "#bd3786"
             ],
             [
              0.5555555555555556,
              "#d8576b"
             ],
             [
              0.6666666666666666,
              "#ed7953"
             ],
             [
              0.7777777777777778,
              "#fb9f3a"
             ],
             [
              0.8888888888888888,
              "#fdca26"
             ],
             [
              1,
              "#f0f921"
             ]
            ],
            "type": "surface"
           }
          ],
          "table": [
           {
            "cells": {
             "fill": {
              "color": "#EBF0F8"
             },
             "line": {
              "color": "white"
             }
            },
            "header": {
             "fill": {
              "color": "#C8D4E3"
             },
             "line": {
              "color": "white"
             }
            },
            "type": "table"
           }
          ]
         },
         "layout": {
          "annotationdefaults": {
           "arrowcolor": "#2a3f5f",
           "arrowhead": 0,
           "arrowwidth": 1
          },
          "autotypenumbers": "strict",
          "coloraxis": {
           "colorbar": {
            "outlinewidth": 0,
            "ticks": ""
           }
          },
          "colorscale": {
           "diverging": [
            [
             0,
             "#8e0152"
            ],
            [
             0.1,
             "#c51b7d"
            ],
            [
             0.2,
             "#de77ae"
            ],
            [
             0.3,
             "#f1b6da"
            ],
            [
             0.4,
             "#fde0ef"
            ],
            [
             0.5,
             "#f7f7f7"
            ],
            [
             0.6,
             "#e6f5d0"
            ],
            [
             0.7,
             "#b8e186"
            ],
            [
             0.8,
             "#7fbc41"
            ],
            [
             0.9,
             "#4d9221"
            ],
            [
             1,
             "#276419"
            ]
           ],
           "sequential": [
            [
             0,
             "#0d0887"
            ],
            [
             0.1111111111111111,
             "#46039f"
            ],
            [
             0.2222222222222222,
             "#7201a8"
            ],
            [
             0.3333333333333333,
             "#9c179e"
            ],
            [
             0.4444444444444444,
             "#bd3786"
            ],
            [
             0.5555555555555556,
             "#d8576b"
            ],
            [
             0.6666666666666666,
             "#ed7953"
            ],
            [
             0.7777777777777778,
             "#fb9f3a"
            ],
            [
             0.8888888888888888,
             "#fdca26"
            ],
            [
             1,
             "#f0f921"
            ]
           ],
           "sequentialminus": [
            [
             0,
             "#0d0887"
            ],
            [
             0.1111111111111111,
             "#46039f"
            ],
            [
             0.2222222222222222,
             "#7201a8"
            ],
            [
             0.3333333333333333,
             "#9c179e"
            ],
            [
             0.4444444444444444,
             "#bd3786"
            ],
            [
             0.5555555555555556,
             "#d8576b"
            ],
            [
             0.6666666666666666,
             "#ed7953"
            ],
            [
             0.7777777777777778,
             "#fb9f3a"
            ],
            [
             0.8888888888888888,
             "#fdca26"
            ],
            [
             1,
             "#f0f921"
            ]
           ]
          },
          "colorway": [
           "#636efa",
           "#EF553B",
           "#00cc96",
           "#ab63fa",
           "#FFA15A",
           "#19d3f3",
           "#FF6692",
           "#B6E880",
           "#FF97FF",
           "#FECB52"
          ],
          "font": {
           "color": "#2a3f5f"
          },
          "geo": {
           "bgcolor": "white",
           "lakecolor": "white",
           "landcolor": "#E5ECF6",
           "showlakes": true,
           "showland": true,
           "subunitcolor": "white"
          },
          "hoverlabel": {
           "align": "left"
          },
          "hovermode": "closest",
          "mapbox": {
           "style": "light"
          },
          "paper_bgcolor": "white",
          "plot_bgcolor": "#E5ECF6",
          "polar": {
           "angularaxis": {
            "gridcolor": "white",
            "linecolor": "white",
            "ticks": ""
           },
           "bgcolor": "#E5ECF6",
           "radialaxis": {
            "gridcolor": "white",
            "linecolor": "white",
            "ticks": ""
           }
          },
          "scene": {
           "xaxis": {
            "backgroundcolor": "#E5ECF6",
            "gridcolor": "white",
            "gridwidth": 2,
            "linecolor": "white",
            "showbackground": true,
            "ticks": "",
            "zerolinecolor": "white"
           },
           "yaxis": {
            "backgroundcolor": "#E5ECF6",
            "gridcolor": "white",
            "gridwidth": 2,
            "linecolor": "white",
            "showbackground": true,
            "ticks": "",
            "zerolinecolor": "white"
           },
           "zaxis": {
            "backgroundcolor": "#E5ECF6",
            "gridcolor": "white",
            "gridwidth": 2,
            "linecolor": "white",
            "showbackground": true,
            "ticks": "",
            "zerolinecolor": "white"
           }
          },
          "shapedefaults": {
           "line": {
            "color": "#2a3f5f"
           }
          },
          "ternary": {
           "aaxis": {
            "gridcolor": "white",
            "linecolor": "white",
            "ticks": ""
           },
           "baxis": {
            "gridcolor": "white",
            "linecolor": "white",
            "ticks": ""
           },
           "bgcolor": "#E5ECF6",
           "caxis": {
            "gridcolor": "white",
            "linecolor": "white",
            "ticks": ""
           }
          },
          "title": {
           "x": 0.05
          },
          "xaxis": {
           "automargin": true,
           "gridcolor": "white",
           "linecolor": "white",
           "ticks": "",
           "title": {
            "standoff": 15
           },
           "zerolinecolor": "white",
           "zerolinewidth": 2
          },
          "yaxis": {
           "automargin": true,
           "gridcolor": "white",
           "linecolor": "white",
           "ticks": "",
           "title": {
            "standoff": 15
           },
           "zerolinecolor": "white",
           "zerolinewidth": 2
          }
         }
        },
        "title": {
         "text": "Average Test RMSE by Complexity"
        },
        "xaxis": {
         "anchor": "y",
         "domain": [
          0,
          1
         ],
         "title": {
          "text": "Complexity"
         }
        },
        "yaxis": {
         "anchor": "x",
         "domain": [
          0,
          1
         ],
         "title": {
          "text": "Average Test RMSE"
         }
        }
       }
      }
     },
     "metadata": {},
     "output_type": "display_data"
    }
   ],
   "source": [
    "avg_rmse_df = real_overfitting_df.groupby(\"capacity\", as_index=False)[\"test rmse\"].mean()\n",
    "\n",
    "# Sort by complexity for a smoother line\n",
    "avg_rmse_df = avg_rmse_df.sort_values(\"capacity\")\n",
    "\n",
    "# Plot line chart\n",
    "fig = px.line(avg_rmse_df, x=\"capacity\", y=\"test rmse\", markers=False,\n",
    "              title=\"Average Test RMSE by Complexity\")\n",
    "fig.update_layout(xaxis_title=\"Complexity\", yaxis_title=\"Average Test RMSE\")\n",
    "fig.show()"
   ]
  },
  {
   "cell_type": "markdown",
   "id": "0d744c9c",
   "metadata": {},
   "source": [
    "Finally! There it is. Exactly as expected."
   ]
  },
  {
   "cell_type": "markdown",
   "id": "f04d2418",
   "metadata": {},
   "source": [
    "### Model Size"
   ]
  },
  {
   "cell_type": "code",
   "execution_count": 45,
   "id": "372b5994",
   "metadata": {},
   "outputs": [
    {
     "data": {
      "text/plain": [
       "(8683024, 114958644)"
      ]
     },
     "execution_count": 45,
     "metadata": {},
     "output_type": "execute_result"
    }
   ],
   "source": [
    "real_overfitting_df['model size'].min(), real_overfitting_df['model size'].max()"
   ]
  },
  {
   "cell_type": "code",
   "execution_count": 46,
   "id": "31bfd028",
   "metadata": {},
   "outputs": [
    {
     "data": {
      "application/vnd.plotly.v1+json": {
       "config": {
        "plotlyServerURL": "https://plot.ly"
       },
       "data": [
        {
         "alignmentgroup": "True",
         "hovertemplate": "Model Size Bin (bytes)=%{x}<br>Number of Models=%{y}<extra></extra>",
         "legendgroup": "",
         "marker": {
          "color": "#636efa",
          "pattern": {
           "shape": ""
          }
         },
         "name": "",
         "offsetgroup": "",
         "orientation": "v",
         "showlegend": false,
         "textposition": "auto",
         "type": "bar",
         "x": [
          5242880,
          10485760,
          15728640,
          20971520,
          26214400,
          31457280,
          36700160,
          41943040,
          47185920,
          52428800,
          57671680,
          62914560,
          68157440,
          73400320,
          78643200,
          83886080,
          89128960,
          94371840,
          99614720,
          104857600,
          110100480
         ],
         "xaxis": "x",
         "y": [
          132,
          349,
          312,
          246,
          176,
          97,
          75,
          62,
          24,
          26,
          22,
          12,
          7,
          6,
          2,
          2,
          4,
          1,
          3,
          1,
          1
         ],
         "yaxis": "y"
        }
       ],
       "layout": {
        "bargap": 0.1,
        "barmode": "relative",
        "legend": {
         "tracegroupgap": 0
        },
        "template": {
         "data": {
          "bar": [
           {
            "error_x": {
             "color": "#2a3f5f"
            },
            "error_y": {
             "color": "#2a3f5f"
            },
            "marker": {
             "line": {
              "color": "#E5ECF6",
              "width": 0.5
             },
             "pattern": {
              "fillmode": "overlay",
              "size": 10,
              "solidity": 0.2
             }
            },
            "type": "bar"
           }
          ],
          "barpolar": [
           {
            "marker": {
             "line": {
              "color": "#E5ECF6",
              "width": 0.5
             },
             "pattern": {
              "fillmode": "overlay",
              "size": 10,
              "solidity": 0.2
             }
            },
            "type": "barpolar"
           }
          ],
          "carpet": [
           {
            "aaxis": {
             "endlinecolor": "#2a3f5f",
             "gridcolor": "white",
             "linecolor": "white",
             "minorgridcolor": "white",
             "startlinecolor": "#2a3f5f"
            },
            "baxis": {
             "endlinecolor": "#2a3f5f",
             "gridcolor": "white",
             "linecolor": "white",
             "minorgridcolor": "white",
             "startlinecolor": "#2a3f5f"
            },
            "type": "carpet"
           }
          ],
          "choropleth": [
           {
            "colorbar": {
             "outlinewidth": 0,
             "ticks": ""
            },
            "type": "choropleth"
           }
          ],
          "contour": [
           {
            "colorbar": {
             "outlinewidth": 0,
             "ticks": ""
            },
            "colorscale": [
             [
              0,
              "#0d0887"
             ],
             [
              0.1111111111111111,
              "#46039f"
             ],
             [
              0.2222222222222222,
              "#7201a8"
             ],
             [
              0.3333333333333333,
              "#9c179e"
             ],
             [
              0.4444444444444444,
              "#bd3786"
             ],
             [
              0.5555555555555556,
              "#d8576b"
             ],
             [
              0.6666666666666666,
              "#ed7953"
             ],
             [
              0.7777777777777778,
              "#fb9f3a"
             ],
             [
              0.8888888888888888,
              "#fdca26"
             ],
             [
              1,
              "#f0f921"
             ]
            ],
            "type": "contour"
           }
          ],
          "contourcarpet": [
           {
            "colorbar": {
             "outlinewidth": 0,
             "ticks": ""
            },
            "type": "contourcarpet"
           }
          ],
          "heatmap": [
           {
            "colorbar": {
             "outlinewidth": 0,
             "ticks": ""
            },
            "colorscale": [
             [
              0,
              "#0d0887"
             ],
             [
              0.1111111111111111,
              "#46039f"
             ],
             [
              0.2222222222222222,
              "#7201a8"
             ],
             [
              0.3333333333333333,
              "#9c179e"
             ],
             [
              0.4444444444444444,
              "#bd3786"
             ],
             [
              0.5555555555555556,
              "#d8576b"
             ],
             [
              0.6666666666666666,
              "#ed7953"
             ],
             [
              0.7777777777777778,
              "#fb9f3a"
             ],
             [
              0.8888888888888888,
              "#fdca26"
             ],
             [
              1,
              "#f0f921"
             ]
            ],
            "type": "heatmap"
           }
          ],
          "heatmapgl": [
           {
            "colorbar": {
             "outlinewidth": 0,
             "ticks": ""
            },
            "colorscale": [
             [
              0,
              "#0d0887"
             ],
             [
              0.1111111111111111,
              "#46039f"
             ],
             [
              0.2222222222222222,
              "#7201a8"
             ],
             [
              0.3333333333333333,
              "#9c179e"
             ],
             [
              0.4444444444444444,
              "#bd3786"
             ],
             [
              0.5555555555555556,
              "#d8576b"
             ],
             [
              0.6666666666666666,
              "#ed7953"
             ],
             [
              0.7777777777777778,
              "#fb9f3a"
             ],
             [
              0.8888888888888888,
              "#fdca26"
             ],
             [
              1,
              "#f0f921"
             ]
            ],
            "type": "heatmapgl"
           }
          ],
          "histogram": [
           {
            "marker": {
             "pattern": {
              "fillmode": "overlay",
              "size": 10,
              "solidity": 0.2
             }
            },
            "type": "histogram"
           }
          ],
          "histogram2d": [
           {
            "colorbar": {
             "outlinewidth": 0,
             "ticks": ""
            },
            "colorscale": [
             [
              0,
              "#0d0887"
             ],
             [
              0.1111111111111111,
              "#46039f"
             ],
             [
              0.2222222222222222,
              "#7201a8"
             ],
             [
              0.3333333333333333,
              "#9c179e"
             ],
             [
              0.4444444444444444,
              "#bd3786"
             ],
             [
              0.5555555555555556,
              "#d8576b"
             ],
             [
              0.6666666666666666,
              "#ed7953"
             ],
             [
              0.7777777777777778,
              "#fb9f3a"
             ],
             [
              0.8888888888888888,
              "#fdca26"
             ],
             [
              1,
              "#f0f921"
             ]
            ],
            "type": "histogram2d"
           }
          ],
          "histogram2dcontour": [
           {
            "colorbar": {
             "outlinewidth": 0,
             "ticks": ""
            },
            "colorscale": [
             [
              0,
              "#0d0887"
             ],
             [
              0.1111111111111111,
              "#46039f"
             ],
             [
              0.2222222222222222,
              "#7201a8"
             ],
             [
              0.3333333333333333,
              "#9c179e"
             ],
             [
              0.4444444444444444,
              "#bd3786"
             ],
             [
              0.5555555555555556,
              "#d8576b"
             ],
             [
              0.6666666666666666,
              "#ed7953"
             ],
             [
              0.7777777777777778,
              "#fb9f3a"
             ],
             [
              0.8888888888888888,
              "#fdca26"
             ],
             [
              1,
              "#f0f921"
             ]
            ],
            "type": "histogram2dcontour"
           }
          ],
          "mesh3d": [
           {
            "colorbar": {
             "outlinewidth": 0,
             "ticks": ""
            },
            "type": "mesh3d"
           }
          ],
          "parcoords": [
           {
            "line": {
             "colorbar": {
              "outlinewidth": 0,
              "ticks": ""
             }
            },
            "type": "parcoords"
           }
          ],
          "pie": [
           {
            "automargin": true,
            "type": "pie"
           }
          ],
          "scatter": [
           {
            "fillpattern": {
             "fillmode": "overlay",
             "size": 10,
             "solidity": 0.2
            },
            "type": "scatter"
           }
          ],
          "scatter3d": [
           {
            "line": {
             "colorbar": {
              "outlinewidth": 0,
              "ticks": ""
             }
            },
            "marker": {
             "colorbar": {
              "outlinewidth": 0,
              "ticks": ""
             }
            },
            "type": "scatter3d"
           }
          ],
          "scattercarpet": [
           {
            "marker": {
             "colorbar": {
              "outlinewidth": 0,
              "ticks": ""
             }
            },
            "type": "scattercarpet"
           }
          ],
          "scattergeo": [
           {
            "marker": {
             "colorbar": {
              "outlinewidth": 0,
              "ticks": ""
             }
            },
            "type": "scattergeo"
           }
          ],
          "scattergl": [
           {
            "marker": {
             "colorbar": {
              "outlinewidth": 0,
              "ticks": ""
             }
            },
            "type": "scattergl"
           }
          ],
          "scattermapbox": [
           {
            "marker": {
             "colorbar": {
              "outlinewidth": 0,
              "ticks": ""
             }
            },
            "type": "scattermapbox"
           }
          ],
          "scatterpolar": [
           {
            "marker": {
             "colorbar": {
              "outlinewidth": 0,
              "ticks": ""
             }
            },
            "type": "scatterpolar"
           }
          ],
          "scatterpolargl": [
           {
            "marker": {
             "colorbar": {
              "outlinewidth": 0,
              "ticks": ""
             }
            },
            "type": "scatterpolargl"
           }
          ],
          "scatterternary": [
           {
            "marker": {
             "colorbar": {
              "outlinewidth": 0,
              "ticks": ""
             }
            },
            "type": "scatterternary"
           }
          ],
          "surface": [
           {
            "colorbar": {
             "outlinewidth": 0,
             "ticks": ""
            },
            "colorscale": [
             [
              0,
              "#0d0887"
             ],
             [
              0.1111111111111111,
              "#46039f"
             ],
             [
              0.2222222222222222,
              "#7201a8"
             ],
             [
              0.3333333333333333,
              "#9c179e"
             ],
             [
              0.4444444444444444,
              "#bd3786"
             ],
             [
              0.5555555555555556,
              "#d8576b"
             ],
             [
              0.6666666666666666,
              "#ed7953"
             ],
             [
              0.7777777777777778,
              "#fb9f3a"
             ],
             [
              0.8888888888888888,
              "#fdca26"
             ],
             [
              1,
              "#f0f921"
             ]
            ],
            "type": "surface"
           }
          ],
          "table": [
           {
            "cells": {
             "fill": {
              "color": "#EBF0F8"
             },
             "line": {
              "color": "white"
             }
            },
            "header": {
             "fill": {
              "color": "#C8D4E3"
             },
             "line": {
              "color": "white"
             }
            },
            "type": "table"
           }
          ]
         },
         "layout": {
          "annotationdefaults": {
           "arrowcolor": "#2a3f5f",
           "arrowhead": 0,
           "arrowwidth": 1
          },
          "autotypenumbers": "strict",
          "coloraxis": {
           "colorbar": {
            "outlinewidth": 0,
            "ticks": ""
           }
          },
          "colorscale": {
           "diverging": [
            [
             0,
             "#8e0152"
            ],
            [
             0.1,
             "#c51b7d"
            ],
            [
             0.2,
             "#de77ae"
            ],
            [
             0.3,
             "#f1b6da"
            ],
            [
             0.4,
             "#fde0ef"
            ],
            [
             0.5,
             "#f7f7f7"
            ],
            [
             0.6,
             "#e6f5d0"
            ],
            [
             0.7,
             "#b8e186"
            ],
            [
             0.8,
             "#7fbc41"
            ],
            [
             0.9,
             "#4d9221"
            ],
            [
             1,
             "#276419"
            ]
           ],
           "sequential": [
            [
             0,
             "#0d0887"
            ],
            [
             0.1111111111111111,
             "#46039f"
            ],
            [
             0.2222222222222222,
             "#7201a8"
            ],
            [
             0.3333333333333333,
             "#9c179e"
            ],
            [
             0.4444444444444444,
             "#bd3786"
            ],
            [
             0.5555555555555556,
             "#d8576b"
            ],
            [
             0.6666666666666666,
             "#ed7953"
            ],
            [
             0.7777777777777778,
             "#fb9f3a"
            ],
            [
             0.8888888888888888,
             "#fdca26"
            ],
            [
             1,
             "#f0f921"
            ]
           ],
           "sequentialminus": [
            [
             0,
             "#0d0887"
            ],
            [
             0.1111111111111111,
             "#46039f"
            ],
            [
             0.2222222222222222,
             "#7201a8"
            ],
            [
             0.3333333333333333,
             "#9c179e"
            ],
            [
             0.4444444444444444,
             "#bd3786"
            ],
            [
             0.5555555555555556,
             "#d8576b"
            ],
            [
             0.6666666666666666,
             "#ed7953"
            ],
            [
             0.7777777777777778,
             "#fb9f3a"
            ],
            [
             0.8888888888888888,
             "#fdca26"
            ],
            [
             1,
             "#f0f921"
            ]
           ]
          },
          "colorway": [
           "#636efa",
           "#EF553B",
           "#00cc96",
           "#ab63fa",
           "#FFA15A",
           "#19d3f3",
           "#FF6692",
           "#B6E880",
           "#FF97FF",
           "#FECB52"
          ],
          "font": {
           "color": "#2a3f5f"
          },
          "geo": {
           "bgcolor": "white",
           "lakecolor": "white",
           "landcolor": "#E5ECF6",
           "showlakes": true,
           "showland": true,
           "subunitcolor": "white"
          },
          "hoverlabel": {
           "align": "left"
          },
          "hovermode": "closest",
          "mapbox": {
           "style": "light"
          },
          "paper_bgcolor": "white",
          "plot_bgcolor": "#E5ECF6",
          "polar": {
           "angularaxis": {
            "gridcolor": "white",
            "linecolor": "white",
            "ticks": ""
           },
           "bgcolor": "#E5ECF6",
           "radialaxis": {
            "gridcolor": "white",
            "linecolor": "white",
            "ticks": ""
           }
          },
          "scene": {
           "xaxis": {
            "backgroundcolor": "#E5ECF6",
            "gridcolor": "white",
            "gridwidth": 2,
            "linecolor": "white",
            "showbackground": true,
            "ticks": "",
            "zerolinecolor": "white"
           },
           "yaxis": {
            "backgroundcolor": "#E5ECF6",
            "gridcolor": "white",
            "gridwidth": 2,
            "linecolor": "white",
            "showbackground": true,
            "ticks": "",
            "zerolinecolor": "white"
           },
           "zaxis": {
            "backgroundcolor": "#E5ECF6",
            "gridcolor": "white",
            "gridwidth": 2,
            "linecolor": "white",
            "showbackground": true,
            "ticks": "",
            "zerolinecolor": "white"
           }
          },
          "shapedefaults": {
           "line": {
            "color": "#2a3f5f"
           }
          },
          "ternary": {
           "aaxis": {
            "gridcolor": "white",
            "linecolor": "white",
            "ticks": ""
           },
           "baxis": {
            "gridcolor": "white",
            "linecolor": "white",
            "ticks": ""
           },
           "bgcolor": "#E5ECF6",
           "caxis": {
            "gridcolor": "white",
            "linecolor": "white",
            "ticks": ""
           }
          },
          "title": {
           "x": 0.05
          },
          "xaxis": {
           "automargin": true,
           "gridcolor": "white",
           "linecolor": "white",
           "ticks": "",
           "title": {
            "standoff": 15
           },
           "zerolinecolor": "white",
           "zerolinewidth": 2
          },
          "yaxis": {
           "automargin": true,
           "gridcolor": "white",
           "linecolor": "white",
           "ticks": "",
           "title": {
            "standoff": 15
           },
           "zerolinecolor": "white",
           "zerolinewidth": 2
          }
         }
        },
        "title": {
         "text": "Histogram of Model Size (Binned)"
        },
        "xaxis": {
         "anchor": "y",
         "domain": [
          0,
          1
         ],
         "title": {
          "text": "Model Size Bin (bytes)"
         }
        },
        "yaxis": {
         "anchor": "x",
         "domain": [
          0,
          1
         ],
         "title": {
          "text": "Number of Models"
         }
        }
       }
      }
     },
     "metadata": {},
     "output_type": "display_data"
    }
   ],
   "source": [
    "# Bin size\n",
    "bin_size = 5 * 1024 * 1024  # 5 MB\n",
    "\n",
    "# Create model size bins\n",
    "real_overfitting_df[\"model_size_bin\"] = (\n",
    "    (real_overfitting_df[\"model size\"] // bin_size) * bin_size\n",
    ")\n",
    "\n",
    "# Count number of models in each bin\n",
    "binned_counts = real_overfitting_df.groupby(\"model_size_bin\").size().reset_index(name=\"count\")\n",
    "\n",
    "# Plot histogram using pre-binned data\n",
    "fig = px.bar(binned_counts, x=\"model_size_bin\", y=\"count\",\n",
    "             title=\"Histogram of Model Size (Binned)\",\n",
    "             labels={\"model_size_bin\": \"Model Size Bin (bytes)\", \"count\": \"Number of Models\"})\n",
    "\n",
    "fig.update_layout(bargap=0.1)\n",
    "fig.show()"
   ]
  },
  {
   "cell_type": "markdown",
   "id": "749d71de",
   "metadata": {},
   "source": [
    "#### Model size by capacity"
   ]
  },
  {
   "cell_type": "code",
   "execution_count": 47,
   "id": "af994c69",
   "metadata": {},
   "outputs": [
    {
     "data": {
      "application/vnd.plotly.v1+json": {
       "config": {
        "plotlyServerURL": "https://plot.ly"
       },
       "data": [
        {
         "alignmentgroup": "True",
         "boxpoints": "all",
         "hovertemplate": "model size=%{x}<br>capacity=%{y}<extra></extra>",
         "legendgroup": "",
         "marker": {
          "color": "#636efa"
         },
         "name": "",
         "notched": false,
         "offsetgroup": "",
         "orientation": "h",
         "showlegend": false,
         "type": "box",
         "x": [
          27637898,
          25928049,
          20655822,
          21110228,
          20850236,
          19692284,
          18789463,
          15647613,
          13968111,
          14036844,
          11977420,
          9742459,
          32670452,
          25014124,
          21906684,
          21843030,
          22541738,
          21016638,
          20034489,
          16163145,
          14758091,
          13896838,
          12065533,
          9516495,
          35241796,
          29576186,
          26979919,
          25619927,
          24278562,
          22875024,
          19013868,
          17775063,
          15583362,
          13103860,
          11910052,
          9339520,
          35580514,
          28619641,
          27587764,
          26678438,
          24537954,
          23727706,
          22056208,
          17964770,
          15654187,
          14070443,
          13007759,
          8890864,
          33654110,
          31449360,
          27467473,
          31338937,
          24954341,
          24879968,
          24083644,
          17925541,
          14999222,
          15488266,
          13178641,
          9577670,
          36525323,
          34617815,
          33506648,
          29356719,
          30799719,
          28174856,
          26791824,
          20459076,
          16743173,
          16456732,
          14548766,
          9050418,
          42653031,
          41671833,
          37859976,
          34712927,
          35394919,
          36125459,
          26338631,
          21673744,
          17851738,
          17395902,
          15933624,
          10288242,
          64698488,
          51067605,
          48025650,
          46244605,
          38062520,
          39255979,
          34882936,
          23453607,
          20015442,
          17905977,
          15344226,
          10233764,
          72075137,
          62487065,
          52671050,
          45633070,
          45698505,
          44143068,
          38616310,
          28483913,
          21076239,
          18739783,
          16870533,
          9779565,
          100244251,
          89607432,
          64711062,
          55277534,
          57719119,
          47022858,
          37967099,
          28671100,
          21355832,
          16615597,
          15145765,
          10065461,
          28617214,
          26182900,
          20655822,
          21110228,
          20850236,
          19692284,
          18789463,
          15647613,
          13968111,
          14036844,
          11977420,
          9742459,
          31301027,
          25465387,
          21906684,
          21843030,
          22541738,
          21016638,
          20034489,
          16163145,
          14758091,
          13896838,
          12065533,
          9516495,
          31694141,
          29576187,
          26979919,
          25619927,
          24278562,
          22875024,
          19013868,
          17775063,
          15583362,
          13103860,
          11910052,
          9339520,
          37748238,
          28619641,
          27587764,
          26678438,
          24537954,
          23727706,
          22056208,
          17964770,
          15654187,
          14070442,
          13007759,
          8890864,
          34343125,
          31449360,
          27467473,
          31338937,
          24954341,
          24879967,
          24083644,
          17925540,
          14999222,
          15488266,
          13178642,
          9577670,
          36525323,
          34617814,
          33506648,
          29356719,
          30799719,
          28174856,
          26791824,
          20459076,
          16743173,
          16456732,
          14548766,
          9050418,
          42653031,
          41671833,
          37859976,
          34712927,
          35394919,
          36125459,
          26338631,
          21673744,
          17851738,
          17395902,
          15933624,
          10288242,
          64698488,
          51067605,
          48025650,
          46244605,
          38062520,
          39255979,
          34882936,
          23453607,
          20015442,
          17905978,
          15344226,
          10233764,
          72075137,
          62487065,
          52671050,
          45633070,
          45698505,
          44143069,
          38616310,
          28483916,
          21076239,
          18739783,
          16870532,
          9779565,
          100244251,
          89607432,
          64711053,
          55277534,
          57719119,
          47022858,
          37967099,
          28671100,
          21355832,
          16615596,
          15145765,
          10065461,
          25570407,
          20530276,
          21463523,
          22021439,
          20839812,
          20648577,
          18759224,
          15647612,
          13968110,
          14036843,
          11977419,
          9742458,
          29420899,
          24549568,
          23273763,
          24785252,
          23100585,
          21267643,
          20034488,
          16163144,
          14758090,
          13896837,
          12065532,
          9516494,
          33148580,
          31178416,
          24715749,
          24263664,
          24370756,
          23436554,
          19013867,
          17775062,
          15583361,
          13103859,
          11910051,
          9339519,
          34881602,
          27209901,
          29580331,
          28859389,
          25490770,
          22916498,
          22056207,
          17964769,
          15654184,
          14070441,
          13007758,
          8890863,
          35516118,
          27634916,
          28898504,
          27397653,
          26641205,
          24879966,
          24083643,
          17925548,
          14999221,
          15488265,
          13178641,
          9577669,
          32683738,
          36352721,
          31849786,
          29722268,
          30889365,
          28174855,
          26791823,
          20459075,
          16743172,
          16456731,
          14548765,
          9050417,
          43990023,
          40069765,
          39300715,
          34712926,
          35394919,
          36125458,
          26338630,
          21673743,
          17851736,
          17395901,
          15933623,
          10288241,
          62359604,
          51743926,
          48025649,
          46244603,
          38062519,
          39255978,
          34882935,
          23453603,
          20015441,
          17905976,
          15344225,
          10233763,
          77117767,
          62487064,
          52671049,
          45633069,
          45698504,
          44143067,
          38616309,
          28483915,
          21076238,
          18739782,
          16870531,
          9779564,
          101742944,
          86733492,
          64711052,
          55277533,
          57719118,
          47022856,
          37967098,
          28671099,
          21355831,
          16615596,
          15145764,
          10065460,
          28126776,
          23583374,
          22153094,
          20367395,
          21000071,
          19913384,
          21011283,
          15647612,
          13968110,
          14036843,
          11977419,
          9742458,
          29529448,
          26448897,
          23168155,
          20969790,
          22316332,
          21207161,
          19862729,
          16163144,
          14758090,
          13896837,
          12065532,
          9516494,
          36243641,
          31528335,
          26154311,
          23490732,
          24069147,
          27847928,
          19130273,
          17775062,
          15583361,
          13103859,
          11910051,
          9339519,
          32945254,
          27538668,
          27437467,
          26744407,
          27214540,
          22231249,
          20472073,
          17964769,
          15654186,
          14070441,
          13007758,
          8890863,
          36557273,
          30788414,
          28747478,
          26969832,
          29701347,
          23759464,
          23536393,
          17925540,
          14999221,
          15488265,
          13178641,
          9577669,
          33818250,
          32917685,
          34224706,
          34973703,
          29195961,
          28897787,
          26791823,
          20459075,
          16743172,
          16456731,
          14548765,
          9050417,
          45315543,
          41027380,
          40822354,
          38173839,
          34943255,
          35009736,
          26338630,
          21673743,
          17851733,
          17395901,
          15933623,
          10288241,
          59324465,
          45344629,
          44994615,
          42137283,
          38062519,
          39255978,
          34882935,
          23453606,
          20015441,
          17905977,
          15344225,
          10233763,
          75131283,
          56148577,
          53056023,
          47465815,
          45698504,
          44143068,
          38616309,
          28483914,
          21076238,
          18739782,
          16870531,
          9779564,
          109906029,
          71593701,
          63282451,
          53322283,
          57719118,
          47022856,
          37967098,
          28671099,
          21355831,
          16615596,
          15145764,
          10065460,
          28166130,
          23449011,
          22515745,
          23460153,
          20041085,
          18788791,
          20026063,
          15647610,
          13968110,
          14036843,
          11977419,
          9742458,
          30225039,
          27863548,
          21701882,
          23059790,
          21396200,
          20902694,
          19397236,
          16403614,
          14758090,
          13896836,
          12065532,
          9516494,
          35676953,
          28751988,
          24960238,
          25531882,
          24247336,
          24733940,
          22043399,
          17775060,
          15583357,
          13103859,
          11910051,
          9339519,
          35631116,
          28242452,
          28449814,
          26628540,
          25571515,
          23679839,
          20580058,
          17964769,
          15654192,
          14070441,
          13007758,
          8890863,
          38421656,
          29671495,
          28322705,
          27334777,
          26191935,
          24882974,
          22108940,
          17925539,
          14999220,
          15488265,
          13178640,
          9577669,
          37476867,
          34029287,
          35223045,
          30887172,
          29985627,
          27972706,
          26928028,
          20459075,
          16743177,
          16456731,
          14548765,
          9050417,
          42228145,
          40813469,
          39743986,
          39274916,
          32373790,
          37618813,
          26338630,
          21673743,
          17851738,
          17395901,
          15933622,
          10288241,
          57798569,
          60418657,
          46256556,
          42824156,
          45378412,
          38554363,
          34580523,
          23453606,
          20015441,
          17905976,
          15344225,
          10233763,
          76175756,
          62543382,
          53823877,
          52884893,
          54130236,
          43403902,
          38820124,
          28483913,
          21076238,
          18739782,
          16870531,
          9779564,
          114958644,
          76040125,
          65239270,
          54812412,
          51361152,
          48563278,
          37967098,
          28671099,
          21355831,
          16615596,
          15145764,
          10065460,
          27354729,
          25007845,
          22640436,
          21989061,
          20966872,
          20559945,
          20119290,
          15980981,
          13968110,
          14036843,
          11977419,
          9742458,
          30169043,
          26168401,
          23628873,
          20854690,
          21391342,
          21375415,
          19801133,
          17216881,
          14758090,
          13896837,
          12065532,
          9516494,
          32234758,
          29458620,
          27144020,
          25252714,
          23598560,
          24776822,
          20431046,
          16386062,
          15583361,
          13103859,
          11910051,
          9339519,
          32555481,
          29528427,
          26796332,
          23105251,
          24764323,
          22911410,
          19734734,
          18278433,
          15654184,
          14070442,
          13007758,
          8890863,
          35197363,
          28096771,
          29192871,
          25619141,
          25935040,
          28211276,
          23093754,
          16592366,
          14999221,
          15488265,
          13178641,
          9577669,
          35959953,
          34941181,
          36029936,
          27925519,
          31342895,
          26281293,
          25089799,
          20459075,
          16743172,
          16456731,
          14548765,
          9050417,
          47341321,
          40190710,
          41983076,
          34979053,
          35555934,
          32384223,
          27879145,
          21673743,
          17851736,
          17395901,
          15933623,
          10288241,
          58840691,
          62870849,
          47318770,
          46319890,
          41034547,
          37614931,
          34229338,
          23453603,
          20015441,
          17905977,
          15344226,
          10233763,
          75020355,
          58588468,
          52540723,
          53968231,
          44558229,
          42543048,
          38834013,
          28483915,
          21076246,
          18739782,
          16870532,
          9779564,
          92035682,
          70820068,
          74479486,
          57596868,
          53637444,
          41411470,
          37697082,
          28671099,
          21355831,
          16615596,
          15145764,
          10065460,
          26032173,
          24337722,
          22881597,
          23276724,
          21809652,
          19457906,
          18902207,
          14473912,
          14346135,
          14036843,
          11977419,
          9742458,
          27045276,
          27314771,
          23991423,
          23430942,
          21942259,
          21875757,
          20275799,
          16895550,
          14758090,
          13896837,
          12065532,
          9516494,
          32513732,
          26899238,
          28007727,
          24749441,
          24905365,
          22111563,
          21401153,
          17288190,
          15583361,
          13103859,
          11910051,
          9339519,
          32453276,
          26777568,
          30260294,
          24614897,
          25636123,
          23520013,
          21719451,
          17346114,
          15654186,
          14070441,
          13007758,
          8890863,
          35531512,
          30193712,
          27736896,
          27616645,
          24041354,
          25259821,
          21747832,
          17685093,
          14999221,
          15488265,
          13178641,
          9577669,
          36680607,
          35793390,
          29657860,
          29577818,
          28334306,
          28582687,
          20765280,
          19491778,
          16743172,
          16456731,
          14548765,
          9050417,
          49776576,
          38421190,
          42219288,
          38270711,
          33560404,
          26544607,
          28200858,
          23767758,
          17851737,
          17395901,
          15933623,
          10288241,
          60109948,
          54877807,
          51632148,
          46605858,
          40351547,
          37010387,
          30907670,
          23518025,
          20015441,
          17905977,
          15344225,
          10233763,
          79432351,
          58041260,
          54243990,
          50810076,
          41322457,
          43152412,
          35588511,
          26747413,
          21076240,
          18739782,
          16870532,
          9779564,
          96038490,
          81701495,
          59716537,
          63188581,
          56072618,
          46523747,
          42918090,
          28663205,
          21355831,
          16615596,
          15145764,
          10065460,
          25184656,
          23116896,
          22953151,
          21204992,
          19262946,
          20270434,
          17647388,
          16498907,
          13456553,
          13216443,
          11977419,
          9742458,
          27477936,
          24960609,
          24106051,
          22998327,
          20873575,
          21560127,
          18868292,
          16264863,
          14046314,
          14001940,
          12065532,
          9516494,
          32445841,
          25014430,
          22193258,
          23767332,
          21668489,
          23374596,
          19957222,
          17291971,
          15972967,
          13873993,
          11910051,
          9339519,
          34271420,
          30124079,
          28544482,
          24869395,
          22064149,
          23911079,
          23850208,
          15910869,
          13545247,
          14070441,
          13007758,
          8890863,
          35401198,
          30794574,
          26998732,
          27934737,
          24981918,
          26729105,
          24002000,
          18557877,
          17332713,
          15488265,
          13178641,
          9577669,
          36216925,
          37438439,
          30335244,
          29827325,
          25613358,
          24621245,
          22924752,
          17660034,
          16180670,
          16508447,
          14548765,
          9050417,
          44776723,
          42816371,
          38638483,
          33723360,
          32465859,
          33075324,
          26095505,
          24245289,
          18448886,
          17364645,
          15933623,
          10288241,
          61825253,
          52272187,
          46018682,
          46077135,
          42104359,
          36085516,
          35689053,
          23113253,
          21686970,
          17905976,
          15344225,
          10233763,
          71524209,
          66269042,
          47088883,
          54390394,
          48901517,
          45742383,
          35863510,
          30147889,
          21168537,
          18739782,
          16870531,
          9779564,
          93020803,
          67818128,
          57406162,
          63122287,
          56734024,
          52061646,
          44217377,
          32728929,
          22095113,
          17148452,
          15145764,
          10065460,
          21007491,
          21491260,
          19344555,
          20196693,
          23775642,
          21620492,
          18209685,
          15928687,
          13094965,
          13746523,
          12223897,
          9742458,
          26273766,
          23980631,
          18782192,
          19845187,
          21061797,
          22305582,
          20097242,
          16666077,
          15030330,
          13004818,
          11564747,
          9516494,
          26664477,
          24802685,
          22621579,
          24235966,
          24041809,
          23271871,
          21602583,
          16751954,
          13387152,
          13579672,
          13436011,
          9339519,
          26454851,
          27075531,
          26391669,
          26034084,
          24273280,
          21299463,
          19773639,
          17501170,
          15183193,
          14093989,
          13085917,
          8890863,
          29541742,
          32509709,
          28821250,
          22513148,
          26912034,
          26119275,
          22089241,
          17730894,
          15761480,
          13525978,
          13198931,
          9577669,
          38434772,
          33004185,
          30698300,
          27876614,
          30278353,
          28011776,
          23350607,
          20287407,
          17459336,
          13991439,
          13711234,
          9050417,
          43361696,
          42161610,
          33008802,
          34575796,
          36065151,
          30501845,
          30221266,
          21360514,
          17776672,
          15238951,
          15571660,
          10288241,
          61610989,
          47495263,
          44541240,
          41718597,
          40858412,
          37598315,
          30211091,
          28032996,
          21144219,
          15339433,
          14907705,
          10233763,
          69692149,
          56271483,
          51704971,
          51541291,
          45341177,
          38122795,
          34814186,
          26701298,
          20403471,
          19391355,
          16010641,
          9779564,
          87103325,
          70508483,
          62873096,
          49142334,
          46860231,
          41816714,
          43928428,
          26465726,
          20988384,
          18289917,
          15995051,
          10065460,
          20078912,
          20078911,
          18727236,
          18113497,
          17789617,
          16794946,
          17197724,
          15761389,
          14052709,
          12933187,
          12474734,
          9742458,
          20820557,
          20820556,
          18549867,
          19488579,
          20673112,
          18938510,
          18595816,
          15263145,
          13941164,
          11729119,
          12183339,
          9516494,
          21659920,
          21965842,
          21733406,
          20363758,
          19457772,
          20921379,
          18647143,
          17177792,
          14556010,
          12801593,
          13632858,
          9339519,
          24791432,
          22296003,
          23458589,
          21495908,
          21759442,
          20583440,
          19117574,
          15803725,
          14017723,
          12814323,
          11845899,
          8890863,
          22848921,
          24246741,
          25612313,
          22530196,
          23441002,
          23138829,
          19651032,
          16573446,
          14881115,
          13038132,
          11771833,
          9577669,
          27459974,
          28770141,
          25896850,
          26925272,
          26286232,
          23914221,
          24126554,
          19311553,
          15370054,
          14505060,
          13810831,
          9050417,
          32253686,
          30694233,
          29930403,
          29915177,
          32167673,
          29747363,
          27808818,
          20669371,
          18386407,
          17401850,
          13240378,
          10288241,
          42821019,
          41763252,
          40900519,
          42108924,
          37377948,
          32251190,
          31178946,
          25970074,
          17066870,
          16969731,
          16090006,
          10233763,
          57934259,
          52553797,
          49187819,
          41543026,
          39359414,
          39110176,
          34086847,
          21065249,
          19431793,
          16584350,
          15439015,
          9779563,
          64860343,
          57196490,
          50362608,
          43435050,
          42849615,
          41374728,
          32941570,
          26894935,
          21443464,
          16942606,
          13991485,
          10065460,
          18823804,
          18823803,
          17343740,
          17829643,
          17648283,
          16886055,
          17153659,
          14745420,
          12010076,
          12786529,
          11374407,
          9742457,
          19027144,
          19027143,
          18879218,
          18771065,
          17136329,
          18004822,
          16996674,
          16505102,
          13462913,
          12753519,
          11957892,
          9516493,
          21542874,
          21542873,
          21573318,
          18801445,
          19089616,
          18179257,
          19177574,
          16768260,
          14293700,
          12784714,
          11898083,
          9339518,
          20284352,
          20284350,
          19718016,
          20478762,
          19256974,
          18923061,
          18852893,
          14826495,
          14228054,
          14208110,
          11563277,
          8890862,
          21899725,
          21899724,
          21802110,
          20989278,
          21247679,
          23038887,
          19634889,
          15531275,
          16631178,
          13524417,
          11406050,
          9577668,
          24877179,
          24877178,
          23423913,
          22843527,
          22922567,
          24447809,
          22906526,
          17769394,
          13968946,
          14363667,
          14220845,
          9050416,
          29394341,
          29394340,
          28972394,
          27663259,
          26802726,
          27719318,
          26156096,
          20070568,
          17011902,
          14283339,
          14682486,
          10288240,
          40793953,
          40793952,
          36840022,
          33847283,
          31488759,
          34712379,
          27355126,
          23211406,
          17137310,
          16780538,
          14905586,
          10233762,
          44305098,
          44305097,
          39430550,
          42661877,
          37375842,
          34668308,
          27672983,
          23018410,
          18277994,
          17728724,
          14736041,
          9779563,
          45941177,
          45906135,
          51464385,
          38656178,
          36750061,
          37959306,
          31243195,
          26246310,
          19542383,
          19748730,
          16019388,
          10065459,
          16151803,
          16151802,
          16151802,
          16151802,
          16731847,
          15314923,
          16018889,
          14660328,
          14654388,
          13059637,
          11523988,
          8999038,
          16094382,
          16094381,
          16094381,
          16094381,
          16024917,
          17252525,
          15047293,
          14875543,
          12828313,
          12689177,
          12519746,
          9294858,
          16783375,
          16783374,
          16783374,
          16783374,
          18710000,
          19133905,
          17363434,
          16143165,
          14272832,
          11519998,
          12244854,
          9547809,
          18347776,
          18347775,
          18347775,
          18347776,
          18315074,
          18365509,
          17086851,
          18188952,
          14767557,
          14131398,
          11694142,
          9379750,
          19581636,
          19581636,
          19581635,
          19581635,
          18807112,
          19949164,
          19357137,
          17198390,
          13826094,
          13392513,
          13704979,
          9174191,
          22725917,
          22725916,
          22725916,
          22725916,
          21660557,
          22251439,
          20897406,
          17453176,
          14256711,
          13270312,
          14604462,
          9535537,
          25892150,
          25892149,
          25892152,
          26318851,
          24607641,
          27688840,
          25998280,
          20047720,
          16306820,
          14482042,
          15125162,
          9819154,
          31037378,
          31037377,
          31037377,
          32359122,
          29356983,
          29322321,
          28421167,
          23195257,
          18614978,
          14748182,
          13564352,
          10012927,
          33290162,
          33290162,
          33290162,
          38076430,
          33943857,
          35789552,
          30193312,
          20597390,
          16171030,
          17265288,
          16150749,
          9880264,
          40455542,
          40455542,
          40455542,
          41725813,
          37502757,
          32814234,
          27208031,
          23055210,
          20123232,
          18429623,
          15381089,
          9937159,
          11545501,
          11545500,
          11545500,
          11545500,
          11545500,
          11545500,
          11545500,
          11545499,
          12095094,
          10456541,
          10654091,
          8771688,
          11935932,
          11935931,
          11935931,
          11935931,
          11935931,
          11935931,
          11935931,
          11935930,
          11442508,
          10151682,
          11121139,
          8894562,
          13096245,
          13096244,
          13096244,
          13096244,
          13096244,
          13096244,
          13096244,
          13096243,
          13177314,
          12246674,
          12005126,
          8683024,
          12074081,
          12074080,
          12074080,
          12074080,
          12074080,
          12074080,
          12074080,
          12074079,
          12545102,
          10694228,
          11766119,
          9497281,
          12135780,
          12135779,
          12135779,
          12135779,
          12135779,
          12135779,
          12135779,
          12135778,
          11141174,
          11801649,
          10787035,
          9273306,
          12288394,
          12288393,
          12288393,
          12288393,
          12288393,
          12288393,
          12288393,
          12288392,
          13050890,
          12715378,
          11821086,
          9767339,
          12874769,
          12874768,
          12874768,
          12874768,
          12874768,
          12874768,
          12874768,
          12874767,
          12924425,
          11745041,
          12157116,
          9794567,
          14121709,
          14121708,
          14121708,
          14121708,
          14121708,
          14121708,
          14121708,
          14121707,
          13886115,
          12646491,
          13272878,
          10060204,
          12996036,
          12996035,
          12996035,
          12996035,
          12996035,
          12996035,
          12996035,
          12996034,
          15494413,
          13748421,
          13118777,
          9476250,
          14309566,
          14309566,
          14309565,
          14309565,
          14309566,
          14309566,
          14309565,
          14309565,
          13958819,
          15181038,
          11876448,
          9855692
         ],
         "x0": " ",
         "xaxis": "x",
         "y": [
          23,
          22,
          21,
          20,
          19,
          18,
          17,
          16,
          15,
          14,
          13,
          12,
          24,
          23,
          22,
          21,
          20,
          19,
          18,
          17,
          16,
          15,
          14,
          13,
          25,
          24,
          23,
          22,
          21,
          20,
          19,
          18,
          17,
          16,
          15,
          14,
          26,
          25,
          24,
          23,
          22,
          21,
          20,
          19,
          18,
          17,
          16,
          15,
          27,
          26,
          25,
          24,
          23,
          22,
          21,
          20,
          19,
          18,
          17,
          16,
          28,
          27,
          26,
          25,
          24,
          23,
          22,
          21,
          20,
          19,
          18,
          17,
          29,
          28,
          27,
          26,
          25,
          24,
          23,
          22,
          21,
          20,
          19,
          18,
          30,
          29,
          28,
          27,
          26,
          25,
          24,
          23,
          22,
          21,
          20,
          19,
          31,
          30,
          29,
          28,
          27,
          26,
          25,
          24,
          23,
          22,
          21,
          20,
          32,
          31,
          30,
          29,
          28,
          27,
          26,
          25,
          24,
          23,
          22,
          21,
          22,
          21,
          20,
          19,
          18,
          17,
          16,
          15,
          14,
          13,
          12,
          11,
          23,
          22,
          21,
          20,
          19,
          18,
          17,
          16,
          15,
          14,
          13,
          12,
          24,
          23,
          22,
          21,
          20,
          19,
          18,
          17,
          16,
          15,
          14,
          13,
          25,
          24,
          23,
          22,
          21,
          20,
          19,
          18,
          17,
          16,
          15,
          14,
          26,
          25,
          24,
          23,
          22,
          21,
          20,
          19,
          18,
          17,
          16,
          15,
          27,
          26,
          25,
          24,
          23,
          22,
          21,
          20,
          19,
          18,
          17,
          16,
          28,
          27,
          26,
          25,
          24,
          23,
          22,
          21,
          20,
          19,
          18,
          17,
          29,
          28,
          27,
          26,
          25,
          24,
          23,
          22,
          21,
          20,
          19,
          18,
          30,
          29,
          28,
          27,
          26,
          25,
          24,
          23,
          22,
          21,
          20,
          19,
          31,
          30,
          29,
          28,
          27,
          26,
          25,
          24,
          23,
          22,
          21,
          20,
          21,
          20,
          19,
          18,
          17,
          16,
          15,
          14,
          13,
          12,
          11,
          10,
          22,
          21,
          20,
          19,
          18,
          17,
          16,
          15,
          14,
          13,
          12,
          11,
          23,
          22,
          21,
          20,
          19,
          18,
          17,
          16,
          15,
          14,
          13,
          12,
          24,
          23,
          22,
          21,
          20,
          19,
          18,
          17,
          16,
          15,
          14,
          13,
          25,
          24,
          23,
          22,
          21,
          20,
          19,
          18,
          17,
          16,
          15,
          14,
          26,
          25,
          24,
          23,
          22,
          21,
          20,
          19,
          18,
          17,
          16,
          15,
          27,
          26,
          25,
          24,
          23,
          22,
          21,
          20,
          19,
          18,
          17,
          16,
          28,
          27,
          26,
          25,
          24,
          23,
          22,
          21,
          20,
          19,
          18,
          17,
          29,
          28,
          27,
          26,
          25,
          24,
          23,
          22,
          21,
          20,
          19,
          18,
          30,
          29,
          28,
          27,
          26,
          25,
          24,
          23,
          22,
          21,
          20,
          19,
          20,
          19,
          18,
          17,
          16,
          15,
          14,
          13,
          12,
          11,
          10,
          9,
          21,
          20,
          19,
          18,
          17,
          16,
          15,
          14,
          13,
          12,
          11,
          10,
          22,
          21,
          20,
          19,
          18,
          17,
          16,
          15,
          14,
          13,
          12,
          11,
          23,
          22,
          21,
          20,
          19,
          18,
          17,
          16,
          15,
          14,
          13,
          12,
          24,
          23,
          22,
          21,
          20,
          19,
          18,
          17,
          16,
          15,
          14,
          13,
          25,
          24,
          23,
          22,
          21,
          20,
          19,
          18,
          17,
          16,
          15,
          14,
          26,
          25,
          24,
          23,
          22,
          21,
          20,
          19,
          18,
          17,
          16,
          15,
          27,
          26,
          25,
          24,
          23,
          22,
          21,
          20,
          19,
          18,
          17,
          16,
          28,
          27,
          26,
          25,
          24,
          23,
          22,
          21,
          20,
          19,
          18,
          17,
          29,
          28,
          27,
          26,
          25,
          24,
          23,
          22,
          21,
          20,
          19,
          18,
          19,
          18,
          17,
          16,
          15,
          14,
          13,
          12,
          11,
          10,
          9,
          8,
          20,
          19,
          18,
          17,
          16,
          15,
          14,
          13,
          12,
          11,
          10,
          9,
          21,
          20,
          19,
          18,
          17,
          16,
          15,
          14,
          13,
          12,
          11,
          10,
          22,
          21,
          20,
          19,
          18,
          17,
          16,
          15,
          14,
          13,
          12,
          11,
          23,
          22,
          21,
          20,
          19,
          18,
          17,
          16,
          15,
          14,
          13,
          12,
          24,
          23,
          22,
          21,
          20,
          19,
          18,
          17,
          16,
          15,
          14,
          13,
          25,
          24,
          23,
          22,
          21,
          20,
          19,
          18,
          17,
          16,
          15,
          14,
          26,
          25,
          24,
          23,
          22,
          21,
          20,
          19,
          18,
          17,
          16,
          15,
          27,
          26,
          25,
          24,
          23,
          22,
          21,
          20,
          19,
          18,
          17,
          16,
          28,
          27,
          26,
          25,
          24,
          23,
          22,
          21,
          20,
          19,
          18,
          17,
          18,
          17,
          16,
          15,
          14,
          13,
          12,
          11,
          10,
          9,
          8,
          7,
          19,
          18,
          17,
          16,
          15,
          14,
          13,
          12,
          11,
          10,
          9,
          8,
          20,
          19,
          18,
          17,
          16,
          15,
          14,
          13,
          12,
          11,
          10,
          9,
          21,
          20,
          19,
          18,
          17,
          16,
          15,
          14,
          13,
          12,
          11,
          10,
          22,
          21,
          20,
          19,
          18,
          17,
          16,
          15,
          14,
          13,
          12,
          11,
          23,
          22,
          21,
          20,
          19,
          18,
          17,
          16,
          15,
          14,
          13,
          12,
          24,
          23,
          22,
          21,
          20,
          19,
          18,
          17,
          16,
          15,
          14,
          13,
          25,
          24,
          23,
          22,
          21,
          20,
          19,
          18,
          17,
          16,
          15,
          14,
          26,
          25,
          24,
          23,
          22,
          21,
          20,
          19,
          18,
          17,
          16,
          15,
          27,
          26,
          25,
          24,
          23,
          22,
          21,
          20,
          19,
          18,
          17,
          16,
          17,
          16,
          15,
          14,
          13,
          12,
          11,
          10,
          9,
          8,
          7,
          6,
          18,
          17,
          16,
          15,
          14,
          13,
          12,
          11,
          10,
          9,
          8,
          7,
          19,
          18,
          17,
          16,
          15,
          14,
          13,
          12,
          11,
          10,
          9,
          8,
          20,
          19,
          18,
          17,
          16,
          15,
          14,
          13,
          12,
          11,
          10,
          9,
          21,
          20,
          19,
          18,
          17,
          16,
          15,
          14,
          13,
          12,
          11,
          10,
          22,
          21,
          20,
          19,
          18,
          17,
          16,
          15,
          14,
          13,
          12,
          11,
          23,
          22,
          21,
          20,
          19,
          18,
          17,
          16,
          15,
          14,
          13,
          12,
          24,
          23,
          22,
          21,
          20,
          19,
          18,
          17,
          16,
          15,
          14,
          13,
          25,
          24,
          23,
          22,
          21,
          20,
          19,
          18,
          17,
          16,
          15,
          14,
          26,
          25,
          24,
          23,
          22,
          21,
          20,
          19,
          18,
          17,
          16,
          15,
          16,
          15,
          14,
          13,
          12,
          11,
          10,
          9,
          8,
          7,
          6,
          5,
          17,
          16,
          15,
          14,
          13,
          12,
          11,
          10,
          9,
          8,
          7,
          6,
          18,
          17,
          16,
          15,
          14,
          13,
          12,
          11,
          10,
          9,
          8,
          7,
          19,
          18,
          17,
          16,
          15,
          14,
          13,
          12,
          11,
          10,
          9,
          8,
          20,
          19,
          18,
          17,
          16,
          15,
          14,
          13,
          12,
          11,
          10,
          9,
          21,
          20,
          19,
          18,
          17,
          16,
          15,
          14,
          13,
          12,
          11,
          10,
          22,
          21,
          20,
          19,
          18,
          17,
          16,
          15,
          14,
          13,
          12,
          11,
          23,
          22,
          21,
          20,
          19,
          18,
          17,
          16,
          15,
          14,
          13,
          12,
          24,
          23,
          22,
          21,
          20,
          19,
          18,
          17,
          16,
          15,
          14,
          13,
          25,
          24,
          23,
          22,
          21,
          20,
          19,
          18,
          17,
          16,
          15,
          14,
          15,
          14,
          13,
          12,
          11,
          10,
          9,
          8,
          7,
          6,
          5,
          4,
          16,
          15,
          14,
          13,
          12,
          11,
          10,
          9,
          8,
          7,
          6,
          5,
          17,
          16,
          15,
          14,
          13,
          12,
          11,
          10,
          9,
          8,
          7,
          6,
          18,
          17,
          16,
          15,
          14,
          13,
          12,
          11,
          10,
          9,
          8,
          7,
          19,
          18,
          17,
          16,
          15,
          14,
          13,
          12,
          11,
          10,
          9,
          8,
          20,
          19,
          18,
          17,
          16,
          15,
          14,
          13,
          12,
          11,
          10,
          9,
          21,
          20,
          19,
          18,
          17,
          16,
          15,
          14,
          13,
          12,
          11,
          10,
          22,
          21,
          20,
          19,
          18,
          17,
          16,
          15,
          14,
          13,
          12,
          11,
          23,
          22,
          21,
          20,
          19,
          18,
          17,
          16,
          15,
          14,
          13,
          12,
          24,
          23,
          22,
          21,
          20,
          19,
          18,
          17,
          16,
          15,
          14,
          13,
          14,
          13,
          12,
          11,
          10,
          9,
          8,
          7,
          6,
          5,
          4,
          3,
          15,
          14,
          13,
          12,
          11,
          10,
          9,
          8,
          7,
          6,
          5,
          4,
          16,
          15,
          14,
          13,
          12,
          11,
          10,
          9,
          8,
          7,
          6,
          5,
          17,
          16,
          15,
          14,
          13,
          12,
          11,
          10,
          9,
          8,
          7,
          6,
          18,
          17,
          16,
          15,
          14,
          13,
          12,
          11,
          10,
          9,
          8,
          7,
          19,
          18,
          17,
          16,
          15,
          14,
          13,
          12,
          11,
          10,
          9,
          8,
          20,
          19,
          18,
          17,
          16,
          15,
          14,
          13,
          12,
          11,
          10,
          9,
          21,
          20,
          19,
          18,
          17,
          16,
          15,
          14,
          13,
          12,
          11,
          10,
          22,
          21,
          20,
          19,
          18,
          17,
          16,
          15,
          14,
          13,
          12,
          11,
          23,
          22,
          21,
          20,
          19,
          18,
          17,
          16,
          15,
          14,
          13,
          12,
          13,
          12,
          11,
          10,
          9,
          8,
          7,
          6,
          5,
          4,
          3,
          2,
          14,
          13,
          12,
          11,
          10,
          9,
          8,
          7,
          6,
          5,
          4,
          3,
          15,
          14,
          13,
          12,
          11,
          10,
          9,
          8,
          7,
          6,
          5,
          4,
          16,
          15,
          14,
          13,
          12,
          11,
          10,
          9,
          8,
          7,
          6,
          5,
          17,
          16,
          15,
          14,
          13,
          12,
          11,
          10,
          9,
          8,
          7,
          6,
          18,
          17,
          16,
          15,
          14,
          13,
          12,
          11,
          10,
          9,
          8,
          7,
          19,
          18,
          17,
          16,
          15,
          14,
          13,
          12,
          11,
          10,
          9,
          8,
          20,
          19,
          18,
          17,
          16,
          15,
          14,
          13,
          12,
          11,
          10,
          9,
          21,
          20,
          19,
          18,
          17,
          16,
          15,
          14,
          13,
          12,
          11,
          10,
          22,
          21,
          20,
          19,
          18,
          17,
          16,
          15,
          14,
          13,
          12,
          11,
          12,
          11,
          10,
          9,
          8,
          7,
          6,
          5,
          4,
          3,
          2,
          1,
          13,
          12,
          11,
          10,
          9,
          8,
          7,
          6,
          5,
          4,
          3,
          2,
          14,
          13,
          12,
          11,
          10,
          9,
          8,
          7,
          6,
          5,
          4,
          3,
          15,
          14,
          13,
          12,
          11,
          10,
          9,
          8,
          7,
          6,
          5,
          4,
          16,
          15,
          14,
          13,
          12,
          11,
          10,
          9,
          8,
          7,
          6,
          5,
          17,
          16,
          15,
          14,
          13,
          12,
          11,
          10,
          9,
          8,
          7,
          6,
          18,
          17,
          16,
          15,
          14,
          13,
          12,
          11,
          10,
          9,
          8,
          7,
          19,
          18,
          17,
          16,
          15,
          14,
          13,
          12,
          11,
          10,
          9,
          8,
          20,
          19,
          18,
          17,
          16,
          15,
          14,
          13,
          12,
          11,
          10,
          9,
          21,
          20,
          19,
          18,
          17,
          16,
          15,
          14,
          13,
          12,
          11,
          10,
          11,
          10,
          9,
          8,
          7,
          6,
          5,
          4,
          3,
          2,
          1,
          0,
          12,
          11,
          10,
          9,
          8,
          7,
          6,
          5,
          4,
          3,
          2,
          1,
          13,
          12,
          11,
          10,
          9,
          8,
          7,
          6,
          5,
          4,
          3,
          2,
          14,
          13,
          12,
          11,
          10,
          9,
          8,
          7,
          6,
          5,
          4,
          3,
          15,
          14,
          13,
          12,
          11,
          10,
          9,
          8,
          7,
          6,
          5,
          4,
          16,
          15,
          14,
          13,
          12,
          11,
          10,
          9,
          8,
          7,
          6,
          5,
          17,
          16,
          15,
          14,
          13,
          12,
          11,
          10,
          9,
          8,
          7,
          6,
          18,
          17,
          16,
          15,
          14,
          13,
          12,
          11,
          10,
          9,
          8,
          7,
          19,
          18,
          17,
          16,
          15,
          14,
          13,
          12,
          11,
          10,
          9,
          8,
          20,
          19,
          18,
          17,
          16,
          15,
          14,
          13,
          12,
          11,
          10,
          9
         ],
         "y0": " ",
         "yaxis": "y"
        }
       ],
       "layout": {
        "boxmode": "group",
        "legend": {
         "tracegroupgap": 0
        },
        "template": {
         "data": {
          "bar": [
           {
            "error_x": {
             "color": "#2a3f5f"
            },
            "error_y": {
             "color": "#2a3f5f"
            },
            "marker": {
             "line": {
              "color": "#E5ECF6",
              "width": 0.5
             },
             "pattern": {
              "fillmode": "overlay",
              "size": 10,
              "solidity": 0.2
             }
            },
            "type": "bar"
           }
          ],
          "barpolar": [
           {
            "marker": {
             "line": {
              "color": "#E5ECF6",
              "width": 0.5
             },
             "pattern": {
              "fillmode": "overlay",
              "size": 10,
              "solidity": 0.2
             }
            },
            "type": "barpolar"
           }
          ],
          "carpet": [
           {
            "aaxis": {
             "endlinecolor": "#2a3f5f",
             "gridcolor": "white",
             "linecolor": "white",
             "minorgridcolor": "white",
             "startlinecolor": "#2a3f5f"
            },
            "baxis": {
             "endlinecolor": "#2a3f5f",
             "gridcolor": "white",
             "linecolor": "white",
             "minorgridcolor": "white",
             "startlinecolor": "#2a3f5f"
            },
            "type": "carpet"
           }
          ],
          "choropleth": [
           {
            "colorbar": {
             "outlinewidth": 0,
             "ticks": ""
            },
            "type": "choropleth"
           }
          ],
          "contour": [
           {
            "colorbar": {
             "outlinewidth": 0,
             "ticks": ""
            },
            "colorscale": [
             [
              0,
              "#0d0887"
             ],
             [
              0.1111111111111111,
              "#46039f"
             ],
             [
              0.2222222222222222,
              "#7201a8"
             ],
             [
              0.3333333333333333,
              "#9c179e"
             ],
             [
              0.4444444444444444,
              "#bd3786"
             ],
             [
              0.5555555555555556,
              "#d8576b"
             ],
             [
              0.6666666666666666,
              "#ed7953"
             ],
             [
              0.7777777777777778,
              "#fb9f3a"
             ],
             [
              0.8888888888888888,
              "#fdca26"
             ],
             [
              1,
              "#f0f921"
             ]
            ],
            "type": "contour"
           }
          ],
          "contourcarpet": [
           {
            "colorbar": {
             "outlinewidth": 0,
             "ticks": ""
            },
            "type": "contourcarpet"
           }
          ],
          "heatmap": [
           {
            "colorbar": {
             "outlinewidth": 0,
             "ticks": ""
            },
            "colorscale": [
             [
              0,
              "#0d0887"
             ],
             [
              0.1111111111111111,
              "#46039f"
             ],
             [
              0.2222222222222222,
              "#7201a8"
             ],
             [
              0.3333333333333333,
              "#9c179e"
             ],
             [
              0.4444444444444444,
              "#bd3786"
             ],
             [
              0.5555555555555556,
              "#d8576b"
             ],
             [
              0.6666666666666666,
              "#ed7953"
             ],
             [
              0.7777777777777778,
              "#fb9f3a"
             ],
             [
              0.8888888888888888,
              "#fdca26"
             ],
             [
              1,
              "#f0f921"
             ]
            ],
            "type": "heatmap"
           }
          ],
          "heatmapgl": [
           {
            "colorbar": {
             "outlinewidth": 0,
             "ticks": ""
            },
            "colorscale": [
             [
              0,
              "#0d0887"
             ],
             [
              0.1111111111111111,
              "#46039f"
             ],
             [
              0.2222222222222222,
              "#7201a8"
             ],
             [
              0.3333333333333333,
              "#9c179e"
             ],
             [
              0.4444444444444444,
              "#bd3786"
             ],
             [
              0.5555555555555556,
              "#d8576b"
             ],
             [
              0.6666666666666666,
              "#ed7953"
             ],
             [
              0.7777777777777778,
              "#fb9f3a"
             ],
             [
              0.8888888888888888,
              "#fdca26"
             ],
             [
              1,
              "#f0f921"
             ]
            ],
            "type": "heatmapgl"
           }
          ],
          "histogram": [
           {
            "marker": {
             "pattern": {
              "fillmode": "overlay",
              "size": 10,
              "solidity": 0.2
             }
            },
            "type": "histogram"
           }
          ],
          "histogram2d": [
           {
            "colorbar": {
             "outlinewidth": 0,
             "ticks": ""
            },
            "colorscale": [
             [
              0,
              "#0d0887"
             ],
             [
              0.1111111111111111,
              "#46039f"
             ],
             [
              0.2222222222222222,
              "#7201a8"
             ],
             [
              0.3333333333333333,
              "#9c179e"
             ],
             [
              0.4444444444444444,
              "#bd3786"
             ],
             [
              0.5555555555555556,
              "#d8576b"
             ],
             [
              0.6666666666666666,
              "#ed7953"
             ],
             [
              0.7777777777777778,
              "#fb9f3a"
             ],
             [
              0.8888888888888888,
              "#fdca26"
             ],
             [
              1,
              "#f0f921"
             ]
            ],
            "type": "histogram2d"
           }
          ],
          "histogram2dcontour": [
           {
            "colorbar": {
             "outlinewidth": 0,
             "ticks": ""
            },
            "colorscale": [
             [
              0,
              "#0d0887"
             ],
             [
              0.1111111111111111,
              "#46039f"
             ],
             [
              0.2222222222222222,
              "#7201a8"
             ],
             [
              0.3333333333333333,
              "#9c179e"
             ],
             [
              0.4444444444444444,
              "#bd3786"
             ],
             [
              0.5555555555555556,
              "#d8576b"
             ],
             [
              0.6666666666666666,
              "#ed7953"
             ],
             [
              0.7777777777777778,
              "#fb9f3a"
             ],
             [
              0.8888888888888888,
              "#fdca26"
             ],
             [
              1,
              "#f0f921"
             ]
            ],
            "type": "histogram2dcontour"
           }
          ],
          "mesh3d": [
           {
            "colorbar": {
             "outlinewidth": 0,
             "ticks": ""
            },
            "type": "mesh3d"
           }
          ],
          "parcoords": [
           {
            "line": {
             "colorbar": {
              "outlinewidth": 0,
              "ticks": ""
             }
            },
            "type": "parcoords"
           }
          ],
          "pie": [
           {
            "automargin": true,
            "type": "pie"
           }
          ],
          "scatter": [
           {
            "fillpattern": {
             "fillmode": "overlay",
             "size": 10,
             "solidity": 0.2
            },
            "type": "scatter"
           }
          ],
          "scatter3d": [
           {
            "line": {
             "colorbar": {
              "outlinewidth": 0,
              "ticks": ""
             }
            },
            "marker": {
             "colorbar": {
              "outlinewidth": 0,
              "ticks": ""
             }
            },
            "type": "scatter3d"
           }
          ],
          "scattercarpet": [
           {
            "marker": {
             "colorbar": {
              "outlinewidth": 0,
              "ticks": ""
             }
            },
            "type": "scattercarpet"
           }
          ],
          "scattergeo": [
           {
            "marker": {
             "colorbar": {
              "outlinewidth": 0,
              "ticks": ""
             }
            },
            "type": "scattergeo"
           }
          ],
          "scattergl": [
           {
            "marker": {
             "colorbar": {
              "outlinewidth": 0,
              "ticks": ""
             }
            },
            "type": "scattergl"
           }
          ],
          "scattermapbox": [
           {
            "marker": {
             "colorbar": {
              "outlinewidth": 0,
              "ticks": ""
             }
            },
            "type": "scattermapbox"
           }
          ],
          "scatterpolar": [
           {
            "marker": {
             "colorbar": {
              "outlinewidth": 0,
              "ticks": ""
             }
            },
            "type": "scatterpolar"
           }
          ],
          "scatterpolargl": [
           {
            "marker": {
             "colorbar": {
              "outlinewidth": 0,
              "ticks": ""
             }
            },
            "type": "scatterpolargl"
           }
          ],
          "scatterternary": [
           {
            "marker": {
             "colorbar": {
              "outlinewidth": 0,
              "ticks": ""
             }
            },
            "type": "scatterternary"
           }
          ],
          "surface": [
           {
            "colorbar": {
             "outlinewidth": 0,
             "ticks": ""
            },
            "colorscale": [
             [
              0,
              "#0d0887"
             ],
             [
              0.1111111111111111,
              "#46039f"
             ],
             [
              0.2222222222222222,
              "#7201a8"
             ],
             [
              0.3333333333333333,
              "#9c179e"
             ],
             [
              0.4444444444444444,
              "#bd3786"
             ],
             [
              0.5555555555555556,
              "#d8576b"
             ],
             [
              0.6666666666666666,
              "#ed7953"
             ],
             [
              0.7777777777777778,
              "#fb9f3a"
             ],
             [
              0.8888888888888888,
              "#fdca26"
             ],
             [
              1,
              "#f0f921"
             ]
            ],
            "type": "surface"
           }
          ],
          "table": [
           {
            "cells": {
             "fill": {
              "color": "#EBF0F8"
             },
             "line": {
              "color": "white"
             }
            },
            "header": {
             "fill": {
              "color": "#C8D4E3"
             },
             "line": {
              "color": "white"
             }
            },
            "type": "table"
           }
          ]
         },
         "layout": {
          "annotationdefaults": {
           "arrowcolor": "#2a3f5f",
           "arrowhead": 0,
           "arrowwidth": 1
          },
          "autotypenumbers": "strict",
          "coloraxis": {
           "colorbar": {
            "outlinewidth": 0,
            "ticks": ""
           }
          },
          "colorscale": {
           "diverging": [
            [
             0,
             "#8e0152"
            ],
            [
             0.1,
             "#c51b7d"
            ],
            [
             0.2,
             "#de77ae"
            ],
            [
             0.3,
             "#f1b6da"
            ],
            [
             0.4,
             "#fde0ef"
            ],
            [
             0.5,
             "#f7f7f7"
            ],
            [
             0.6,
             "#e6f5d0"
            ],
            [
             0.7,
             "#b8e186"
            ],
            [
             0.8,
             "#7fbc41"
            ],
            [
             0.9,
             "#4d9221"
            ],
            [
             1,
             "#276419"
            ]
           ],
           "sequential": [
            [
             0,
             "#0d0887"
            ],
            [
             0.1111111111111111,
             "#46039f"
            ],
            [
             0.2222222222222222,
             "#7201a8"
            ],
            [
             0.3333333333333333,
             "#9c179e"
            ],
            [
             0.4444444444444444,
             "#bd3786"
            ],
            [
             0.5555555555555556,
             "#d8576b"
            ],
            [
             0.6666666666666666,
             "#ed7953"
            ],
            [
             0.7777777777777778,
             "#fb9f3a"
            ],
            [
             0.8888888888888888,
             "#fdca26"
            ],
            [
             1,
             "#f0f921"
            ]
           ],
           "sequentialminus": [
            [
             0,
             "#0d0887"
            ],
            [
             0.1111111111111111,
             "#46039f"
            ],
            [
             0.2222222222222222,
             "#7201a8"
            ],
            [
             0.3333333333333333,
             "#9c179e"
            ],
            [
             0.4444444444444444,
             "#bd3786"
            ],
            [
             0.5555555555555556,
             "#d8576b"
            ],
            [
             0.6666666666666666,
             "#ed7953"
            ],
            [
             0.7777777777777778,
             "#fb9f3a"
            ],
            [
             0.8888888888888888,
             "#fdca26"
            ],
            [
             1,
             "#f0f921"
            ]
           ]
          },
          "colorway": [
           "#636efa",
           "#EF553B",
           "#00cc96",
           "#ab63fa",
           "#FFA15A",
           "#19d3f3",
           "#FF6692",
           "#B6E880",
           "#FF97FF",
           "#FECB52"
          ],
          "font": {
           "color": "#2a3f5f"
          },
          "geo": {
           "bgcolor": "white",
           "lakecolor": "white",
           "landcolor": "#E5ECF6",
           "showlakes": true,
           "showland": true,
           "subunitcolor": "white"
          },
          "hoverlabel": {
           "align": "left"
          },
          "hovermode": "closest",
          "mapbox": {
           "style": "light"
          },
          "paper_bgcolor": "white",
          "plot_bgcolor": "#E5ECF6",
          "polar": {
           "angularaxis": {
            "gridcolor": "white",
            "linecolor": "white",
            "ticks": ""
           },
           "bgcolor": "#E5ECF6",
           "radialaxis": {
            "gridcolor": "white",
            "linecolor": "white",
            "ticks": ""
           }
          },
          "scene": {
           "xaxis": {
            "backgroundcolor": "#E5ECF6",
            "gridcolor": "white",
            "gridwidth": 2,
            "linecolor": "white",
            "showbackground": true,
            "ticks": "",
            "zerolinecolor": "white"
           },
           "yaxis": {
            "backgroundcolor": "#E5ECF6",
            "gridcolor": "white",
            "gridwidth": 2,
            "linecolor": "white",
            "showbackground": true,
            "ticks": "",
            "zerolinecolor": "white"
           },
           "zaxis": {
            "backgroundcolor": "#E5ECF6",
            "gridcolor": "white",
            "gridwidth": 2,
            "linecolor": "white",
            "showbackground": true,
            "ticks": "",
            "zerolinecolor": "white"
           }
          },
          "shapedefaults": {
           "line": {
            "color": "#2a3f5f"
           }
          },
          "ternary": {
           "aaxis": {
            "gridcolor": "white",
            "linecolor": "white",
            "ticks": ""
           },
           "baxis": {
            "gridcolor": "white",
            "linecolor": "white",
            "ticks": ""
           },
           "bgcolor": "#E5ECF6",
           "caxis": {
            "gridcolor": "white",
            "linecolor": "white",
            "ticks": ""
           }
          },
          "title": {
           "x": 0.05
          },
          "xaxis": {
           "automargin": true,
           "gridcolor": "white",
           "linecolor": "white",
           "ticks": "",
           "title": {
            "standoff": 15
           },
           "zerolinecolor": "white",
           "zerolinewidth": 2
          },
          "yaxis": {
           "automargin": true,
           "gridcolor": "white",
           "linecolor": "white",
           "ticks": "",
           "title": {
            "standoff": 15
           },
           "zerolinecolor": "white",
           "zerolinewidth": 2
          }
         }
        },
        "title": {
         "text": "Model Size by Capacity"
        },
        "xaxis": {
         "anchor": "y",
         "domain": [
          0,
          1
         ],
         "title": {
          "text": "Model Size (bytes)"
         }
        },
        "yaxis": {
         "anchor": "x",
         "domain": [
          0,
          1
         ],
         "title": {
          "text": "Capacity"
         }
        }
       }
      }
     },
     "metadata": {},
     "output_type": "display_data"
    }
   ],
   "source": [
    "fig = px.box(real_overfitting_df, x=\"model size\", y=\"capacity\", orientation='h', points=\"all\", title=\"Model Size by Capacity\")\n",
    "fig.update_layout(yaxis_title=\"Capacity\", xaxis_title=\"Model Size (bytes)\")\n",
    "fig.show()"
   ]
  },
  {
   "cell_type": "markdown",
   "id": "bb8b8bd8",
   "metadata": {},
   "source": [
    "#### Average RMSE by model size"
   ]
  },
  {
   "cell_type": "code",
   "execution_count": 12,
   "id": "27950c76",
   "metadata": {},
   "outputs": [],
   "source": [
    "BIN_MIB = 5\n",
    "THRESHOLD_MIB = 65\n",
    "\n",
    "def custom_model_size_bin(size_bytes):\n",
    "    size_mib = size_bytes / (1024 * 1024)\n",
    "    if size_mib < THRESHOLD_MIB:\n",
    "        return (int(size_mib) // BIN_MIB) * BIN_MIB\n",
    "    else:\n",
    "        return THRESHOLD_MIB\n",
    "\n",
    "real_overfitting_df[\"model_size_bin\"] = real_overfitting_df[\"model size\"].apply(custom_model_size_bin)\n",
    "real_overfitting_df[\"model_size_bin_label\"] = real_overfitting_df[\"model_size_bin\"].apply(\n",
    "    lambda x: \"65MB+\" if x == THRESHOLD_MIB else f\"{x}MB\"\n",
    ")"
   ]
  },
  {
   "cell_type": "code",
   "execution_count": 13,
   "id": "d7485ed9",
   "metadata": {},
   "outputs": [
    {
     "data": {
      "application/vnd.plotly.v1+json": {
       "config": {
        "plotlyServerURL": "https://plot.ly"
       },
       "data": [
        {
         "alignmentgroup": "True",
         "hovertemplate": "model_size_bin_label=%{x}<br>test rmse=%{y}<extra></extra>",
         "legendgroup": "",
         "marker": {
          "color": "#636efa",
          "pattern": {
           "shape": ""
          }
         },
         "name": "",
         "offsetgroup": "",
         "orientation": "v",
         "showlegend": false,
         "textposition": "auto",
         "type": "bar",
         "x": [
          "10MB",
          "15MB",
          "20MB",
          "25MB",
          "30MB",
          "35MB",
          "40MB",
          "45MB",
          "50MB",
          "55MB",
          "5MB",
          "60MB",
          "65MB+"
         ],
         "xaxis": "x",
         "y": [
          4452802.8739255015,
          4422407.737179487,
          4432201.044715447,
          4426910.193181818,
          4445885.948453608,
          4399679.133333334,
          4401629.935483871,
          4414639.5,
          4389478.576923077,
          4468370.2272727275,
          4492466.606060606,
          4435252.75,
          4520842.037037037
         ],
         "yaxis": "y"
        }
       ],
       "layout": {
        "bargap": 0.1,
        "barmode": "relative",
        "legend": {
         "tracegroupgap": 0
        },
        "template": {
         "data": {
          "bar": [
           {
            "error_x": {
             "color": "#2a3f5f"
            },
            "error_y": {
             "color": "#2a3f5f"
            },
            "marker": {
             "line": {
              "color": "#E5ECF6",
              "width": 0.5
             },
             "pattern": {
              "fillmode": "overlay",
              "size": 10,
              "solidity": 0.2
             }
            },
            "type": "bar"
           }
          ],
          "barpolar": [
           {
            "marker": {
             "line": {
              "color": "#E5ECF6",
              "width": 0.5
             },
             "pattern": {
              "fillmode": "overlay",
              "size": 10,
              "solidity": 0.2
             }
            },
            "type": "barpolar"
           }
          ],
          "carpet": [
           {
            "aaxis": {
             "endlinecolor": "#2a3f5f",
             "gridcolor": "white",
             "linecolor": "white",
             "minorgridcolor": "white",
             "startlinecolor": "#2a3f5f"
            },
            "baxis": {
             "endlinecolor": "#2a3f5f",
             "gridcolor": "white",
             "linecolor": "white",
             "minorgridcolor": "white",
             "startlinecolor": "#2a3f5f"
            },
            "type": "carpet"
           }
          ],
          "choropleth": [
           {
            "colorbar": {
             "outlinewidth": 0,
             "ticks": ""
            },
            "type": "choropleth"
           }
          ],
          "contour": [
           {
            "colorbar": {
             "outlinewidth": 0,
             "ticks": ""
            },
            "colorscale": [
             [
              0,
              "#0d0887"
             ],
             [
              0.1111111111111111,
              "#46039f"
             ],
             [
              0.2222222222222222,
              "#7201a8"
             ],
             [
              0.3333333333333333,
              "#9c179e"
             ],
             [
              0.4444444444444444,
              "#bd3786"
             ],
             [
              0.5555555555555556,
              "#d8576b"
             ],
             [
              0.6666666666666666,
              "#ed7953"
             ],
             [
              0.7777777777777778,
              "#fb9f3a"
             ],
             [
              0.8888888888888888,
              "#fdca26"
             ],
             [
              1,
              "#f0f921"
             ]
            ],
            "type": "contour"
           }
          ],
          "contourcarpet": [
           {
            "colorbar": {
             "outlinewidth": 0,
             "ticks": ""
            },
            "type": "contourcarpet"
           }
          ],
          "heatmap": [
           {
            "colorbar": {
             "outlinewidth": 0,
             "ticks": ""
            },
            "colorscale": [
             [
              0,
              "#0d0887"
             ],
             [
              0.1111111111111111,
              "#46039f"
             ],
             [
              0.2222222222222222,
              "#7201a8"
             ],
             [
              0.3333333333333333,
              "#9c179e"
             ],
             [
              0.4444444444444444,
              "#bd3786"
             ],
             [
              0.5555555555555556,
              "#d8576b"
             ],
             [
              0.6666666666666666,
              "#ed7953"
             ],
             [
              0.7777777777777778,
              "#fb9f3a"
             ],
             [
              0.8888888888888888,
              "#fdca26"
             ],
             [
              1,
              "#f0f921"
             ]
            ],
            "type": "heatmap"
           }
          ],
          "heatmapgl": [
           {
            "colorbar": {
             "outlinewidth": 0,
             "ticks": ""
            },
            "colorscale": [
             [
              0,
              "#0d0887"
             ],
             [
              0.1111111111111111,
              "#46039f"
             ],
             [
              0.2222222222222222,
              "#7201a8"
             ],
             [
              0.3333333333333333,
              "#9c179e"
             ],
             [
              0.4444444444444444,
              "#bd3786"
             ],
             [
              0.5555555555555556,
              "#d8576b"
             ],
             [
              0.6666666666666666,
              "#ed7953"
             ],
             [
              0.7777777777777778,
              "#fb9f3a"
             ],
             [
              0.8888888888888888,
              "#fdca26"
             ],
             [
              1,
              "#f0f921"
             ]
            ],
            "type": "heatmapgl"
           }
          ],
          "histogram": [
           {
            "marker": {
             "pattern": {
              "fillmode": "overlay",
              "size": 10,
              "solidity": 0.2
             }
            },
            "type": "histogram"
           }
          ],
          "histogram2d": [
           {
            "colorbar": {
             "outlinewidth": 0,
             "ticks": ""
            },
            "colorscale": [
             [
              0,
              "#0d0887"
             ],
             [
              0.1111111111111111,
              "#46039f"
             ],
             [
              0.2222222222222222,
              "#7201a8"
             ],
             [
              0.3333333333333333,
              "#9c179e"
             ],
             [
              0.4444444444444444,
              "#bd3786"
             ],
             [
              0.5555555555555556,
              "#d8576b"
             ],
             [
              0.6666666666666666,
              "#ed7953"
             ],
             [
              0.7777777777777778,
              "#fb9f3a"
             ],
             [
              0.8888888888888888,
              "#fdca26"
             ],
             [
              1,
              "#f0f921"
             ]
            ],
            "type": "histogram2d"
           }
          ],
          "histogram2dcontour": [
           {
            "colorbar": {
             "outlinewidth": 0,
             "ticks": ""
            },
            "colorscale": [
             [
              0,
              "#0d0887"
             ],
             [
              0.1111111111111111,
              "#46039f"
             ],
             [
              0.2222222222222222,
              "#7201a8"
             ],
             [
              0.3333333333333333,
              "#9c179e"
             ],
             [
              0.4444444444444444,
              "#bd3786"
             ],
             [
              0.5555555555555556,
              "#d8576b"
             ],
             [
              0.6666666666666666,
              "#ed7953"
             ],
             [
              0.7777777777777778,
              "#fb9f3a"
             ],
             [
              0.8888888888888888,
              "#fdca26"
             ],
             [
              1,
              "#f0f921"
             ]
            ],
            "type": "histogram2dcontour"
           }
          ],
          "mesh3d": [
           {
            "colorbar": {
             "outlinewidth": 0,
             "ticks": ""
            },
            "type": "mesh3d"
           }
          ],
          "parcoords": [
           {
            "line": {
             "colorbar": {
              "outlinewidth": 0,
              "ticks": ""
             }
            },
            "type": "parcoords"
           }
          ],
          "pie": [
           {
            "automargin": true,
            "type": "pie"
           }
          ],
          "scatter": [
           {
            "fillpattern": {
             "fillmode": "overlay",
             "size": 10,
             "solidity": 0.2
            },
            "type": "scatter"
           }
          ],
          "scatter3d": [
           {
            "line": {
             "colorbar": {
              "outlinewidth": 0,
              "ticks": ""
             }
            },
            "marker": {
             "colorbar": {
              "outlinewidth": 0,
              "ticks": ""
             }
            },
            "type": "scatter3d"
           }
          ],
          "scattercarpet": [
           {
            "marker": {
             "colorbar": {
              "outlinewidth": 0,
              "ticks": ""
             }
            },
            "type": "scattercarpet"
           }
          ],
          "scattergeo": [
           {
            "marker": {
             "colorbar": {
              "outlinewidth": 0,
              "ticks": ""
             }
            },
            "type": "scattergeo"
           }
          ],
          "scattergl": [
           {
            "marker": {
             "colorbar": {
              "outlinewidth": 0,
              "ticks": ""
             }
            },
            "type": "scattergl"
           }
          ],
          "scattermapbox": [
           {
            "marker": {
             "colorbar": {
              "outlinewidth": 0,
              "ticks": ""
             }
            },
            "type": "scattermapbox"
           }
          ],
          "scatterpolar": [
           {
            "marker": {
             "colorbar": {
              "outlinewidth": 0,
              "ticks": ""
             }
            },
            "type": "scatterpolar"
           }
          ],
          "scatterpolargl": [
           {
            "marker": {
             "colorbar": {
              "outlinewidth": 0,
              "ticks": ""
             }
            },
            "type": "scatterpolargl"
           }
          ],
          "scatterternary": [
           {
            "marker": {
             "colorbar": {
              "outlinewidth": 0,
              "ticks": ""
             }
            },
            "type": "scatterternary"
           }
          ],
          "surface": [
           {
            "colorbar": {
             "outlinewidth": 0,
             "ticks": ""
            },
            "colorscale": [
             [
              0,
              "#0d0887"
             ],
             [
              0.1111111111111111,
              "#46039f"
             ],
             [
              0.2222222222222222,
              "#7201a8"
             ],
             [
              0.3333333333333333,
              "#9c179e"
             ],
             [
              0.4444444444444444,
              "#bd3786"
             ],
             [
              0.5555555555555556,
              "#d8576b"
             ],
             [
              0.6666666666666666,
              "#ed7953"
             ],
             [
              0.7777777777777778,
              "#fb9f3a"
             ],
             [
              0.8888888888888888,
              "#fdca26"
             ],
             [
              1,
              "#f0f921"
             ]
            ],
            "type": "surface"
           }
          ],
          "table": [
           {
            "cells": {
             "fill": {
              "color": "#EBF0F8"
             },
             "line": {
              "color": "white"
             }
            },
            "header": {
             "fill": {
              "color": "#C8D4E3"
             },
             "line": {
              "color": "white"
             }
            },
            "type": "table"
           }
          ]
         },
         "layout": {
          "annotationdefaults": {
           "arrowcolor": "#2a3f5f",
           "arrowhead": 0,
           "arrowwidth": 1
          },
          "autotypenumbers": "strict",
          "coloraxis": {
           "colorbar": {
            "outlinewidth": 0,
            "ticks": ""
           }
          },
          "colorscale": {
           "diverging": [
            [
             0,
             "#8e0152"
            ],
            [
             0.1,
             "#c51b7d"
            ],
            [
             0.2,
             "#de77ae"
            ],
            [
             0.3,
             "#f1b6da"
            ],
            [
             0.4,
             "#fde0ef"
            ],
            [
             0.5,
             "#f7f7f7"
            ],
            [
             0.6,
             "#e6f5d0"
            ],
            [
             0.7,
             "#b8e186"
            ],
            [
             0.8,
             "#7fbc41"
            ],
            [
             0.9,
             "#4d9221"
            ],
            [
             1,
             "#276419"
            ]
           ],
           "sequential": [
            [
             0,
             "#0d0887"
            ],
            [
             0.1111111111111111,
             "#46039f"
            ],
            [
             0.2222222222222222,
             "#7201a8"
            ],
            [
             0.3333333333333333,
             "#9c179e"
            ],
            [
             0.4444444444444444,
             "#bd3786"
            ],
            [
             0.5555555555555556,
             "#d8576b"
            ],
            [
             0.6666666666666666,
             "#ed7953"
            ],
            [
             0.7777777777777778,
             "#fb9f3a"
            ],
            [
             0.8888888888888888,
             "#fdca26"
            ],
            [
             1,
             "#f0f921"
            ]
           ],
           "sequentialminus": [
            [
             0,
             "#0d0887"
            ],
            [
             0.1111111111111111,
             "#46039f"
            ],
            [
             0.2222222222222222,
             "#7201a8"
            ],
            [
             0.3333333333333333,
             "#9c179e"
            ],
            [
             0.4444444444444444,
             "#bd3786"
            ],
            [
             0.5555555555555556,
             "#d8576b"
            ],
            [
             0.6666666666666666,
             "#ed7953"
            ],
            [
             0.7777777777777778,
             "#fb9f3a"
            ],
            [
             0.8888888888888888,
             "#fdca26"
            ],
            [
             1,
             "#f0f921"
            ]
           ]
          },
          "colorway": [
           "#636efa",
           "#EF553B",
           "#00cc96",
           "#ab63fa",
           "#FFA15A",
           "#19d3f3",
           "#FF6692",
           "#B6E880",
           "#FF97FF",
           "#FECB52"
          ],
          "font": {
           "color": "#2a3f5f"
          },
          "geo": {
           "bgcolor": "white",
           "lakecolor": "white",
           "landcolor": "#E5ECF6",
           "showlakes": true,
           "showland": true,
           "subunitcolor": "white"
          },
          "hoverlabel": {
           "align": "left"
          },
          "hovermode": "closest",
          "mapbox": {
           "style": "light"
          },
          "paper_bgcolor": "white",
          "plot_bgcolor": "#E5ECF6",
          "polar": {
           "angularaxis": {
            "gridcolor": "white",
            "linecolor": "white",
            "ticks": ""
           },
           "bgcolor": "#E5ECF6",
           "radialaxis": {
            "gridcolor": "white",
            "linecolor": "white",
            "ticks": ""
           }
          },
          "scene": {
           "xaxis": {
            "backgroundcolor": "#E5ECF6",
            "gridcolor": "white",
            "gridwidth": 2,
            "linecolor": "white",
            "showbackground": true,
            "ticks": "",
            "zerolinecolor": "white"
           },
           "yaxis": {
            "backgroundcolor": "#E5ECF6",
            "gridcolor": "white",
            "gridwidth": 2,
            "linecolor": "white",
            "showbackground": true,
            "ticks": "",
            "zerolinecolor": "white"
           },
           "zaxis": {
            "backgroundcolor": "#E5ECF6",
            "gridcolor": "white",
            "gridwidth": 2,
            "linecolor": "white",
            "showbackground": true,
            "ticks": "",
            "zerolinecolor": "white"
           }
          },
          "shapedefaults": {
           "line": {
            "color": "#2a3f5f"
           }
          },
          "ternary": {
           "aaxis": {
            "gridcolor": "white",
            "linecolor": "white",
            "ticks": ""
           },
           "baxis": {
            "gridcolor": "white",
            "linecolor": "white",
            "ticks": ""
           },
           "bgcolor": "#E5ECF6",
           "caxis": {
            "gridcolor": "white",
            "linecolor": "white",
            "ticks": ""
           }
          },
          "title": {
           "x": 0.05
          },
          "xaxis": {
           "automargin": true,
           "gridcolor": "white",
           "linecolor": "white",
           "ticks": "",
           "title": {
            "standoff": 15
           },
           "zerolinecolor": "white",
           "zerolinewidth": 2
          },
          "yaxis": {
           "automargin": true,
           "gridcolor": "white",
           "linecolor": "white",
           "ticks": "",
           "title": {
            "standoff": 15
           },
           "zerolinecolor": "white",
           "zerolinewidth": 2
          }
         }
        },
        "title": {
         "text": "Average Test RMSE by Binned Model Size (Log Scale Y-axis)"
        },
        "xaxis": {
         "anchor": "y",
         "categoryarray": [
          "0MB",
          "5MB",
          "10MB",
          "15MB",
          "20MB",
          "25MB",
          "30MB",
          "35MB",
          "40MB",
          "45MB",
          "50MB",
          "55MB",
          "60MB",
          "65MB+"
         ],
         "categoryorder": "array",
         "domain": [
          0,
          1
         ],
         "title": {
          "text": "Model Size Bin"
         }
        },
        "yaxis": {
         "anchor": "x",
         "domain": [
          0,
          1
         ],
         "title": {
          "text": "Average Test RMSE (log scale)"
         },
         "type": "log"
        }
       }
      }
     },
     "metadata": {},
     "output_type": "display_data"
    }
   ],
   "source": [
    "# Group by bin and compute average test RMSE\n",
    "rmse_avg_df = real_overfitting_df.groupby([\"model_size_bin_label\"], as_index=False)[\"test rmse\"].mean()\n",
    "\n",
    "# Create correct sorted label order\n",
    "bin_labels_ordered = [\n",
    "    f\"{i}MB\" for i in range(0, THRESHOLD_MIB, BIN_MIB)\n",
    "] + [\"65MB+\"]\n",
    "\n",
    "fig2 = px.bar(\n",
    "    rmse_avg_df,\n",
    "    x=\"model_size_bin_label\",\n",
    "    y=\"test rmse\",\n",
    "    title=\"Average Test RMSE by Binned Model Size (Log Scale Y-axis)\",\n",
    "    category_orders={\"model_size_bin_label\": bin_labels_ordered}\n",
    ")\n",
    "fig2.update_layout(\n",
    "    xaxis_title=\"Model Size Bin\",\n",
    "    yaxis_title=\"Average Test RMSE (log scale)\",\n",
    "    bargap=0.1,\n",
    "    yaxis_type=\"log\"\n",
    ")\n",
    "fig2.show()\n"
   ]
  },
  {
   "cell_type": "markdown",
   "id": "d4cb53b4",
   "metadata": {},
   "source": [
    "Not as pretty as the capacity plot - probably because higher capacity doesn't necessarily mean a larger model size, since we use early stopping."
   ]
  },
  {
   "cell_type": "markdown",
   "id": "baca4130",
   "metadata": {},
   "source": [
    "#### Average best iteration by model size"
   ]
  },
  {
   "cell_type": "code",
   "execution_count": 50,
   "id": "ba8d9f32",
   "metadata": {},
   "outputs": [
    {
     "data": {
      "application/vnd.plotly.v1+json": {
       "config": {
        "plotlyServerURL": "https://plot.ly"
       },
       "data": [
        {
         "alignmentgroup": "True",
         "hovertemplate": "model_size_bin_label=%{x}<br>best iteration=%{y}<extra></extra>",
         "legendgroup": "",
         "marker": {
          "color": "#636efa",
          "pattern": {
           "shape": ""
          }
         },
         "name": "",
         "offsetgroup": "",
         "orientation": "v",
         "showlegend": false,
         "textposition": "auto",
         "type": "bar",
         "x": [
          "10MB",
          "15MB",
          "20MB",
          "25MB",
          "30MB",
          "35MB",
          "40MB",
          "45MB",
          "50MB",
          "55MB",
          "5MB",
          "60MB",
          "65MB+"
         ],
         "xaxis": "x",
         "y": [
          6044.203438395415,
          4540.9391025641025,
          2549.390243902439,
          2161.7102272727275,
          1724.9278350515465,
          2297.8133333333335,
          2170.064516129032,
          1830.125,
          2118.269230769231,
          1523.9545454545455,
          9286.825757575758,
          1895.1666666666667,
          1222.962962962963
         ],
         "yaxis": "y"
        }
       ],
       "layout": {
        "bargap": 0.1,
        "barmode": "relative",
        "legend": {
         "tracegroupgap": 0
        },
        "template": {
         "data": {
          "bar": [
           {
            "error_x": {
             "color": "#2a3f5f"
            },
            "error_y": {
             "color": "#2a3f5f"
            },
            "marker": {
             "line": {
              "color": "#E5ECF6",
              "width": 0.5
             },
             "pattern": {
              "fillmode": "overlay",
              "size": 10,
              "solidity": 0.2
             }
            },
            "type": "bar"
           }
          ],
          "barpolar": [
           {
            "marker": {
             "line": {
              "color": "#E5ECF6",
              "width": 0.5
             },
             "pattern": {
              "fillmode": "overlay",
              "size": 10,
              "solidity": 0.2
             }
            },
            "type": "barpolar"
           }
          ],
          "carpet": [
           {
            "aaxis": {
             "endlinecolor": "#2a3f5f",
             "gridcolor": "white",
             "linecolor": "white",
             "minorgridcolor": "white",
             "startlinecolor": "#2a3f5f"
            },
            "baxis": {
             "endlinecolor": "#2a3f5f",
             "gridcolor": "white",
             "linecolor": "white",
             "minorgridcolor": "white",
             "startlinecolor": "#2a3f5f"
            },
            "type": "carpet"
           }
          ],
          "choropleth": [
           {
            "colorbar": {
             "outlinewidth": 0,
             "ticks": ""
            },
            "type": "choropleth"
           }
          ],
          "contour": [
           {
            "colorbar": {
             "outlinewidth": 0,
             "ticks": ""
            },
            "colorscale": [
             [
              0,
              "#0d0887"
             ],
             [
              0.1111111111111111,
              "#46039f"
             ],
             [
              0.2222222222222222,
              "#7201a8"
             ],
             [
              0.3333333333333333,
              "#9c179e"
             ],
             [
              0.4444444444444444,
              "#bd3786"
             ],
             [
              0.5555555555555556,
              "#d8576b"
             ],
             [
              0.6666666666666666,
              "#ed7953"
             ],
             [
              0.7777777777777778,
              "#fb9f3a"
             ],
             [
              0.8888888888888888,
              "#fdca26"
             ],
             [
              1,
              "#f0f921"
             ]
            ],
            "type": "contour"
           }
          ],
          "contourcarpet": [
           {
            "colorbar": {
             "outlinewidth": 0,
             "ticks": ""
            },
            "type": "contourcarpet"
           }
          ],
          "heatmap": [
           {
            "colorbar": {
             "outlinewidth": 0,
             "ticks": ""
            },
            "colorscale": [
             [
              0,
              "#0d0887"
             ],
             [
              0.1111111111111111,
              "#46039f"
             ],
             [
              0.2222222222222222,
              "#7201a8"
             ],
             [
              0.3333333333333333,
              "#9c179e"
             ],
             [
              0.4444444444444444,
              "#bd3786"
             ],
             [
              0.5555555555555556,
              "#d8576b"
             ],
             [
              0.6666666666666666,
              "#ed7953"
             ],
             [
              0.7777777777777778,
              "#fb9f3a"
             ],
             [
              0.8888888888888888,
              "#fdca26"
             ],
             [
              1,
              "#f0f921"
             ]
            ],
            "type": "heatmap"
           }
          ],
          "heatmapgl": [
           {
            "colorbar": {
             "outlinewidth": 0,
             "ticks": ""
            },
            "colorscale": [
             [
              0,
              "#0d0887"
             ],
             [
              0.1111111111111111,
              "#46039f"
             ],
             [
              0.2222222222222222,
              "#7201a8"
             ],
             [
              0.3333333333333333,
              "#9c179e"
             ],
             [
              0.4444444444444444,
              "#bd3786"
             ],
             [
              0.5555555555555556,
              "#d8576b"
             ],
             [
              0.6666666666666666,
              "#ed7953"
             ],
             [
              0.7777777777777778,
              "#fb9f3a"
             ],
             [
              0.8888888888888888,
              "#fdca26"
             ],
             [
              1,
              "#f0f921"
             ]
            ],
            "type": "heatmapgl"
           }
          ],
          "histogram": [
           {
            "marker": {
             "pattern": {
              "fillmode": "overlay",
              "size": 10,
              "solidity": 0.2
             }
            },
            "type": "histogram"
           }
          ],
          "histogram2d": [
           {
            "colorbar": {
             "outlinewidth": 0,
             "ticks": ""
            },
            "colorscale": [
             [
              0,
              "#0d0887"
             ],
             [
              0.1111111111111111,
              "#46039f"
             ],
             [
              0.2222222222222222,
              "#7201a8"
             ],
             [
              0.3333333333333333,
              "#9c179e"
             ],
             [
              0.4444444444444444,
              "#bd3786"
             ],
             [
              0.5555555555555556,
              "#d8576b"
             ],
             [
              0.6666666666666666,
              "#ed7953"
             ],
             [
              0.7777777777777778,
              "#fb9f3a"
             ],
             [
              0.8888888888888888,
              "#fdca26"
             ],
             [
              1,
              "#f0f921"
             ]
            ],
            "type": "histogram2d"
           }
          ],
          "histogram2dcontour": [
           {
            "colorbar": {
             "outlinewidth": 0,
             "ticks": ""
            },
            "colorscale": [
             [
              0,
              "#0d0887"
             ],
             [
              0.1111111111111111,
              "#46039f"
             ],
             [
              0.2222222222222222,
              "#7201a8"
             ],
             [
              0.3333333333333333,
              "#9c179e"
             ],
             [
              0.4444444444444444,
              "#bd3786"
             ],
             [
              0.5555555555555556,
              "#d8576b"
             ],
             [
              0.6666666666666666,
              "#ed7953"
             ],
             [
              0.7777777777777778,
              "#fb9f3a"
             ],
             [
              0.8888888888888888,
              "#fdca26"
             ],
             [
              1,
              "#f0f921"
             ]
            ],
            "type": "histogram2dcontour"
           }
          ],
          "mesh3d": [
           {
            "colorbar": {
             "outlinewidth": 0,
             "ticks": ""
            },
            "type": "mesh3d"
           }
          ],
          "parcoords": [
           {
            "line": {
             "colorbar": {
              "outlinewidth": 0,
              "ticks": ""
             }
            },
            "type": "parcoords"
           }
          ],
          "pie": [
           {
            "automargin": true,
            "type": "pie"
           }
          ],
          "scatter": [
           {
            "fillpattern": {
             "fillmode": "overlay",
             "size": 10,
             "solidity": 0.2
            },
            "type": "scatter"
           }
          ],
          "scatter3d": [
           {
            "line": {
             "colorbar": {
              "outlinewidth": 0,
              "ticks": ""
             }
            },
            "marker": {
             "colorbar": {
              "outlinewidth": 0,
              "ticks": ""
             }
            },
            "type": "scatter3d"
           }
          ],
          "scattercarpet": [
           {
            "marker": {
             "colorbar": {
              "outlinewidth": 0,
              "ticks": ""
             }
            },
            "type": "scattercarpet"
           }
          ],
          "scattergeo": [
           {
            "marker": {
             "colorbar": {
              "outlinewidth": 0,
              "ticks": ""
             }
            },
            "type": "scattergeo"
           }
          ],
          "scattergl": [
           {
            "marker": {
             "colorbar": {
              "outlinewidth": 0,
              "ticks": ""
             }
            },
            "type": "scattergl"
           }
          ],
          "scattermapbox": [
           {
            "marker": {
             "colorbar": {
              "outlinewidth": 0,
              "ticks": ""
             }
            },
            "type": "scattermapbox"
           }
          ],
          "scatterpolar": [
           {
            "marker": {
             "colorbar": {
              "outlinewidth": 0,
              "ticks": ""
             }
            },
            "type": "scatterpolar"
           }
          ],
          "scatterpolargl": [
           {
            "marker": {
             "colorbar": {
              "outlinewidth": 0,
              "ticks": ""
             }
            },
            "type": "scatterpolargl"
           }
          ],
          "scatterternary": [
           {
            "marker": {
             "colorbar": {
              "outlinewidth": 0,
              "ticks": ""
             }
            },
            "type": "scatterternary"
           }
          ],
          "surface": [
           {
            "colorbar": {
             "outlinewidth": 0,
             "ticks": ""
            },
            "colorscale": [
             [
              0,
              "#0d0887"
             ],
             [
              0.1111111111111111,
              "#46039f"
             ],
             [
              0.2222222222222222,
              "#7201a8"
             ],
             [
              0.3333333333333333,
              "#9c179e"
             ],
             [
              0.4444444444444444,
              "#bd3786"
             ],
             [
              0.5555555555555556,
              "#d8576b"
             ],
             [
              0.6666666666666666,
              "#ed7953"
             ],
             [
              0.7777777777777778,
              "#fb9f3a"
             ],
             [
              0.8888888888888888,
              "#fdca26"
             ],
             [
              1,
              "#f0f921"
             ]
            ],
            "type": "surface"
           }
          ],
          "table": [
           {
            "cells": {
             "fill": {
              "color": "#EBF0F8"
             },
             "line": {
              "color": "white"
             }
            },
            "header": {
             "fill": {
              "color": "#C8D4E3"
             },
             "line": {
              "color": "white"
             }
            },
            "type": "table"
           }
          ]
         },
         "layout": {
          "annotationdefaults": {
           "arrowcolor": "#2a3f5f",
           "arrowhead": 0,
           "arrowwidth": 1
          },
          "autotypenumbers": "strict",
          "coloraxis": {
           "colorbar": {
            "outlinewidth": 0,
            "ticks": ""
           }
          },
          "colorscale": {
           "diverging": [
            [
             0,
             "#8e0152"
            ],
            [
             0.1,
             "#c51b7d"
            ],
            [
             0.2,
             "#de77ae"
            ],
            [
             0.3,
             "#f1b6da"
            ],
            [
             0.4,
             "#fde0ef"
            ],
            [
             0.5,
             "#f7f7f7"
            ],
            [
             0.6,
             "#e6f5d0"
            ],
            [
             0.7,
             "#b8e186"
            ],
            [
             0.8,
             "#7fbc41"
            ],
            [
             0.9,
             "#4d9221"
            ],
            [
             1,
             "#276419"
            ]
           ],
           "sequential": [
            [
             0,
             "#0d0887"
            ],
            [
             0.1111111111111111,
             "#46039f"
            ],
            [
             0.2222222222222222,
             "#7201a8"
            ],
            [
             0.3333333333333333,
             "#9c179e"
            ],
            [
             0.4444444444444444,
             "#bd3786"
            ],
            [
             0.5555555555555556,
             "#d8576b"
            ],
            [
             0.6666666666666666,
             "#ed7953"
            ],
            [
             0.7777777777777778,
             "#fb9f3a"
            ],
            [
             0.8888888888888888,
             "#fdca26"
            ],
            [
             1,
             "#f0f921"
            ]
           ],
           "sequentialminus": [
            [
             0,
             "#0d0887"
            ],
            [
             0.1111111111111111,
             "#46039f"
            ],
            [
             0.2222222222222222,
             "#7201a8"
            ],
            [
             0.3333333333333333,
             "#9c179e"
            ],
            [
             0.4444444444444444,
             "#bd3786"
            ],
            [
             0.5555555555555556,
             "#d8576b"
            ],
            [
             0.6666666666666666,
             "#ed7953"
            ],
            [
             0.7777777777777778,
             "#fb9f3a"
            ],
            [
             0.8888888888888888,
             "#fdca26"
            ],
            [
             1,
             "#f0f921"
            ]
           ]
          },
          "colorway": [
           "#636efa",
           "#EF553B",
           "#00cc96",
           "#ab63fa",
           "#FFA15A",
           "#19d3f3",
           "#FF6692",
           "#B6E880",
           "#FF97FF",
           "#FECB52"
          ],
          "font": {
           "color": "#2a3f5f"
          },
          "geo": {
           "bgcolor": "white",
           "lakecolor": "white",
           "landcolor": "#E5ECF6",
           "showlakes": true,
           "showland": true,
           "subunitcolor": "white"
          },
          "hoverlabel": {
           "align": "left"
          },
          "hovermode": "closest",
          "mapbox": {
           "style": "light"
          },
          "paper_bgcolor": "white",
          "plot_bgcolor": "#E5ECF6",
          "polar": {
           "angularaxis": {
            "gridcolor": "white",
            "linecolor": "white",
            "ticks": ""
           },
           "bgcolor": "#E5ECF6",
           "radialaxis": {
            "gridcolor": "white",
            "linecolor": "white",
            "ticks": ""
           }
          },
          "scene": {
           "xaxis": {
            "backgroundcolor": "#E5ECF6",
            "gridcolor": "white",
            "gridwidth": 2,
            "linecolor": "white",
            "showbackground": true,
            "ticks": "",
            "zerolinecolor": "white"
           },
           "yaxis": {
            "backgroundcolor": "#E5ECF6",
            "gridcolor": "white",
            "gridwidth": 2,
            "linecolor": "white",
            "showbackground": true,
            "ticks": "",
            "zerolinecolor": "white"
           },
           "zaxis": {
            "backgroundcolor": "#E5ECF6",
            "gridcolor": "white",
            "gridwidth": 2,
            "linecolor": "white",
            "showbackground": true,
            "ticks": "",
            "zerolinecolor": "white"
           }
          },
          "shapedefaults": {
           "line": {
            "color": "#2a3f5f"
           }
          },
          "ternary": {
           "aaxis": {
            "gridcolor": "white",
            "linecolor": "white",
            "ticks": ""
           },
           "baxis": {
            "gridcolor": "white",
            "linecolor": "white",
            "ticks": ""
           },
           "bgcolor": "#E5ECF6",
           "caxis": {
            "gridcolor": "white",
            "linecolor": "white",
            "ticks": ""
           }
          },
          "title": {
           "x": 0.05
          },
          "xaxis": {
           "automargin": true,
           "gridcolor": "white",
           "linecolor": "white",
           "ticks": "",
           "title": {
            "standoff": 15
           },
           "zerolinecolor": "white",
           "zerolinewidth": 2
          },
          "yaxis": {
           "automargin": true,
           "gridcolor": "white",
           "linecolor": "white",
           "ticks": "",
           "title": {
            "standoff": 15
           },
           "zerolinecolor": "white",
           "zerolinewidth": 2
          }
         }
        },
        "title": {
         "text": "Average Best Iteration by Binned Model Size"
        },
        "xaxis": {
         "anchor": "y",
         "categoryarray": [
          "0MB",
          "5MB",
          "10MB",
          "15MB",
          "20MB",
          "25MB",
          "30MB",
          "35MB",
          "40MB",
          "45MB",
          "50MB",
          "55MB",
          "60MB",
          "65MB+"
         ],
         "categoryorder": "array",
         "domain": [
          0,
          1
         ],
         "title": {
          "text": "Model Size Bin"
         }
        },
        "yaxis": {
         "anchor": "x",
         "domain": [
          0,
          1
         ],
         "title": {
          "text": "Average Best Iteration"
         }
        }
       }
      }
     },
     "metadata": {},
     "output_type": "display_data"
    }
   ],
   "source": [
    "# Group by bin and compute average best iteration\n",
    "best_iter_avg_df = real_overfitting_df.groupby([\"model_size_bin_label\"], as_index=False)[\"best iteration\"].mean()\n",
    "\n",
    "# Create correct sorted label order\n",
    "bin_labels_ordered = [\n",
    "    f\"{i}MB\" for i in range(0, THRESHOLD_MIB, BIN_MIB)\n",
    "] + [\"65MB+\"]\n",
    "\n",
    "# Create bar plot\n",
    "fig2 = px.bar(\n",
    "    best_iter_avg_df,\n",
    "    x=\"model_size_bin_label\",\n",
    "    y=\"best iteration\",\n",
    "    title=\"Average Best Iteration by Binned Model Size\",\n",
    "    category_orders={\"model_size_bin_label\": bin_labels_ordered}\n",
    ")\n",
    "fig2.update_layout(\n",
    "    xaxis_title=\"Model Size Bin\",\n",
    "    yaxis_title=\"Average Best Iteration\",\n",
    "    bargap=0.1\n",
    ")\n",
    "fig2.show()\n"
   ]
  },
  {
   "cell_type": "markdown",
   "id": "b2969de3",
   "metadata": {},
   "source": [
    "#### Relative compositon of capacity by model size"
   ]
  },
  {
   "cell_type": "code",
   "execution_count": 51,
   "id": "448bb7f7",
   "metadata": {},
   "outputs": [
    {
     "data": {
      "application/vnd.plotly.v1+json": {
       "config": {
        "plotlyServerURL": "https://plot.ly"
       },
       "data": [
        {
         "hovertemplate": "capacity_group=low<br>model_size_bin_label=%{x}<br>percentage=%{y}<extra></extra>",
         "legendgroup": "low",
         "line": {
          "color": "#636efa",
          "dash": "solid"
         },
         "marker": {
          "symbol": "circle"
         },
         "mode": "lines+markers",
         "name": "low",
         "orientation": "v",
         "showlegend": true,
         "type": "scatter",
         "x": [
          "5MB",
          "10MB",
          "15MB",
          "20MB",
          "25MB",
          "30MB",
          "35MB",
          "40MB",
          "45MB",
          "50MB",
          "55MB",
          "60MB",
          "65MB+"
         ],
         "xaxis": "x",
         "y": [
          50.75757575757576,
          47.85100286532951,
          16.025641025641026,
          0.40650406504065045,
          0,
          0,
          0,
          0,
          0,
          0,
          0,
          0,
          0
         ],
         "yaxis": "y"
        },
        {
         "hovertemplate": "capacity_group=medium<br>model_size_bin_label=%{x}<br>percentage=%{y}<extra></extra>",
         "legendgroup": "medium",
         "line": {
          "color": "#EF553B",
          "dash": "solid"
         },
         "marker": {
          "symbol": "circle"
         },
         "mode": "lines+markers",
         "name": "medium",
         "orientation": "v",
         "showlegend": true,
         "type": "scatter",
         "x": [
          "5MB",
          "10MB",
          "15MB",
          "20MB",
          "25MB",
          "30MB",
          "35MB",
          "40MB",
          "45MB",
          "50MB",
          "55MB",
          "60MB",
          "65MB+"
         ],
         "xaxis": "x",
         "y": [
          49.24242424242424,
          52.14899713467048,
          83.97435897435898,
          99.59349593495935,
          99.43181818181817,
          89.69072164948454,
          90.66666666666666,
          75.80645161290323,
          75,
          65.38461538461539,
          54.54545454545454,
          41.66666666666667,
          29.629629629629626
         ],
         "yaxis": "y"
        },
        {
         "hovertemplate": "capacity_group=high<br>model_size_bin_label=%{x}<br>percentage=%{y}<extra></extra>",
         "legendgroup": "high",
         "line": {
          "color": "#00cc96",
          "dash": "solid"
         },
         "marker": {
          "symbol": "circle"
         },
         "mode": "lines+markers",
         "name": "high",
         "orientation": "v",
         "showlegend": true,
         "type": "scatter",
         "x": [
          "5MB",
          "10MB",
          "15MB",
          "20MB",
          "25MB",
          "30MB",
          "35MB",
          "40MB",
          "45MB",
          "50MB",
          "55MB",
          "60MB",
          "65MB+"
         ],
         "xaxis": "x",
         "y": [
          0,
          0,
          0,
          0,
          0.5681818181818182,
          10.309278350515463,
          9.333333333333334,
          24.193548387096776,
          25,
          34.61538461538461,
          45.45454545454545,
          58.333333333333336,
          70.37037037037037
         ],
         "yaxis": "y"
        }
       ],
       "layout": {
        "legend": {
         "title": {
          "text": "capacity_group"
         },
         "tracegroupgap": 0
        },
        "template": {
         "data": {
          "bar": [
           {
            "error_x": {
             "color": "#2a3f5f"
            },
            "error_y": {
             "color": "#2a3f5f"
            },
            "marker": {
             "line": {
              "color": "#E5ECF6",
              "width": 0.5
             },
             "pattern": {
              "fillmode": "overlay",
              "size": 10,
              "solidity": 0.2
             }
            },
            "type": "bar"
           }
          ],
          "barpolar": [
           {
            "marker": {
             "line": {
              "color": "#E5ECF6",
              "width": 0.5
             },
             "pattern": {
              "fillmode": "overlay",
              "size": 10,
              "solidity": 0.2
             }
            },
            "type": "barpolar"
           }
          ],
          "carpet": [
           {
            "aaxis": {
             "endlinecolor": "#2a3f5f",
             "gridcolor": "white",
             "linecolor": "white",
             "minorgridcolor": "white",
             "startlinecolor": "#2a3f5f"
            },
            "baxis": {
             "endlinecolor": "#2a3f5f",
             "gridcolor": "white",
             "linecolor": "white",
             "minorgridcolor": "white",
             "startlinecolor": "#2a3f5f"
            },
            "type": "carpet"
           }
          ],
          "choropleth": [
           {
            "colorbar": {
             "outlinewidth": 0,
             "ticks": ""
            },
            "type": "choropleth"
           }
          ],
          "contour": [
           {
            "colorbar": {
             "outlinewidth": 0,
             "ticks": ""
            },
            "colorscale": [
             [
              0,
              "#0d0887"
             ],
             [
              0.1111111111111111,
              "#46039f"
             ],
             [
              0.2222222222222222,
              "#7201a8"
             ],
             [
              0.3333333333333333,
              "#9c179e"
             ],
             [
              0.4444444444444444,
              "#bd3786"
             ],
             [
              0.5555555555555556,
              "#d8576b"
             ],
             [
              0.6666666666666666,
              "#ed7953"
             ],
             [
              0.7777777777777778,
              "#fb9f3a"
             ],
             [
              0.8888888888888888,
              "#fdca26"
             ],
             [
              1,
              "#f0f921"
             ]
            ],
            "type": "contour"
           }
          ],
          "contourcarpet": [
           {
            "colorbar": {
             "outlinewidth": 0,
             "ticks": ""
            },
            "type": "contourcarpet"
           }
          ],
          "heatmap": [
           {
            "colorbar": {
             "outlinewidth": 0,
             "ticks": ""
            },
            "colorscale": [
             [
              0,
              "#0d0887"
             ],
             [
              0.1111111111111111,
              "#46039f"
             ],
             [
              0.2222222222222222,
              "#7201a8"
             ],
             [
              0.3333333333333333,
              "#9c179e"
             ],
             [
              0.4444444444444444,
              "#bd3786"
             ],
             [
              0.5555555555555556,
              "#d8576b"
             ],
             [
              0.6666666666666666,
              "#ed7953"
             ],
             [
              0.7777777777777778,
              "#fb9f3a"
             ],
             [
              0.8888888888888888,
              "#fdca26"
             ],
             [
              1,
              "#f0f921"
             ]
            ],
            "type": "heatmap"
           }
          ],
          "heatmapgl": [
           {
            "colorbar": {
             "outlinewidth": 0,
             "ticks": ""
            },
            "colorscale": [
             [
              0,
              "#0d0887"
             ],
             [
              0.1111111111111111,
              "#46039f"
             ],
             [
              0.2222222222222222,
              "#7201a8"
             ],
             [
              0.3333333333333333,
              "#9c179e"
             ],
             [
              0.4444444444444444,
              "#bd3786"
             ],
             [
              0.5555555555555556,
              "#d8576b"
             ],
             [
              0.6666666666666666,
              "#ed7953"
             ],
             [
              0.7777777777777778,
              "#fb9f3a"
             ],
             [
              0.8888888888888888,
              "#fdca26"
             ],
             [
              1,
              "#f0f921"
             ]
            ],
            "type": "heatmapgl"
           }
          ],
          "histogram": [
           {
            "marker": {
             "pattern": {
              "fillmode": "overlay",
              "size": 10,
              "solidity": 0.2
             }
            },
            "type": "histogram"
           }
          ],
          "histogram2d": [
           {
            "colorbar": {
             "outlinewidth": 0,
             "ticks": ""
            },
            "colorscale": [
             [
              0,
              "#0d0887"
             ],
             [
              0.1111111111111111,
              "#46039f"
             ],
             [
              0.2222222222222222,
              "#7201a8"
             ],
             [
              0.3333333333333333,
              "#9c179e"
             ],
             [
              0.4444444444444444,
              "#bd3786"
             ],
             [
              0.5555555555555556,
              "#d8576b"
             ],
             [
              0.6666666666666666,
              "#ed7953"
             ],
             [
              0.7777777777777778,
              "#fb9f3a"
             ],
             [
              0.8888888888888888,
              "#fdca26"
             ],
             [
              1,
              "#f0f921"
             ]
            ],
            "type": "histogram2d"
           }
          ],
          "histogram2dcontour": [
           {
            "colorbar": {
             "outlinewidth": 0,
             "ticks": ""
            },
            "colorscale": [
             [
              0,
              "#0d0887"
             ],
             [
              0.1111111111111111,
              "#46039f"
             ],
             [
              0.2222222222222222,
              "#7201a8"
             ],
             [
              0.3333333333333333,
              "#9c179e"
             ],
             [
              0.4444444444444444,
              "#bd3786"
             ],
             [
              0.5555555555555556,
              "#d8576b"
             ],
             [
              0.6666666666666666,
              "#ed7953"
             ],
             [
              0.7777777777777778,
              "#fb9f3a"
             ],
             [
              0.8888888888888888,
              "#fdca26"
             ],
             [
              1,
              "#f0f921"
             ]
            ],
            "type": "histogram2dcontour"
           }
          ],
          "mesh3d": [
           {
            "colorbar": {
             "outlinewidth": 0,
             "ticks": ""
            },
            "type": "mesh3d"
           }
          ],
          "parcoords": [
           {
            "line": {
             "colorbar": {
              "outlinewidth": 0,
              "ticks": ""
             }
            },
            "type": "parcoords"
           }
          ],
          "pie": [
           {
            "automargin": true,
            "type": "pie"
           }
          ],
          "scatter": [
           {
            "fillpattern": {
             "fillmode": "overlay",
             "size": 10,
             "solidity": 0.2
            },
            "type": "scatter"
           }
          ],
          "scatter3d": [
           {
            "line": {
             "colorbar": {
              "outlinewidth": 0,
              "ticks": ""
             }
            },
            "marker": {
             "colorbar": {
              "outlinewidth": 0,
              "ticks": ""
             }
            },
            "type": "scatter3d"
           }
          ],
          "scattercarpet": [
           {
            "marker": {
             "colorbar": {
              "outlinewidth": 0,
              "ticks": ""
             }
            },
            "type": "scattercarpet"
           }
          ],
          "scattergeo": [
           {
            "marker": {
             "colorbar": {
              "outlinewidth": 0,
              "ticks": ""
             }
            },
            "type": "scattergeo"
           }
          ],
          "scattergl": [
           {
            "marker": {
             "colorbar": {
              "outlinewidth": 0,
              "ticks": ""
             }
            },
            "type": "scattergl"
           }
          ],
          "scattermapbox": [
           {
            "marker": {
             "colorbar": {
              "outlinewidth": 0,
              "ticks": ""
             }
            },
            "type": "scattermapbox"
           }
          ],
          "scatterpolar": [
           {
            "marker": {
             "colorbar": {
              "outlinewidth": 0,
              "ticks": ""
             }
            },
            "type": "scatterpolar"
           }
          ],
          "scatterpolargl": [
           {
            "marker": {
             "colorbar": {
              "outlinewidth": 0,
              "ticks": ""
             }
            },
            "type": "scatterpolargl"
           }
          ],
          "scatterternary": [
           {
            "marker": {
             "colorbar": {
              "outlinewidth": 0,
              "ticks": ""
             }
            },
            "type": "scatterternary"
           }
          ],
          "surface": [
           {
            "colorbar": {
             "outlinewidth": 0,
             "ticks": ""
            },
            "colorscale": [
             [
              0,
              "#0d0887"
             ],
             [
              0.1111111111111111,
              "#46039f"
             ],
             [
              0.2222222222222222,
              "#7201a8"
             ],
             [
              0.3333333333333333,
              "#9c179e"
             ],
             [
              0.4444444444444444,
              "#bd3786"
             ],
             [
              0.5555555555555556,
              "#d8576b"
             ],
             [
              0.6666666666666666,
              "#ed7953"
             ],
             [
              0.7777777777777778,
              "#fb9f3a"
             ],
             [
              0.8888888888888888,
              "#fdca26"
             ],
             [
              1,
              "#f0f921"
             ]
            ],
            "type": "surface"
           }
          ],
          "table": [
           {
            "cells": {
             "fill": {
              "color": "#EBF0F8"
             },
             "line": {
              "color": "white"
             }
            },
            "header": {
             "fill": {
              "color": "#C8D4E3"
             },
             "line": {
              "color": "white"
             }
            },
            "type": "table"
           }
          ]
         },
         "layout": {
          "annotationdefaults": {
           "arrowcolor": "#2a3f5f",
           "arrowhead": 0,
           "arrowwidth": 1
          },
          "autotypenumbers": "strict",
          "coloraxis": {
           "colorbar": {
            "outlinewidth": 0,
            "ticks": ""
           }
          },
          "colorscale": {
           "diverging": [
            [
             0,
             "#8e0152"
            ],
            [
             0.1,
             "#c51b7d"
            ],
            [
             0.2,
             "#de77ae"
            ],
            [
             0.3,
             "#f1b6da"
            ],
            [
             0.4,
             "#fde0ef"
            ],
            [
             0.5,
             "#f7f7f7"
            ],
            [
             0.6,
             "#e6f5d0"
            ],
            [
             0.7,
             "#b8e186"
            ],
            [
             0.8,
             "#7fbc41"
            ],
            [
             0.9,
             "#4d9221"
            ],
            [
             1,
             "#276419"
            ]
           ],
           "sequential": [
            [
             0,
             "#0d0887"
            ],
            [
             0.1111111111111111,
             "#46039f"
            ],
            [
             0.2222222222222222,
             "#7201a8"
            ],
            [
             0.3333333333333333,
             "#9c179e"
            ],
            [
             0.4444444444444444,
             "#bd3786"
            ],
            [
             0.5555555555555556,
             "#d8576b"
            ],
            [
             0.6666666666666666,
             "#ed7953"
            ],
            [
             0.7777777777777778,
             "#fb9f3a"
            ],
            [
             0.8888888888888888,
             "#fdca26"
            ],
            [
             1,
             "#f0f921"
            ]
           ],
           "sequentialminus": [
            [
             0,
             "#0d0887"
            ],
            [
             0.1111111111111111,
             "#46039f"
            ],
            [
             0.2222222222222222,
             "#7201a8"
            ],
            [
             0.3333333333333333,
             "#9c179e"
            ],
            [
             0.4444444444444444,
             "#bd3786"
            ],
            [
             0.5555555555555556,
             "#d8576b"
            ],
            [
             0.6666666666666666,
             "#ed7953"
            ],
            [
             0.7777777777777778,
             "#fb9f3a"
            ],
            [
             0.8888888888888888,
             "#fdca26"
            ],
            [
             1,
             "#f0f921"
            ]
           ]
          },
          "colorway": [
           "#636efa",
           "#EF553B",
           "#00cc96",
           "#ab63fa",
           "#FFA15A",
           "#19d3f3",
           "#FF6692",
           "#B6E880",
           "#FF97FF",
           "#FECB52"
          ],
          "font": {
           "color": "#2a3f5f"
          },
          "geo": {
           "bgcolor": "white",
           "lakecolor": "white",
           "landcolor": "#E5ECF6",
           "showlakes": true,
           "showland": true,
           "subunitcolor": "white"
          },
          "hoverlabel": {
           "align": "left"
          },
          "hovermode": "closest",
          "mapbox": {
           "style": "light"
          },
          "paper_bgcolor": "white",
          "plot_bgcolor": "#E5ECF6",
          "polar": {
           "angularaxis": {
            "gridcolor": "white",
            "linecolor": "white",
            "ticks": ""
           },
           "bgcolor": "#E5ECF6",
           "radialaxis": {
            "gridcolor": "white",
            "linecolor": "white",
            "ticks": ""
           }
          },
          "scene": {
           "xaxis": {
            "backgroundcolor": "#E5ECF6",
            "gridcolor": "white",
            "gridwidth": 2,
            "linecolor": "white",
            "showbackground": true,
            "ticks": "",
            "zerolinecolor": "white"
           },
           "yaxis": {
            "backgroundcolor": "#E5ECF6",
            "gridcolor": "white",
            "gridwidth": 2,
            "linecolor": "white",
            "showbackground": true,
            "ticks": "",
            "zerolinecolor": "white"
           },
           "zaxis": {
            "backgroundcolor": "#E5ECF6",
            "gridcolor": "white",
            "gridwidth": 2,
            "linecolor": "white",
            "showbackground": true,
            "ticks": "",
            "zerolinecolor": "white"
           }
          },
          "shapedefaults": {
           "line": {
            "color": "#2a3f5f"
           }
          },
          "ternary": {
           "aaxis": {
            "gridcolor": "white",
            "linecolor": "white",
            "ticks": ""
           },
           "baxis": {
            "gridcolor": "white",
            "linecolor": "white",
            "ticks": ""
           },
           "bgcolor": "#E5ECF6",
           "caxis": {
            "gridcolor": "white",
            "linecolor": "white",
            "ticks": ""
           }
          },
          "title": {
           "x": 0.05
          },
          "xaxis": {
           "automargin": true,
           "gridcolor": "white",
           "linecolor": "white",
           "ticks": "",
           "title": {
            "standoff": 15
           },
           "zerolinecolor": "white",
           "zerolinewidth": 2
          },
          "yaxis": {
           "automargin": true,
           "gridcolor": "white",
           "linecolor": "white",
           "ticks": "",
           "title": {
            "standoff": 15
           },
           "zerolinecolor": "white",
           "zerolinewidth": 2
          }
         }
        },
        "title": {
         "text": "Relative Composition of Capacity Groups by Binned Model Size"
        },
        "xaxis": {
         "anchor": "y",
         "domain": [
          0,
          1
         ],
         "title": {
          "text": "Model Size Bin"
         }
        },
        "yaxis": {
         "anchor": "x",
         "domain": [
          0,
          1
         ],
         "title": {
          "text": "Percentage (%)"
         }
        }
       }
      }
     },
     "metadata": {},
     "output_type": "display_data"
    }
   ],
   "source": [
    "# Step 1: Categorize complexity\n",
    "def categorize_complexity(x):\n",
    "    if x <= 10:\n",
    "        return \"low\"\n",
    "    elif x <= 25:\n",
    "        return \"medium\"\n",
    "    else:\n",
    "        return \"high\"\n",
    "\n",
    "real_overfitting_df[\"capacity_group\"] = real_overfitting_df[\"capacity\"].apply(categorize_complexity)\n",
    "\n",
    "# ✅ Grouping with labels preserved\n",
    "total_counts = real_overfitting_df.groupby([\"model_size_bin_label\"]).size().reset_index(name=\"total\")\n",
    "group_counts = real_overfitting_df.groupby([\"model_size_bin_label\", \"capacity_group\"]).size().reset_index(name=\"count\")\n",
    "\n",
    "# ✅ Merge on both model_size_bin and label to keep it clean\n",
    "merged = pd.merge(group_counts, total_counts, on=[\"model_size_bin_label\"])\n",
    "merged[\"percentage\"] = (merged[\"count\"] / merged[\"total\"]) * 100\n",
    "\n",
    "# ✅ Pivot and melt\n",
    "pivot_df = merged.pivot(index=[\"model_size_bin_label\"], columns=\"capacity_group\", values=\"percentage\").fillna(0).reset_index()\n",
    "melted = pivot_df.melt(id_vars=[\"model_size_bin_label\"], var_name=\"capacity_group\", value_name=\"percentage\")\n",
    "\n",
    "\n",
    "\n",
    "# Define bin label order\n",
    "bin_labels_ordered = [f\"{i}MB\" for i in range(5, THRESHOLD_MIB, BIN_MIB)] + [\"65MB+\"]\n",
    "\n",
    "# All capacity groups (hardcoded or dynamic)\n",
    "capacity_groups = [\"low\", \"medium\", \"high\"]\n",
    "\n",
    "# Create a full cartesian product of all bin × group combinations\n",
    "full_index = pd.DataFrame(list(product(bin_labels_ordered, capacity_groups)),\n",
    "                          columns=[\"model_size_bin_label\", \"capacity_group\"])\n",
    "\n",
    "# Merge with actual data and fill missing percentages with 0\n",
    "melted_full = pd.merge(full_index, melted, on=[\"model_size_bin_label\", \"capacity_group\"], how=\"left\")\n",
    "melted_full[\"percentage\"] = melted_full[\"percentage\"].fillna(0)\n",
    "\n",
    "# Convert label column to ordered categorical\n",
    "melted_full[\"model_size_bin_label\"] = pd.Categorical(\n",
    "    melted_full[\"model_size_bin_label\"],\n",
    "    categories=bin_labels_ordered,\n",
    "    ordered=True\n",
    ")\n",
    "\n",
    "# Plot again\n",
    "fig = px.line(\n",
    "    melted_full,\n",
    "    x=\"model_size_bin_label\",\n",
    "    y=\"percentage\",\n",
    "    color=\"capacity_group\",\n",
    "    markers=True,\n",
    "    title=\"Relative Composition of Capacity Groups by Binned Model Size\"\n",
    ")\n",
    "fig.update_layout(\n",
    "    xaxis_title=\"Model Size Bin\",\n",
    "    yaxis_title=\"Percentage (%)\"\n",
    ")\n",
    "fig.show()"
   ]
  },
  {
   "cell_type": "markdown",
   "id": "a66393fb",
   "metadata": {},
   "source": [
    "#### Model size params plot"
   ]
  },
  {
   "cell_type": "code",
   "execution_count": 52,
   "id": "ea156ddc",
   "metadata": {},
   "outputs": [],
   "source": [
    "def plot_model_size(df, param_name):\n",
    "    # Create a new DataFrame with average values\n",
    "    avg_df = df.groupby(param_name, as_index=False).agg({\n",
    "        \"model size\": \"mean\",\n",
    "        \"test rmse\": \"mean\"\n",
    "    })\n",
    "\n",
    "    fig_model_size = px.line(avg_df, x=param_name, y=\"model size\", markers=True,\n",
    "                             title=f\"Average Model Size vs {param_name}\")\n",
    "    fig_model_size.update_layout(xaxis_title=param_name, yaxis_title=\"Average Model Size (bytes)\")\n",
    "    fig_model_size.show()"
   ]
  },
  {
   "cell_type": "code",
   "execution_count": 53,
   "id": "a7c5ce12",
   "metadata": {},
   "outputs": [
    {
     "data": {
      "application/vnd.plotly.v1+json": {
       "config": {
        "plotlyServerURL": "https://plot.ly"
       },
       "data": [
        {
         "hovertemplate": "num_leaves=%{x}<br>model size=%{y}<extra></extra>",
         "legendgroup": "",
         "line": {
          "color": "#636efa",
          "dash": "solid"
         },
         "marker": {
          "symbol": "circle"
         },
         "mode": "lines+markers",
         "name": "",
         "orientation": "v",
         "showlegend": false,
         "type": "scatter",
         "x": [
          10,
          20,
          25,
          31,
          50,
          100,
          150,
          200,
          250,
          300,
          500,
          1000
         ],
         "xaxis": "x",
         "y": [
          9622950.284615384,
          13706938.907692308,
          15165766.546153845,
          16567911.592307692,
          19770958.09230769,
          24779336.269230768,
          27822090.453846153,
          29286920.184615385,
          30578571.6,
          32340234.153846152,
          35484240.15384615,
          40351844.9
         ],
         "yaxis": "y"
        }
       ],
       "layout": {
        "legend": {
         "tracegroupgap": 0
        },
        "template": {
         "data": {
          "bar": [
           {
            "error_x": {
             "color": "#2a3f5f"
            },
            "error_y": {
             "color": "#2a3f5f"
            },
            "marker": {
             "line": {
              "color": "#E5ECF6",
              "width": 0.5
             },
             "pattern": {
              "fillmode": "overlay",
              "size": 10,
              "solidity": 0.2
             }
            },
            "type": "bar"
           }
          ],
          "barpolar": [
           {
            "marker": {
             "line": {
              "color": "#E5ECF6",
              "width": 0.5
             },
             "pattern": {
              "fillmode": "overlay",
              "size": 10,
              "solidity": 0.2
             }
            },
            "type": "barpolar"
           }
          ],
          "carpet": [
           {
            "aaxis": {
             "endlinecolor": "#2a3f5f",
             "gridcolor": "white",
             "linecolor": "white",
             "minorgridcolor": "white",
             "startlinecolor": "#2a3f5f"
            },
            "baxis": {
             "endlinecolor": "#2a3f5f",
             "gridcolor": "white",
             "linecolor": "white",
             "minorgridcolor": "white",
             "startlinecolor": "#2a3f5f"
            },
            "type": "carpet"
           }
          ],
          "choropleth": [
           {
            "colorbar": {
             "outlinewidth": 0,
             "ticks": ""
            },
            "type": "choropleth"
           }
          ],
          "contour": [
           {
            "colorbar": {
             "outlinewidth": 0,
             "ticks": ""
            },
            "colorscale": [
             [
              0,
              "#0d0887"
             ],
             [
              0.1111111111111111,
              "#46039f"
             ],
             [
              0.2222222222222222,
              "#7201a8"
             ],
             [
              0.3333333333333333,
              "#9c179e"
             ],
             [
              0.4444444444444444,
              "#bd3786"
             ],
             [
              0.5555555555555556,
              "#d8576b"
             ],
             [
              0.6666666666666666,
              "#ed7953"
             ],
             [
              0.7777777777777778,
              "#fb9f3a"
             ],
             [
              0.8888888888888888,
              "#fdca26"
             ],
             [
              1,
              "#f0f921"
             ]
            ],
            "type": "contour"
           }
          ],
          "contourcarpet": [
           {
            "colorbar": {
             "outlinewidth": 0,
             "ticks": ""
            },
            "type": "contourcarpet"
           }
          ],
          "heatmap": [
           {
            "colorbar": {
             "outlinewidth": 0,
             "ticks": ""
            },
            "colorscale": [
             [
              0,
              "#0d0887"
             ],
             [
              0.1111111111111111,
              "#46039f"
             ],
             [
              0.2222222222222222,
              "#7201a8"
             ],
             [
              0.3333333333333333,
              "#9c179e"
             ],
             [
              0.4444444444444444,
              "#bd3786"
             ],
             [
              0.5555555555555556,
              "#d8576b"
             ],
             [
              0.6666666666666666,
              "#ed7953"
             ],
             [
              0.7777777777777778,
              "#fb9f3a"
             ],
             [
              0.8888888888888888,
              "#fdca26"
             ],
             [
              1,
              "#f0f921"
             ]
            ],
            "type": "heatmap"
           }
          ],
          "heatmapgl": [
           {
            "colorbar": {
             "outlinewidth": 0,
             "ticks": ""
            },
            "colorscale": [
             [
              0,
              "#0d0887"
             ],
             [
              0.1111111111111111,
              "#46039f"
             ],
             [
              0.2222222222222222,
              "#7201a8"
             ],
             [
              0.3333333333333333,
              "#9c179e"
             ],
             [
              0.4444444444444444,
              "#bd3786"
             ],
             [
              0.5555555555555556,
              "#d8576b"
             ],
             [
              0.6666666666666666,
              "#ed7953"
             ],
             [
              0.7777777777777778,
              "#fb9f3a"
             ],
             [
              0.8888888888888888,
              "#fdca26"
             ],
             [
              1,
              "#f0f921"
             ]
            ],
            "type": "heatmapgl"
           }
          ],
          "histogram": [
           {
            "marker": {
             "pattern": {
              "fillmode": "overlay",
              "size": 10,
              "solidity": 0.2
             }
            },
            "type": "histogram"
           }
          ],
          "histogram2d": [
           {
            "colorbar": {
             "outlinewidth": 0,
             "ticks": ""
            },
            "colorscale": [
             [
              0,
              "#0d0887"
             ],
             [
              0.1111111111111111,
              "#46039f"
             ],
             [
              0.2222222222222222,
              "#7201a8"
             ],
             [
              0.3333333333333333,
              "#9c179e"
             ],
             [
              0.4444444444444444,
              "#bd3786"
             ],
             [
              0.5555555555555556,
              "#d8576b"
             ],
             [
              0.6666666666666666,
              "#ed7953"
             ],
             [
              0.7777777777777778,
              "#fb9f3a"
             ],
             [
              0.8888888888888888,
              "#fdca26"
             ],
             [
              1,
              "#f0f921"
             ]
            ],
            "type": "histogram2d"
           }
          ],
          "histogram2dcontour": [
           {
            "colorbar": {
             "outlinewidth": 0,
             "ticks": ""
            },
            "colorscale": [
             [
              0,
              "#0d0887"
             ],
             [
              0.1111111111111111,
              "#46039f"
             ],
             [
              0.2222222222222222,
              "#7201a8"
             ],
             [
              0.3333333333333333,
              "#9c179e"
             ],
             [
              0.4444444444444444,
              "#bd3786"
             ],
             [
              0.5555555555555556,
              "#d8576b"
             ],
             [
              0.6666666666666666,
              "#ed7953"
             ],
             [
              0.7777777777777778,
              "#fb9f3a"
             ],
             [
              0.8888888888888888,
              "#fdca26"
             ],
             [
              1,
              "#f0f921"
             ]
            ],
            "type": "histogram2dcontour"
           }
          ],
          "mesh3d": [
           {
            "colorbar": {
             "outlinewidth": 0,
             "ticks": ""
            },
            "type": "mesh3d"
           }
          ],
          "parcoords": [
           {
            "line": {
             "colorbar": {
              "outlinewidth": 0,
              "ticks": ""
             }
            },
            "type": "parcoords"
           }
          ],
          "pie": [
           {
            "automargin": true,
            "type": "pie"
           }
          ],
          "scatter": [
           {
            "fillpattern": {
             "fillmode": "overlay",
             "size": 10,
             "solidity": 0.2
            },
            "type": "scatter"
           }
          ],
          "scatter3d": [
           {
            "line": {
             "colorbar": {
              "outlinewidth": 0,
              "ticks": ""
             }
            },
            "marker": {
             "colorbar": {
              "outlinewidth": 0,
              "ticks": ""
             }
            },
            "type": "scatter3d"
           }
          ],
          "scattercarpet": [
           {
            "marker": {
             "colorbar": {
              "outlinewidth": 0,
              "ticks": ""
             }
            },
            "type": "scattercarpet"
           }
          ],
          "scattergeo": [
           {
            "marker": {
             "colorbar": {
              "outlinewidth": 0,
              "ticks": ""
             }
            },
            "type": "scattergeo"
           }
          ],
          "scattergl": [
           {
            "marker": {
             "colorbar": {
              "outlinewidth": 0,
              "ticks": ""
             }
            },
            "type": "scattergl"
           }
          ],
          "scattermapbox": [
           {
            "marker": {
             "colorbar": {
              "outlinewidth": 0,
              "ticks": ""
             }
            },
            "type": "scattermapbox"
           }
          ],
          "scatterpolar": [
           {
            "marker": {
             "colorbar": {
              "outlinewidth": 0,
              "ticks": ""
             }
            },
            "type": "scatterpolar"
           }
          ],
          "scatterpolargl": [
           {
            "marker": {
             "colorbar": {
              "outlinewidth": 0,
              "ticks": ""
             }
            },
            "type": "scatterpolargl"
           }
          ],
          "scatterternary": [
           {
            "marker": {
             "colorbar": {
              "outlinewidth": 0,
              "ticks": ""
             }
            },
            "type": "scatterternary"
           }
          ],
          "surface": [
           {
            "colorbar": {
             "outlinewidth": 0,
             "ticks": ""
            },
            "colorscale": [
             [
              0,
              "#0d0887"
             ],
             [
              0.1111111111111111,
              "#46039f"
             ],
             [
              0.2222222222222222,
              "#7201a8"
             ],
             [
              0.3333333333333333,
              "#9c179e"
             ],
             [
              0.4444444444444444,
              "#bd3786"
             ],
             [
              0.5555555555555556,
              "#d8576b"
             ],
             [
              0.6666666666666666,
              "#ed7953"
             ],
             [
              0.7777777777777778,
              "#fb9f3a"
             ],
             [
              0.8888888888888888,
              "#fdca26"
             ],
             [
              1,
              "#f0f921"
             ]
            ],
            "type": "surface"
           }
          ],
          "table": [
           {
            "cells": {
             "fill": {
              "color": "#EBF0F8"
             },
             "line": {
              "color": "white"
             }
            },
            "header": {
             "fill": {
              "color": "#C8D4E3"
             },
             "line": {
              "color": "white"
             }
            },
            "type": "table"
           }
          ]
         },
         "layout": {
          "annotationdefaults": {
           "arrowcolor": "#2a3f5f",
           "arrowhead": 0,
           "arrowwidth": 1
          },
          "autotypenumbers": "strict",
          "coloraxis": {
           "colorbar": {
            "outlinewidth": 0,
            "ticks": ""
           }
          },
          "colorscale": {
           "diverging": [
            [
             0,
             "#8e0152"
            ],
            [
             0.1,
             "#c51b7d"
            ],
            [
             0.2,
             "#de77ae"
            ],
            [
             0.3,
             "#f1b6da"
            ],
            [
             0.4,
             "#fde0ef"
            ],
            [
             0.5,
             "#f7f7f7"
            ],
            [
             0.6,
             "#e6f5d0"
            ],
            [
             0.7,
             "#b8e186"
            ],
            [
             0.8,
             "#7fbc41"
            ],
            [
             0.9,
             "#4d9221"
            ],
            [
             1,
             "#276419"
            ]
           ],
           "sequential": [
            [
             0,
             "#0d0887"
            ],
            [
             0.1111111111111111,
             "#46039f"
            ],
            [
             0.2222222222222222,
             "#7201a8"
            ],
            [
             0.3333333333333333,
             "#9c179e"
            ],
            [
             0.4444444444444444,
             "#bd3786"
            ],
            [
             0.5555555555555556,
             "#d8576b"
            ],
            [
             0.6666666666666666,
             "#ed7953"
            ],
            [
             0.7777777777777778,
             "#fb9f3a"
            ],
            [
             0.8888888888888888,
             "#fdca26"
            ],
            [
             1,
             "#f0f921"
            ]
           ],
           "sequentialminus": [
            [
             0,
             "#0d0887"
            ],
            [
             0.1111111111111111,
             "#46039f"
            ],
            [
             0.2222222222222222,
             "#7201a8"
            ],
            [
             0.3333333333333333,
             "#9c179e"
            ],
            [
             0.4444444444444444,
             "#bd3786"
            ],
            [
             0.5555555555555556,
             "#d8576b"
            ],
            [
             0.6666666666666666,
             "#ed7953"
            ],
            [
             0.7777777777777778,
             "#fb9f3a"
            ],
            [
             0.8888888888888888,
             "#fdca26"
            ],
            [
             1,
             "#f0f921"
            ]
           ]
          },
          "colorway": [
           "#636efa",
           "#EF553B",
           "#00cc96",
           "#ab63fa",
           "#FFA15A",
           "#19d3f3",
           "#FF6692",
           "#B6E880",
           "#FF97FF",
           "#FECB52"
          ],
          "font": {
           "color": "#2a3f5f"
          },
          "geo": {
           "bgcolor": "white",
           "lakecolor": "white",
           "landcolor": "#E5ECF6",
           "showlakes": true,
           "showland": true,
           "subunitcolor": "white"
          },
          "hoverlabel": {
           "align": "left"
          },
          "hovermode": "closest",
          "mapbox": {
           "style": "light"
          },
          "paper_bgcolor": "white",
          "plot_bgcolor": "#E5ECF6",
          "polar": {
           "angularaxis": {
            "gridcolor": "white",
            "linecolor": "white",
            "ticks": ""
           },
           "bgcolor": "#E5ECF6",
           "radialaxis": {
            "gridcolor": "white",
            "linecolor": "white",
            "ticks": ""
           }
          },
          "scene": {
           "xaxis": {
            "backgroundcolor": "#E5ECF6",
            "gridcolor": "white",
            "gridwidth": 2,
            "linecolor": "white",
            "showbackground": true,
            "ticks": "",
            "zerolinecolor": "white"
           },
           "yaxis": {
            "backgroundcolor": "#E5ECF6",
            "gridcolor": "white",
            "gridwidth": 2,
            "linecolor": "white",
            "showbackground": true,
            "ticks": "",
            "zerolinecolor": "white"
           },
           "zaxis": {
            "backgroundcolor": "#E5ECF6",
            "gridcolor": "white",
            "gridwidth": 2,
            "linecolor": "white",
            "showbackground": true,
            "ticks": "",
            "zerolinecolor": "white"
           }
          },
          "shapedefaults": {
           "line": {
            "color": "#2a3f5f"
           }
          },
          "ternary": {
           "aaxis": {
            "gridcolor": "white",
            "linecolor": "white",
            "ticks": ""
           },
           "baxis": {
            "gridcolor": "white",
            "linecolor": "white",
            "ticks": ""
           },
           "bgcolor": "#E5ECF6",
           "caxis": {
            "gridcolor": "white",
            "linecolor": "white",
            "ticks": ""
           }
          },
          "title": {
           "x": 0.05
          },
          "xaxis": {
           "automargin": true,
           "gridcolor": "white",
           "linecolor": "white",
           "ticks": "",
           "title": {
            "standoff": 15
           },
           "zerolinecolor": "white",
           "zerolinewidth": 2
          },
          "yaxis": {
           "automargin": true,
           "gridcolor": "white",
           "linecolor": "white",
           "ticks": "",
           "title": {
            "standoff": 15
           },
           "zerolinecolor": "white",
           "zerolinewidth": 2
          }
         }
        },
        "title": {
         "text": "Average Model Size vs num_leaves"
        },
        "xaxis": {
         "anchor": "y",
         "domain": [
          0,
          1
         ],
         "title": {
          "text": "num_leaves"
         }
        },
        "yaxis": {
         "anchor": "x",
         "domain": [
          0,
          1
         ],
         "title": {
          "text": "Average Model Size (bytes)"
         }
        }
       }
      }
     },
     "metadata": {},
     "output_type": "display_data"
    },
    {
     "data": {
      "application/vnd.plotly.v1+json": {
       "config": {
        "plotlyServerURL": "https://plot.ly"
       },
       "data": [
        {
         "hovertemplate": "max_depth=%{x}<br>model size=%{y}<extra></extra>",
         "legendgroup": "",
         "line": {
          "color": "#636efa",
          "dash": "solid"
         },
         "marker": {
          "symbol": "circle"
         },
         "mode": "lines+markers",
         "name": "",
         "orientation": "v",
         "showlegend": false,
         "type": "scatter",
         "x": [
          5,
          8,
          9,
          10,
          15,
          20,
          25,
          30,
          35,
          40,
          50,
          100,
          200
         ],
         "xaxis": "x",
         "y": [
          12356506.275,
          19805832.283333335,
          21421747.95,
          23098378.191666666,
          25869964.05,
          26894367.325,
          27077840.208333332,
          27107404.6,
          27539393.266666666,
          27122435.35,
          27227940.125,
          27287988.058333334,
          27291112.383333333
         ],
         "yaxis": "y"
        }
       ],
       "layout": {
        "legend": {
         "tracegroupgap": 0
        },
        "template": {
         "data": {
          "bar": [
           {
            "error_x": {
             "color": "#2a3f5f"
            },
            "error_y": {
             "color": "#2a3f5f"
            },
            "marker": {
             "line": {
              "color": "#E5ECF6",
              "width": 0.5
             },
             "pattern": {
              "fillmode": "overlay",
              "size": 10,
              "solidity": 0.2
             }
            },
            "type": "bar"
           }
          ],
          "barpolar": [
           {
            "marker": {
             "line": {
              "color": "#E5ECF6",
              "width": 0.5
             },
             "pattern": {
              "fillmode": "overlay",
              "size": 10,
              "solidity": 0.2
             }
            },
            "type": "barpolar"
           }
          ],
          "carpet": [
           {
            "aaxis": {
             "endlinecolor": "#2a3f5f",
             "gridcolor": "white",
             "linecolor": "white",
             "minorgridcolor": "white",
             "startlinecolor": "#2a3f5f"
            },
            "baxis": {
             "endlinecolor": "#2a3f5f",
             "gridcolor": "white",
             "linecolor": "white",
             "minorgridcolor": "white",
             "startlinecolor": "#2a3f5f"
            },
            "type": "carpet"
           }
          ],
          "choropleth": [
           {
            "colorbar": {
             "outlinewidth": 0,
             "ticks": ""
            },
            "type": "choropleth"
           }
          ],
          "contour": [
           {
            "colorbar": {
             "outlinewidth": 0,
             "ticks": ""
            },
            "colorscale": [
             [
              0,
              "#0d0887"
             ],
             [
              0.1111111111111111,
              "#46039f"
             ],
             [
              0.2222222222222222,
              "#7201a8"
             ],
             [
              0.3333333333333333,
              "#9c179e"
             ],
             [
              0.4444444444444444,
              "#bd3786"
             ],
             [
              0.5555555555555556,
              "#d8576b"
             ],
             [
              0.6666666666666666,
              "#ed7953"
             ],
             [
              0.7777777777777778,
              "#fb9f3a"
             ],
             [
              0.8888888888888888,
              "#fdca26"
             ],
             [
              1,
              "#f0f921"
             ]
            ],
            "type": "contour"
           }
          ],
          "contourcarpet": [
           {
            "colorbar": {
             "outlinewidth": 0,
             "ticks": ""
            },
            "type": "contourcarpet"
           }
          ],
          "heatmap": [
           {
            "colorbar": {
             "outlinewidth": 0,
             "ticks": ""
            },
            "colorscale": [
             [
              0,
              "#0d0887"
             ],
             [
              0.1111111111111111,
              "#46039f"
             ],
             [
              0.2222222222222222,
              "#7201a8"
             ],
             [
              0.3333333333333333,
              "#9c179e"
             ],
             [
              0.4444444444444444,
              "#bd3786"
             ],
             [
              0.5555555555555556,
              "#d8576b"
             ],
             [
              0.6666666666666666,
              "#ed7953"
             ],
             [
              0.7777777777777778,
              "#fb9f3a"
             ],
             [
              0.8888888888888888,
              "#fdca26"
             ],
             [
              1,
              "#f0f921"
             ]
            ],
            "type": "heatmap"
           }
          ],
          "heatmapgl": [
           {
            "colorbar": {
             "outlinewidth": 0,
             "ticks": ""
            },
            "colorscale": [
             [
              0,
              "#0d0887"
             ],
             [
              0.1111111111111111,
              "#46039f"
             ],
             [
              0.2222222222222222,
              "#7201a8"
             ],
             [
              0.3333333333333333,
              "#9c179e"
             ],
             [
              0.4444444444444444,
              "#bd3786"
             ],
             [
              0.5555555555555556,
              "#d8576b"
             ],
             [
              0.6666666666666666,
              "#ed7953"
             ],
             [
              0.7777777777777778,
              "#fb9f3a"
             ],
             [
              0.8888888888888888,
              "#fdca26"
             ],
             [
              1,
              "#f0f921"
             ]
            ],
            "type": "heatmapgl"
           }
          ],
          "histogram": [
           {
            "marker": {
             "pattern": {
              "fillmode": "overlay",
              "size": 10,
              "solidity": 0.2
             }
            },
            "type": "histogram"
           }
          ],
          "histogram2d": [
           {
            "colorbar": {
             "outlinewidth": 0,
             "ticks": ""
            },
            "colorscale": [
             [
              0,
              "#0d0887"
             ],
             [
              0.1111111111111111,
              "#46039f"
             ],
             [
              0.2222222222222222,
              "#7201a8"
             ],
             [
              0.3333333333333333,
              "#9c179e"
             ],
             [
              0.4444444444444444,
              "#bd3786"
             ],
             [
              0.5555555555555556,
              "#d8576b"
             ],
             [
              0.6666666666666666,
              "#ed7953"
             ],
             [
              0.7777777777777778,
              "#fb9f3a"
             ],
             [
              0.8888888888888888,
              "#fdca26"
             ],
             [
              1,
              "#f0f921"
             ]
            ],
            "type": "histogram2d"
           }
          ],
          "histogram2dcontour": [
           {
            "colorbar": {
             "outlinewidth": 0,
             "ticks": ""
            },
            "colorscale": [
             [
              0,
              "#0d0887"
             ],
             [
              0.1111111111111111,
              "#46039f"
             ],
             [
              0.2222222222222222,
              "#7201a8"
             ],
             [
              0.3333333333333333,
              "#9c179e"
             ],
             [
              0.4444444444444444,
              "#bd3786"
             ],
             [
              0.5555555555555556,
              "#d8576b"
             ],
             [
              0.6666666666666666,
              "#ed7953"
             ],
             [
              0.7777777777777778,
              "#fb9f3a"
             ],
             [
              0.8888888888888888,
              "#fdca26"
             ],
             [
              1,
              "#f0f921"
             ]
            ],
            "type": "histogram2dcontour"
           }
          ],
          "mesh3d": [
           {
            "colorbar": {
             "outlinewidth": 0,
             "ticks": ""
            },
            "type": "mesh3d"
           }
          ],
          "parcoords": [
           {
            "line": {
             "colorbar": {
              "outlinewidth": 0,
              "ticks": ""
             }
            },
            "type": "parcoords"
           }
          ],
          "pie": [
           {
            "automargin": true,
            "type": "pie"
           }
          ],
          "scatter": [
           {
            "fillpattern": {
             "fillmode": "overlay",
             "size": 10,
             "solidity": 0.2
            },
            "type": "scatter"
           }
          ],
          "scatter3d": [
           {
            "line": {
             "colorbar": {
              "outlinewidth": 0,
              "ticks": ""
             }
            },
            "marker": {
             "colorbar": {
              "outlinewidth": 0,
              "ticks": ""
             }
            },
            "type": "scatter3d"
           }
          ],
          "scattercarpet": [
           {
            "marker": {
             "colorbar": {
              "outlinewidth": 0,
              "ticks": ""
             }
            },
            "type": "scattercarpet"
           }
          ],
          "scattergeo": [
           {
            "marker": {
             "colorbar": {
              "outlinewidth": 0,
              "ticks": ""
             }
            },
            "type": "scattergeo"
           }
          ],
          "scattergl": [
           {
            "marker": {
             "colorbar": {
              "outlinewidth": 0,
              "ticks": ""
             }
            },
            "type": "scattergl"
           }
          ],
          "scattermapbox": [
           {
            "marker": {
             "colorbar": {
              "outlinewidth": 0,
              "ticks": ""
             }
            },
            "type": "scattermapbox"
           }
          ],
          "scatterpolar": [
           {
            "marker": {
             "colorbar": {
              "outlinewidth": 0,
              "ticks": ""
             }
            },
            "type": "scatterpolar"
           }
          ],
          "scatterpolargl": [
           {
            "marker": {
             "colorbar": {
              "outlinewidth": 0,
              "ticks": ""
             }
            },
            "type": "scatterpolargl"
           }
          ],
          "scatterternary": [
           {
            "marker": {
             "colorbar": {
              "outlinewidth": 0,
              "ticks": ""
             }
            },
            "type": "scatterternary"
           }
          ],
          "surface": [
           {
            "colorbar": {
             "outlinewidth": 0,
             "ticks": ""
            },
            "colorscale": [
             [
              0,
              "#0d0887"
             ],
             [
              0.1111111111111111,
              "#46039f"
             ],
             [
              0.2222222222222222,
              "#7201a8"
             ],
             [
              0.3333333333333333,
              "#9c179e"
             ],
             [
              0.4444444444444444,
              "#bd3786"
             ],
             [
              0.5555555555555556,
              "#d8576b"
             ],
             [
              0.6666666666666666,
              "#ed7953"
             ],
             [
              0.7777777777777778,
              "#fb9f3a"
             ],
             [
              0.8888888888888888,
              "#fdca26"
             ],
             [
              1,
              "#f0f921"
             ]
            ],
            "type": "surface"
           }
          ],
          "table": [
           {
            "cells": {
             "fill": {
              "color": "#EBF0F8"
             },
             "line": {
              "color": "white"
             }
            },
            "header": {
             "fill": {
              "color": "#C8D4E3"
             },
             "line": {
              "color": "white"
             }
            },
            "type": "table"
           }
          ]
         },
         "layout": {
          "annotationdefaults": {
           "arrowcolor": "#2a3f5f",
           "arrowhead": 0,
           "arrowwidth": 1
          },
          "autotypenumbers": "strict",
          "coloraxis": {
           "colorbar": {
            "outlinewidth": 0,
            "ticks": ""
           }
          },
          "colorscale": {
           "diverging": [
            [
             0,
             "#8e0152"
            ],
            [
             0.1,
             "#c51b7d"
            ],
            [
             0.2,
             "#de77ae"
            ],
            [
             0.3,
             "#f1b6da"
            ],
            [
             0.4,
             "#fde0ef"
            ],
            [
             0.5,
             "#f7f7f7"
            ],
            [
             0.6,
             "#e6f5d0"
            ],
            [
             0.7,
             "#b8e186"
            ],
            [
             0.8,
             "#7fbc41"
            ],
            [
             0.9,
             "#4d9221"
            ],
            [
             1,
             "#276419"
            ]
           ],
           "sequential": [
            [
             0,
             "#0d0887"
            ],
            [
             0.1111111111111111,
             "#46039f"
            ],
            [
             0.2222222222222222,
             "#7201a8"
            ],
            [
             0.3333333333333333,
             "#9c179e"
            ],
            [
             0.4444444444444444,
             "#bd3786"
            ],
            [
             0.5555555555555556,
             "#d8576b"
            ],
            [
             0.6666666666666666,
             "#ed7953"
            ],
            [
             0.7777777777777778,
             "#fb9f3a"
            ],
            [
             0.8888888888888888,
             "#fdca26"
            ],
            [
             1,
             "#f0f921"
            ]
           ],
           "sequentialminus": [
            [
             0,
             "#0d0887"
            ],
            [
             0.1111111111111111,
             "#46039f"
            ],
            [
             0.2222222222222222,
             "#7201a8"
            ],
            [
             0.3333333333333333,
             "#9c179e"
            ],
            [
             0.4444444444444444,
             "#bd3786"
            ],
            [
             0.5555555555555556,
             "#d8576b"
            ],
            [
             0.6666666666666666,
             "#ed7953"
            ],
            [
             0.7777777777777778,
             "#fb9f3a"
            ],
            [
             0.8888888888888888,
             "#fdca26"
            ],
            [
             1,
             "#f0f921"
            ]
           ]
          },
          "colorway": [
           "#636efa",
           "#EF553B",
           "#00cc96",
           "#ab63fa",
           "#FFA15A",
           "#19d3f3",
           "#FF6692",
           "#B6E880",
           "#FF97FF",
           "#FECB52"
          ],
          "font": {
           "color": "#2a3f5f"
          },
          "geo": {
           "bgcolor": "white",
           "lakecolor": "white",
           "landcolor": "#E5ECF6",
           "showlakes": true,
           "showland": true,
           "subunitcolor": "white"
          },
          "hoverlabel": {
           "align": "left"
          },
          "hovermode": "closest",
          "mapbox": {
           "style": "light"
          },
          "paper_bgcolor": "white",
          "plot_bgcolor": "#E5ECF6",
          "polar": {
           "angularaxis": {
            "gridcolor": "white",
            "linecolor": "white",
            "ticks": ""
           },
           "bgcolor": "#E5ECF6",
           "radialaxis": {
            "gridcolor": "white",
            "linecolor": "white",
            "ticks": ""
           }
          },
          "scene": {
           "xaxis": {
            "backgroundcolor": "#E5ECF6",
            "gridcolor": "white",
            "gridwidth": 2,
            "linecolor": "white",
            "showbackground": true,
            "ticks": "",
            "zerolinecolor": "white"
           },
           "yaxis": {
            "backgroundcolor": "#E5ECF6",
            "gridcolor": "white",
            "gridwidth": 2,
            "linecolor": "white",
            "showbackground": true,
            "ticks": "",
            "zerolinecolor": "white"
           },
           "zaxis": {
            "backgroundcolor": "#E5ECF6",
            "gridcolor": "white",
            "gridwidth": 2,
            "linecolor": "white",
            "showbackground": true,
            "ticks": "",
            "zerolinecolor": "white"
           }
          },
          "shapedefaults": {
           "line": {
            "color": "#2a3f5f"
           }
          },
          "ternary": {
           "aaxis": {
            "gridcolor": "white",
            "linecolor": "white",
            "ticks": ""
           },
           "baxis": {
            "gridcolor": "white",
            "linecolor": "white",
            "ticks": ""
           },
           "bgcolor": "#E5ECF6",
           "caxis": {
            "gridcolor": "white",
            "linecolor": "white",
            "ticks": ""
           }
          },
          "title": {
           "x": 0.05
          },
          "xaxis": {
           "automargin": true,
           "gridcolor": "white",
           "linecolor": "white",
           "ticks": "",
           "title": {
            "standoff": 15
           },
           "zerolinecolor": "white",
           "zerolinewidth": 2
          },
          "yaxis": {
           "automargin": true,
           "gridcolor": "white",
           "linecolor": "white",
           "ticks": "",
           "title": {
            "standoff": 15
           },
           "zerolinecolor": "white",
           "zerolinewidth": 2
          }
         }
        },
        "title": {
         "text": "Average Model Size vs max_depth"
        },
        "xaxis": {
         "anchor": "y",
         "domain": [
          0,
          1
         ],
         "title": {
          "text": "max_depth"
         }
        },
        "yaxis": {
         "anchor": "x",
         "domain": [
          0,
          1
         ],
         "title": {
          "text": "Average Model Size (bytes)"
         }
        }
       }
      }
     },
     "metadata": {},
     "output_type": "display_data"
    },
    {
     "data": {
      "application/vnd.plotly.v1+json": {
       "config": {
        "plotlyServerURL": "https://plot.ly"
       },
       "data": [
        {
         "hovertemplate": "min_child_samples=%{x}<br>model size=%{y}<extra></extra>",
         "legendgroup": "",
         "line": {
          "color": "#636efa",
          "dash": "solid"
         },
         "marker": {
          "symbol": "circle"
         },
         "mode": "lines+markers",
         "name": "",
         "orientation": "v",
         "showlegend": false,
         "type": "scatter",
         "x": [
          2,
          3,
          5,
          10,
          15,
          20,
          25,
          30,
          40,
          50
         ],
         "xaxis": "x",
         "y": [
          39123262.70512821,
          34311895.85897436,
          30729178.282051284,
          25817369.743589744,
          22402626.032051284,
          20449201.967948716,
          19507808.057692308,
          19092930.826923076,
          17750925.660256412,
          17046270.147435896
         ],
         "yaxis": "y"
        }
       ],
       "layout": {
        "legend": {
         "tracegroupgap": 0
        },
        "template": {
         "data": {
          "bar": [
           {
            "error_x": {
             "color": "#2a3f5f"
            },
            "error_y": {
             "color": "#2a3f5f"
            },
            "marker": {
             "line": {
              "color": "#E5ECF6",
              "width": 0.5
             },
             "pattern": {
              "fillmode": "overlay",
              "size": 10,
              "solidity": 0.2
             }
            },
            "type": "bar"
           }
          ],
          "barpolar": [
           {
            "marker": {
             "line": {
              "color": "#E5ECF6",
              "width": 0.5
             },
             "pattern": {
              "fillmode": "overlay",
              "size": 10,
              "solidity": 0.2
             }
            },
            "type": "barpolar"
           }
          ],
          "carpet": [
           {
            "aaxis": {
             "endlinecolor": "#2a3f5f",
             "gridcolor": "white",
             "linecolor": "white",
             "minorgridcolor": "white",
             "startlinecolor": "#2a3f5f"
            },
            "baxis": {
             "endlinecolor": "#2a3f5f",
             "gridcolor": "white",
             "linecolor": "white",
             "minorgridcolor": "white",
             "startlinecolor": "#2a3f5f"
            },
            "type": "carpet"
           }
          ],
          "choropleth": [
           {
            "colorbar": {
             "outlinewidth": 0,
             "ticks": ""
            },
            "type": "choropleth"
           }
          ],
          "contour": [
           {
            "colorbar": {
             "outlinewidth": 0,
             "ticks": ""
            },
            "colorscale": [
             [
              0,
              "#0d0887"
             ],
             [
              0.1111111111111111,
              "#46039f"
             ],
             [
              0.2222222222222222,
              "#7201a8"
             ],
             [
              0.3333333333333333,
              "#9c179e"
             ],
             [
              0.4444444444444444,
              "#bd3786"
             ],
             [
              0.5555555555555556,
              "#d8576b"
             ],
             [
              0.6666666666666666,
              "#ed7953"
             ],
             [
              0.7777777777777778,
              "#fb9f3a"
             ],
             [
              0.8888888888888888,
              "#fdca26"
             ],
             [
              1,
              "#f0f921"
             ]
            ],
            "type": "contour"
           }
          ],
          "contourcarpet": [
           {
            "colorbar": {
             "outlinewidth": 0,
             "ticks": ""
            },
            "type": "contourcarpet"
           }
          ],
          "heatmap": [
           {
            "colorbar": {
             "outlinewidth": 0,
             "ticks": ""
            },
            "colorscale": [
             [
              0,
              "#0d0887"
             ],
             [
              0.1111111111111111,
              "#46039f"
             ],
             [
              0.2222222222222222,
              "#7201a8"
             ],
             [
              0.3333333333333333,
              "#9c179e"
             ],
             [
              0.4444444444444444,
              "#bd3786"
             ],
             [
              0.5555555555555556,
              "#d8576b"
             ],
             [
              0.6666666666666666,
              "#ed7953"
             ],
             [
              0.7777777777777778,
              "#fb9f3a"
             ],
             [
              0.8888888888888888,
              "#fdca26"
             ],
             [
              1,
              "#f0f921"
             ]
            ],
            "type": "heatmap"
           }
          ],
          "heatmapgl": [
           {
            "colorbar": {
             "outlinewidth": 0,
             "ticks": ""
            },
            "colorscale": [
             [
              0,
              "#0d0887"
             ],
             [
              0.1111111111111111,
              "#46039f"
             ],
             [
              0.2222222222222222,
              "#7201a8"
             ],
             [
              0.3333333333333333,
              "#9c179e"
             ],
             [
              0.4444444444444444,
              "#bd3786"
             ],
             [
              0.5555555555555556,
              "#d8576b"
             ],
             [
              0.6666666666666666,
              "#ed7953"
             ],
             [
              0.7777777777777778,
              "#fb9f3a"
             ],
             [
              0.8888888888888888,
              "#fdca26"
             ],
             [
              1,
              "#f0f921"
             ]
            ],
            "type": "heatmapgl"
           }
          ],
          "histogram": [
           {
            "marker": {
             "pattern": {
              "fillmode": "overlay",
              "size": 10,
              "solidity": 0.2
             }
            },
            "type": "histogram"
           }
          ],
          "histogram2d": [
           {
            "colorbar": {
             "outlinewidth": 0,
             "ticks": ""
            },
            "colorscale": [
             [
              0,
              "#0d0887"
             ],
             [
              0.1111111111111111,
              "#46039f"
             ],
             [
              0.2222222222222222,
              "#7201a8"
             ],
             [
              0.3333333333333333,
              "#9c179e"
             ],
             [
              0.4444444444444444,
              "#bd3786"
             ],
             [
              0.5555555555555556,
              "#d8576b"
             ],
             [
              0.6666666666666666,
              "#ed7953"
             ],
             [
              0.7777777777777778,
              "#fb9f3a"
             ],
             [
              0.8888888888888888,
              "#fdca26"
             ],
             [
              1,
              "#f0f921"
             ]
            ],
            "type": "histogram2d"
           }
          ],
          "histogram2dcontour": [
           {
            "colorbar": {
             "outlinewidth": 0,
             "ticks": ""
            },
            "colorscale": [
             [
              0,
              "#0d0887"
             ],
             [
              0.1111111111111111,
              "#46039f"
             ],
             [
              0.2222222222222222,
              "#7201a8"
             ],
             [
              0.3333333333333333,
              "#9c179e"
             ],
             [
              0.4444444444444444,
              "#bd3786"
             ],
             [
              0.5555555555555556,
              "#d8576b"
             ],
             [
              0.6666666666666666,
              "#ed7953"
             ],
             [
              0.7777777777777778,
              "#fb9f3a"
             ],
             [
              0.8888888888888888,
              "#fdca26"
             ],
             [
              1,
              "#f0f921"
             ]
            ],
            "type": "histogram2dcontour"
           }
          ],
          "mesh3d": [
           {
            "colorbar": {
             "outlinewidth": 0,
             "ticks": ""
            },
            "type": "mesh3d"
           }
          ],
          "parcoords": [
           {
            "line": {
             "colorbar": {
              "outlinewidth": 0,
              "ticks": ""
             }
            },
            "type": "parcoords"
           }
          ],
          "pie": [
           {
            "automargin": true,
            "type": "pie"
           }
          ],
          "scatter": [
           {
            "fillpattern": {
             "fillmode": "overlay",
             "size": 10,
             "solidity": 0.2
            },
            "type": "scatter"
           }
          ],
          "scatter3d": [
           {
            "line": {
             "colorbar": {
              "outlinewidth": 0,
              "ticks": ""
             }
            },
            "marker": {
             "colorbar": {
              "outlinewidth": 0,
              "ticks": ""
             }
            },
            "type": "scatter3d"
           }
          ],
          "scattercarpet": [
           {
            "marker": {
             "colorbar": {
              "outlinewidth": 0,
              "ticks": ""
             }
            },
            "type": "scattercarpet"
           }
          ],
          "scattergeo": [
           {
            "marker": {
             "colorbar": {
              "outlinewidth": 0,
              "ticks": ""
             }
            },
            "type": "scattergeo"
           }
          ],
          "scattergl": [
           {
            "marker": {
             "colorbar": {
              "outlinewidth": 0,
              "ticks": ""
             }
            },
            "type": "scattergl"
           }
          ],
          "scattermapbox": [
           {
            "marker": {
             "colorbar": {
              "outlinewidth": 0,
              "ticks": ""
             }
            },
            "type": "scattermapbox"
           }
          ],
          "scatterpolar": [
           {
            "marker": {
             "colorbar": {
              "outlinewidth": 0,
              "ticks": ""
             }
            },
            "type": "scatterpolar"
           }
          ],
          "scatterpolargl": [
           {
            "marker": {
             "colorbar": {
              "outlinewidth": 0,
              "ticks": ""
             }
            },
            "type": "scatterpolargl"
           }
          ],
          "scatterternary": [
           {
            "marker": {
             "colorbar": {
              "outlinewidth": 0,
              "ticks": ""
             }
            },
            "type": "scatterternary"
           }
          ],
          "surface": [
           {
            "colorbar": {
             "outlinewidth": 0,
             "ticks": ""
            },
            "colorscale": [
             [
              0,
              "#0d0887"
             ],
             [
              0.1111111111111111,
              "#46039f"
             ],
             [
              0.2222222222222222,
              "#7201a8"
             ],
             [
              0.3333333333333333,
              "#9c179e"
             ],
             [
              0.4444444444444444,
              "#bd3786"
             ],
             [
              0.5555555555555556,
              "#d8576b"
             ],
             [
              0.6666666666666666,
              "#ed7953"
             ],
             [
              0.7777777777777778,
              "#fb9f3a"
             ],
             [
              0.8888888888888888,
              "#fdca26"
             ],
             [
              1,
              "#f0f921"
             ]
            ],
            "type": "surface"
           }
          ],
          "table": [
           {
            "cells": {
             "fill": {
              "color": "#EBF0F8"
             },
             "line": {
              "color": "white"
             }
            },
            "header": {
             "fill": {
              "color": "#C8D4E3"
             },
             "line": {
              "color": "white"
             }
            },
            "type": "table"
           }
          ]
         },
         "layout": {
          "annotationdefaults": {
           "arrowcolor": "#2a3f5f",
           "arrowhead": 0,
           "arrowwidth": 1
          },
          "autotypenumbers": "strict",
          "coloraxis": {
           "colorbar": {
            "outlinewidth": 0,
            "ticks": ""
           }
          },
          "colorscale": {
           "diverging": [
            [
             0,
             "#8e0152"
            ],
            [
             0.1,
             "#c51b7d"
            ],
            [
             0.2,
             "#de77ae"
            ],
            [
             0.3,
             "#f1b6da"
            ],
            [
             0.4,
             "#fde0ef"
            ],
            [
             0.5,
             "#f7f7f7"
            ],
            [
             0.6,
             "#e6f5d0"
            ],
            [
             0.7,
             "#b8e186"
            ],
            [
             0.8,
             "#7fbc41"
            ],
            [
             0.9,
             "#4d9221"
            ],
            [
             1,
             "#276419"
            ]
           ],
           "sequential": [
            [
             0,
             "#0d0887"
            ],
            [
             0.1111111111111111,
             "#46039f"
            ],
            [
             0.2222222222222222,
             "#7201a8"
            ],
            [
             0.3333333333333333,
             "#9c179e"
            ],
            [
             0.4444444444444444,
             "#bd3786"
            ],
            [
             0.5555555555555556,
             "#d8576b"
            ],
            [
             0.6666666666666666,
             "#ed7953"
            ],
            [
             0.7777777777777778,
             "#fb9f3a"
            ],
            [
             0.8888888888888888,
             "#fdca26"
            ],
            [
             1,
             "#f0f921"
            ]
           ],
           "sequentialminus": [
            [
             0,
             "#0d0887"
            ],
            [
             0.1111111111111111,
             "#46039f"
            ],
            [
             0.2222222222222222,
             "#7201a8"
            ],
            [
             0.3333333333333333,
             "#9c179e"
            ],
            [
             0.4444444444444444,
             "#bd3786"
            ],
            [
             0.5555555555555556,
             "#d8576b"
            ],
            [
             0.6666666666666666,
             "#ed7953"
            ],
            [
             0.7777777777777778,
             "#fb9f3a"
            ],
            [
             0.8888888888888888,
             "#fdca26"
            ],
            [
             1,
             "#f0f921"
            ]
           ]
          },
          "colorway": [
           "#636efa",
           "#EF553B",
           "#00cc96",
           "#ab63fa",
           "#FFA15A",
           "#19d3f3",
           "#FF6692",
           "#B6E880",
           "#FF97FF",
           "#FECB52"
          ],
          "font": {
           "color": "#2a3f5f"
          },
          "geo": {
           "bgcolor": "white",
           "lakecolor": "white",
           "landcolor": "#E5ECF6",
           "showlakes": true,
           "showland": true,
           "subunitcolor": "white"
          },
          "hoverlabel": {
           "align": "left"
          },
          "hovermode": "closest",
          "mapbox": {
           "style": "light"
          },
          "paper_bgcolor": "white",
          "plot_bgcolor": "#E5ECF6",
          "polar": {
           "angularaxis": {
            "gridcolor": "white",
            "linecolor": "white",
            "ticks": ""
           },
           "bgcolor": "#E5ECF6",
           "radialaxis": {
            "gridcolor": "white",
            "linecolor": "white",
            "ticks": ""
           }
          },
          "scene": {
           "xaxis": {
            "backgroundcolor": "#E5ECF6",
            "gridcolor": "white",
            "gridwidth": 2,
            "linecolor": "white",
            "showbackground": true,
            "ticks": "",
            "zerolinecolor": "white"
           },
           "yaxis": {
            "backgroundcolor": "#E5ECF6",
            "gridcolor": "white",
            "gridwidth": 2,
            "linecolor": "white",
            "showbackground": true,
            "ticks": "",
            "zerolinecolor": "white"
           },
           "zaxis": {
            "backgroundcolor": "#E5ECF6",
            "gridcolor": "white",
            "gridwidth": 2,
            "linecolor": "white",
            "showbackground": true,
            "ticks": "",
            "zerolinecolor": "white"
           }
          },
          "shapedefaults": {
           "line": {
            "color": "#2a3f5f"
           }
          },
          "ternary": {
           "aaxis": {
            "gridcolor": "white",
            "linecolor": "white",
            "ticks": ""
           },
           "baxis": {
            "gridcolor": "white",
            "linecolor": "white",
            "ticks": ""
           },
           "bgcolor": "#E5ECF6",
           "caxis": {
            "gridcolor": "white",
            "linecolor": "white",
            "ticks": ""
           }
          },
          "title": {
           "x": 0.05
          },
          "xaxis": {
           "automargin": true,
           "gridcolor": "white",
           "linecolor": "white",
           "ticks": "",
           "title": {
            "standoff": 15
           },
           "zerolinecolor": "white",
           "zerolinewidth": 2
          },
          "yaxis": {
           "automargin": true,
           "gridcolor": "white",
           "linecolor": "white",
           "ticks": "",
           "title": {
            "standoff": 15
           },
           "zerolinecolor": "white",
           "zerolinewidth": 2
          }
         }
        },
        "title": {
         "text": "Average Model Size vs min_child_samples"
        },
        "xaxis": {
         "anchor": "y",
         "domain": [
          0,
          1
         ],
         "title": {
          "text": "min_child_samples"
         }
        },
        "yaxis": {
         "anchor": "x",
         "domain": [
          0,
          1
         ],
         "title": {
          "text": "Average Model Size (bytes)"
         }
        }
       }
      }
     },
     "metadata": {},
     "output_type": "display_data"
    }
   ],
   "source": [
    "plot_model_size(real_overfitting_df, \"num_leaves\")\n",
    "plot_model_size(real_overfitting_df, \"max_depth\")\n",
    "plot_model_size(real_overfitting_df, \"min_child_samples\")"
   ]
  },
  {
   "cell_type": "markdown",
   "id": "f811629d",
   "metadata": {},
   "source": [
    "### RMSE vs RMSE Standard deviation"
   ]
  },
  {
   "cell_type": "code",
   "execution_count": 54,
   "id": "a438b0a0",
   "metadata": {},
   "outputs": [],
   "source": [
    "real_overfitting_df['rank_rmse'] = real_overfitting_df['test rmse'].rank(method='min')\n",
    "real_overfitting_df['rank_std'] = real_overfitting_df['test rmse stddev'].rank(method='min')\n",
    "real_overfitting_df['rank_diff'] = (real_overfitting_df['rank_rmse'] - real_overfitting_df['rank_std']).abs()"
   ]
  },
  {
   "cell_type": "code",
   "execution_count": 55,
   "id": "e36929b7",
   "metadata": {},
   "outputs": [
    {
     "data": {
      "text/html": [
       "<div>\n",
       "<style scoped>\n",
       "    .dataframe tbody tr th:only-of-type {\n",
       "        vertical-align: middle;\n",
       "    }\n",
       "\n",
       "    .dataframe tbody tr th {\n",
       "        vertical-align: top;\n",
       "    }\n",
       "\n",
       "    .dataframe thead th {\n",
       "        text-align: right;\n",
       "    }\n",
       "</style>\n",
       "<table border=\"1\" class=\"dataframe\">\n",
       "  <thead>\n",
       "    <tr style=\"text-align: right;\">\n",
       "      <th></th>\n",
       "      <th>num_leaves</th>\n",
       "      <th>max_depth</th>\n",
       "      <th>min_child_samples</th>\n",
       "      <th>test rmse</th>\n",
       "      <th>test rmse stddev</th>\n",
       "      <th>rank_rmse</th>\n",
       "      <th>rank_std</th>\n",
       "      <th>rank_diff</th>\n",
       "    </tr>\n",
       "  </thead>\n",
       "  <tbody>\n",
       "    <tr>\n",
       "      <th>1074</th>\n",
       "      <td>100</td>\n",
       "      <td>15</td>\n",
       "      <td>2</td>\n",
       "      <td>4340532</td>\n",
       "      <td>131094.596010</td>\n",
       "      <td>1.0</td>\n",
       "      <td>368.0</td>\n",
       "      <td>367.0</td>\n",
       "    </tr>\n",
       "    <tr>\n",
       "      <th>953</th>\n",
       "      <td>150</td>\n",
       "      <td>20</td>\n",
       "      <td>2</td>\n",
       "      <td>4341559</td>\n",
       "      <td>128994.516580</td>\n",
       "      <td>2.0</td>\n",
       "      <td>272.0</td>\n",
       "      <td>270.0</td>\n",
       "    </tr>\n",
       "    <tr>\n",
       "      <th>834</th>\n",
       "      <td>100</td>\n",
       "      <td>25</td>\n",
       "      <td>2</td>\n",
       "      <td>4342491</td>\n",
       "      <td>123097.153489</td>\n",
       "      <td>3.0</td>\n",
       "      <td>78.0</td>\n",
       "      <td>75.0</td>\n",
       "    </tr>\n",
       "    <tr>\n",
       "      <th>954</th>\n",
       "      <td>100</td>\n",
       "      <td>20</td>\n",
       "      <td>2</td>\n",
       "      <td>4343096</td>\n",
       "      <td>123576.364663</td>\n",
       "      <td>4.0</td>\n",
       "      <td>90.0</td>\n",
       "      <td>86.0</td>\n",
       "    </tr>\n",
       "    <tr>\n",
       "      <th>929</th>\n",
       "      <td>150</td>\n",
       "      <td>20</td>\n",
       "      <td>5</td>\n",
       "      <td>4345642</td>\n",
       "      <td>136420.663990</td>\n",
       "      <td>5.0</td>\n",
       "      <td>753.0</td>\n",
       "      <td>748.0</td>\n",
       "    </tr>\n",
       "    <tr>\n",
       "      <th>833</th>\n",
       "      <td>150</td>\n",
       "      <td>25</td>\n",
       "      <td>2</td>\n",
       "      <td>4345771</td>\n",
       "      <td>131364.579244</td>\n",
       "      <td>6.0</td>\n",
       "      <td>395.0</td>\n",
       "      <td>389.0</td>\n",
       "    </tr>\n",
       "    <tr>\n",
       "      <th>1063</th>\n",
       "      <td>50</td>\n",
       "      <td>15</td>\n",
       "      <td>3</td>\n",
       "      <td>4345839</td>\n",
       "      <td>127679.060962</td>\n",
       "      <td>7.0</td>\n",
       "      <td>218.0</td>\n",
       "      <td>211.0</td>\n",
       "    </tr>\n",
       "    <tr>\n",
       "      <th>955</th>\n",
       "      <td>50</td>\n",
       "      <td>20</td>\n",
       "      <td>2</td>\n",
       "      <td>4347498</td>\n",
       "      <td>116302.505721</td>\n",
       "      <td>8.0</td>\n",
       "      <td>7.0</td>\n",
       "      <td>1.0</td>\n",
       "    </tr>\n",
       "    <tr>\n",
       "      <th>943</th>\n",
       "      <td>50</td>\n",
       "      <td>20</td>\n",
       "      <td>3</td>\n",
       "      <td>4347702</td>\n",
       "      <td>128241.860572</td>\n",
       "      <td>9.0</td>\n",
       "      <td>237.0</td>\n",
       "      <td>228.0</td>\n",
       "    </tr>\n",
       "    <tr>\n",
       "      <th>930</th>\n",
       "      <td>100</td>\n",
       "      <td>20</td>\n",
       "      <td>5</td>\n",
       "      <td>4347991</td>\n",
       "      <td>138615.979706</td>\n",
       "      <td>10.0</td>\n",
       "      <td>899.0</td>\n",
       "      <td>889.0</td>\n",
       "    </tr>\n",
       "  </tbody>\n",
       "</table>\n",
       "</div>"
      ],
      "text/plain": [
       "      num_leaves  max_depth  min_child_samples  test rmse  test rmse stddev  \\\n",
       "1074         100         15                  2    4340532     131094.596010   \n",
       "953          150         20                  2    4341559     128994.516580   \n",
       "834          100         25                  2    4342491     123097.153489   \n",
       "954          100         20                  2    4343096     123576.364663   \n",
       "929          150         20                  5    4345642     136420.663990   \n",
       "833          150         25                  2    4345771     131364.579244   \n",
       "1063          50         15                  3    4345839     127679.060962   \n",
       "955           50         20                  2    4347498     116302.505721   \n",
       "943           50         20                  3    4347702     128241.860572   \n",
       "930          100         20                  5    4347991     138615.979706   \n",
       "\n",
       "      rank_rmse  rank_std  rank_diff  \n",
       "1074        1.0     368.0      367.0  \n",
       "953         2.0     272.0      270.0  \n",
       "834         3.0      78.0       75.0  \n",
       "954         4.0      90.0       86.0  \n",
       "929         5.0     753.0      748.0  \n",
       "833         6.0     395.0      389.0  \n",
       "1063        7.0     218.0      211.0  \n",
       "955         8.0       7.0        1.0  \n",
       "943         9.0     237.0      228.0  \n",
       "930        10.0     899.0      889.0  "
      ]
     },
     "execution_count": 55,
     "metadata": {},
     "output_type": "execute_result"
    }
   ],
   "source": [
    "real_overfitting_df[['num_leaves', 'max_depth', 'min_child_samples', 'test rmse', 'test rmse stddev', 'rank_rmse', 'rank_std', 'rank_diff']].sort_values(by='test rmse').head(10)"
   ]
  },
  {
   "cell_type": "code",
   "execution_count": 56,
   "id": "5b4ed56f",
   "metadata": {},
   "outputs": [
    {
     "data": {
      "text/html": [
       "<div>\n",
       "<style scoped>\n",
       "    .dataframe tbody tr th:only-of-type {\n",
       "        vertical-align: middle;\n",
       "    }\n",
       "\n",
       "    .dataframe tbody tr th {\n",
       "        vertical-align: top;\n",
       "    }\n",
       "\n",
       "    .dataframe thead th {\n",
       "        text-align: right;\n",
       "    }\n",
       "</style>\n",
       "<table border=\"1\" class=\"dataframe\">\n",
       "  <thead>\n",
       "    <tr style=\"text-align: right;\">\n",
       "      <th></th>\n",
       "      <th>num_leaves</th>\n",
       "      <th>max_depth</th>\n",
       "      <th>min_child_samples</th>\n",
       "      <th>test rmse</th>\n",
       "      <th>test rmse stddev</th>\n",
       "      <th>rank_rmse</th>\n",
       "      <th>rank_std</th>\n",
       "      <th>rank_diff</th>\n",
       "    </tr>\n",
       "  </thead>\n",
       "  <tbody>\n",
       "    <tr>\n",
       "      <th>1425</th>\n",
       "      <td>25</td>\n",
       "      <td>8</td>\n",
       "      <td>3</td>\n",
       "      <td>4387014</td>\n",
       "      <td>112016.841799</td>\n",
       "      <td>324.0</td>\n",
       "      <td>1.0</td>\n",
       "      <td>323.0</td>\n",
       "    </tr>\n",
       "    <tr>\n",
       "      <th>1409</th>\n",
       "      <td>150</td>\n",
       "      <td>8</td>\n",
       "      <td>5</td>\n",
       "      <td>4406612</td>\n",
       "      <td>113428.409365</td>\n",
       "      <td>507.0</td>\n",
       "      <td>2.0</td>\n",
       "      <td>505.0</td>\n",
       "    </tr>\n",
       "    <tr>\n",
       "      <th>1428</th>\n",
       "      <td>1000</td>\n",
       "      <td>8</td>\n",
       "      <td>2</td>\n",
       "      <td>4421579</td>\n",
       "      <td>115183.180143</td>\n",
       "      <td>653.0</td>\n",
       "      <td>3.0</td>\n",
       "      <td>650.0</td>\n",
       "    </tr>\n",
       "    <tr>\n",
       "      <th>1429</th>\n",
       "      <td>500</td>\n",
       "      <td>8</td>\n",
       "      <td>2</td>\n",
       "      <td>4421579</td>\n",
       "      <td>115183.180143</td>\n",
       "      <td>653.0</td>\n",
       "      <td>3.0</td>\n",
       "      <td>650.0</td>\n",
       "    </tr>\n",
       "    <tr>\n",
       "      <th>1430</th>\n",
       "      <td>300</td>\n",
       "      <td>8</td>\n",
       "      <td>2</td>\n",
       "      <td>4421579</td>\n",
       "      <td>115183.180143</td>\n",
       "      <td>653.0</td>\n",
       "      <td>3.0</td>\n",
       "      <td>650.0</td>\n",
       "    </tr>\n",
       "    <tr>\n",
       "      <th>1263</th>\n",
       "      <td>250</td>\n",
       "      <td>9</td>\n",
       "      <td>15</td>\n",
       "      <td>4426857</td>\n",
       "      <td>116184.980454</td>\n",
       "      <td>707.0</td>\n",
       "      <td>6.0</td>\n",
       "      <td>701.0</td>\n",
       "    </tr>\n",
       "    <tr>\n",
       "      <th>955</th>\n",
       "      <td>50</td>\n",
       "      <td>20</td>\n",
       "      <td>2</td>\n",
       "      <td>4347498</td>\n",
       "      <td>116302.505721</td>\n",
       "      <td>8.0</td>\n",
       "      <td>7.0</td>\n",
       "      <td>1.0</td>\n",
       "    </tr>\n",
       "    <tr>\n",
       "      <th>1304</th>\n",
       "      <td>31</td>\n",
       "      <td>9</td>\n",
       "      <td>3</td>\n",
       "      <td>4388471</td>\n",
       "      <td>116362.501325</td>\n",
       "      <td>342.0</td>\n",
       "      <td>8.0</td>\n",
       "      <td>334.0</td>\n",
       "    </tr>\n",
       "    <tr>\n",
       "      <th>1434</th>\n",
       "      <td>100</td>\n",
       "      <td>8</td>\n",
       "      <td>2</td>\n",
       "      <td>4387579</td>\n",
       "      <td>116663.932209</td>\n",
       "      <td>328.0</td>\n",
       "      <td>9.0</td>\n",
       "      <td>319.0</td>\n",
       "    </tr>\n",
       "    <tr>\n",
       "      <th>811</th>\n",
       "      <td>50</td>\n",
       "      <td>25</td>\n",
       "      <td>5</td>\n",
       "      <td>4350629</td>\n",
       "      <td>116742.870191</td>\n",
       "      <td>25.0</td>\n",
       "      <td>10.0</td>\n",
       "      <td>15.0</td>\n",
       "    </tr>\n",
       "  </tbody>\n",
       "</table>\n",
       "</div>"
      ],
      "text/plain": [
       "      num_leaves  max_depth  min_child_samples  test rmse  test rmse stddev  \\\n",
       "1425          25          8                  3    4387014     112016.841799   \n",
       "1409         150          8                  5    4406612     113428.409365   \n",
       "1428        1000          8                  2    4421579     115183.180143   \n",
       "1429         500          8                  2    4421579     115183.180143   \n",
       "1430         300          8                  2    4421579     115183.180143   \n",
       "1263         250          9                 15    4426857     116184.980454   \n",
       "955           50         20                  2    4347498     116302.505721   \n",
       "1304          31          9                  3    4388471     116362.501325   \n",
       "1434         100          8                  2    4387579     116663.932209   \n",
       "811           50         25                  5    4350629     116742.870191   \n",
       "\n",
       "      rank_rmse  rank_std  rank_diff  \n",
       "1425      324.0       1.0      323.0  \n",
       "1409      507.0       2.0      505.0  \n",
       "1428      653.0       3.0      650.0  \n",
       "1429      653.0       3.0      650.0  \n",
       "1430      653.0       3.0      650.0  \n",
       "1263      707.0       6.0      701.0  \n",
       "955         8.0       7.0        1.0  \n",
       "1304      342.0       8.0      334.0  \n",
       "1434      328.0       9.0      319.0  \n",
       "811        25.0      10.0       15.0  "
      ]
     },
     "execution_count": 56,
     "metadata": {},
     "output_type": "execute_result"
    }
   ],
   "source": [
    "real_overfitting_df[['num_leaves', 'max_depth', 'min_child_samples', 'test rmse', 'test rmse stddev', 'rank_rmse', 'rank_std', 'rank_diff']].sort_values(by='rank_std').head(10)"
   ]
  },
  {
   "cell_type": "code",
   "execution_count": 57,
   "id": "16d9cc8a",
   "metadata": {},
   "outputs": [
    {
     "data": {
      "text/plain": [
       "count    1560.000000\n",
       "mean      344.947436\n",
       "std       287.230278\n",
       "min         0.000000\n",
       "25%       106.750000\n",
       "50%       270.000000\n",
       "75%       512.000000\n",
       "max      1428.000000\n",
       "Name: rank_diff, dtype: float64"
      ]
     },
     "execution_count": 57,
     "metadata": {},
     "output_type": "execute_result"
    }
   ],
   "source": [
    "real_overfitting_df['rank_diff'].describe()"
   ]
  },
  {
   "cell_type": "markdown",
   "id": "36228044",
   "metadata": {},
   "source": [
    "The average gap between the mean RMSE and the RMSE standard deviation is quite large, which is interesting. So, it probably makes sense to consider both metrics when choosing a model. In this case, it probably makes sense to select model #955, which ranks 8th by mean RMSE and 7th by RMSE standard deviation."
   ]
  },
  {
   "cell_type": "code",
   "execution_count": 58,
   "id": "c754b7d0",
   "metadata": {},
   "outputs": [
    {
     "data": {
      "text/plain": [
       "num_leaves                         50\n",
       "max_depth                          20\n",
       "min_child_samples                   2\n",
       "best iteration                   6918\n",
       "model size                   32728929\n",
       "train rmse                     922592\n",
       "test rmse                     4347498\n",
       "test rmse stddev        116302.505721\n",
       "capacity                           18\n",
       "model_size_bin                     30\n",
       "model_size_bin_label             30MB\n",
       "capacity_group                 medium\n",
       "rank_rmse                         8.0\n",
       "rank_std                          7.0\n",
       "rank_diff                         1.0\n",
       "Name: 955, dtype: object"
      ]
     },
     "execution_count": 58,
     "metadata": {},
     "output_type": "execute_result"
    }
   ],
   "source": [
    "real_overfitting_df.iloc[955]"
   ]
  },
  {
   "cell_type": "markdown",
   "id": "0e05e9d3",
   "metadata": {},
   "source": [
    "## Conclusions"
   ]
  },
  {
   "cell_type": "markdown",
   "id": "4a57aef9",
   "metadata": {},
   "source": [
    "- LGBM is hard to break — the algorithm is inherently self-regulating.\n",
    "- Big capacity ≠ big model. A model with high capacity tends to hit its limit and plateau faster.\n",
    "- Underfitting can *look* like textbook overfitting.\n",
    "- LGBM **can** overfit.\n",
    "- The range of parameter values that work well in practice is much broader than conventional wisdom suggests.\n",
    "- Definitely use early stopping — but *test* it. The typical range of 50–100 rounds might not be right for your setup.\n"
   ]
  }
 ],
 "metadata": {
  "kernelspec": {
   "display_name": "venv-new",
   "language": "python",
   "name": "python3"
  },
  "language_info": {
   "codemirror_mode": {
    "name": "ipython",
    "version": 3
   },
   "file_extension": ".py",
   "mimetype": "text/x-python",
   "name": "python",
   "nbconvert_exporter": "python",
   "pygments_lexer": "ipython3",
   "version": "3.11.9"
  }
 },
 "nbformat": 4,
 "nbformat_minor": 5
}
